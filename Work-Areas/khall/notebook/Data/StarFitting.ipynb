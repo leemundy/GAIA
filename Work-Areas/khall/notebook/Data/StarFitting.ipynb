{
 "cells": [
  {
   "cell_type": "code",
   "execution_count": 1,
   "metadata": {
    "collapsed": true
   },
   "outputs": [],
   "source": [
    "import numpy as np\n",
    "import matplotlib.pyplot as plt\n",
    "import numpy.ma as ma\n",
    "from astropy.table import Table\n",
    "from scipy.spatial import distance\n",
    "from scipy import spatial\n",
    "from scipy.spatial import KDTree\n",
    "import time\n",
    "import matplotlib.path as mpltPath\n",
    "from pandas import DataFrame, read_csv\n",
    "import pandas as pd \n",
    "from mpl_toolkits.mplot3d import Axes3D\n",
    "from matplotlib.patches import Circle, Wedge, Polygon\n",
    "from matplotlib.collections import PatchCollection\n",
    "from scipy import spatial\n",
    "from scipy.spatial import KDTree"
   ]
  },
  {
   "cell_type": "code",
   "execution_count": 11,
   "metadata": {},
   "outputs": [
    {
     "name": "stderr",
     "output_type": "stream",
     "text": [
      "/astromake/opt/python/anaconda3/lib/python3.6/site-packages/IPython/core/interactiveshell.py:2717: DtypeWarning: Columns (96,122,130) have mixed types. Specify dtype option on import or set low_memory=False.\n",
      "  interactivity=interactivity, compiler=compiler, result=result)\n"
     ]
    },
    {
     "data": {
      "text/plain": [
       "['Unnamed: 0',\n",
       " 'solution_id',\n",
       " 'designation',\n",
       " 'source_id',\n",
       " 'random_index',\n",
       " 'ref_epoch',\n",
       " 'ra',\n",
       " 'ra_error',\n",
       " 'dec',\n",
       " 'dec_error',\n",
       " 'parallax',\n",
       " 'parallax_error',\n",
       " 'parallax_over_error',\n",
       " 'pmra',\n",
       " 'pmra_error',\n",
       " 'pmdec',\n",
       " 'pmdec_error',\n",
       " 'ra_dec_corr',\n",
       " 'ra_parallax_corr',\n",
       " 'ra_pmra_corr',\n",
       " 'ra_pmdec_corr',\n",
       " 'dec_parallax_corr',\n",
       " 'dec_pmra_corr',\n",
       " 'dec_pmdec_corr',\n",
       " 'parallax_pmra_corr',\n",
       " 'parallax_pmdec_corr',\n",
       " 'pmra_pmdec_corr',\n",
       " 'astrometric_n_obs_al',\n",
       " 'astrometric_n_obs_ac',\n",
       " 'astrometric_n_good_obs_al',\n",
       " 'astrometric_n_bad_obs_al',\n",
       " 'astrometric_gof_al',\n",
       " 'astrometric_chi2_al',\n",
       " 'astrometric_excess_noise',\n",
       " 'astrometric_excess_noise_sig',\n",
       " 'astrometric_params_solved',\n",
       " 'astrometric_primary_flag',\n",
       " 'astrometric_weight_al',\n",
       " 'astrometric_pseudo_colour',\n",
       " 'astrometric_pseudo_colour_error',\n",
       " 'mean_varpi_factor_al',\n",
       " 'astrometric_matched_observations',\n",
       " 'visibility_periods_used',\n",
       " 'astrometric_sigma5d_max',\n",
       " 'frame_rotator_object_type',\n",
       " 'matched_observations',\n",
       " 'duplicated_source',\n",
       " 'phot_g_n_obs',\n",
       " 'phot_g_mean_flux',\n",
       " 'phot_g_mean_flux_error',\n",
       " 'phot_g_mean_flux_over_error',\n",
       " 'phot_g_mean_mag',\n",
       " 'phot_bp_n_obs',\n",
       " 'phot_bp_mean_flux',\n",
       " 'phot_bp_mean_flux_error',\n",
       " 'phot_bp_mean_flux_over_error',\n",
       " 'phot_bp_mean_mag',\n",
       " 'phot_rp_n_obs',\n",
       " 'phot_rp_mean_flux',\n",
       " 'phot_rp_mean_flux_error',\n",
       " 'phot_rp_mean_flux_over_error',\n",
       " 'phot_rp_mean_mag',\n",
       " 'phot_bp_rp_excess_factor',\n",
       " 'phot_proc_mode',\n",
       " 'bp_rp',\n",
       " 'bp_g',\n",
       " 'g_rp',\n",
       " 'radial_velocity',\n",
       " 'radial_velocity_error',\n",
       " 'rv_nb_transits',\n",
       " 'rv_template_teff',\n",
       " 'rv_template_logg',\n",
       " 'rv_template_fe_h',\n",
       " 'phot_variable_flag',\n",
       " 'l',\n",
       " 'b',\n",
       " 'ecl_lon',\n",
       " 'ecl_lat',\n",
       " 'priam_flags',\n",
       " 'teff_val',\n",
       " 'teff_percentile_lower',\n",
       " 'teff_percentile_upper',\n",
       " 'a_g_val',\n",
       " 'a_g_percentile_lower',\n",
       " 'a_g_percentile_upper',\n",
       " 'e_bp_min_rp_val',\n",
       " 'e_bp_min_rp_percentile_lower',\n",
       " 'e_bp_min_rp_percentile_upper',\n",
       " 'flame_flags',\n",
       " 'radius_val',\n",
       " 'radius_percentile_lower',\n",
       " 'radius_percentile_upper',\n",
       " 'lum_val',\n",
       " 'lum_percentile_lower',\n",
       " 'lum_percentile_upper',\n",
       " 'datalink_url',\n",
       " 'epoch_photometry_url',\n",
       " 'source_id_2',\n",
       " 'original_ext_source_id',\n",
       " 'angular_distance',\n",
       " 'gaia_astrometric_params',\n",
       " 'tmass_oid',\n",
       " 'number_of_neighbours',\n",
       " 'number_of_mates',\n",
       " 'best_neighbour_multiplicity',\n",
       " 'ph_qual',\n",
       " 'tmass_oid_2',\n",
       " 'designation_2',\n",
       " 'ra_2',\n",
       " 'dec_2',\n",
       " 'err_maj',\n",
       " 'err_min',\n",
       " 'err_ang',\n",
       " 'j_m',\n",
       " 'j_msigcom',\n",
       " 'h_m',\n",
       " 'h_msigcom',\n",
       " 'ks_m',\n",
       " 'ks_msigcom',\n",
       " 'ext_key',\n",
       " 'j_date',\n",
       " 'source_id_3',\n",
       " 'original_ext_source_id_2',\n",
       " 'angular_distance_2',\n",
       " 'gaia_astrometric_params_2',\n",
       " 'sdssdr9_oid',\n",
       " 'number_of_neighbours_2',\n",
       " 'number_of_mates_2',\n",
       " 'best_neighbour_multiplicity_2',\n",
       " 'sdssdr9_oid_2',\n",
       " 'obj_id',\n",
       " 'thing_id',\n",
       " 'ra_3',\n",
       " 'dec_3',\n",
       " 'ra_error_2',\n",
       " 'dec_error_2',\n",
       " 'mjd',\n",
       " 'u_mag',\n",
       " 'u_mag_error',\n",
       " 'g_mag',\n",
       " 'g_mag_error',\n",
       " 'r_mag',\n",
       " 'r_mag_error',\n",
       " 'i_mag',\n",
       " 'i_mag_error',\n",
       " 'z_mag',\n",
       " 'z_mag_error',\n",
       " 'objc_type',\n",
       " 'clean_flag']"
      ]
     },
     "execution_count": 11,
     "metadata": {},
     "output_type": "execute_result"
    }
   ],
   "source": [
    "file = r'Gaia_plx7_dr2.csv'\n",
    "df = pd.read_csv(file)\n",
    "df2 = df.columns.get_values()\n",
    "df2.tolist()\n",
    "print('Succesfully Read in the Data')"
   ]
  },
  {
   "cell_type": "code",
   "execution_count": 12,
   "metadata": {
    "collapsed": true
   },
   "outputs": [],
   "source": [
    "# GAIA bands\n",
    "Gmag = df[\"phot_g_mean_mag\"].values\n",
    "GBmag = df[\"phot_bp_mean_mag\"].values\n",
    "GRmag = df[\"phot_rp_mean_mag\"].values\n",
    "# 2MASS bands\n",
    "Jmag = df[\"j_m\"].values\n",
    "Hmag = df[\"h_m\"].values\n",
    "Kmag = df[\"ks_m\"].values\n",
    "# SDSS Bands\n",
    "u_mag = df[\"u_mag\"].values\n",
    "g_mag = df[\"g_mag\"].values\n",
    "r_mag = df[\"r_mag\"].values\n",
    "i_mag = df[\"i_mag\"].values\n",
    "z_mag = df[\"z_mag\"].values\n",
    "# Other Important Data\n",
    "plx = df[\"parallax\"].values"
   ]
  },
  {
   "cell_type": "code",
   "execution_count": 13,
   "metadata": {
    "collapsed": true
   },
   "outputs": [],
   "source": [
    "def AbsoluteMagnitudes(plx,GBmag,GRmag,Gmag,Jmag,Hmag,Kmag,umag,gmag,rmag,imag,zmag):\n",
    "    #Calculates the absolute magnitudes of the stars\n",
    "    #Read in parallax and apparent magnitude from each band\n",
    "    \n",
    "    #Variables Read In\n",
    "    #plx: column of parallaxes\n",
    "    #GBmag: column of magnitudes in GB\n",
    "    #GRmag: column of magnitudes in GR\n",
    "    #Gmag: column of magnitudes in G\n",
    "    #Jmag: column of magnitudes in J\n",
    "    #Kmag: column of magnitudes in K\n",
    "    #Hmag: column of magnitudes in H\n",
    "    #umag: column of magnitudes in u\n",
    "    #gmag: column of magnitudes in g\n",
    "    #rmag: column of magnitudes in r\n",
    "    #imag: column of magnitudes in i\n",
    "    #zmag: column of magnitudes in z\n",
    "    \n",
    "    #Variables Returned\n",
    "    #plx: column of parallaxes\n",
    "    #GBmags: numpy array of absolute magnitudes in GB\n",
    "    #GRmags: numpy array of absolute magnitudes in GR\n",
    "    #Gmags: numpy array of absolute magnitudes in G\n",
    "    #Jmags: numpy array of absolute magnitudes in J\n",
    "    #Hmags: numpy array of absolute magnitudes in H\n",
    "    #Kmags: numpy array of absolute magnitudes in K\n",
    "    #umags: numpy array of absolute magnitudes in u\n",
    "    #gmags: numpy array of absolute magnitudes in g\n",
    "    #rmags: numpy array of absolute magnitudes in r\n",
    "    #imags: numpy array of absolute magnitudes in i\n",
    "    #zmags: numpy array of absolute magnitudes in z\n",
    "        \n",
    "    \n",
    "    #create arrays for absolute magnitude\n",
    "    Dist = np.array([])\n",
    "    GBmags = np.array([])\n",
    "    GRmags = np.array([])\n",
    "    Gmags = np.array([])\n",
    "    Jmags = np.array([])\n",
    "    Hmags = np.array([])\n",
    "    Kmags = np.array([])\n",
    "    umags = np.array([])\n",
    "    gmags = np.array([])\n",
    "    rmags = np.array([])\n",
    "    imags = np.array([])\n",
    "    zmags = np.array([])\n",
    "    \n",
    "    #calculate the distance of each star in parsecs\n",
    "    Dist = 1000./plx\n",
    "    \n",
    "    #use the distance modulus formula to calculate the absolute magnitude for all the stars\n",
    "    GBmags = GBmag - 5 * np.log10(Dist) + 5\n",
    "    GRmags = GRmag - 5 * np.log10(Dist) + 5\n",
    "    Gmags = Gmag - 5 * np.log10(Dist) + 5\n",
    "    Jmags = Jmag - 5 * np.log10(Dist) + 5\n",
    "    Hmags = Hmag - 5 * np.log10(Dist) + 5\n",
    "    Kmags = Kmag - 5 * np.log10(Dist) + 5\n",
    "    umags = umag - 5 * np.log10(Dist) + 5\n",
    "    gmags = gmag - 5 * np.log10(Dist) + 5\n",
    "    rmags = rmag - 5 * np.log10(Dist) + 5\n",
    "    imags = imag - 5 * np.log10(Dist) + 5\n",
    "    zmags = zmag - 5 * np.log10(Dist) + 5\n",
    "    \n",
    "    return Dist, GBmags,GRmags,Gmags,Jmags,Hmags,Kmags,umags,gmags,rmags,imags,zmags\n"
   ]
  },
  {
   "cell_type": "code",
   "execution_count": 6,
   "metadata": {
    "collapsed": true
   },
   "outputs": [],
   "source": [
    "def ColorClassification(Gmags,Kmags,colors):    \n",
    "    #assign the stars into different categories based on G-K\n",
    "    \n",
    "    #Variables Read In\n",
    "    #Gmags: numpy array of absolute magnitudes in G\n",
    "    #Kmags: numpy array of absolute magnitudes in K\n",
    "    #colors: list or array of values of G-K in increasing order\n",
    "    \n",
    "    #Variables Returned\n",
    "    #color: numpy array that indicates the category of G-K that each star belongs to\n",
    "    \n",
    "    #caclculate the values of G-K for all stars\n",
    "    \n",
    "    G_K = Gmags-Kmags\n",
    "    \n",
    "    #create array to hold the G-K color categories \n",
    "    color = np.ones(len(G_K))*1000\n",
    "    \n",
    "    #compare the value of G-K for each star to the categories and assign a corresponding\n",
    "    #value for the category in the color array\n",
    "    for i in range(len(colors)):\n",
    "        for j in range(len(G_K)):\n",
    "            if (i == 0):\n",
    "                if (G_K[j] <= colors[i]):\n",
    "                    color[j] = colors[i]\n",
    "            elif(G_K[j] <= colors[i] and G_K[j] > colors[i-1]):\n",
    "                color[j] = colors[i]\n",
    "    return color"
   ]
  },
  {
   "cell_type": "code",
   "execution_count": 7,
   "metadata": {
    "collapsed": true
   },
   "outputs": [],
   "source": [
    "def CreateTemplates(color,colors,Gmags,Kmags,GB_mags=[999],GR_mags=[999],J_mags=[999],H_mags=[999],umags=[999],gmags=[999],rmags=[999],imags=[999],zmags=[999]):\n",
    "    #For each category of G-K, a template is created of the absolute magnitudes of the stars and their color indices \n",
    "    #calculated with bands of different magnitudes\n",
    "    # ** Gmags and Kmags is REQUIRED ** \n",
    "    #Variables Read In:\n",
    "    #color: numpy array that indicates the category of G-K that each star belongs to\n",
    "    #colors: list or array of values of G-K in increasing order\n",
    "    #GBmags: numpy array of absolute magnitudes in GB\n",
    "    #GRmags: numpy array of absolute magnitudes in GR\n",
    "    #Gmags: numpy array of absolute magnitudes in G\n",
    "    #Jmags: numpy array of absolute magnitudes in J\n",
    "    #Hmags: numpy array of absolute magnitudes in H \n",
    "    #Kmags: numpy array of absolute magnitudes in K\n",
    "    #umags: numpy array of absolute magnitudes in u\n",
    "    #gmags: numpy array of absolute magnitudes in g\n",
    "    #rmags: numpy array of absolute magnitudes in r\n",
    "    #imags: numpy array of absolute magnitudes in i\n",
    "    #zmags: numpy array of absolute magnitudes in z\n",
    "    \n",
    "    #Variables Returned: \n",
    "    #stars: array of the number of stars in each category of G-K\n",
    "    #color_mags: array of the color indices at each wavelength for all of the categories of G-K\n",
    "    #color_std: array of the standard deviation of color indices at each wavelength for all of the categories of G-K\n",
    "    #color_std_err: array of the standard deviation error of thecolor indices at each wavelength for all of the categories of G-K\n",
    "    #abs_color_mags: array of the average absolute magnitudes in each band for all of the categories of G-K\n",
    "    #abs_color_std: array of the standard deviation of absolute magnitudes in each band for all of the categories of G-K\n",
    "    #abs_color_std_err: array of the standard deviation error of absolute magnitudes in each band for all categores of G-K\n",
    "    \n",
    "    if(len(GB_mags) < 2):\n",
    "        GB_mags = np.ones(len(Gmags))*np.nan\n",
    "    if(len(GR_mags) < 2):\n",
    "        GR_mags = np.ones(len(Gmags))*np.nan\n",
    "    if(len(J_mags) < 2):\n",
    "        J_mags = np.ones(len(Gmags))*np.nan\n",
    "    if(len(H_mags) < 2):\n",
    "        H_mags = np.ones(len(Gmags))*np.nan\n",
    "    if(len(umags) < 2):\n",
    "        umags = np.ones(len(Gmags))*np.nan\n",
    "    if(len(gmags) < 2):\n",
    "        gmags = np.ones(len(Gmags))*np.nan\n",
    "    if(len(zmags) < 2):\n",
    "        zmags = np.ones(len(Gmags))*np.nan\n",
    "    if(len(imags) < 2):\n",
    "        imags = np.ones(len(Gmags))*np.nan\n",
    "    if(len(rmags) < 2):\n",
    "        rmags = np.ones(len(Gmags))*np.nan\n",
    "    \n",
    "    \n",
    "    #Calculate the values of G-K for each star\n",
    "    G_K = Gmags-Kmags\n",
    "    \n",
    "    #create array to hold the number of stars in each template: \n",
    "    stars = np.array([])\n",
    "    \n",
    "    for c in colors:\n",
    "        #create array of values for color indices and absolute magnitudes\n",
    "        G_GB_array = np.array([])\n",
    "        G_GR_array = np.array([])\n",
    "        G_J_array = np.array([])\n",
    "        G_H_array = np.array([])\n",
    "        G_K_array = np.array([])\n",
    "        G_u_array = np.array([])\n",
    "        G_g_array = np.array([])\n",
    "        G_r_array = np.array([])\n",
    "        G_i_array = np.array([])\n",
    "        G_z_array = np.array([])\n",
    "        GB = np.array([])\n",
    "        GR = np.array([])\n",
    "        G = np.array([])\n",
    "        J = np.array([])\n",
    "        H = np.array([])\n",
    "        K = np.array([])\n",
    "        u = np.array([])\n",
    "        g = np.array([])\n",
    "        r = np.array([])\n",
    "        i_m = np.array([])\n",
    "        z = np.array([])\n",
    "        star_count = 0\n",
    "        #fill arrays with values if the values are part of the color category\n",
    "        for i in range(len(Gmags)):\n",
    "            if (color[i] == c):\n",
    "                \n",
    "                G_GB_array = np.append(G_GB_array,Gmags[i]-GB_mags[i])\n",
    "                G_GR_array = np.append(G_GR_array,Gmags[i]-GR_mags[i])\n",
    "                G_J_array = np.append(G_J_array,Gmags[i]-J_mags[i])\n",
    "                G_H_array = np.append(G_H_array,Gmags[i]-H_mags[i])\n",
    "                G_K_array = np.append(G_K_array,Gmags[i]-Kmags[i])\n",
    "                G_u_array = np.append(G_u_array,Gmags[i]-umags[i])\n",
    "                G_g_array = np.append(G_g_array,Gmags[i]-gmags[i])\n",
    "                G_r_array = np.append(G_r_array,Gmags[i]-rmags[i])\n",
    "                G_i_array = np.append(G_i_array,Gmags[i]-umags[i])\n",
    "                G_z_array = np.append(G_z_array,Gmags[i]-zmags[i])\n",
    "                GB = np.append(GB,GB_mags[i])\n",
    "                GR = np.append(GR,GR_mags[i])\n",
    "                G = np.append(G,Gmags[i])\n",
    "                J = np.append(J,J_mags[i])\n",
    "                H = np.append(H,H_mags[i])\n",
    "                K = np.append(K,Kmags[i])\n",
    "                u = np.append(u,umags[i])\n",
    "                g = np.append(g,umags[i])\n",
    "                r = np.append(r,rmags[i])\n",
    "                i_m = np.append(i_m,imags[i])\n",
    "                z = np.append(z,zmags[i])\n",
    "                star_count = star_count +1\n",
    "        #number of stars per color\n",
    "        stars = np.append(stars,star_count)\n",
    "        #relative SED\n",
    "        mag_array = [np.nanmean(G_u_array),np.nanmean(G_g_array), np.nanmean(G_GB_array),\\\n",
    "                     np.nanmean(G_r_array),np.nanmean(G_i_array), np.nanmean(G_GR_array), \\\n",
    "                     np.nanmean(G_z_array),np.nanmean(G_J_array), np.nanmean(G_H_array), \\\n",
    "                     np.nanmean(G_K_array)]\n",
    "        std_array = [np.nanstd(G_u_array),np.nanstd(G_g_array), np.nanstd(G_GB_array),\\\n",
    "                     np.nanstd(G_r_array),np.nanstd(G_i_array), np.nanstd(G_GR_array), \\\n",
    "                     np.nanstd(G_z_array),np.nanstd(G_J_array), np.nanstd(G_H_array), \\\n",
    "                     np.nanstd(G_K_array)]\n",
    "        #absolute SED\n",
    "        mag_array2 = [np.nanmean(u), np.nanmean(g), np.nanmean(GB), \\\n",
    "                      np.nanmean(r), np.nanmean(G), np.nanmean(i), \\\n",
    "                      np.nanmean(GR), np.nanmean(z), np.nanmean(J), \\\n",
    "                      np.nanmean(H), np.nanmean(K)]\n",
    "        std_array2 = [np.nanstd(u), np.nanstd(g), np.nanstd(GB), \\\n",
    "                      np.nanstd(r), np.nanstd(G), np.nanstd(i_m), \\\n",
    "                      np.nanstd(GR), np.nanstd(z), np.nanstd(J), \\\n",
    "                      np.nanstd(H), np.nanstd(K)]\n",
    "        #calculate standard deviation error\n",
    "        val = np.sqrt(len(G_u_array))\n",
    "        std_array3 = std_array/val\n",
    "        val2 = np.sqrt(len(u))\n",
    "        std_array4 = std_array2/val2\n",
    "        #stack SEDs\n",
    "        if (c == colors[0]):\n",
    "            \n",
    "            color_mags = np.array(mag_array)\n",
    "            color_std = np.array(std_array)\n",
    "            color_std_err = np.array(std_array3)\n",
    "            abs_color_mags = np.array(mag_array2)\n",
    "            abs_color_std = np.array(std_array2)\n",
    "            abs_color_std_err = np.array(std_array4)\n",
    "        else:\n",
    "            #print(len(color_mags),len(mag_array))\n",
    "            color_mags = np.vstack((color_mags,mag_array))\n",
    "            color_std = np.vstack((color_std,std_array))\n",
    "            color_std_err = np.vstack((color_std_err,std_array3))\n",
    "            #print('\\n',len(abs_color_mags),len(mag_array2))\n",
    "            abs_color_mags = np.vstack((abs_color_mags, mag_array2))\n",
    "            abs_color_std = np.vstack((abs_color_mags, std_array2))\n",
    "            abs_color_std_err = np.vstack((abs_color_std_err,std_array4))\n",
    "            #A[~np.isnan(A)])\n",
    "    #print((color_mags))\n",
    "#     color_mags = color_mags[~np.isnan(color_mags)]\n",
    "#     #print(len(color_mags))\n",
    "#     color_std = color_std[~np.isnan(color_std)]\n",
    "#     color_std_err = color_std_err[~np.isnan(color_std_err)]\n",
    "#     abs_color_mags = abs_color_mags[~np.isnan(abs_color_mags)]\n",
    "#     abs_color_std = abs_color_std[~np.isnan(abs_color_std)]\n",
    "#     abs_color_std_err = abs_color_std_err[~np.isnan(abs_color_std_err)]\n",
    "#     color_mags = np.reshape(color_mags, (-1, 10))\n",
    "#     color_std = np.reshape(color_std, (-1, 10))\n",
    "#     color_std_err = np.reshape(color_std_err, (-1, 10))\n",
    "#     print(color_mags,'\\n',abs_color_mags)\n",
    "#     abs_color_mags = np.reshape(abs_color_mags, (-1, 11))\n",
    "#     abs_color_std = np.reshape(abs_color_std, (-1, 11))\n",
    "#     abs_color_std_err = np.reshape(abs_color_std_err, (-1, 11))\n",
    "            \n",
    "    return stars,color_mags,color_std,color_std_err,abs_color_mags,abs_color_std,abs_color_std_err"
   ]
  },
  {
   "cell_type": "code",
   "execution_count": 8,
   "metadata": {
    "collapsed": true
   },
   "outputs": [],
   "source": [
    "def CreatePlots(colors,abs_colors_mags,abs_color_std,color_mags,color_std):\n",
    "    #create SED and Relative SED plots with the standard deviation as error \n",
    "    \n",
    "    #Variables Read In:\n",
    "    #colors: list or array of values of G-K in increasing order\n",
    "    #wvl: list of colors that contain the wavlengths of the filters except for the G filter\n",
    "    #wvl2: list of colors that contain the wavlengths of the filters\n",
    "    #stars: array of the number of stars in each category of G-K\n",
    "    #abs_color_mags: array of the average absolute magnitudes in each band for all of the categories of G-K\n",
    "    #abs_color_std: array of the standard deviation of absolute magnitudes in each band for all of the categories of G-K\n",
    "    #color_mags: array of the color indices at each wavelength for all of the categories of G-K\n",
    "    #color_std: array of the standard deviation of color indices at each wavelength for all of the categories of G-K \n",
    "    \n",
    "    #No variables are read out, running the function creates two plots\n",
    "    \n",
    "    wvl = [354,420,477,500,623,677,763,913,1250,1650,2170]\n",
    "    wvl2 = [354,420,477,623,677,763,913,1250,1650,2170]\n",
    "    new_wvl = []\n",
    "    new_wvl2 = []\n",
    "    for i in range(len(abs_color_mags[0])):\n",
    "        if(str(abs_color_mags[0,i]) != 'nan'):\n",
    "            new_wvl.append(wvl[i])\n",
    "            \n",
    "    for i in range(len(color_mags[0])):\n",
    "        if(str(color_mags[0,i]) != 'nan'):\n",
    "            new_wvl2.append(wvl2[i])\n",
    "    #print(wvl,'\\n',wvl2)\n",
    "#     wvl = wvl[~np.isnan(wvl)]\n",
    "#     wvl2 = wvl2[~np.isnan(wvl2)]\n",
    "    \n",
    "    \n",
    "    #plot average absolute magnitude in each filter for each value of G-K \n",
    "    ax = plt.subplot(111)\n",
    "    for i in range(len(colors)):\n",
    "        #color_mags = color_mags[~np.isnan(color_mags)]\n",
    "        acm = abs_color_mags[i,:]\n",
    "        acs = abs_color_std[i,:]\n",
    "        \n",
    "        acm = acm[~np.isnan(acm)]\n",
    "        acs = acs[~np.isnan(acs)]\n",
    "        \n",
    "        ax.errorbar(new_wvl, acm, yerr = acs, linestyle = '-', marker = 'o',label = str(colors[i]))\n",
    "       ## ORIGINAL CODE\n",
    "        #ax.errorbar(wvl, abs_color_mags[i,:], yerr = abs_color_std[i,:], linestyle = '-', marker = 'o',label = str(colors[i]))\n",
    "    ax.set_xlabel('Effective Wavelength (nm)')\n",
    "    ax.set_ylabel('Average Absolute Magnitude')\n",
    "    ax.set_title('Spectral Energy Distribution')\n",
    "    box = ax.get_position()\n",
    "    ax.set_position([box.x0, box.y0, box.width * 0.8, box.height])\n",
    "    ax.legend(loc='center left', bbox_to_anchor=(1, 0.5))\n",
    "    plt.show()\n",
    "    \n",
    "    #plot average color index in each filter for each value of G-K\n",
    "    ax2 = plt.subplot(111)\n",
    "    for i in range(len(colors)):\n",
    "        acm = color_mags[i,:]\n",
    "        acs = color_std[i,:]\n",
    "        c = str(colors[i])\n",
    "        acm = acm[~np.isnan(acm)]\n",
    "        acs = acs[~np.isnan(acs)]\n",
    "        #print(acm,'\\n',new_wvl2)\n",
    "        ax2.errorbar(new_wvl2, acm, yerr = acs, linestyle = '-', marker = 'o',label = str(colors[i]))\n",
    "        \n",
    "       \n",
    "        #ax2.errorbar(wvl2, color_mags[i,:], yerr = color_std[i,:], linestyle = '-', marker = 'o',label = str(colors[i]))\n",
    "    ax2.set_xlabel('Effective Wavelength (nm)')\n",
    "    ax2.set_ylabel('Average Color Index')\n",
    "    ax2.set_title('Spectral Energy Distribution')\n",
    "    box2 = ax.get_position()\n",
    "    ax2.set_position([box.x0, box.y0, box.width * 0.8, box.height])\n",
    "    ax2.legend(loc='center left', bbox_to_anchor=(1, 0.5))\n",
    "    plt.show()\n",
    "    \n",
    "    return"
   ]
  },
  {
   "cell_type": "code",
   "execution_count": 297,
   "metadata": {},
   "outputs": [
    {
     "name": "stderr",
     "output_type": "stream",
     "text": [
      "/astromake/opt/python/anaconda3/lib/python3.6/site-packages/ipykernel_launcher.py:108: RuntimeWarning: Mean of empty slice\n",
      "/astromake/opt/python/anaconda3/lib/python3.6/site-packages/numpy/lib/nanfunctions.py:1423: RuntimeWarning: Degrees of freedom <= 0 for slice.\n",
      "  keepdims=keepdims)\n",
      "/astromake/opt/python/anaconda3/lib/python3.6/site-packages/ipykernel_launcher.py:111: RuntimeWarning: Mean of empty slice\n"
     ]
    }
   ],
   "source": [
    "# DEFINE HOW MANY TEMPLATES YOU WANT TO PLOT BASED ON G-K COLOR\n",
    "Gmags = Gmag - 5 * np.log10(Dist) + 5\n",
    "\n",
    "new_Gmag = []\n",
    "new_GBmag = []\n",
    "new_GRmag = []\n",
    "new_Jmag = []\n",
    "new_Hmag = []\n",
    "new_Kmag = []\n",
    "\n",
    "for i in range(len(Gmags)):\n",
    "    if(Gmags[i] < 7):\n",
    "        new_Gmag.append(Gmag[i])\n",
    "        new_GBmag.append(GBmag[i])\n",
    "        new_GRmag.append(GRmag[i])\n",
    "        new_Jmag.append(Jmag[i])\n",
    "        new_Hmag.append(Hmag[i])\n",
    "        new_Kmag.append(Kmag[i])\n",
    "new_Gmag = np.array(new_Gmag)\n",
    "new_GBmag = np.array(new_GBmag)\n",
    "new_GRmag = np.array(new_GRmag)\n",
    "new_Jmag = np.array(new_Jmag)\n",
    "new_Hmag = np.array(new_Hmag)\n",
    "new_Kmag = np.array(new_Kmag)\n",
    "        \n",
    "colors = np.arange(0.2,3,0.2) # EDIT THIS TO USE DESIRED NUMBER OF COLORS\n",
    "color = ColorClassification(new_Gmag,new_Kmag,colors)\n",
    "\n",
    "stars,color_mags,color_std,color_std_err,abs_color_mags,abs_color_std,abs_color_std_err = \\\n",
    "CreateTemplates(color,colors,new_Gmag,new_Kmag,GB_mags=new_GBmag,GR_mags=new_GRmag,J_mags=new_Jmag,H_mags=new_Hmag)"
   ]
  },
  {
   "cell_type": "code",
   "execution_count": 299,
   "metadata": {},
   "outputs": [
    {
     "data": {
      "image/png": "[encoded data removed]",
      "text/plain": [
       "<matplotlib.figure.Figure at 0x7f1395e037f0>"
      ]
     },
     "metadata": {},
     "output_type": "display_data"
    },
    {
     "data": {
      "image/png": "[encoded data removed]",
      "text/plain": [
       "<matplotlib.figure.Figure at 0x7f139a7c9e48>"
      ]
     },
     "metadata": {},
     "output_type": "display_data"
    }
   ],
   "source": [
    "\n",
    "\n",
    "CreatePlots(colors,abs_color_mags,abs_color_std,color_mags,color_std)"
   ]
  },
  {
   "cell_type": "code",
   "execution_count": 304,
   "metadata": {},
   "outputs": [
    {
     "name": "stdout",
     "output_type": "stream",
     "text": [
      "[10.882441520690918, 11.388130187988279, 10.248380661010742, 9.5019998550415039, 9.074000358581543, 8.9209995269775391]\n",
      "[-0.5056886672973615, 0.63406085968017578, 1.3804416656494141, 1.808441162109375, 1.9614419937133789]\n"
     ]
    }
   ],
   "source": [
    "n =5\n",
    "starBands = [new_Gmag[n],new_GBmag[n],new_GRmag[n],new_Jmag[n],new_Hmag[n],new_Kmag[n]]\n",
    "print(starBands)\n",
    "\n",
    "new_starBands = []\n",
    "for i in range(len(starBands)):\n",
    "    if(i == 0):\n",
    "        G = starBands[i]\n",
    "    else:\n",
    "        G_X = G - starBands[i]\n",
    "        new_starBands.append(G_X)\n",
    "print(new_starBands)"
   ]
  },
  {
   "cell_type": "code",
   "execution_count": 283,
   "metadata": {},
   "outputs": [],
   "source": [
    "# ONLY GAIA BANDS AND 2MASS BANDS\n",
    "def StarFitting(starBands,color_mags,color_std):\n",
    "    new_starBands = []\n",
    "    for i in range(len(starBands)):\n",
    "        if(i == 0):\n",
    "            G = starBands[i]\n",
    "        else:\n",
    "            G_X = G - starBands[i]\n",
    "            new_starBands.append(G_X)\n",
    "    \n",
    "    template_bands = []\n",
    "    template_err = []\n",
    "    for i in range(len(color_mags)):\n",
    "        cm = color_mags[i,:]\n",
    "        cm = cm[~np.isnan(cm)]\n",
    "        cs = color_std[i,:]\n",
    "        cs = cs[~np.isnan(cs)]\n",
    "        template_bands.append(cm)\n",
    "        template_err.append(cs)\n",
    "    template_bands = np.array(template_bands)\n",
    "    template_err = np.array(template_err)\n",
    "    \n",
    "    Chi2_vals = []\n",
    "    for i in range(len(template_bands)):\n",
    "        Chi2 = 0\n",
    "        for j in range(len(new_starBands)):\n",
    "            Chi2 = Chi2 + ((template_bands[i,j] - new_starBands[j])**2/(template_err[i,j])**2)\n",
    "        Chi2 = Chi2/(len(new_starBands)-1)\n",
    "        Chi2_vals.append(Chi2)\n",
    "\n",
    "    \n",
    "    for i in range(len(Chi2_vals)):\n",
    "        if(Chi2_vals[i] == np.min(Chi2_vals)):\n",
    "            best_fit = i\n",
    "#             print('The best Template is '+ str((best_fit+1)) +' out of '+str(len(template_bands))+ ' templates')\n",
    "#             print('Or ' + str(best_fit) + ' out of ' + str((len(template_bands)-1)))\n",
    "    #print(best_fit)\n",
    "    return best_fit, new_starBands    "
   ]
  },
  {
   "cell_type": "code",
   "execution_count": 305,
   "metadata": {},
   "outputs": [
    {
     "name": "stdout",
     "output_type": "stream",
     "text": [
      "9\n"
     ]
    }
   ],
   "source": [
    "fit, new_starBands = StarFitting(starBands,color_mags,color_std)\n",
    "\n",
    "\n",
    "\n",
    "new_starBands = []\n",
    "for i in range(len(starBands)):\n",
    "    if(i == 0):\n",
    "        G = starBands[i]\n",
    "    else:\n",
    "        G_X = G - starBands[i]\n",
    "        new_starBands.append(G_X)\n",
    "# print(new_starBands)\n",
    "\n",
    "# print('\\n\\n\\n\\n\\n',color_mags,'\\n\\n',new_starBands)\n",
    "print(fit)"
   ]
  },
  {
   "cell_type": "code",
   "execution_count": 306,
   "metadata": {},
   "outputs": [
    {
     "data": {
      "image/png": "[encoded data removed]",
      "text/plain": [
       "<matplotlib.figure.Figure at 0x7f139a7cbc50>"
      ]
     },
     "metadata": {},
     "output_type": "display_data"
    },
    {
     "name": "stdout",
     "output_type": "stream",
     "text": [
      "1.37019443512\n",
      "1.4\n"
     ]
    }
   ],
   "source": [
    "wvl2 = [354,420,477,623,677,763,913,1250,1650,2170]\n",
    "y = color_mags[9,:][~np.isnan(color_mags[9,:])]\n",
    "new_wvl2 = []\n",
    "for i in range(len(color_mags[3])):\n",
    "    if(str(color_mags[2,i]) != 'nan'):\n",
    "        new_wvl2.append(wvl2[i])\n",
    "x = new_wvl2\n",
    "\n",
    "starBands = np.array(starBands)\n",
    "new_wvl2 = np.array(new_wvl2)\n",
    "plt.plot(x,y,color='black')\n",
    "plt.plot(x,new_starBands)\n",
    "plt.show()\n",
    "\n",
    "\n",
    "print(Gmag[5]-Kmag[5])\n",
    "print(colors[6])"
   ]
  },
  {
   "cell_type": "code",
   "execution_count": 63,
   "metadata": {},
   "outputs": [
    {
     "data": {
      "image/png": "[encoded data removed]",
      "text/plain": [
       "<matplotlib.figure.Figure at 0x7f12ef9df908>"
      ]
     },
     "metadata": {},
     "output_type": "display_data"
    }
   ],
   "source": [
    "wvl2 = [354,420,477,623,677,763,913,1250,1650,2170]\n",
    "y = color_mags[7,:][~np.isnan(color_mags[7,:])]\n",
    "new_wvl2 = []\n",
    "for i in range(len(color_mags[6])):\n",
    "    if(str(color_mags[6,i]) != 'nan'):\n",
    "        new_wvl2.append(wvl2[i])\n",
    "x = new_wvl2\n",
    "\n",
    "starBands = np.array(starBands)\n",
    "new_wvl2 = np.array(new_wvl2)\n",
    "plt.plot(x,y)\n",
    "plt.plot(x,new_starBands)\n",
    "plt.show()"
   ]
  },
  {
   "cell_type": "code",
   "execution_count": 248,
   "metadata": {},
   "outputs": [
    {
     "name": "stdout",
     "output_type": "stream",
     "text": [
      "[ 10.02853012  10.37783909   9.54774475   8.99300003   8.68599987\n",
      "   8.65100002]\n"
     ]
    }
   ],
   "source": [
    "all_starBands = []\n",
    "for i in range(len(Gmag)):\n",
    "    if(Gmag[i] != np.nan and GBmag[i] != np.nan and GRmag[i] != np.nan and Jmag[i] \\\n",
    "       != np.nan and Hmag[i] != np.nan and Kmag[i] != np.nan and \\\n",
    "       (Gmag[i]-Kmag[i]) <=2.8 and (Gmag[i]-Kmag[i]) >= 0.2 and (Gmag[i] - Kmag[i]) != np.nan \\\n",
    "      and (Gmag[i]-Hmag[i]) != np.nan):\n",
    "        \n",
    "        all_starBands.append([Gmag[i],GBmag[i],GRmag[i],Jmag[i],Hmag[i],Kmag[i]])\n",
    "all_starBands = np.array(all_starBands)\n",
    "print(all_starBands[0])"
   ]
  },
  {
   "cell_type": "code",
   "execution_count": 259,
   "metadata": {},
   "outputs": [],
   "source": [
    "star_bin_vals = []\n",
    "temp_bin_vals = []\n",
    "\n",
    "for i in range(len(all_starBands)):\n",
    "    \n",
    "    starBands= np.array(all_starBands[i])\n",
    "    starBands = starBands[~np.isnan(starBands)]\n",
    "    if(len(starBands) == len(all_starBands[0])):\n",
    "        #starBands = np.array(starBands)\n",
    "        fit, new_starBand = StarFitting(starBands,color_mags,color_std)\n",
    "        temp_bin_vals.append(colors[fit])\n",
    "\n",
    "        diff_vals = []\n",
    "        for j in range(len(colors)):\n",
    "            diff = abs(colors[j] - new_starBand[4])\n",
    "            diff_vals.append(diff)\n",
    "\n",
    "        for j in range(len(diff_vals)):\n",
    "            if(diff_vals[j] == np.min(diff_vals)):\n",
    "                star_bin_vals.append(colors[j])\n"
   ]
  },
  {
   "cell_type": "markdown",
   "metadata": {},
   "source": [
    "Main one"
   ]
  },
  {
   "cell_type": "code",
   "execution_count": 264,
   "metadata": {},
   "outputs": [
    {
     "name": "stdout",
     "output_type": "stream",
     "text": [
      "166952 166952\n"
     ]
    },
    {
     "data": {
      "image/png": "[encoded data removed]",
      "text/plain": [
       "<matplotlib.figure.Figure at 0x7f139a28dd68>"
      ]
     },
     "metadata": {},
     "output_type": "display_data"
    },
    {
     "data": {
      "image/png": "[encoded data removed]",
      "text/plain": [
       "<matplotlib.figure.Figure at 0x7f138f3602b0>"
      ]
     },
     "metadata": {},
     "output_type": "display_data"
    },
    {
     "name": "stdout",
     "output_type": "stream",
     "text": [
      "nan\n",
      "[ 10.14395428  10.6171751    9.54366016   8.79300022   8.35499954\n",
      "   8.25899982]\n"
     ]
    }
   ],
   "source": [
    "print(len(star_bin_vals),len(temp_bin_vals))\n",
    "\n",
    "star_bin_vals = np.array(star_bin_vals)\n",
    "temp_bin_vals = np.array(temp_bin_vals)\n",
    "plt.plot(star_bin_vals,temp_bin_vals,'.')\n",
    "plt.show()\n",
    "\n",
    "difference = star_bin_vals-temp_bin_vals\n",
    "\n",
    "plt.hist(difference,20,normed=True)\n",
    "plt.show()\n",
    "\n",
    "print(Gmag[5704] - Kmag[5704])\n",
    "print(all_starBands[5705])"
   ]
  },
  {
   "cell_type": "code",
   "execution_count": 277,
   "metadata": {},
   "outputs": [
    {
     "data": {
      "image/png": "[encoded data removed]",
      "text/plain": [
       "<matplotlib.figure.Figure at 0x7f12f26fe128>"
      ]
     },
     "metadata": {},
     "output_type": "display_data"
    }
   ],
   "source": [
    "Dist = 1000./plx\n",
    "\n",
    "\n",
    "GK = Gmag - Kmag\n",
    "Gmags = Gmag - 5 * np.log10(Dist) + 5\n",
    "\n",
    "new_Gmag = []\n",
    "for i in range(len(Gmags)):\n",
    "    if(Gmags[i] < 9):\n",
    "        new_Gmag.append(Gmag[i])\n",
    "# plt.scatter(GK,Gmags,s=1.0,alpha=0.4,c='k')\n",
    "# plt.gca().invert_yaxis()\n",
    "# plt.show()"
   ]
  },
  {
   "cell_type": "code",
   "execution_count": 301,
   "metadata": {},
   "outputs": [
    {
     "name": "stdout",
     "output_type": "stream",
     "text": [
      "[ 10.02853012  10.37783909   9.54774475   8.99300003   8.68599987\n",
      "   8.65100002]\n"
     ]
    }
   ],
   "source": [
    "new_all_starBands = []\n",
    "for i in range(len(new_Gmag)):\n",
    "    if(new_Gmag[i] != np.nan and new_GBmag[i] != np.nan and new_GRmag[i] != np.nan and new_Jmag[i] \\\n",
    "       != np.nan and new_Hmag[i] != np.nan and new_Kmag[i] != np.nan and \\\n",
    "       (new_Gmag[i]-new_Kmag[i]) <=2.8 and (new_Gmag[i]-new_Kmag[i]) >= 0.2 and (new_Gmag[i] - new_Kmag[i]) != np.nan \\\n",
    "      and (new_Gmag[i]-new_Hmag[i]) != np.nan):\n",
    "        \n",
    "        new_all_starBands.append([new_Gmag[i],new_GBmag[i],new_GRmag[i],new_Jmag[i],new_Hmag[i],new_Kmag[i]])\n",
    "new_all_starBands = np.array(all_starBands)\n",
    "print(new_all_starBands[0])"
   ]
  },
  {
   "cell_type": "code",
   "execution_count": 308,
   "metadata": {
    "collapsed": true
   },
   "outputs": [],
   "source": [
    "star_bin_vals = []\n",
    "temp_bin_vals = []\n",
    "\n",
    "for i in range(len(all_starBands)):\n",
    "    \n",
    "    starBands= np.array(all_starBands[i])\n",
    "    starBands = starBands[~np.isnan(starBands)]\n",
    "    if(len(starBands) == len(all_starBands[0])):\n",
    "        #starBands = np.array(starBands)\n",
    "        fit, new_starBand = StarFitting(starBands,color_mags,color_std)\n",
    "        temp_bin_vals.append(colors[fit])\n",
    "\n",
    "        diff_vals = []\n",
    "        for j in range(len(colors)):\n",
    "            diff = abs(colors[j] - new_starBand[4])\n",
    "            diff_vals.append(diff)\n",
    "\n",
    "        for j in range(len(diff_vals)):\n",
    "            if(diff_vals[j] == np.min(diff_vals)):\n",
    "                star_bin_vals.append(colors[j])\n"
   ]
  },
  {
   "cell_type": "code",
   "execution_count": 309,
   "metadata": {},
   "outputs": [
    {
     "name": "stdout",
     "output_type": "stream",
     "text": [
      "166952 166952\n"
     ]
    },
    {
     "data": {
      "image/png": "[encoded data removed]",
      "text/plain": [
       "<matplotlib.figure.Figure at 0x7f139a27a860>"
      ]
     },
     "metadata": {},
     "output_type": "display_data"
    },
    {
     "data": {
      "image/png": "[encoded data removed]",
      "text/plain": [
       "<matplotlib.figure.Figure at 0x7f13913de160>"
      ]
     },
     "metadata": {},
     "output_type": "display_data"
    },
    {
     "name": "stdout",
     "output_type": "stream",
     "text": [
      "nan\n",
      "[ 10.14395428  10.6171751    9.54366016   8.79300022   8.35499954\n",
      "   8.25899982]\n"
     ]
    }
   ],
   "source": [
    "print(len(star_bin_vals),len(temp_bin_vals))\n",
    "\n",
    "star_bin_vals = np.array(star_bin_vals)\n",
    "temp_bin_vals = np.array(temp_bin_vals)\n",
    "plt.plot(star_bin_vals,temp_bin_vals,'.')\n",
    "plt.show()\n",
    "\n",
    "difference = star_bin_vals-temp_bin_vals\n",
    "\n",
    "plt.hist(difference,50,normed=True)\n",
    "plt.show()\n",
    "\n",
    "print(Gmag[5704] - Kmag[5704])\n",
    "print(all_starBands[5705])"
   ]
  }
 ],
 "metadata": {
  "kernelspec": {
   "display_name": "Python 3",
   "language": "python",
   "name": "python3"
  },
  "language_info": {
   "codemirror_mode": {
    "name": "ipython",
    "version": 3
   },
   "file_extension": ".py",
   "mimetype": "text/x-python",
   "name": "python",
   "nbconvert_exporter": "python",
   "pygments_lexer": "ipython3",
   "version": "3.6.1"
  }
 },
 "nbformat": 4,
 "nbformat_minor": 2
}
