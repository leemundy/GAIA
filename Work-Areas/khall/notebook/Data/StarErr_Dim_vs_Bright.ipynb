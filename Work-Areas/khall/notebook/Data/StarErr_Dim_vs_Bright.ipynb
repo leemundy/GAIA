{
 "cells": [
  {
   "cell_type": "code",
   "execution_count": 2,
   "metadata": {
    "collapsed": true
   },
   "outputs": [],
   "source": [
    "import numpy as np\n",
    "import matplotlib.pyplot as plt\n",
    "import numpy.ma as ma\n",
    "from astropy.table import Table\n",
    "# from scipy.spatial import distance\n",
    "# from scipy import spatial\n",
    "# from scipy.spatial import KDTree\n",
    "import time\n",
    "import matplotlib.path as mpltPath\n",
    "from pandas import DataFrame, read_csv\n",
    "import pandas as pd \n",
    "from mpl_toolkits.mplot3d import Axes3D\n",
    "import copy"
   ]
  },
  {
   "cell_type": "code",
   "execution_count": 3,
   "metadata": {},
   "outputs": [
    {
     "name": "stderr",
     "output_type": "stream",
     "text": [
      "/astromake/opt/python/anaconda3/lib/python3.6/site-packages/IPython/core/interactiveshell.py:2717: DtypeWarning: Columns (96,122,130) have mixed types. Specify dtype option on import or set low_memory=False.\n",
      "  interactivity=interactivity, compiler=compiler, result=result)\n"
     ]
    },
    {
     "data": {
      "text/plain": [
       "['Unnamed: 0',\n",
       " 'solution_id',\n",
       " 'designation',\n",
       " 'source_id',\n",
       " 'random_index',\n",
       " 'ref_epoch',\n",
       " 'ra',\n",
       " 'ra_error',\n",
       " 'dec',\n",
       " 'dec_error',\n",
       " 'parallax',\n",
       " 'parallax_error',\n",
       " 'parallax_over_error',\n",
       " 'pmra',\n",
       " 'pmra_error',\n",
       " 'pmdec',\n",
       " 'pmdec_error',\n",
       " 'ra_dec_corr',\n",
       " 'ra_parallax_corr',\n",
       " 'ra_pmra_corr',\n",
       " 'ra_pmdec_corr',\n",
       " 'dec_parallax_corr',\n",
       " 'dec_pmra_corr',\n",
       " 'dec_pmdec_corr',\n",
       " 'parallax_pmra_corr',\n",
       " 'parallax_pmdec_corr',\n",
       " 'pmra_pmdec_corr',\n",
       " 'astrometric_n_obs_al',\n",
       " 'astrometric_n_obs_ac',\n",
       " 'astrometric_n_good_obs_al',\n",
       " 'astrometric_n_bad_obs_al',\n",
       " 'astrometric_gof_al',\n",
       " 'astrometric_chi2_al',\n",
       " 'astrometric_excess_noise',\n",
       " 'astrometric_excess_noise_sig',\n",
       " 'astrometric_params_solved',\n",
       " 'astrometric_primary_flag',\n",
       " 'astrometric_weight_al',\n",
       " 'astrometric_pseudo_colour',\n",
       " 'astrometric_pseudo_colour_error',\n",
       " 'mean_varpi_factor_al',\n",
       " 'astrometric_matched_observations',\n",
       " 'visibility_periods_used',\n",
       " 'astrometric_sigma5d_max',\n",
       " 'frame_rotator_object_type',\n",
       " 'matched_observations',\n",
       " 'duplicated_source',\n",
       " 'phot_g_n_obs',\n",
       " 'phot_g_mean_flux',\n",
       " 'phot_g_mean_flux_error',\n",
       " 'phot_g_mean_flux_over_error',\n",
       " 'phot_g_mean_mag',\n",
       " 'phot_bp_n_obs',\n",
       " 'phot_bp_mean_flux',\n",
       " 'phot_bp_mean_flux_error',\n",
       " 'phot_bp_mean_flux_over_error',\n",
       " 'phot_bp_mean_mag',\n",
       " 'phot_rp_n_obs',\n",
       " 'phot_rp_mean_flux',\n",
       " 'phot_rp_mean_flux_error',\n",
       " 'phot_rp_mean_flux_over_error',\n",
       " 'phot_rp_mean_mag',\n",
       " 'phot_bp_rp_excess_factor',\n",
       " 'phot_proc_mode',\n",
       " 'bp_rp',\n",
       " 'bp_g',\n",
       " 'g_rp',\n",
       " 'radial_velocity',\n",
       " 'radial_velocity_error',\n",
       " 'rv_nb_transits',\n",
       " 'rv_template_teff',\n",
       " 'rv_template_logg',\n",
       " 'rv_template_fe_h',\n",
       " 'phot_variable_flag',\n",
       " 'l',\n",
       " 'b',\n",
       " 'ecl_lon',\n",
       " 'ecl_lat',\n",
       " 'priam_flags',\n",
       " 'teff_val',\n",
       " 'teff_percentile_lower',\n",
       " 'teff_percentile_upper',\n",
       " 'a_g_val',\n",
       " 'a_g_percentile_lower',\n",
       " 'a_g_percentile_upper',\n",
       " 'e_bp_min_rp_val',\n",
       " 'e_bp_min_rp_percentile_lower',\n",
       " 'e_bp_min_rp_percentile_upper',\n",
       " 'flame_flags',\n",
       " 'radius_val',\n",
       " 'radius_percentile_lower',\n",
       " 'radius_percentile_upper',\n",
       " 'lum_val',\n",
       " 'lum_percentile_lower',\n",
       " 'lum_percentile_upper',\n",
       " 'datalink_url',\n",
       " 'epoch_photometry_url',\n",
       " 'source_id_2',\n",
       " 'original_ext_source_id',\n",
       " 'angular_distance',\n",
       " 'gaia_astrometric_params',\n",
       " 'tmass_oid',\n",
       " 'number_of_neighbours',\n",
       " 'number_of_mates',\n",
       " 'best_neighbour_multiplicity',\n",
       " 'ph_qual',\n",
       " 'tmass_oid_2',\n",
       " 'designation_2',\n",
       " 'ra_2',\n",
       " 'dec_2',\n",
       " 'err_maj',\n",
       " 'err_min',\n",
       " 'err_ang',\n",
       " 'j_m',\n",
       " 'j_msigcom',\n",
       " 'h_m',\n",
       " 'h_msigcom',\n",
       " 'ks_m',\n",
       " 'ks_msigcom',\n",
       " 'ext_key',\n",
       " 'j_date',\n",
       " 'source_id_3',\n",
       " 'original_ext_source_id_2',\n",
       " 'angular_distance_2',\n",
       " 'gaia_astrometric_params_2',\n",
       " 'sdssdr9_oid',\n",
       " 'number_of_neighbours_2',\n",
       " 'number_of_mates_2',\n",
       " 'best_neighbour_multiplicity_2',\n",
       " 'sdssdr9_oid_2',\n",
       " 'obj_id',\n",
       " 'thing_id',\n",
       " 'ra_3',\n",
       " 'dec_3',\n",
       " 'ra_error_2',\n",
       " 'dec_error_2',\n",
       " 'mjd',\n",
       " 'u_mag',\n",
       " 'u_mag_error',\n",
       " 'g_mag',\n",
       " 'g_mag_error',\n",
       " 'r_mag',\n",
       " 'r_mag_error',\n",
       " 'i_mag',\n",
       " 'i_mag_error',\n",
       " 'z_mag',\n",
       " 'z_mag_error',\n",
       " 'objc_type',\n",
       " 'clean_flag']"
      ]
     },
     "execution_count": 3,
     "metadata": {},
     "output_type": "execute_result"
    }
   ],
   "source": [
    "file = r'Gaia_plx7_dr2.csv'\n",
    "df = pd.read_csv(file)\n",
    "df2 = df.columns.get_values()\n",
    "df2.tolist()\n",
    "#print('Succesfully Read in the Data')"
   ]
  },
  {
   "cell_type": "code",
   "execution_count": 4,
   "metadata": {
    "collapsed": true
   },
   "outputs": [],
   "source": [
    "Gmag = df[\"phot_g_mean_mag\"].values\n",
    "GBmag = df[\"phot_bp_mean_mag\"].values\n",
    "GRmag = df[\"phot_rp_mean_mag\"].values\n",
    "# 2MASS bands\n",
    "Jmag = df[\"j_m\"].values\n",
    "Hmag = df[\"h_m\"].values\n",
    "Kmag = df[\"ks_m\"].values\n",
    "J_unc = df['j_msigcom']\n",
    "H_unc = df['h_msigcom']\n",
    "K_unc = df['ks_msigcom']\n",
    "# Other Important Data\n",
    "plx = df[\"parallax\"].values\n",
    "Dist = 1000./plx\n",
    "K_er = df[\"ks_msigcom\"].values\n",
    "J_er = df['j_msigcom']\n",
    "H_er = df['h_msigcom']\n",
    "G_flux = df[\"phot_g_mean_flux\"]\n",
    "G_flux_er = df[\"phot_g_mean_flux_error\"]\n",
    "GB_flux = df['phot_bp_mean_flux']\n",
    "GB_flux_er = df['phot_bp_mean_flux_error']\n",
    "GR_flux = df['phot_rp_mean_flux']\n",
    "GR_flux_er = df['phot_rp_mean_flux_error']"
   ]
  },
  {
   "cell_type": "code",
   "execution_count": 5,
   "metadata": {
    "collapsed": true
   },
   "outputs": [],
   "source": [
    "def ColorClassification(Gmags,Kmags,colors):    \n",
    "    #assign the stars into different categories based on G-K\n",
    "    \n",
    "    #Variables Read In\n",
    "    #Gmags: numpy array of absolute magnitudes in G\n",
    "    #Kmags: numpy array of absolute magnitudes in K\n",
    "    #colors: list or array of values of G-K in increasing order\n",
    "    \n",
    "    #Variables Returned\n",
    "    #color: numpy array that indicates the category of G-K that each star belongs to\n",
    "    \n",
    "    #caclculate the values of G-K for all stars\n",
    "    \n",
    "    G_K = Gmags-Kmags\n",
    "    \n",
    "    #create array to hold the G-K color categories \n",
    "    color = np.ones(len(G_K))*1000\n",
    "    \n",
    "    #compare the value of G-K for each star to the categories and assign a corresponding\n",
    "    #value for the category in the color array\n",
    "    for i in range(len(colors)):\n",
    "        for j in range(len(G_K)):\n",
    "            if (i == 0):\n",
    "                if (G_K[j] <= colors[i]):\n",
    "                    color[j] = colors[i]\n",
    "            elif(G_K[j] <= colors[i] and G_K[j] > colors[i-1]):\n",
    "                color[j] = colors[i]\n",
    "    return color"
   ]
  },
  {
   "cell_type": "code",
   "execution_count": 6,
   "metadata": {
    "collapsed": true
   },
   "outputs": [],
   "source": [
    "def CreateTemplates(color,colors,Gmags,Kmags,GB_mags=[999],GR_mags=[999],J_mags=[999],H_mags=[999],umags=[999],gmags=[999],rmags=[999],imags=[999],zmags=[999]):\n",
    "    #For each category of G-K, a template is created of the absolute magnitudes of the stars and their color indices \n",
    "    #calculated with bands of different magnitudes\n",
    "    # ** Gmags and Kmags is REQUIRED ** \n",
    "    #Variables Read In:\n",
    "    #color: numpy array that indicates the category of G-K that each star belongs to\n",
    "    #colors: list or array of values of G-K in increasing order\n",
    "    #GBmags: numpy array of absolute magnitudes in GB\n",
    "    #GRmags: numpy array of absolute magnitudes in GR\n",
    "    #Gmags: numpy array of absolute magnitudes in G\n",
    "    #Jmags: numpy array of absolute magnitudes in J\n",
    "    #Hmags: numpy array of absolute magnitudes in H \n",
    "    #Kmags: numpy array of absolute magnitudes in K\n",
    "    #umags: numpy array of absolute magnitudes in u\n",
    "    #gmags: numpy array of absolute magnitudes in g\n",
    "    #rmags: numpy array of absolute magnitudes in r\n",
    "    #imags: numpy array of absolute magnitudes in i\n",
    "    #zmags: numpy array of absolute magnitudes in z\n",
    "    \n",
    "    #Variables Returned: \n",
    "    #stars: array of the number of stars in each category of G-K\n",
    "    #color_mags: array of the color indices at each wavelength for all of the categories of G-K\n",
    "    #color_std: array of the standard deviation of color indices at each wavelength for all of the categories of G-K\n",
    "    #color_std_err: array of the standard deviation error of thecolor indices at each wavelength for all of the categories of G-K\n",
    "    #abs_color_mags: array of the average absolute magnitudes in each band for all of the categories of G-K\n",
    "    #abs_color_std: array of the standard deviation of absolute magnitudes in each band for all of the categories of G-K\n",
    "    #abs_color_std_err: array of the standard deviation error of absolute magnitudes in each band for all categores of G-K\n",
    "    \n",
    "    if(len(GB_mags) < 2):\n",
    "        GB_mags = np.ones(len(Gmags))*np.nan\n",
    "    if(len(GR_mags) < 2):\n",
    "        GR_mags = np.ones(len(Gmags))*np.nan\n",
    "    if(len(J_mags) < 2):\n",
    "        J_mags = np.ones(len(Gmags))*np.nan\n",
    "    if(len(H_mags) < 2):\n",
    "        H_mags = np.ones(len(Gmags))*np.nan\n",
    "    if(len(umags) < 2):\n",
    "        umags = np.ones(len(Gmags))*np.nan\n",
    "    if(len(gmags) < 2):\n",
    "        gmags = np.ones(len(Gmags))*np.nan\n",
    "    if(len(zmags) < 2):\n",
    "        zmags = np.ones(len(Gmags))*np.nan\n",
    "    if(len(imags) < 2):\n",
    "        imags = np.ones(len(Gmags))*np.nan\n",
    "    if(len(rmags) < 2):\n",
    "        rmags = np.ones(len(Gmags))*np.nan\n",
    "    \n",
    "    \n",
    "    #Calculate the values of G-K for each star\n",
    "    G_K = Gmags-Kmags\n",
    "    \n",
    "    #create array to hold the number of stars in each template: \n",
    "    stars = np.array([])\n",
    "    \n",
    "    for c in colors:\n",
    "        #create array of values for color indices and absolute magnitudes\n",
    "        G_GB_array = np.array([])\n",
    "        G_GR_array = np.array([])\n",
    "        G_J_array = np.array([])\n",
    "        G_H_array = np.array([])\n",
    "        G_K_array = np.array([])\n",
    "        G_u_array = np.array([])\n",
    "        G_g_array = np.array([])\n",
    "        G_r_array = np.array([])\n",
    "        G_i_array = np.array([])\n",
    "        G_z_array = np.array([])\n",
    "        GB = np.array([])\n",
    "        GR = np.array([])\n",
    "        G = np.array([])\n",
    "        J = np.array([])\n",
    "        H = np.array([])\n",
    "        K = np.array([])\n",
    "        u = np.array([])\n",
    "        g = np.array([])\n",
    "        r = np.array([])\n",
    "        i_m = np.array([])\n",
    "        z = np.array([])\n",
    "        star_count = 0\n",
    "        #fill arrays with values if the values are part of the color category\n",
    "        for i in range(len(Gmags)):\n",
    "            if (color[i] == c):\n",
    "                \n",
    "                G_GB_array = np.append(G_GB_array,Gmags[i]-GB_mags[i])\n",
    "                G_GR_array = np.append(G_GR_array,Gmags[i]-GR_mags[i])\n",
    "                G_J_array = np.append(G_J_array,Gmags[i]-J_mags[i])\n",
    "                G_H_array = np.append(G_H_array,Gmags[i]-H_mags[i])\n",
    "                G_K_array = np.append(G_K_array,Gmags[i]-Kmags[i])\n",
    "                G_u_array = np.append(G_u_array,Gmags[i]-umags[i])\n",
    "                G_g_array = np.append(G_g_array,Gmags[i]-gmags[i])\n",
    "                G_r_array = np.append(G_r_array,Gmags[i]-rmags[i])\n",
    "                G_i_array = np.append(G_i_array,Gmags[i]-umags[i])\n",
    "                G_z_array = np.append(G_z_array,Gmags[i]-zmags[i])\n",
    "                GB = np.append(GB,GB_mags[i])\n",
    "                GR = np.append(GR,GR_mags[i])\n",
    "                G = np.append(G,Gmags[i])\n",
    "                J = np.append(J,J_mags[i])\n",
    "                H = np.append(H,H_mags[i])\n",
    "                K = np.append(K,Kmags[i])\n",
    "                u = np.append(u,umags[i])\n",
    "                g = np.append(g,umags[i])\n",
    "                r = np.append(r,rmags[i])\n",
    "                i_m = np.append(i_m,imags[i])\n",
    "                z = np.append(z,zmags[i])\n",
    "                star_count = star_count +1\n",
    "        #number of stars per color\n",
    "        stars = np.append(stars,star_count)\n",
    "        #relative SED\n",
    "        mag_array = [np.nanmean(G_u_array),np.nanmean(G_g_array), np.nanmean(G_GB_array),\\\n",
    "                     np.nanmean(G_r_array),np.nanmean(G_i_array), np.nanmean(G_GR_array), \\\n",
    "                     np.nanmean(G_z_array),np.nanmean(G_J_array), np.nanmean(G_H_array), \\\n",
    "                     np.nanmean(G_K_array)]\n",
    "        std_array = [np.nanstd(G_u_array),np.nanstd(G_g_array), np.nanstd(G_GB_array),\\\n",
    "                     np.nanstd(G_r_array),np.nanstd(G_i_array), np.nanstd(G_GR_array), \\\n",
    "                     np.nanstd(G_z_array),np.nanstd(G_J_array), np.nanstd(G_H_array), \\\n",
    "                     np.nanstd(G_K_array)]\n",
    "        #absolute SED\n",
    "        mag_array2 = [np.nanmean(u), np.nanmean(g), np.nanmean(GB), \\\n",
    "                      np.nanmean(r), np.nanmean(G), np.nanmean(i), \\\n",
    "                      np.nanmean(GR), np.nanmean(z), np.nanmean(J), \\\n",
    "                      np.nanmean(H), np.nanmean(K)]\n",
    "        std_array2 = [np.nanstd(u), np.nanstd(g), np.nanstd(GB), \\\n",
    "                      np.nanstd(r), np.nanstd(G), np.nanstd(i_m), \\\n",
    "                      np.nanstd(GR), np.nanstd(z), np.nanstd(J), \\\n",
    "                      np.nanstd(H), np.nanstd(K)]\n",
    "        #calculate standard deviation error\n",
    "        val = np.sqrt(len(G_u_array))\n",
    "        std_array3 = std_array/val\n",
    "        val2 = np.sqrt(len(u))\n",
    "        std_array4 = std_array2/val2\n",
    "        #stack SEDs\n",
    "        if (c == colors[0]):\n",
    "            \n",
    "            color_mags = np.array(mag_array)\n",
    "            color_std = np.array(std_array)\n",
    "            color_std_err = np.array(std_array3)\n",
    "            abs_color_mags = np.array(mag_array2)\n",
    "            abs_color_std = np.array(std_array2)\n",
    "            abs_color_std_err = np.array(std_array4)\n",
    "        else:\n",
    "            #print(len(color_mags),len(mag_array))\n",
    "            color_mags = np.vstack((color_mags,mag_array))\n",
    "            color_std = np.vstack((color_std,std_array))\n",
    "            color_std_err = np.vstack((color_std_err,std_array3))\n",
    "            #print('\\n',len(abs_color_mags),len(mag_array2))\n",
    "            abs_color_mags = np.vstack((abs_color_mags, mag_array2))\n",
    "            abs_color_std = np.vstack((abs_color_mags, std_array2))\n",
    "            abs_color_std_err = np.vstack((abs_color_std_err,std_array4))\n",
    "            #A[~np.isnan(A)])\n",
    "    #print((color_mags))\n",
    "#     color_mags = color_mags[~np.isnan(color_mags)]\n",
    "#     #print(len(color_mags))\n",
    "#     color_std = color_std[~np.isnan(color_std)]\n",
    "#     color_std_err = color_std_err[~np.isnan(color_std_err)]\n",
    "#     abs_color_mags = abs_color_mags[~np.isnan(abs_color_mags)]\n",
    "#     abs_color_std = abs_color_std[~np.isnan(abs_color_std)]\n",
    "#     abs_color_std_err = abs_color_std_err[~np.isnan(abs_color_std_err)]\n",
    "#     color_mags = np.reshape(color_mags, (-1, 10))\n",
    "#     color_std = np.reshape(color_std, (-1, 10))\n",
    "#     color_std_err = np.reshape(color_std_err, (-1, 10))\n",
    "#     print(color_mags,'\\n',abs_color_mags)\n",
    "#     abs_color_mags = np.reshape(abs_color_mags, (-1, 11))\n",
    "#     abs_color_std = np.reshape(abs_color_std, (-1, 11))\n",
    "#     abs_color_std_err = np.reshape(abs_color_std_err, (-1, 11))\n",
    "            \n",
    "    return stars,color_mags,color_std,color_std_err,abs_color_mags,abs_color_std,abs_color_std_err"
   ]
  },
  {
   "cell_type": "code",
   "execution_count": 756,
   "metadata": {},
   "outputs": [
    {
     "name": "stdout",
     "output_type": "stream",
     "text": [
      "16.30409812927246 \n",
      "\n",
      "5671.621970286633 \n",
      "\n",
      "16.303981396156427 16.30409812927246\n",
      "40.0\n"
     ]
    }
   ],
   "source": [
    "print(Gmag[0],'\\n') \n",
    "\n",
    "print(G_flux[0],'\\n')\n",
    "#ratio_val = \n",
    "\n",
    "mag = 2.5*np.log10(1.884950e10/G_flux[0])\n",
    "print(mag,Gmag[0])\n",
    "print(2.5*16)"
   ]
  },
  {
   "cell_type": "code",
   "execution_count": 152,
   "metadata": {},
   "outputs": [
    {
     "name": "stdout",
     "output_type": "stream",
     "text": [
      "Length of Br_Mags: 136218\n",
      "Length of dm_Mags: 255476\n"
     ]
    }
   ],
   "source": [
    "Gmags = Gmag - 5 * np.log10(Dist) + 5\n",
    "GK = Gmag - Kmag\n",
    "br_Gmag = []\n",
    "br_Gflux = []\n",
    "br_Gflux_er = []\n",
    "br_GBmag = []\n",
    "br_GBflux = []\n",
    "br_GBflux_er = []\n",
    "br_GRmag = []\n",
    "br_GRflux = []\n",
    "br_GRflux_er = []\n",
    "br_Jmag = []\n",
    "br_Hmag = []\n",
    "br_Kmag = []\n",
    "br_GK = []\n",
    "br_G = []\n",
    "J_unc_br = []\n",
    "H_unc_br = []\n",
    "K_unc_br = []\n",
    "for i in range(len(Gmags)):\n",
    "    if(Gmags[i] < 10 and GK[i] >= 3 and GK[i] <= 4.0):\n",
    "    #if(SNR[i] > 50):\n",
    "        br_Gmag.append(Gmag[i])\n",
    "        br_GBmag.append(GBmag[i])\n",
    "        br_GRmag.append(GRmag[i])\n",
    "        br_Jmag.append(Jmag[i])\n",
    "        br_Hmag.append(Hmag[i])\n",
    "        br_Kmag.append(Kmag[i])\n",
    "        br_GK.append(GK[i])\n",
    "        br_G.append(Gmags[i])\n",
    "        br_Gflux.append(G_flux[i])\n",
    "        br_Gflux_er.append(G_flux_er[i])\n",
    "        br_GBflux.append(GB_flux[i])\n",
    "        br_GBflux_er.append(GB_flux_er[i])\n",
    "        br_GRflux.append(GR_flux[i])\n",
    "        br_GRflux_er.append(GR_flux_er[i])\n",
    "        J_unc_br.append(J_unc[i])\n",
    "        H_unc_br.append(H_unc[i])\n",
    "        K_unc_br.append(K_unc[i])\n",
    "    \n",
    "br_Gmag = np.array(br_Gmag)\n",
    "br_GBmag = np.array(br_GBmag)\n",
    "br_GRmag = np.array(br_GRmag)\n",
    "br_Jmag = np.array(br_Jmag)\n",
    "br_Hmag = np.array(br_Hmag)\n",
    "br_Kmag = np.array(br_Kmag)\n",
    "br_Gflux = np.array(br_Gflux)\n",
    "br_Gflux_er = np.array(br_Gflux_er)\n",
    "br_GBflux = np.array(br_GBflux)\n",
    "br_GBflux_er = np.array(br_GBflux_er)\n",
    "br_GRflux = np.array(br_GRflux)\n",
    "br_GRflux_er = np.array(br_GRflux_er)\n",
    "br_GK = np.array(br_GK)\n",
    "br_G = np.array(br_G)\n",
    "all_BrightStars = np.transpose([br_Gmag,br_GBmag,br_GRmag,br_Jmag,br_Hmag,br_Kmag])\n",
    "print('Length of Br_Mags:',len(br_Gmag))\n",
    "\n",
    "dm_G = []\n",
    "dm_Gmag = []\n",
    "dm_GBmag = []\n",
    "dm_GRmag = []\n",
    "dm_Jmag = []\n",
    "dm_Hmag = []\n",
    "dm_Kmag = []\n",
    "dm_GK = []\n",
    "dm_Gflux = []\n",
    "dm_Gflux_er = []\n",
    "dm_GBflux = []\n",
    "dm_GBflux_er = []\n",
    "dm_GRflux = []\n",
    "dm_GRflux_er = []\n",
    "J_unc_dm = []\n",
    "H_unc_dm = []\n",
    "K_unc_dm = []\n",
    "for i in range(len(Gmags)):\n",
    "    if(Gmags[i] > 10 and GK[i] >= 3 and GK[i] <= 4.0):\n",
    "        dm_Gmag.append(Gmag[i])\n",
    "        dm_GBmag.append(GBmag[i])\n",
    "        dm_GRmag.append(GRmag[i])\n",
    "        dm_Jmag.append(Jmag[i])\n",
    "        dm_Hmag.append(Hmag[i])\n",
    "        dm_Kmag.append(Kmag[i])\n",
    "        dm_GK.append(GK[i])\n",
    "        dm_G.append(Gmags[i])\n",
    "        dm_Gflux.append(G_flux[i])\n",
    "        dm_Gflux_er.append(G_flux_er[i])\n",
    "        dm_GBflux.append(GB_flux[i])\n",
    "        dm_GBflux_er.append(GB_flux_er[i])\n",
    "        dm_GRflux.append(GR_flux[i])\n",
    "        dm_GRflux_er.append(GR_flux_er[i])\n",
    "        J_unc_dm.append(J_unc[i])\n",
    "        H_unc_dm.append(H_unc[i])\n",
    "        K_unc_dm.append(K_unc[i])\n",
    "\n",
    "dm_Gflux = np.array(dm_Gflux)\n",
    "dm_Gflux_er = np.array(dm_Gflux_er)\n",
    "dm_GBflux = np.array(dm_GBflux)\n",
    "dm_GBflux_er = np.array(dm_GBflux_er)\n",
    "dm_GRflux = np.array(dm_GRflux)\n",
    "dm_GRflux_er = np.array(dm_GRflux_er)\n",
    "dm_Gmag = np.array(dm_Gmag)\n",
    "dm_GBmag = np.array(dm_GBmag)\n",
    "dm_GRmag = np.array(dm_GRmag)\n",
    "dm_Jmag = np.array(dm_Jmag)\n",
    "dm_Hmag = np.array(dm_Hmag)\n",
    "dm_Kmag = np.array(dm_Kmag)\n",
    "dm_GK = np.array(dm_GK)\n",
    "dm_G = np.array(dm_G)\n",
    "all_dimStars = np.transpose([dm_Gmag,dm_GBmag,dm_GRmag,dm_Jmag,dm_Hmag,dm_Kmag])\n",
    "print('Length of dm_Mags:',len(dm_Gmag))"
   ]
  },
  {
   "cell_type": "code",
   "execution_count": 245,
   "metadata": {},
   "outputs": [
    {
     "name": "stdout",
     "output_type": "stream",
     "text": [
      "[10.02853012 10.37783909  9.54774475  8.99300003  8.68599987  8.65100002]\n"
     ]
    }
   ],
   "source": [
    "BrightStars = np.transpose([br_Gmag,br_GBmag,br_GRmag,br_Jmag,br_Hmag,br_Kmag])\n",
    "print(BrightStars[0])\n",
    "\n",
    "FaintS"
   ]
  },
  {
   "cell_type": "code",
   "execution_count": 8,
   "metadata": {
    "collapsed": true
   },
   "outputs": [],
   "source": [
    "def StarFitting(starBands,color_mags,color_std):\n",
    "    new_starBands = []\n",
    "    for i in range(len(starBands)):\n",
    "        if(i == 0):\n",
    "            G = starBands[i]\n",
    "        else:\n",
    "            G_X = G - starBands[i]\n",
    "            new_starBands.append(G_X)\n",
    "    \n",
    "    template_bands = []\n",
    "    template_err = []\n",
    "    for i in range(len(color_mags)):\n",
    "        cm = color_mags[i,:]\n",
    "        cm = cm[~np.isnan(cm)]\n",
    "        cs = color_std[i,:]\n",
    "        cs = cs[~np.isnan(cs)]\n",
    "        template_bands.append(cm)\n",
    "        template_err.append(cs)\n",
    "    template_bands = np.array(template_bands)\n",
    "    template_err = np.array(template_err)\n",
    "    \n",
    "    Chi2_vals = []\n",
    "    for i in range(len(template_bands)):\n",
    "        Chi2 = 0\n",
    "        for j in range(len(new_starBands)):\n",
    "            Chi2 = Chi2 + ((template_bands[i,j] - new_starBands[j])**2/(template_err[i,j])**2)\n",
    "        Chi2 = Chi2/(len(new_starBands)-1)  # EDITED THIS LINE JUNE 7TH. GOT RID OF THE -1\n",
    "        Chi2_vals.append(Chi2)\n",
    "    Chi2_vals = np.array(Chi2_vals)\n",
    "    \n",
    "    red_Chi2 = []\n",
    "    for i in range(len(Chi2_vals)):\n",
    "        if(Chi2_vals[i] == np.min(Chi2_vals)):\n",
    "            chi_val = Chi2_vals[i]\n",
    "            \n",
    "            red_Chi2.append(chi_val)\n",
    "            best_fit = i\n",
    "#             print('The best Template is '+ str((best_fit+1)) +' out of '+str(len(template_bands))+ ' templates')\n",
    "#             print('Or ' + str(best_fit) + ' out of ' + str((len(template_bands)-1)))\n",
    "    #print(best_fit)\n",
    "    return best_fit, new_starBands, red_Chi2"
   ]
  },
  {
   "cell_type": "code",
   "execution_count": 758,
   "metadata": {},
   "outputs": [
    {
     "data": {
      "text/plain": [
       "2.302585092994046"
      ]
     },
     "execution_count": 758,
     "metadata": {},
     "output_type": "execute_result"
    }
   ],
   "source": [
    "np.log(10)"
   ]
  },
  {
   "cell_type": "code",
   "execution_count": 876,
   "metadata": {},
   "outputs": [
    {
     "name": "stdout",
     "output_type": "stream",
     "text": [
      "0.0031622776601683794\n"
     ]
    }
   ],
   "source": [
    "Gmags = Gmag - 5 * np.log10(Dist) + 5\n",
    "#Gmags = Gmag - 5 * np.log10(Dist) + 5\n",
    "m = np.random.randint(1,len(Gmags))\n",
    "mag1 = Gmag[m]\n",
    "#mag2 = Gmag[3]\n",
    "\n",
    "flux1 = G_flux[m]\n",
    "flux1_er = G_flux_er[m]\n",
    "\n",
    "n = np.random.randint(1,len(Gmags))\n",
    "\n",
    "flux2 = G_flux[n]\n",
    "flux2_er = G_flux_er[n]\n",
    "def MagError(flux2,flux2_er,min_val):\n",
    "    \n",
    "    #Mag = 2.5*np.log10(flux1/flux2) + KnownMag\n",
    "    Mag_er = np.sqrt((2.5/np.log(10))**2*(flux2_er/flux2)**2)\n",
    "    #Mag_er = np.sqrt(((2.5/(np.log(10)*flux1))*flux1_er)**2 + ((-2.5/(np.log(10)*flux2))*flux2_er)**2)\n",
    "    if(Mag_er < min_val):\n",
    "        Mag_er = min_val\n",
    "    return Mag_er\n",
    "\n",
    "\n",
    "if(str(flux1) != 'nan' and str(flux2) != 'nan' and str(flux1_er) != 'nan' and str(flux2_er) != 'nan' and str(mag1) != 'nan'):\n",
    "    Mag_er = MagError(flux2,flux2_er)\n",
    "    #print(mag1)\n",
    "    #print(flux1,'\\n')\n",
    "    \n",
    "    print(Mag_er)\n",
    "    #print(Gmags[n])\n",
    "    #print(abs(Mag - Gmag[n]))\n",
    "else:\n",
    "    print('Error')\n"
   ]
  },
  {
   "cell_type": "code",
   "execution_count": 23,
   "metadata": {
    "collapsed": true
   },
   "outputs": [],
   "source": [
    "def MagError(flux,flux_er,min_val):\n",
    "    \n",
    "    #Mag = 2.5*np.log10(flux1/flux2) + KnownMag\n",
    "    Mag_er = np.sqrt(((2.5/np.log(10))**2)*(flux_er/flux)**2)\n",
    "    #Mag_er = np.sqrt(((2.5/(np.log(10)*flux1))*flux1_er)**2 + ((-2.5/(np.log(10)*flux2))*flux2_er)**2)\n",
    "    if(Mag_er < min_val):\n",
    "        Mag_er = min_val\n",
    "    return Mag_er"
   ]
  },
  {
   "cell_type": "code",
   "execution_count": 782,
   "metadata": {},
   "outputs": [
    {
     "data": {
      "text/plain": [
       "0.0031622776601683794"
      ]
     },
     "execution_count": 782,
     "metadata": {},
     "output_type": "execute_result"
    }
   ],
   "source": [
    "10**(-2.5)"
   ]
  },
  {
   "cell_type": "code",
   "execution_count": 195,
   "metadata": {
    "collapsed": true
   },
   "outputs": [],
   "source": [
    "GB_unc_br = []\n",
    "count = 0\n",
    "\n",
    "for i in range(0,len(br_Gmag)):\n",
    "    #n = np.random.randint(1,len(br_Gmag))\n",
    "#     mag = br_Gmag[0]\n",
    "#     flux1 = br_Gflux[0]\n",
    "#     flux1_er = br_Gflux_er[0]\n",
    "    flux = br_GBflux[i]\n",
    "    flux_er = br_GBflux_er[i]\n",
    "    if(str(flux) != 'nan' and str(flux_er) != 'nan'):\n",
    "        Mag_er = MagError(flux,flux_er,0.001)\n",
    "#     if(Mag_er < 10**(-2.5)):\n",
    "#         Mag_er == 10**(-2.5)\n",
    "    GB_unc_br.append(Mag_er)\n",
    "\n",
    "GB_unc_br = np.array(GB_unc_br)\n",
    "# plt.hist(GB_unc_br,500)\n",
    "# plt.hist(G_unc_dm,200,alpha=0.6)\n",
    "# plt.xlim([0,.03])\n",
    "# plt.show()\n",
    "# print(np.median(GB_unc_br))\n",
    "# print(np.median(G_unc_br))\n",
    "# print(np.mean(GB_unc_br))   "
   ]
  },
  {
   "cell_type": "code",
   "execution_count": 56,
   "metadata": {},
   "outputs": [
    {
     "data": {
      "image/png": "[encoded data removed]",
      "text/plain": [
       "<matplotlib.figure.Figure at 0x7f57de77d1d0>"
      ]
     },
     "metadata": {},
     "output_type": "display_data"
    },
    {
     "name": "stdout",
     "output_type": "stream",
     "text": [
      "Mean Star Uncertainty in G: 0.00117949370958\n",
      "Mean Star Uncertainty in GB: 0.00343400954307\n",
      "Mean Star Uncertainty in GR: 0.00338090746037\n",
      "Median Star Uncertainty in G: 0.001\n",
      "Median Star Uncertainty in GB: 0.00316227766017\n",
      "Median Star Uncertainty in GR: 0.00316227766017\n"
     ]
    },
    {
     "data": {
      "image/png": "[encoded data removed]",
      "text/plain": [
       "<matplotlib.figure.Figure at 0x7f57de039be0>"
      ]
     },
     "metadata": {},
     "output_type": "display_data"
    },
    {
     "name": "stdout",
     "output_type": "stream",
     "text": [
      "Mean Star Uncertainty in G: 0.00294932259844\n",
      "Mean Star Uncertainty in GB: 0.0213069829818\n",
      "Mean Star Uncertainty in GR: 0.00653428366618\n",
      "Median Star Uncertainty in G: 0.00104944878296\n",
      "Median Star Uncertainty in GB: 0.0123850924118\n",
      "Median Star Uncertainty in GR: 0.00316227766017\n",
      "0.0440487953031\n"
     ]
    },
    {
     "data": {
      "image/png": "[encoded data removed]",
      "text/plain": [
       "<matplotlib.figure.Figure at 0x7f57dcbab5c0>"
      ]
     },
     "metadata": {},
     "output_type": "display_data"
    },
    {
     "name": "stdout",
     "output_type": "stream",
     "text": [
      "0.0284594425985\n"
     ]
    }
   ],
   "source": [
    "plt.hist(G_unc_br,500,label='G',color='green',normed=True)\n",
    "plt.hist(GB_unc_br,500,alpha=0.6,label='GB',color='blue',normed=True)\n",
    "plt.hist(GR_unc_br,500,alpha=0.6,label='GR',color='red',normed=True)\n",
    "plt.xlim([0,.006])\n",
    "plt.legend()\n",
    "plt.show()\n",
    "\n",
    "\n",
    "print('Mean Star Uncertainty in G:',np.mean(G_unc_br)) \n",
    "print('Mean Star Uncertainty in GB:',np.mean(GB_unc_br))\n",
    "print('Mean Star Uncertainty in GR:',np.mean(GR_unc_br))\n",
    "print('Median Star Uncertainty in G:',np.median(G_unc_br))\n",
    "print('Median Star Uncertainty in GB:',np.median(GB_unc_br))\n",
    "print('Median Star Uncertainty in GR:',np.median(GR_unc_br))\n",
    "\n",
    "plt.hist(G_unc_dm,500,label='G',color='green',normed=True)\n",
    "plt.hist(GB_unc_dm,500,alpha=0.6,label='GB',color='blue',normed=True)\n",
    "plt.hist(GR_unc_dm,500,alpha=0.6,label='GR',color='red',normed=True)\n",
    "plt.xlim([0,.02])\n",
    "plt.legend()\n",
    "plt.show()\n",
    "\n",
    "print('Mean Star Uncertainty in G:',np.mean(G_unc_dm)) \n",
    "print('Mean Star Uncertainty in GB:',np.mean(GB_unc_dm))\n",
    "print('Mean Star Uncertainty in GR:',np.mean(GR_unc_dm))\n",
    "print('Median Star Uncertainty in G:',np.median(G_unc_dm))\n",
    "print('Median Star Uncertainty in GB:',np.median(GB_unc_dm))\n",
    "print('Median Star Uncertainty in GR:',np.median(GR_unc_dm))\n",
    "\n",
    "J_unc_br = np.array(J_unc_br)\n",
    "H_unc_br = np.array(H_unc_br)\n",
    "K_unc_br = np.array(K_unc_br)\n",
    "\n",
    "\n",
    "print(np.nanmean(J_unc))\n",
    "J_err = copy.copy(J_unc_br)\n",
    "J_err = J_err[~np.isnan(J_err)]\n",
    "H_err = copy.copy(H_unc_br)\n",
    "H_err = H_err[~np.isnan(H_err)]\n",
    "K_err = copy.copy(K_unc_br)\n",
    "K_err = K_err[~np.isnan(K_err)]\n",
    "plt.hist(J_err,500,normed=True,label='J')\n",
    "plt.hist(H_err,500,normed=True,alpha=0.7,label='H')\n",
    "plt.hist(K_err,500,normed=True,alpha=0.5,label='K')\n",
    "plt.legend()\n",
    "plt.xlim([0,0.2])\n",
    "plt.show()\n",
    "print(np.mean(J_err))"
   ]
  },
  {
   "cell_type": "code",
   "execution_count": 57,
   "metadata": {},
   "outputs": [
    {
     "data": {
      "image/png": "[encoded data removed]",
      "text/plain": [
       "<matplotlib.figure.Figure at 0x7f57dcf7bd30>"
      ]
     },
     "metadata": {},
     "output_type": "display_data"
    },
    {
     "name": "stdout",
     "output_type": "stream",
     "text": [
      "0.0284594425985\n",
      "0.0336041960027\n",
      "0.0324358897342\n"
     ]
    }
   ],
   "source": [
    "plt.hist(J_err,500,normed=True,label='J')\n",
    "plt.hist(H_err,500,normed=True,alpha=0.7,label='H')\n",
    "plt.hist(K_err,500,normed=True,alpha=0.5,label='K')\n",
    "plt.legend()\n",
    "plt.xlim([0,0.2])\n",
    "plt.show()\n",
    "print(np.mean(J_err))\n",
    "print(np.mean(H_err))\n",
    "print(np.mean(K_err))"
   ]
  },
  {
   "cell_type": "code",
   "execution_count": 306,
   "metadata": {},
   "outputs": [
    {
     "name": "stdout",
     "output_type": "stream",
     "text": [
      "296527 296527 296527 296527 296527 296527\n"
     ]
    }
   ],
   "source": [
    "print(len(G_unc_br),len(GB_unc_br),len(GR_unc_br),len(J_unc_br),len(H_unc_br),len(K_unc_br))"
   ]
  },
  {
   "cell_type": "code",
   "execution_count": 77,
   "metadata": {
    "collapsed": true
   },
   "outputs": [],
   "source": [
    "def StarFit(starBands,color_mags,star_err):\n",
    "    new_starBands = []\n",
    "    for i in range(len(starBands)):\n",
    "        if(i == 0):\n",
    "            G = starBands[i]\n",
    "        else:\n",
    "            G_X = G - starBands[i]\n",
    "            new_starBands.append(G_X)\n",
    "    \n",
    "    template_bands = []\n",
    "    for i in range(len(color_mags)):\n",
    "        cm = color_mags[i,:]\n",
    "        cm = cm[~np.isnan(cm)]\n",
    "        template_bands.append(cm)\n",
    "    template_bands = np.array(template_bands)\n",
    "    \n",
    "    newStar_err = []\n",
    "    for i in range(len(star_err)):\n",
    "        if(i == 0):\n",
    "            sigmaG = star_err[i]\n",
    "        else:\n",
    "            sigma = star_err[i]\n",
    "            unc = np.sqrt(sigmaG**2+sigma**2)\n",
    "            newStar_err.append(unc)\n",
    "    newStar_err = np.array(newStar_err)\n",
    "    Chi2_vals = []\n",
    "    for i in range(len(template_bands)):\n",
    "        Chi2 = ((template_bands[i] - new_starBands)**2/(newStar_err)**2)\n",
    "        Chi2 = np.sum(Chi2)\n",
    "#         Chi2 = 0\n",
    "#         for j in range(len(new_starBands)):\n",
    "#             Chi2 = Chi2 + ((template_bands[i,j] - new_starBands[j])**2/(star_err[j])**2)\n",
    "        Chi2 = Chi2/(len(new_starBands))  # EDITED THIS LINE JUNE 7TH. GOT RID OF THE -1\n",
    "        Chi2_vals.append(Chi2)\n",
    "    Chi2_vals = np.array(Chi2_vals)\n",
    "    \n",
    "    red_Chi2 = []\n",
    "    for i in range(len(Chi2_vals)):\n",
    "        if(Chi2_vals[i] == np.min(Chi2_vals)):\n",
    "            chi_val = Chi2_vals[i]\n",
    "            \n",
    "            #red_Chi2.append(chi_val)\n",
    "            best_fit = i\n",
    "            \n",
    "#             print('The best Template is '+ str((best_fit+1)) +' out of '+str(len(template_bands))+ ' templates')\n",
    "#             print('Or ' + str(best_fit) + ' out of ' + str((len(template_bands)-1)))\n",
    "    #print(best_fit)\n",
    "    return best_fit, new_starBands, newStar_err, chi_val, Chi2_vals"
   ]
  },
  {
   "cell_type": "code",
   "execution_count": 156,
   "metadata": {},
   "outputs": [
    {
     "name": "stderr",
     "output_type": "stream",
     "text": [
      "/astromake/opt/python/anaconda3/lib/python3.6/site-packages/ipykernel_launcher.py:108: RuntimeWarning: Mean of empty slice\n",
      "/astromake/opt/python/anaconda3/lib/python3.6/site-packages/numpy/lib/nanfunctions.py:1423: RuntimeWarning: Degrees of freedom <= 0 for slice.\n",
      "  keepdims=keepdims)\n",
      "/astromake/opt/python/anaconda3/lib/python3.6/site-packages/ipykernel_launcher.py:111: RuntimeWarning: Mean of empty slice\n"
     ]
    }
   ],
   "source": [
    "colors = np.arange(3,4,0.01) # EDIT THIS TO USE DESIRED NUMBER OF COLORS\n",
    "\n",
    "# BRIGHT STARS\n",
    "color_br = ColorClassification(br_Gmag,br_Kmag,colors)\n",
    "\n",
    "stars_br,color_mags_br,color_std_br,color_std_err_br,abs_color_mags_br,abs_color_std_br,abs_color_std_err_br = \\\n",
    "CreateTemplates(color_br,colors,Gmags=br_Gmag,Kmags=br_Kmag,GB_mags=br_GBmag,GR_mags=br_GRmag,J_mags=br_Jmag,H_mags=br_Hmag)\n",
    "\n",
    "# DIM STARS\n",
    "color_dm = ColorClassification(dm_Gmag,dm_Kmag,colors)\n",
    "\n",
    "stars_dm,color_mags_dm,color_std_dm,color_std_err_dm,abs_color_mags_dm,abs_color_std_dm,abs_color_std_err_dm = \\\n",
    "CreateTemplates(color_dm,colors,dm_Gmag,dm_Kmag,GB_mags=dm_GBmag,GR_mags=dm_GRmag,J_mags=dm_Jmag,H_mags=dm_Hmag)"
   ]
  },
  {
   "cell_type": "code",
   "execution_count": 611,
   "metadata": {},
   "outputs": [
    {
     "name": "stdout",
     "output_type": "stream",
     "text": [
      "[0.0007621  0.0039265  0.00331419 0.022      0.023      0.023     ]\n",
      "[nan nan nan nan nan nan nan nan nan nan]\n",
      "1.0\n"
     ]
    }
   ],
   "source": [
    "star_err = np.transpose([G_unc_br,GB_unc_br,GR_unc_br,J_unc_br,H_unc_br,K_unc_br])\n",
    "idx = np.random.randint(1,len(br_Gmag))\n",
    "print(star_err[idx])\n",
    "\n",
    "print(color_mags_br[0])\n",
    "print(colors[0])"
   ]
  },
  {
   "cell_type": "code",
   "execution_count": 820,
   "metadata": {},
   "outputs": [
    {
     "data": {
      "text/plain": [
       "0.001"
      ]
     },
     "execution_count": 820,
     "metadata": {},
     "output_type": "execute_result"
    }
   ],
   "source": [
    "10**(-3)"
   ]
  },
  {
   "cell_type": "code",
   "execution_count": 193,
   "metadata": {},
   "outputs": [
    {
     "name": "stdout",
     "output_type": "stream",
     "text": [
      "[ 0.001       0.00432165  0.00113449  0.022       0.021       0.016     ]\n",
      "[ 0.00443584  0.00151231  0.02202272  0.0210238   0.01603122]\n",
      "\n",
      "Reduced X^2 for Bright Template Fit: 28.6660712327\n",
      "Reduced X^2 for Faint Template Fit: 120.2292141\n"
     ]
    },
    {
     "data": {
      "image/png": "[encoded data removed]",
      "text/plain": [
       "<matplotlib.figure.Figure at 0x7f57e3215710>"
      ]
     },
     "metadata": {},
     "output_type": "display_data"
    },
    {
     "name": "stdout",
     "output_type": "stream",
     "text": [
      "[ 28.66607123  35.89595647  41.01476804  49.50507427  58.66150653\n",
      "  59.43214038  59.7519056   61.30279946  63.38865938  65.20081065\n",
      "  78.67306778]\n"
     ]
    }
   ],
   "source": [
    "mags = copy.copy(color_mags_br)\n",
    "mags = mags[1:len(mags)]\n",
    "mags_dm = copy.copy(color_mags_dm)\n",
    "mags_dm = mags_dm[1:len(mags_dm)]\n",
    "star_err = np.transpose([G_unc_dm,GB_unc_dm,GR_unc_dm,J_unc_dm,H_unc_dm,K_unc_dm])\n",
    "idx = np.random.randint(1,len(dm_Gmag))\n",
    "starBand = all_dimStars[idx]\n",
    "starBand = np.array(starBand)\n",
    "starBand = starBand[~np.isnan(starBand)]\n",
    "starError = star_err[idx]\n",
    "starError = starError[~np.isnan(starError)]\n",
    "print(starError)\n",
    "if(len(starBand) == len(all_dimStars[idx]) and len(starError) == len(star_err[idx])):\n",
    "    \n",
    "    fit, newBands, newStar_err, chi2, chi2_vals1 = StarFit(starBand,mags,starError) # Bright Fit\n",
    "    fit2, newBands, newStar_err2, chi2_2, chi2_vals2 = StarFit(starBand,mags_dm,starError) # Faint Fit\n",
    "print(newStar_err)\n",
    "wvl = [477,677,1250,1650,2170]\n",
    "print('\\nReduced X^2 for Bright Template Fit:', chi2)\n",
    "print('Reduced X^2 for Faint Template Fit:', chi2_2)\n",
    "mag2 = copy.copy(mags[fit])\n",
    "mag2 = mag2[~np.isnan(mag2)]\n",
    "mag3 = copy.copy(mags_dm[fit2])\n",
    "mag3 = mag3[~np.isnan(mag3)]\n",
    "plt.plot(wvl,newBands,label='Star')\n",
    "plt.plot(wvl,mag2,label='Fitted Bright Template')\n",
    "plt.plot(wvl,mag3,label='Fitted Faint Template')\n",
    "plt.legend()\n",
    "plt.show()\n",
    "\n",
    "\n",
    "first10Chi2 = []\n",
    "while(len(first10Chi2) <= 10):\n",
    "    for i in range(len(chi2_vals1)):\n",
    "        if(chi2_vals1[i] == np.nanmin(chi2_vals1)):\n",
    "            ID = i\n",
    "            first10Chi2.append(chi2_vals1[i])\n",
    "    chi2_vals1[ID] = np.nan\n",
    "        \n",
    "#print('Reduced X^2 Value for StarFitting:', chi2)\n",
    "first10Chi2 = np.array(first10Chi2)\n",
    "print(first10Chi2)"
   ]
  },
  {
   "cell_type": "code",
   "execution_count": 696,
   "metadata": {},
   "outputs": [
    {
     "name": "stdout",
     "output_type": "stream",
     "text": [
      "[1, 2, 3, 4, 5, 6, 8]\n"
     ]
    }
   ],
   "source": [
    "f = [1,2,3,4,5,6,8]\n",
    "d = []\n",
    "while(len(d) < len(f)):\n",
    "    for i in range(len(f)):\n",
    "        if(f[i] == np.nanmin(f)):\n",
    "            d.append(f[i])\n",
    "            \n",
    "        f[i] = np.nan\n",
    "print(d)"
   ]
  },
  {
   "cell_type": "code",
   "execution_count": 47,
   "metadata": {},
   "outputs": [
    {
     "name": "stdout",
     "output_type": "stream",
     "text": [
      "Percentage of Fits On to Bright Templates:97.37764499700067\n",
      "Percentage of Fits On to Faint Templates:2.0171961561533305\n"
     ]
    }
   ],
   "source": [
    "star_err_br = np.transpose([G_unc_br,GB_unc_br,GR_unc_br,J_unc_br,H_unc_br,K_unc_br])\n",
    "mags_br = copy.copy(color_mags_br)\n",
    "mags_br = mags[1:len(mags_br)]\n",
    "mags_dm = copy.copy(color_mags_dm)\n",
    "mags_dm = mags_dm[1:len(mags_dm)]\n",
    "chi2 = []\n",
    "chi2_fa = []\n",
    "BrightTempFits = 0\n",
    "FaintTempFits = 0\n",
    "for i in range(len(br_Gmag)):\n",
    "    starBand = all_BrightStars[i]\n",
    "    starBand = np.array(starBand)\n",
    "    starBand = starBand[~np.isnan(starBand)]\n",
    "    starError = star_err_br[i]\n",
    "    starError = starError[~np.isnan(starError)]\n",
    "    if(len(starBand) == len(all_BrightStars[i]) and len(starError) == len(star_err_br[i])):\n",
    "        fit_br, newBands, newStar_err, chi2_br, array1 = StarFit(starBand,mags_br,starError)\n",
    "        fit_dm, newBands, newStar_err, chi2_dm, array2 = StarFit(starBand,mags_dm,starError)\n",
    "        chi2.append(chi2_br)\n",
    "        chi2_fa.append(chi2_dm)\n",
    "        if(chi2_br < chi2_dm):\n",
    "            BrightTempFits = BrightTempFits + 1\n",
    "        if(chi2_dm < chi2_br):\n",
    "            FaintTempFits = FaintTempFits + 1\n",
    "            \n",
    "print('Percentage of Fits On to Bright Templates:' + str(100*(BrightTempFits/len(all_BrightStars))))\n",
    "print('Percentage of Fits On to Faint Templates:' + str(100*(FaintTempFits/len(all_BrightStars))))"
   ]
  },
  {
   "cell_type": "code",
   "execution_count": 108,
   "metadata": {},
   "outputs": [
    {
     "data": {
      "image/png": "[encoded data removed]",
      "text/plain": [
       "<matplotlib.figure.Figure at 0x7f57e3df4d30>"
      ]
     },
     "metadata": {},
     "output_type": "display_data"
    },
    {
     "name": "stdout",
     "output_type": "stream",
     "text": [
      "0.842481994218\n",
      "1356.47066354\n"
     ]
    },
    {
     "ename": "TypeError",
     "evalue": "object of type 'numpy.float64' has no len()",
     "output_type": "error",
     "traceback": [
      "\u001b[0;31m---------------------------------------------------------------------------\u001b[0m",
      "\u001b[0;31mTypeError\u001b[0m                                 Traceback (most recent call last)",
      "\u001b[0;32m<ipython-input-108-f179f46f1ec8>\u001b[0m in \u001b[0;36m<module>\u001b[0;34m()\u001b[0m\n\u001b[1;32m      6\u001b[0m \u001b[0mprint\u001b[0m\u001b[0;34m(\u001b[0m\u001b[0mnp\u001b[0m\u001b[0;34m.\u001b[0m\u001b[0mmean\u001b[0m\u001b[0;34m(\u001b[0m\u001b[0mchi2\u001b[0m\u001b[0;34m)\u001b[0m\u001b[0;34m)\u001b[0m\u001b[0;34m\u001b[0m\u001b[0m\n\u001b[1;32m      7\u001b[0m \u001b[0mprint\u001b[0m\u001b[0;34m(\u001b[0m\u001b[0mnp\u001b[0m\u001b[0;34m.\u001b[0m\u001b[0mmean\u001b[0m\u001b[0;34m(\u001b[0m\u001b[0mchi2_fa\u001b[0m\u001b[0;34m)\u001b[0m\u001b[0;34m)\u001b[0m\u001b[0;34m\u001b[0m\u001b[0m\n\u001b[0;32m----> 8\u001b[0;31m \u001b[0mprint\u001b[0m\u001b[0;34m(\u001b[0m\u001b[0mlen\u001b[0m\u001b[0;34m(\u001b[0m\u001b[0mchi2\u001b[0m\u001b[0;34m)\u001b[0m\u001b[0;34m)\u001b[0m\u001b[0;34m\u001b[0m\u001b[0m\n\u001b[0m",
      "\u001b[0;31mTypeError\u001b[0m: object of type 'numpy.float64' has no len()"
     ]
    }
   ],
   "source": [
    "plt.hist(chi2,10,normed=True,label='Bright Temp Fits')\n",
    "plt.hist(chi2_fa,10,normed=True,label='Faint Temp Fits',alpha = 0.7)\n",
    "plt.legend()\n",
    "plt.xlim([0,1])\n",
    "plt.show()\n",
    "print(np.mean(chi2))\n",
    "print(np.mean(chi2_fa))\n",
    "print(len(chi2))"
   ]
  },
  {
   "cell_type": "code",
   "execution_count": null,
   "metadata": {
    "collapsed": true
   },
   "outputs": [],
   "source": [
    "star_err_dm = np.transpose([G_unc_dm,GB_unc_dm,GR_unc_dm,J_unc_dm,H_unc_dm,K_unc_dm])\n",
    "mags_br = copy.copy(color_mags_br)\n",
    "mags_br = mags[1:len(mags_br)]\n",
    "mags_dm = copy.copy(color_mags_dm)\n",
    "mags_dm = mags_dm[1:len(mags_dm)]\n",
    "chi2 = []\n",
    "BrightTempFits = 0\n",
    "FaintTempFits = 0\n",
    "for i in range(len(br_Gmag)):\n",
    "    starBand = all_BrightStars[i]\n",
    "    starBand = np.array(starBand)\n",
    "    starBand = starBand[~np.isnan(starBand)]\n",
    "    starError = star_err_br[i]\n",
    "    starError = starError[~np.isnan(starError)]\n",
    "    if(len(starBand) == len(all_BrightStars[i]) and len(starError) == len(star_err_br[i])):\n",
    "        fit_br, newBands, newStar_err, chi2_br = StarFit(starBand,mags_br,starError)\n",
    "        fit_dm, newBands, newStar_err, chi2_dm = StarFit(starBand,mags_dm,starError)\n",
    "        chi2.append(chi2_br)\n",
    "        if(chi2_br < chi2_dm):\n",
    "            BrightTempFits = BrightTempFits + 1\n",
    "        if(chi2_dm < chi2_br):\n",
    "            FaintTempFits = FaintTempFits + 1\n",
    "            \n",
    "print('Percentage of Fits On to Bright Templates:' + str(100*(BrightTempFits/len(all_BrightStars))))\n",
    "print('Percentage of Fits On to Faint Templates:' + str(100*(FaintTempFits/len(all_BrightStars))))"
   ]
  },
  {
   "cell_type": "code",
   "execution_count": 733,
   "metadata": {},
   "outputs": [
    {
     "ename": "KeyboardInterrupt",
     "evalue": "",
     "output_type": "error",
     "traceback": [
      "\u001b[1;31m---------------------------------------------------------------------------\u001b[0m",
      "\u001b[1;31mKeyboardInterrupt\u001b[0m                         Traceback (most recent call last)",
      "\u001b[1;32m<ipython-input-733-0a35a343c450>\u001b[0m in \u001b[0;36m<module>\u001b[1;34m()\u001b[0m\n\u001b[0;32m     21\u001b[0m     \u001b[1;32mwhile\u001b[0m\u001b[1;33m(\u001b[0m\u001b[0mlen\u001b[0m\u001b[1;33m(\u001b[0m\u001b[0mfirst10Chi2\u001b[0m\u001b[1;33m)\u001b[0m \u001b[1;33m<=\u001b[0m \u001b[1;36m10\u001b[0m\u001b[1;33m)\u001b[0m\u001b[1;33m:\u001b[0m\u001b[1;33m\u001b[0m\u001b[0m\n\u001b[0;32m     22\u001b[0m         \u001b[1;32mfor\u001b[0m \u001b[0mi\u001b[0m \u001b[1;32min\u001b[0m \u001b[0mrange\u001b[0m\u001b[1;33m(\u001b[0m\u001b[0mlen\u001b[0m\u001b[1;33m(\u001b[0m\u001b[0mchi2_vals1\u001b[0m\u001b[1;33m)\u001b[0m\u001b[1;33m)\u001b[0m\u001b[1;33m:\u001b[0m\u001b[1;33m\u001b[0m\u001b[0m\n\u001b[1;32m---> 23\u001b[1;33m             \u001b[1;32mif\u001b[0m\u001b[1;33m(\u001b[0m\u001b[0mchi2_vals1\u001b[0m\u001b[1;33m[\u001b[0m\u001b[0mi\u001b[0m\u001b[1;33m]\u001b[0m \u001b[1;33m==\u001b[0m \u001b[0mnp\u001b[0m\u001b[1;33m.\u001b[0m\u001b[0mnanmin\u001b[0m\u001b[1;33m(\u001b[0m\u001b[0mchi2_vals1\u001b[0m\u001b[1;33m)\u001b[0m\u001b[1;33m)\u001b[0m\u001b[1;33m:\u001b[0m\u001b[1;33m\u001b[0m\u001b[0m\n\u001b[0m\u001b[0;32m     24\u001b[0m                 \u001b[0mID\u001b[0m \u001b[1;33m=\u001b[0m \u001b[0mi\u001b[0m\u001b[1;33m\u001b[0m\u001b[0m\n\u001b[0;32m     25\u001b[0m                 \u001b[0mfirst10Chi2\u001b[0m\u001b[1;33m.\u001b[0m\u001b[0mappend\u001b[0m\u001b[1;33m(\u001b[0m\u001b[0mchi2_vals1\u001b[0m\u001b[1;33m[\u001b[0m\u001b[0mi\u001b[0m\u001b[1;33m]\u001b[0m\u001b[1;33m)\u001b[0m\u001b[1;33m\u001b[0m\u001b[0m\n",
      "\u001b[1;32m~\\Anaconda3\\lib\\site-packages\\numpy\\lib\\nanfunctions.py\u001b[0m in \u001b[0;36mnanmin\u001b[1;34m(a, axis, out, keepdims)\u001b[0m\n\u001b[0;32m    278\u001b[0m         \u001b[1;31m# Fast, but not safe for subclasses of ndarray, or object arrays,\u001b[0m\u001b[1;33m\u001b[0m\u001b[1;33m\u001b[0m\u001b[0m\n\u001b[0;32m    279\u001b[0m         \u001b[1;31m# which do not implement isnan (gh-9009), or fmin correctly (gh-8975)\u001b[0m\u001b[1;33m\u001b[0m\u001b[1;33m\u001b[0m\u001b[0m\n\u001b[1;32m--> 280\u001b[1;33m         \u001b[0mres\u001b[0m \u001b[1;33m=\u001b[0m \u001b[0mnp\u001b[0m\u001b[1;33m.\u001b[0m\u001b[0mfmin\u001b[0m\u001b[1;33m.\u001b[0m\u001b[0mreduce\u001b[0m\u001b[1;33m(\u001b[0m\u001b[0ma\u001b[0m\u001b[1;33m,\u001b[0m \u001b[0maxis\u001b[0m\u001b[1;33m=\u001b[0m\u001b[0maxis\u001b[0m\u001b[1;33m,\u001b[0m \u001b[0mout\u001b[0m\u001b[1;33m=\u001b[0m\u001b[0mout\u001b[0m\u001b[1;33m,\u001b[0m \u001b[1;33m**\u001b[0m\u001b[0mkwargs\u001b[0m\u001b[1;33m)\u001b[0m\u001b[1;33m\u001b[0m\u001b[0m\n\u001b[0m\u001b[0;32m    281\u001b[0m         \u001b[1;32mif\u001b[0m \u001b[0mnp\u001b[0m\u001b[1;33m.\u001b[0m\u001b[0misnan\u001b[0m\u001b[1;33m(\u001b[0m\u001b[0mres\u001b[0m\u001b[1;33m)\u001b[0m\u001b[1;33m.\u001b[0m\u001b[0many\u001b[0m\u001b[1;33m(\u001b[0m\u001b[1;33m)\u001b[0m\u001b[1;33m:\u001b[0m\u001b[1;33m\u001b[0m\u001b[0m\n\u001b[0;32m    282\u001b[0m             \u001b[0mwarnings\u001b[0m\u001b[1;33m.\u001b[0m\u001b[0mwarn\u001b[0m\u001b[1;33m(\u001b[0m\u001b[1;34m\"All-NaN slice encountered\"\u001b[0m\u001b[1;33m,\u001b[0m \u001b[0mRuntimeWarning\u001b[0m\u001b[1;33m,\u001b[0m \u001b[0mstacklevel\u001b[0m\u001b[1;33m=\u001b[0m\u001b[1;36m2\u001b[0m\u001b[1;33m)\u001b[0m\u001b[1;33m\u001b[0m\u001b[0m\n",
      "\u001b[1;31mKeyboardInterrupt\u001b[0m: "
     ]
    }
   ],
   "source": [
    "star_err_br = np.transpose([G_unc_br,GB_unc_br,GR_unc_br,J_unc_br,H_unc_br,K_unc_br])\n",
    "mags_br = copy.copy(color_mags_br)\n",
    "mags_br = mags[1:len(mags_br)]\n",
    "mags_dm = copy.copy(color_mags_dm)\n",
    "mags_dm = mags_dm[1:len(mags_dm)]\n",
    "\n",
    "BrightTempFits = 0\n",
    "FaintTempFits = 0\n",
    "indexes = np.arange(1,len(Gmag))\n",
    "t = Table()\n",
    "for i in range(len(br_Gmag)):\n",
    "    starBand = all_BrightStars[i]\n",
    "    starBand = np.array(starBand)\n",
    "    starBand = starBand[~np.isnan(starBand)]\n",
    "    starError = star_err_br[i]\n",
    "    starError = starError[~np.isnan(starError)]\n",
    "    if(len(starBand) == len(all_BrightStars[i]) and len(starError) == len(star_err_br[i])):\n",
    "        fit_br, newBands, newStar_err, chi2_br, chi2_vals1 = StarFit(starBand,mags_br,starError)\n",
    "        \n",
    "    first10Chi2 = []\n",
    "    while(len(first10Chi2) <= 10):\n",
    "        for i in range(len(chi2_vals1)):\n",
    "            if(chi2_vals1[i] == np.nanmin(chi2_vals1)):\n",
    "                ID = i\n",
    "                first10Chi2.append(chi2_vals1[i])\n",
    "        chi2_vals1[ID] = np.nan\n",
    "    t[str(indexes[i])] = first10Chi2\n",
    "    #print('Reduced X^2 Value for StarFitting:', chi2)\n",
    "    first10Chi2 = np.array(first10Chi2)"
   ]
  },
  {
   "cell_type": "code",
   "execution_count": 729,
   "metadata": {},
   "outputs": [
    {
     "name": "stdout",
     "output_type": "stream",
     "text": [
      "Value 1 Value 2 Value 3  2 \n",
      "           cm              \n",
      "------- ------- ------- ---\n",
      "      1     2.0       x   1\n",
      "      4     5.0       y   4\n",
      "[1 2 3]\n"
     ]
    }
   ],
   "source": [
    "from astropy.table import Table, Column\n",
    "\n",
    "t = Table()\n",
    "t['Value 1'] = [1, 4]\n",
    "t['Value 2'] = Column([2.0, 5.0], unit='cm', description='Velocity')\n",
    "t['Value 3'] = ['x', 'y']\n",
    "t[str(c[1])] = [1, 4]\n",
    "print(t)\n",
    "\n",
    "c = np.arange(1,4,1)\n",
    "print(c)"
   ]
  }
 ],
 "metadata": {
  "kernelspec": {
   "display_name": "Python 3",
   "language": "python",
   "name": "python3"
  },
  "language_info": {
   "codemirror_mode": {
    "name": "ipython",
    "version": 3
   },
   "file_extension": ".py",
   "mimetype": "text/x-python",
   "name": "python",
   "nbconvert_exporter": "python",
   "pygments_lexer": "ipython3",
   "version": "3.6.1"
  }
 },
 "nbformat": 4,
 "nbformat_minor": 2
}
