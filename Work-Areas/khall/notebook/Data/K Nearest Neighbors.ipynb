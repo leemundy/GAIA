{
 "cells": [
  {
   "cell_type": "code",
   "execution_count": 7,
   "metadata": {
    "collapsed": true
   },
   "outputs": [],
   "source": [
    "import numpy as np\n",
    "import matplotlib.pyplot as plt\n",
    "import warnings\n",
    "from astropy.table import Table\n",
    "#from matplotlib import style\n",
    "from collections import Counter\n",
    "#style.use('fivethirtyeight')"
   ]
  },
  {
   "cell_type": "code",
   "execution_count": 7,
   "metadata": {},
   "outputs": [
    {
     "data": {
      "image/png": "[encoded data removed]",
      "text/plain": [
       "<matplotlib.figure.Figure at 0x7f6b704dda20>"
      ]
     },
     "metadata": {},
     "output_type": "display_data"
    }
   ],
   "source": [
    "dataset = {'k':[[1,2],[2,3],[3,1]],'r':[[6,5],[7,7],[8,6]]}\n",
    "new_features = [[5,7],[3,2],[6,3],[1,7],[2,5],[5,5],[4,5],[5,5]]\n",
    "new_features=np.array(new_features)\n",
    "[[plt.scatter(ii[0],ii[1],s=100,color=i) for ii in dataset[i]] for i in dataset]\n",
    "plt.scatter(new_features[:,0],new_features[:,1])\n",
    "#plt.scatter(new_features[0],new_features[1])\n",
    "plt.show()\n",
    "\n"
   ]
  },
  {
   "cell_type": "code",
   "execution_count": 4,
   "metadata": {},
   "outputs": [
    {
     "name": "stderr",
     "output_type": "stream",
     "text": [
      "WARNING: W27: vizier_votable.vot:53:2: W27: COOSYS deprecated in VOTable 1.2 [astropy.io.votable.tree]\n",
      "WARNING: W27: vizier_votable.vot:54:2: W27: COOSYS deprecated in VOTable 1.2 [astropy.io.votable.tree]\n",
      "WARNING: W03: vizier_votable.vot:102:4: W03: Implicitly generating an ID from a name '<FG>' -> '__FG_' [astropy.io.votable.xmlutil]\n",
      "WARNING: W50: vizier_votable.vot:102:4: W50: Invalid unit string 'e-/s' [astropy.io.votable.tree]\n",
      "WARNING: W03: vizier_votable.vot:106:4: W03: Implicitly generating an ID from a name 'e_<FG>' -> 'e__FG_' [astropy.io.votable.xmlutil]\n",
      "WARNING: W50: vizier_votable.vot:106:4: W50: Invalid unit string 'e-/s' [astropy.io.votable.tree]\n",
      "WARNING: W03: vizier_votable.vot:110:4: W03: Implicitly generating an ID from a name '<Gmag>' -> '__Gmag_' [astropy.io.votable.xmlutil]\n",
      "WARNING: W51: vizier_votable.vot:118:124: W51: Value '3134360170758555648' is out of range for a 16-bit integer field [astropy.io.votable.converters]\n",
      "WARNING: W51: vizier_votable.vot:119:124: W51: Value '3134360170758543744' is out of range for a 16-bit integer field [astropy.io.votable.converters]\n",
      "WARNING: W51: vizier_votable.vot:120:122: W51: Value '3134362301062169472' is out of range for a 16-bit integer field [astropy.io.votable.converters]\n",
      "WARNING: W51: vizier_votable.vot:121:122: W51: Value '3134362335421907584' is out of range for a 16-bit integer field [astropy.io.votable.converters]\n",
      "WARNING: W51: vizier_votable.vot:122:122: W51: Value '3134362335421908224' is out of range for a 16-bit integer field [astropy.io.votable.converters]\n",
      "WARNING: W51: vizier_votable.vot:123:122: W51: Value '3134362369781645696' is out of range for a 16-bit integer field [astropy.io.votable.converters]\n",
      "WARNING: W51: vizier_votable.vot:124:122: W51: Value '3134362369781649024' is out of range for a 16-bit integer field [astropy.io.votable.converters]\n",
      "WARNING: W51: vizier_votable.vot:125:122: W51: Value '3134362850818135936' is out of range for a 16-bit integer field [astropy.io.votable.converters]\n",
      "WARNING: W51: vizier_votable.vot:126:122: W51: Value '3134362850819068672' is out of range for a 16-bit integer field [astropy.io.votable.converters]\n",
      "WARNING: W51: vizier_votable.vot:127:122: W51: Value '3134362919537460224' is out of range for a 16-bit integer field (suppressing further warnings of this type...) [astropy.io.votable.converters]\n"
     ]
    },
    {
     "name": "stdout",
     "output_type": "stream",
     "text": [
      "['_RAJ2000', '_DEJ2000', 'RA_ICRS', 'e_RA_ICRS', 'DE_ICRS', 'e_DE_ICRS', 'Source', 'Plx', 'pmRA', 'pmDE', 'RADEcor', 'Dup', '__FG_', 'e__FG_', '__Gmag_', 'Var']\n"
     ]
    }
   ],
   "source": [
    "t = Table.read('vizier_votable.vot', format='votable')\n",
    "print(t.colnames)\n",
    "\n",
    "RA = t['_RAJ2000']\n",
    "DEC = t['_DEJ2000']\n"
   ]
  },
  {
   "cell_type": "code",
   "execution_count": 8,
   "metadata": {},
   "outputs": [
    {
     "ename": "IndexError",
     "evalue": "arrays used as indices must be of integer (or boolean) type",
     "output_type": "error",
     "traceback": [
      "\u001b[0;31m---------------------------------------------------------------------------\u001b[0m",
      "\u001b[0;31mIndexError\u001b[0m                                Traceback (most recent call last)",
      "\u001b[0;32m<ipython-input-8-0e088b306049>\u001b[0m in \u001b[0;36m<module>\u001b[0;34m()\u001b[0m\n\u001b[1;32m     13\u001b[0m \u001b[0mcoords\u001b[0m \u001b[0;34m=\u001b[0m \u001b[0mnp\u001b[0m\u001b[0;34m.\u001b[0m\u001b[0marray\u001b[0m\u001b[0;34m(\u001b[0m\u001b[0;34m[\u001b[0m\u001b[0mRA\u001b[0m\u001b[0;34m,\u001b[0m\u001b[0mDEC\u001b[0m\u001b[0;34m]\u001b[0m\u001b[0;34m)\u001b[0m\u001b[0;34m\u001b[0m\u001b[0m\n\u001b[1;32m     14\u001b[0m \u001b[0;32mfor\u001b[0m \u001b[0mtest\u001b[0m \u001b[0;32min\u001b[0m \u001b[0mcoords\u001b[0m\u001b[0;34m:\u001b[0m\u001b[0;34m\u001b[0m\u001b[0m\n\u001b[0;32m---> 15\u001b[0;31m     \u001b[0mresult\u001b[0m \u001b[0;34m=\u001b[0m \u001b[0mnearest_neighbors\u001b[0m\u001b[0;34m(\u001b[0m\u001b[0mdataset\u001b[0m\u001b[0;34m,\u001b[0m \u001b[0mcoords\u001b[0m\u001b[0;34m[\u001b[0m\u001b[0mtest\u001b[0m\u001b[0;34m]\u001b[0m\u001b[0;34m,\u001b[0m\u001b[0mk\u001b[0m\u001b[0;34m=\u001b[0m\u001b[0;36m3\u001b[0m\u001b[0;34m)\u001b[0m\u001b[0;34m\u001b[0m\u001b[0m\n\u001b[0m\u001b[1;32m     16\u001b[0m     \u001b[0mprint\u001b[0m\u001b[0;34m(\u001b[0m\u001b[0mresult\u001b[0m\u001b[0;34m)\u001b[0m\u001b[0;34m\u001b[0m\u001b[0m\n\u001b[1;32m     17\u001b[0m     \u001b[0mplt\u001b[0m\u001b[0;34m.\u001b[0m\u001b[0mscatter\u001b[0m\u001b[0;34m(\u001b[0m\u001b[0mcoords\u001b[0m\u001b[0;34m[\u001b[0m\u001b[0mtest\u001b[0m\u001b[0;34m,\u001b[0m\u001b[0;36m0\u001b[0m\u001b[0;34m]\u001b[0m\u001b[0;34m,\u001b[0m\u001b[0mcoords\u001b[0m\u001b[0;34m[\u001b[0m\u001b[0mtest\u001b[0m\u001b[0;34m,\u001b[0m\u001b[0;36m1\u001b[0m\u001b[0;34m]\u001b[0m\u001b[0;34m,\u001b[0m \u001b[0mcolor\u001b[0m\u001b[0;34m=\u001b[0m\u001b[0mresult\u001b[0m\u001b[0;34m)\u001b[0m\u001b[0;34m\u001b[0m\u001b[0m\n",
      "\u001b[0;31mIndexError\u001b[0m: arrays used as indices must be of integer (or boolean) type"
     ]
    }
   ],
   "source": [
    "def nearest_neighbors(data, predict, k=3):\n",
    "    if len(data) >= k:\n",
    "        warnings.warn('K is set to a value less than total voting groups')\n",
    "    distances = []\n",
    "    for group in data:\n",
    "        for features in data[group]:\n",
    "            euclidean_dist = np.linalg.norm(np.array(features)-np.array(predict))\n",
    "            distances.append([euclidean_dist, group])\n",
    "    votes = [i[1] for i in sorted(distances)[:k]]\n",
    "    vote_result = Counter(votes).most_common(1)[0][0]\n",
    "    return vote_result\n",
    "\n",
    "coords = np.array([RA,DEC])\n",
    "for test in coords:\n",
    "    result = nearest_neighbors(dataset, coords[test],k=3)\n",
    "    print(result)\n",
    "    plt.scatter(coords[test,0],coords[test,1], color=result)\n",
    "    \n",
    "[[plt.scatter(ii[0],ii[1],s=100,color=i) for ii in dataset[i]] for i in dataset]\n",
    "\n",
    "plt.show()"
   ]
  },
  {
   "cell_type": "code",
   "execution_count": 1,
   "metadata": {},
   "outputs": [
    {
     "data": {
      "text/plain": [
       "array([[0, 1],\n",
       "       [1, 0],\n",
       "       [2, 1],\n",
       "       [3, 4],\n",
       "       [4, 3],\n",
       "       [5, 4]])"
      ]
     },
     "execution_count": 1,
     "metadata": {},
     "output_type": "execute_result"
    }
   ],
   "source": [
    "from sklearn.neighbors import NearestNeighbors\n",
    "import numpy as np\n",
    "X = np.array([[-1, -1], [-2, -1], [-3, -2], [1, 1], [2, 1], [3, 2]])\n",
    "nbrs = NearestNeighbors(n_neighbors=2, algorithm='ball_tree').fit(X)\n",
    "distances, indices = nbrs.kneighbors(X)\n",
    "indices\n",
    "\n"
   ]
  },
  {
   "cell_type": "code",
   "execution_count": 17,
   "metadata": {},
   "outputs": [
    {
     "name": "stdout",
     "output_type": "stream",
     "text": [
      "[array([ 0.21867628,  0.16981148,  0.28505843,  0.22005272,  0.00339382,\n",
      "        0.7086689 ,  0.83634122,  0.93401919,  0.16116172,  0.38917278,\n",
      "        0.95798293,  0.44389269,  0.72203283,  0.85106821,  0.29693985,\n",
      "        0.95016568,  0.15236378,  0.56601517,  0.94073752,  0.09953866]), array([ 0.40357529,  0.03371817,  0.02160047,  0.47216931,  0.26828593,\n",
      "        0.39920784,  0.13827562,  0.19334024,  0.72570244,  0.16869156,\n",
      "        0.82860344,  0.87243216,  0.52964561,  0.91279827,  0.65933703,\n",
      "        0.5789458 ,  0.29966509,  0.78722819,  0.26766267,  0.13113933])]\n",
      "[[ 0.21867628  0.40357529]\n",
      " [ 0.21867628  0.40357529]] [[ 0.16981148  0.16981148]\n",
      " [ 0.03371817  0.03371817]]\n"
     ]
    },
    {
     "ename": "ValueError",
     "evalue": "not enough values to unpack (expected 2, got 0)",
     "output_type": "error",
     "traceback": [
      "\u001b[0;31m---------------------------------------------------------------------------\u001b[0m",
      "\u001b[0;31mValueError\u001b[0m                                Traceback (most recent call last)",
      "\u001b[0;32m<ipython-input-17-1e7ebfcd0c50>\u001b[0m in \u001b[0;36m<module>\u001b[0;34m()\u001b[0m\n\u001b[1;32m     11\u001b[0m \u001b[0mprint\u001b[0m\u001b[0;34m(\u001b[0m\u001b[0mX\u001b[0m\u001b[0;34m,\u001b[0m\u001b[0mY\u001b[0m\u001b[0;34m)\u001b[0m\u001b[0;34m\u001b[0m\u001b[0m\n\u001b[1;32m     12\u001b[0m \u001b[0;34m\u001b[0m\u001b[0m\n\u001b[0;32m---> 13\u001b[0;31m \u001b[0mtree\u001b[0m \u001b[0;34m=\u001b[0m \u001b[0mspatial\u001b[0m\u001b[0;34m.\u001b[0m\u001b[0mKDTree\u001b[0m\u001b[0;34m(\u001b[0m\u001b[0mzip\u001b[0m\u001b[0;34m(\u001b[0m\u001b[0mtest_data\u001b[0m\u001b[0;34m[\u001b[0m\u001b[0;34m:\u001b[0m\u001b[0;34m,\u001b[0m\u001b[0;36m0\u001b[0m\u001b[0;34m]\u001b[0m\u001b[0;34m,\u001b[0m\u001b[0mtest_data\u001b[0m\u001b[0;34m[\u001b[0m\u001b[0;34m:\u001b[0m\u001b[0;34m,\u001b[0m\u001b[0;36m1\u001b[0m\u001b[0;34m]\u001b[0m\u001b[0;34m)\u001b[0m\u001b[0;34m)\u001b[0m\u001b[0;34m\u001b[0m\u001b[0m\n\u001b[0m",
      "\u001b[0;32m/astromake/opt/python/anaconda3/lib/python3.6/site-packages/scipy/spatial/kdtree.py\u001b[0m in \u001b[0;36m__init__\u001b[0;34m(self, data, leafsize)\u001b[0m\n\u001b[1;32m    233\u001b[0m     \u001b[0;32mdef\u001b[0m \u001b[0m__init__\u001b[0m\u001b[0;34m(\u001b[0m\u001b[0mself\u001b[0m\u001b[0;34m,\u001b[0m \u001b[0mdata\u001b[0m\u001b[0;34m,\u001b[0m \u001b[0mleafsize\u001b[0m\u001b[0;34m=\u001b[0m\u001b[0;36m10\u001b[0m\u001b[0;34m)\u001b[0m\u001b[0;34m:\u001b[0m\u001b[0;34m\u001b[0m\u001b[0m\n\u001b[1;32m    234\u001b[0m         \u001b[0mself\u001b[0m\u001b[0;34m.\u001b[0m\u001b[0mdata\u001b[0m \u001b[0;34m=\u001b[0m \u001b[0mnp\u001b[0m\u001b[0;34m.\u001b[0m\u001b[0masarray\u001b[0m\u001b[0;34m(\u001b[0m\u001b[0mdata\u001b[0m\u001b[0;34m)\u001b[0m\u001b[0;34m\u001b[0m\u001b[0m\n\u001b[0;32m--> 235\u001b[0;31m         \u001b[0mself\u001b[0m\u001b[0;34m.\u001b[0m\u001b[0mn\u001b[0m\u001b[0;34m,\u001b[0m \u001b[0mself\u001b[0m\u001b[0;34m.\u001b[0m\u001b[0mm\u001b[0m \u001b[0;34m=\u001b[0m \u001b[0mnp\u001b[0m\u001b[0;34m.\u001b[0m\u001b[0mshape\u001b[0m\u001b[0;34m(\u001b[0m\u001b[0mself\u001b[0m\u001b[0;34m.\u001b[0m\u001b[0mdata\u001b[0m\u001b[0;34m)\u001b[0m\u001b[0;34m\u001b[0m\u001b[0m\n\u001b[0m\u001b[1;32m    236\u001b[0m         \u001b[0mself\u001b[0m\u001b[0;34m.\u001b[0m\u001b[0mleafsize\u001b[0m \u001b[0;34m=\u001b[0m \u001b[0mint\u001b[0m\u001b[0;34m(\u001b[0m\u001b[0mleafsize\u001b[0m\u001b[0;34m)\u001b[0m\u001b[0;34m\u001b[0m\u001b[0m\n\u001b[1;32m    237\u001b[0m         \u001b[0;32mif\u001b[0m \u001b[0mself\u001b[0m\u001b[0;34m.\u001b[0m\u001b[0mleafsize\u001b[0m \u001b[0;34m<\u001b[0m \u001b[0;36m1\u001b[0m\u001b[0;34m:\u001b[0m\u001b[0;34m\u001b[0m\u001b[0m\n",
      "\u001b[0;31mValueError\u001b[0m: not enough values to unpack (expected 2, got 0)"
     ]
    }
   ],
   "source": [
    "from scipy import spatial\n",
    "from scipy.spatial import KDTree\n",
    "\n",
    "test_data = [np.random.rand(20),np.random.rand(20)]\n",
    "print(test_data)\n",
    "\n",
    "test_data = np.array(test_data)\n",
    "\n",
    "X, Y = np.meshgrid(test_data[:,0],test_data[:,1])\n",
    "\n",
    "print(X,Y)\n",
    "\n",
    "tree = spatial.KDTree(zip(test_data[:,0],test_data[:,1]))\n"
   ]
  },
  {
   "cell_type": "code",
   "execution_count": 196,
   "metadata": {},
   "outputs": [
    {
     "data": {
      "image/png": "[encoded data removed]",
      "text/plain": [
       "<matplotlib.figure.Figure at 0x7f7355a284e0>"
      ]
     },
     "metadata": {},
     "output_type": "display_data"
    },
    {
     "name": "stdout",
     "output_type": "stream",
     "text": [
      "[[ 0.          0.          0.          0.          0.        ]\n",
      " [ 0.          0.02040816  0.04081633  0.06122449  0.08163265]]\n",
      "\n",
      "\n",
      "\n",
      " [[ 0.          0.          0.          0.          0.          0.          0.\n",
      "   0.          0.          0.          0.          0.          0.          0.\n",
      "   0.          0.          0.          0.          0.          0.          0.\n",
      "   0.          0.          0.          0.          0.          0.          0.\n",
      "   0.          0.          0.          0.          0.          0.          0.\n",
      "   0.          0.          0.          0.          0.          0.          0.\n",
      "   0.          0.          0.          0.          0.          0.          0.\n",
      "   0.        ]\n",
      " [ 0.          0.02040816  0.04081633  0.06122449  0.08163265  0.10204082\n",
      "   0.12244898  0.14285714  0.16326531  0.18367347  0.20408163  0.2244898\n",
      "   0.24489796  0.26530612  0.28571429  0.30612245  0.32653061  0.34693878\n",
      "   0.36734694  0.3877551   0.40816327  0.42857143  0.44897959  0.46938776\n",
      "   0.48979592  0.51020408  0.53061224  0.55102041  0.57142857  0.59183673\n",
      "   0.6122449   0.63265306  0.65306122  0.67346939  0.69387755  0.71428571\n",
      "   0.73469388  0.75510204  0.7755102   0.79591837  0.81632653  0.83673469\n",
      "   0.85714286  0.87755102  0.89795918  0.91836735  0.93877551  0.95918367\n",
      "   0.97959184  1.        ]] \n",
      "\n",
      "Last Print command \n",
      "\n",
      " 0.0204081632653 \n",
      "\n",
      "\n",
      "0.0\n"
     ]
    }
   ],
   "source": [
    "import numpy as np\n",
    "\n",
    "#np.random.seed(0)\n",
    "data = np.random.random((20, 2))  # 10 points in 3 dimensions\n",
    "tree = KDTree(data,2)              \n",
    "dist, ind = tree.query(data[0], k=3) \n",
    "# print(dist,ind)\n",
    "# print(data)\n",
    "\n",
    "data = np.array(data)\n",
    "# Xgrid, Ygrid = np.meshgrid(X[:,0],X[:,1])\n",
    "# griddata = np.array([Xgrid,Ygrid])\n",
    "\n",
    "xgrid = np.linspace(0,1)\n",
    "ygrid = np.linspace(0,1)\n",
    "X, Y = np.meshgrid(xgrid,ygrid)\n",
    "plt.scatter(X,Y)\n",
    "plt.scatter(data[:,0],data[:,1])\n",
    "plt.show()\n",
    "#print('\\n here is X\\n',X)\n",
    "\n",
    "#for i in range(len(X)):\n",
    "    \n",
    "X = np.array(X)\n",
    "Y = np.array(Y)\n",
    "\n",
    "#print(Y[0,0:len(Y)])\n",
    "#print(X[0,0:len(X)])\n",
    "array = [Y[0,0:len(Y)],X[0,0:len(X)]]\n",
    "array = np.array(array)\n",
    "print(array[0:5,0:5])\n",
    "np.transpose(array)\n",
    "print('\\n\\n\\n',array,'\\n\\nLast Print command \\n\\n',array[1,1],'\\n\\n')\n",
    "#array = [X[0,0:(len(X[0]))],(Y[0,0]*len(Y[0]))]\n",
    "#array = np.array(array)\n",
    "#print(array[0:,])\n",
    "#print(array[1,1:len(array[1])])\n",
    "\n",
    "test_array = []\n",
    "for i in (array[1,0:len(array[1])]):\n",
    "    test_array.append([i,0])\n",
    "    \n",
    "test_array = np.array(test_array)\n",
    "\n",
    "\n",
    "# test = [[2,1],[4,6],[1,1]]\n",
    "# print(np.size(test))\n"
   ]
  },
  {
   "cell_type": "code",
   "execution_count": 64,
   "metadata": {},
   "outputs": [
    {
     "name": "stdout",
     "output_type": "stream",
     "text": [
      "[[ 0.          0.19662693  0.29473397]]\n"
     ]
    }
   ],
   "source": []
  }
 ],
 "metadata": {
  "kernelspec": {
   "display_name": "Python 3",
   "language": "python",
   "name": "python3"
  },
  "language_info": {
   "codemirror_mode": {
    "name": "ipython",
    "version": 3
   },
   "file_extension": ".py",
   "mimetype": "text/x-python",
   "name": "python",
   "nbconvert_exporter": "python",
   "pygments_lexer": "ipython3",
   "version": "3.6.1"
  }
 },
 "nbformat": 4,
 "nbformat_minor": 2
}
