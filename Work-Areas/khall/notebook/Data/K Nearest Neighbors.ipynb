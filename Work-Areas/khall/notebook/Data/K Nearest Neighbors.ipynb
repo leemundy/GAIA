{
 "cells": [
  {
   "cell_type": "code",
   "execution_count": 1,
   "metadata": {
    "collapsed": true
   },
   "outputs": [],
   "source": [
    "import numpy as np\n",
    "import matplotlib.pyplot as plt\n",
    "import warnings\n",
    "from astropy.table import Table\n",
    "#from matplotlib import style\n",
    "from collections import Counter\n",
    "#style.use('fivethirtyeight')"
   ]
  },
  {
   "cell_type": "code",
   "execution_count": 3,
   "metadata": {},
   "outputs": [
    {
     "data": {
      "image/png": "[encoded data removed]",
      "text/plain": [
       "<matplotlib.figure.Figure at 0xedcb553c8>"
      ]
     },
     "metadata": {},
     "output_type": "display_data"
    }
   ],
   "source": [
    "plt.scatter(3,5,marker='s')\n",
    "plt.show()"
   ]
  },
  {
   "cell_type": "code",
   "execution_count": 7,
   "metadata": {},
   "outputs": [
    {
     "data": {
      "image/png": "[encoded data removed]",
      "text/plain": [
       "<matplotlib.figure.Figure at 0x7f6b704dda20>"
      ]
     },
     "metadata": {},
     "output_type": "display_data"
    }
   ],
   "source": [
    "dataset = {'k':[[1,2],[2,3],[3,1]],'r':[[6,5],[7,7],[8,6]]}\n",
    "new_features = [[5,7],[3,2],[6,3],[1,7],[2,5],[5,5],[4,5],[5,5]]\n",
    "new_features=np.array(new_features)\n",
    "[[plt.scatter(ii[0],ii[1],s=100,color=i) for ii in dataset[i]] for i in dataset]\n",
    "plt.scatter(new_features[:,0],new_features[:,1])\n",
    "#plt.scatter(new_features[0],new_features[1])\n",
    "plt.show()\n",
    "\n"
   ]
  },
  {
   "cell_type": "code",
   "execution_count": 4,
   "metadata": {},
   "outputs": [
    {
     "name": "stderr",
     "output_type": "stream",
     "text": [
      "WARNING: W27: vizier_votable.vot:53:2: W27: COOSYS deprecated in VOTable 1.2 [astropy.io.votable.tree]\n",
      "WARNING: W27: vizier_votable.vot:54:2: W27: COOSYS deprecated in VOTable 1.2 [astropy.io.votable.tree]\n",
      "WARNING: W03: vizier_votable.vot:102:4: W03: Implicitly generating an ID from a name '<FG>' -> '__FG_' [astropy.io.votable.xmlutil]\n",
      "WARNING: W50: vizier_votable.vot:102:4: W50: Invalid unit string 'e-/s' [astropy.io.votable.tree]\n",
      "WARNING: W03: vizier_votable.vot:106:4: W03: Implicitly generating an ID from a name 'e_<FG>' -> 'e__FG_' [astropy.io.votable.xmlutil]\n",
      "WARNING: W50: vizier_votable.vot:106:4: W50: Invalid unit string 'e-/s' [astropy.io.votable.tree]\n",
      "WARNING: W03: vizier_votable.vot:110:4: W03: Implicitly generating an ID from a name '<Gmag>' -> '__Gmag_' [astropy.io.votable.xmlutil]\n",
      "WARNING: W51: vizier_votable.vot:118:124: W51: Value '3134360170758555648' is out of range for a 16-bit integer field [astropy.io.votable.converters]\n",
      "WARNING: W51: vizier_votable.vot:119:124: W51: Value '3134360170758543744' is out of range for a 16-bit integer field [astropy.io.votable.converters]\n",
      "WARNING: W51: vizier_votable.vot:120:122: W51: Value '3134362301062169472' is out of range for a 16-bit integer field [astropy.io.votable.converters]\n",
      "WARNING: W51: vizier_votable.vot:121:122: W51: Value '3134362335421907584' is out of range for a 16-bit integer field [astropy.io.votable.converters]\n",
      "WARNING: W51: vizier_votable.vot:122:122: W51: Value '3134362335421908224' is out of range for a 16-bit integer field [astropy.io.votable.converters]\n",
      "WARNING: W51: vizier_votable.vot:123:122: W51: Value '3134362369781645696' is out of range for a 16-bit integer field [astropy.io.votable.converters]\n",
      "WARNING: W51: vizier_votable.vot:124:122: W51: Value '3134362369781649024' is out of range for a 16-bit integer field [astropy.io.votable.converters]\n",
      "WARNING: W51: vizier_votable.vot:125:122: W51: Value '3134362850818135936' is out of range for a 16-bit integer field [astropy.io.votable.converters]\n",
      "WARNING: W51: vizier_votable.vot:126:122: W51: Value '3134362850819068672' is out of range for a 16-bit integer field [astropy.io.votable.converters]\n",
      "WARNING: W51: vizier_votable.vot:127:122: W51: Value '3134362919537460224' is out of range for a 16-bit integer field (suppressing further warnings of this type...) [astropy.io.votable.converters]\n"
     ]
    },
    {
     "name": "stdout",
     "output_type": "stream",
     "text": [
      "['_RAJ2000', '_DEJ2000', 'RA_ICRS', 'e_RA_ICRS', 'DE_ICRS', 'e_DE_ICRS', 'Source', 'Plx', 'pmRA', 'pmDE', 'RADEcor', 'Dup', '__FG_', 'e__FG_', '__Gmag_', 'Var']\n"
     ]
    }
   ],
   "source": [
    "t = Table.read('vizier_votable.vot', format='votable')\n",
    "print(t.colnames)\n",
    "\n",
    "RA = t['_RAJ2000']\n",
    "DEC = t['_DEJ2000']\n"
   ]
  },
  {
   "cell_type": "code",
   "execution_count": 8,
   "metadata": {},
   "outputs": [
    {
     "ename": "IndexError",
     "evalue": "arrays used as indices must be of integer (or boolean) type",
     "output_type": "error",
     "traceback": [
      "\u001b[0;31m---------------------------------------------------------------------------\u001b[0m",
      "\u001b[0;31mIndexError\u001b[0m                                Traceback (most recent call last)",
      "\u001b[0;32m<ipython-input-8-0e088b306049>\u001b[0m in \u001b[0;36m<module>\u001b[0;34m()\u001b[0m\n\u001b[1;32m     13\u001b[0m \u001b[0mcoords\u001b[0m \u001b[0;34m=\u001b[0m \u001b[0mnp\u001b[0m\u001b[0;34m.\u001b[0m\u001b[0marray\u001b[0m\u001b[0;34m(\u001b[0m\u001b[0;34m[\u001b[0m\u001b[0mRA\u001b[0m\u001b[0;34m,\u001b[0m\u001b[0mDEC\u001b[0m\u001b[0;34m]\u001b[0m\u001b[0;34m)\u001b[0m\u001b[0;34m\u001b[0m\u001b[0m\n\u001b[1;32m     14\u001b[0m \u001b[0;32mfor\u001b[0m \u001b[0mtest\u001b[0m \u001b[0;32min\u001b[0m \u001b[0mcoords\u001b[0m\u001b[0;34m:\u001b[0m\u001b[0;34m\u001b[0m\u001b[0m\n\u001b[0;32m---> 15\u001b[0;31m     \u001b[0mresult\u001b[0m \u001b[0;34m=\u001b[0m \u001b[0mnearest_neighbors\u001b[0m\u001b[0;34m(\u001b[0m\u001b[0mdataset\u001b[0m\u001b[0;34m,\u001b[0m \u001b[0mcoords\u001b[0m\u001b[0;34m[\u001b[0m\u001b[0mtest\u001b[0m\u001b[0;34m]\u001b[0m\u001b[0;34m,\u001b[0m\u001b[0mk\u001b[0m\u001b[0;34m=\u001b[0m\u001b[0;36m3\u001b[0m\u001b[0;34m)\u001b[0m\u001b[0;34m\u001b[0m\u001b[0m\n\u001b[0m\u001b[1;32m     16\u001b[0m     \u001b[0mprint\u001b[0m\u001b[0;34m(\u001b[0m\u001b[0mresult\u001b[0m\u001b[0;34m)\u001b[0m\u001b[0;34m\u001b[0m\u001b[0m\n\u001b[1;32m     17\u001b[0m     \u001b[0mplt\u001b[0m\u001b[0;34m.\u001b[0m\u001b[0mscatter\u001b[0m\u001b[0;34m(\u001b[0m\u001b[0mcoords\u001b[0m\u001b[0;34m[\u001b[0m\u001b[0mtest\u001b[0m\u001b[0;34m,\u001b[0m\u001b[0;36m0\u001b[0m\u001b[0;34m]\u001b[0m\u001b[0;34m,\u001b[0m\u001b[0mcoords\u001b[0m\u001b[0;34m[\u001b[0m\u001b[0mtest\u001b[0m\u001b[0;34m,\u001b[0m\u001b[0;36m1\u001b[0m\u001b[0;34m]\u001b[0m\u001b[0;34m,\u001b[0m \u001b[0mcolor\u001b[0m\u001b[0;34m=\u001b[0m\u001b[0mresult\u001b[0m\u001b[0;34m)\u001b[0m\u001b[0;34m\u001b[0m\u001b[0m\n",
      "\u001b[0;31mIndexError\u001b[0m: arrays used as indices must be of integer (or boolean) type"
     ]
    }
   ],
   "source": [
    "def nearest_neighbors(data, predict, k=3):\n",
    "    if len(data) >= k:\n",
    "        warnings.warn('K is set to a value less than total voting groups')\n",
    "    distances = []\n",
    "    for group in data:\n",
    "        for features in data[group]:\n",
    "            euclidean_dist = np.linalg.norm(np.array(features)-np.array(predict))\n",
    "            distances.append([euclidean_dist, group])\n",
    "    votes = [i[1] for i in sorted(distances)[:k]]\n",
    "    vote_result = Counter(votes).most_common(1)[0][0]\n",
    "    return vote_result\n",
    "\n",
    "coords = np.array([RA,DEC])\n",
    "for test in coords:\n",
    "    result = nearest_neighbors(dataset, coords[test],k=3)\n",
    "    print(result)\n",
    "    plt.scatter(coords[test,0],coords[test,1], color=result)\n",
    "    \n",
    "[[plt.scatter(ii[0],ii[1],s=100,color=i) for ii in dataset[i]] for i in dataset]\n",
    "\n",
    "plt.show()"
   ]
  },
  {
   "cell_type": "code",
   "execution_count": 4,
   "metadata": {},
   "outputs": [
    {
     "data": {
      "text/plain": [
       "array([[0, 1],\n",
       "       [1, 0],\n",
       "       [2, 1],\n",
       "       [3, 4],\n",
       "       [4, 3],\n",
       "       [5, 4]], dtype=int64)"
      ]
     },
     "execution_count": 4,
     "metadata": {},
     "output_type": "execute_result"
    }
   ],
   "source": [
    "from sklearn.neighbors import NearestNeighbors\n",
    "import numpy as np\n",
    "X = np.array([[-1, -1], [-2, -1], [-3, -2], [1, 1], [2, 1], [3, 2]])\n",
    "nbrs = NearestNeighbors(n_neighbors=2, algorithm='ball_tree').fit(X)\n",
    "distances, indices = nbrs.kneighbors(X)\n",
    "indices\n",
    "\n"
   ]
  },
  {
   "cell_type": "code",
   "execution_count": 5,
   "metadata": {},
   "outputs": [
    {
     "name": "stdout",
     "output_type": "stream",
     "text": [
      "[array([ 0.97813244,  0.17381522,  0.30239178,  0.87584769,  0.84661369,\n",
      "        0.95413892,  0.21460233,  0.65361219,  0.91686211,  0.42965842,\n",
      "        0.97615483,  0.95122075,  0.29673683,  0.82333339,  0.13392003,\n",
      "        0.76402068,  0.27148871,  0.70025314,  0.00639846,  0.4409282 ]), array([ 0.68723559,  0.74136323,  0.07643911,  0.14163638,  0.01478402,\n",
      "        0.89756997,  0.95574345,  0.15618832,  0.15763213,  0.75812568,\n",
      "        0.41212933,  0.11575808,  0.35548038,  0.32880476,  0.87604535,\n",
      "        0.03121314,  0.00490815,  0.75064092,  0.0688456 ,  0.93257978])]\n",
      "[[ 0.97813244  0.68723559]\n",
      " [ 0.97813244  0.68723559]] [[ 0.17381522  0.17381522]\n",
      " [ 0.74136323  0.74136323]]\n"
     ]
    },
    {
     "ename": "ValueError",
     "evalue": "not enough values to unpack (expected 2, got 0)",
     "output_type": "error",
     "traceback": [
      "\u001b[0;31m---------------------------------------------------------------------------\u001b[0m",
      "\u001b[0;31mValueError\u001b[0m                                Traceback (most recent call last)",
      "\u001b[0;32m<ipython-input-5-1e7ebfcd0c50>\u001b[0m in \u001b[0;36m<module>\u001b[0;34m()\u001b[0m\n\u001b[1;32m     11\u001b[0m \u001b[0mprint\u001b[0m\u001b[1;33m(\u001b[0m\u001b[0mX\u001b[0m\u001b[1;33m,\u001b[0m\u001b[0mY\u001b[0m\u001b[1;33m)\u001b[0m\u001b[1;33m\u001b[0m\u001b[0m\n\u001b[1;32m     12\u001b[0m \u001b[1;33m\u001b[0m\u001b[0m\n\u001b[0;32m---> 13\u001b[0;31m \u001b[0mtree\u001b[0m \u001b[1;33m=\u001b[0m \u001b[0mspatial\u001b[0m\u001b[1;33m.\u001b[0m\u001b[0mKDTree\u001b[0m\u001b[1;33m(\u001b[0m\u001b[0mzip\u001b[0m\u001b[1;33m(\u001b[0m\u001b[0mtest_data\u001b[0m\u001b[1;33m[\u001b[0m\u001b[1;33m:\u001b[0m\u001b[1;33m,\u001b[0m\u001b[1;36m0\u001b[0m\u001b[1;33m]\u001b[0m\u001b[1;33m,\u001b[0m\u001b[0mtest_data\u001b[0m\u001b[1;33m[\u001b[0m\u001b[1;33m:\u001b[0m\u001b[1;33m,\u001b[0m\u001b[1;36m1\u001b[0m\u001b[1;33m]\u001b[0m\u001b[1;33m)\u001b[0m\u001b[1;33m)\u001b[0m\u001b[1;33m\u001b[0m\u001b[0m\n\u001b[0m",
      "\u001b[0;32mC:\\Users\\Kevin.Hall\\Anaconda3\\lib\\site-packages\\scipy\\spatial\\kdtree.py\u001b[0m in \u001b[0;36m__init__\u001b[0;34m(self, data, leafsize)\u001b[0m\n\u001b[1;32m    233\u001b[0m     \u001b[1;32mdef\u001b[0m \u001b[0m__init__\u001b[0m\u001b[1;33m(\u001b[0m\u001b[0mself\u001b[0m\u001b[1;33m,\u001b[0m \u001b[0mdata\u001b[0m\u001b[1;33m,\u001b[0m \u001b[0mleafsize\u001b[0m\u001b[1;33m=\u001b[0m\u001b[1;36m10\u001b[0m\u001b[1;33m)\u001b[0m\u001b[1;33m:\u001b[0m\u001b[1;33m\u001b[0m\u001b[0m\n\u001b[1;32m    234\u001b[0m         \u001b[0mself\u001b[0m\u001b[1;33m.\u001b[0m\u001b[0mdata\u001b[0m \u001b[1;33m=\u001b[0m \u001b[0mnp\u001b[0m\u001b[1;33m.\u001b[0m\u001b[0masarray\u001b[0m\u001b[1;33m(\u001b[0m\u001b[0mdata\u001b[0m\u001b[1;33m)\u001b[0m\u001b[1;33m\u001b[0m\u001b[0m\n\u001b[0;32m--> 235\u001b[0;31m         \u001b[0mself\u001b[0m\u001b[1;33m.\u001b[0m\u001b[0mn\u001b[0m\u001b[1;33m,\u001b[0m \u001b[0mself\u001b[0m\u001b[1;33m.\u001b[0m\u001b[0mm\u001b[0m \u001b[1;33m=\u001b[0m \u001b[0mnp\u001b[0m\u001b[1;33m.\u001b[0m\u001b[0mshape\u001b[0m\u001b[1;33m(\u001b[0m\u001b[0mself\u001b[0m\u001b[1;33m.\u001b[0m\u001b[0mdata\u001b[0m\u001b[1;33m)\u001b[0m\u001b[1;33m\u001b[0m\u001b[0m\n\u001b[0m\u001b[1;32m    236\u001b[0m         \u001b[0mself\u001b[0m\u001b[1;33m.\u001b[0m\u001b[0mleafsize\u001b[0m \u001b[1;33m=\u001b[0m \u001b[0mint\u001b[0m\u001b[1;33m(\u001b[0m\u001b[0mleafsize\u001b[0m\u001b[1;33m)\u001b[0m\u001b[1;33m\u001b[0m\u001b[0m\n\u001b[1;32m    237\u001b[0m         \u001b[1;32mif\u001b[0m \u001b[0mself\u001b[0m\u001b[1;33m.\u001b[0m\u001b[0mleafsize\u001b[0m \u001b[1;33m<\u001b[0m \u001b[1;36m1\u001b[0m\u001b[1;33m:\u001b[0m\u001b[1;33m\u001b[0m\u001b[0m\n",
      "\u001b[0;31mValueError\u001b[0m: not enough values to unpack (expected 2, got 0)"
     ]
    }
   ],
   "source": [
    "from scipy import spatial\n",
    "from scipy.spatial import KDTree\n",
    "\n",
    "test_data = [np.random.rand(20),np.random.rand(20)]\n",
    "print(test_data)\n",
    "\n",
    "test_data = np.array(test_data)\n",
    "\n",
    "X, Y = np.meshgrid(test_data[:,0],test_data[:,1])\n",
    "\n",
    "print(X,Y)\n",
    "\n",
    "tree = spatial.KDTree(zip(test_data[:,0],test_data[:,1]))\n"
   ]
  },
  {
   "cell_type": "code",
   "execution_count": 84,
   "metadata": {
    "collapsed": true
   },
   "outputs": [],
   "source": [
    "from scipy import spatial\n",
    "from scipy.spatial import KDTree\n",
    "\n",
    "def KDneighbor(array):\n",
    "    tree = KDTree(array,100000)\n",
    "    dist, ind = tree.query(array[len(array)-1], k=7)\n",
    "    return(dist[5])"
   ]
  },
  {
   "cell_type": "code",
   "execution_count": 117,
   "metadata": {},
   "outputs": [
    {
     "name": "stdout",
     "output_type": "stream",
     "text": [
      "[ 0.82990452  0.75406461]\n",
      "50 2500\n",
      "[[ 0.          0.        ]\n",
      " [ 0.          0.        ]\n",
      " [ 0.02040816  0.        ]\n",
      " ..., \n",
      " [ 0.95918367  1.        ]\n",
      " [ 0.97959184  1.        ]\n",
      " [ 1.          1.        ]]\n",
      "Length of dist 2550\n",
      "(0,)\n"
     ]
    },
    {
     "ename": "IndexError",
     "evalue": "index 100 is out of bounds for axis 0 with size 0",
     "output_type": "error",
     "traceback": [
      "\u001b[0;31m---------------------------------------------------------------------------\u001b[0m",
      "\u001b[0;31mIndexError\u001b[0m                                Traceback (most recent call last)",
      "\u001b[0;32m<ipython-input-117-be8ff74f9d5f>\u001b[0m in \u001b[0;36m<module>\u001b[0;34m()\u001b[0m\n\u001b[1;32m     90\u001b[0m \u001b[0;34m\u001b[0m\u001b[0m\n\u001b[1;32m     91\u001b[0m \u001b[0mdistArray\u001b[0m \u001b[0;34m=\u001b[0m \u001b[0mnp\u001b[0m\u001b[0;34m.\u001b[0m\u001b[0mreshape\u001b[0m\u001b[0;34m(\u001b[0m\u001b[0mdistArray\u001b[0m\u001b[0;34m,\u001b[0m\u001b[0;34m(\u001b[0m\u001b[0;34m-\u001b[0m\u001b[0;36m1\u001b[0m\u001b[0;34m,\u001b[0m\u001b[0mN\u001b[0m\u001b[0;34m)\u001b[0m\u001b[0;34m)\u001b[0m\u001b[0;34m\u001b[0m\u001b[0m\n\u001b[0;32m---> 92\u001b[0;31m \u001b[0mprint\u001b[0m\u001b[0;34m(\u001b[0m\u001b[0;34m'TESTING'\u001b[0m\u001b[0;34m,\u001b[0m\u001b[0mlen\u001b[0m\u001b[0;34m(\u001b[0m\u001b[0mdistArray\u001b[0m\u001b[0;34m[\u001b[0m\u001b[0;36m100\u001b[0m\u001b[0;34m]\u001b[0m\u001b[0;34m)\u001b[0m\u001b[0;34m,\u001b[0m\u001b[0mlen\u001b[0m\u001b[0;34m(\u001b[0m\u001b[0mdistArray\u001b[0m\u001b[0;34m)\u001b[0m\u001b[0;34m)\u001b[0m\u001b[0;34m\u001b[0m\u001b[0m\n\u001b[0m\u001b[1;32m     93\u001b[0m \u001b[0;31m#distArray = np.delete(distArray, 100,0)\u001b[0m\u001b[0;34m\u001b[0m\u001b[0;34m\u001b[0m\u001b[0m\n\u001b[1;32m     94\u001b[0m \u001b[0;31m#print('TESTING',len(distArray[100]),len(distArray))\u001b[0m\u001b[0;34m\u001b[0m\u001b[0;34m\u001b[0m\u001b[0m\n",
      "\u001b[0;31mIndexError\u001b[0m: index 100 is out of bounds for axis 0 with size 0"
     ]
    }
   ],
   "source": [
    "import numpy as np\n",
    "import copy\n",
    "import time\n",
    "\n",
    "start = time.time()\n",
    "data = np.random.random((40, 2))  \n",
    "\n",
    "print(data[0])\n",
    "N = 50\n",
    "xgrid = np.linspace(0,1,N)\n",
    "ygrid = np.linspace(0,1,N)\n",
    "X, Y = np.meshgrid(xgrid,ygrid)\n",
    "plt.scatter(X,Y,marker='s',s=30.0)\n",
    "\n",
    "X = np.array(X)\n",
    "Y = np.array(Y)\n",
    "\n",
    "array = [X[1,0:len(Y)],Y[2,0:len(X)]]\n",
    "array = np.array(array)\n",
    "Xvalues = (array[0,0:len(array[1])])\n",
    "test_array = []\n",
    "count = 0\n",
    "yval = 0 - (X[0,13]-X[0,12])\n",
    "time2 = time.time()\n",
    "for x in range(len(X[0])):\n",
    "    for i in (Xvalues):\n",
    "        if(x == 0):\n",
    "            test_array.append([i,0])\n",
    "        test_array.append([i,(yval-((1+x)*yval))])\n",
    "end2 = time.time() \n",
    "test_array = np.array(test_array)\n",
    "\n",
    "#print(Y[6])\n",
    "#for y in \n",
    "allDists = []\n",
    "# for j in range(len(Y)):\n",
    "#     distArray = []\n",
    "#     Yval = Y[j-1,0]\n",
    "#     if(j > 0):\n",
    "#         test_array[test_array == Yval] = Y[j,0]\n",
    "#         print('\\nTest_Array\\n',test_array)\n",
    "#     for i in range(len(test_array)):\n",
    "#         dat = []\n",
    "#         dat = copy.copy(data)\n",
    "#         #dat.append(test_array[i])\n",
    "#         #dat = np.concatenate((dat,test_array[i]),axis=0)\n",
    "#         dat = np.vstack((dat,test_array[i]))\n",
    "#         tree = KDTree(dat,2)\n",
    "#         dist, ind = tree.query(dat[len(dat)-1], k=3)\n",
    "#         distArray.append(dist[1])\n",
    "#     allDists.append(distArray)\n",
    "time1 = time.time()\n",
    "# for i in range(len(test_array)):\n",
    "#         dat = []\n",
    "#         dat = copy.copy(data)\n",
    "#         #dat.append(test_array[i])\n",
    "#         #dat = np.concatenate((dat,test_array[i]),axis=0)\n",
    "#         dat = np.vstack((dat,test_array[i]))\n",
    "#         tree = KDTree(dat,50)\n",
    "# #         dist, ind = tree.query(dat[len(dat)-1], k=7)\n",
    "#         dist, ind = tree.query(dat, k=7)\n",
    "#         distArray.append(dist[5])\n",
    "dat = copy.copy(data)\n",
    "#dat = vstack(dat)\n",
    "\n",
    "# The Following Line of Code creates a 1D array with every nearest neighbor value\n",
    "#distArray = list(map((lambda x: KDneighbor(np.vstack((dat,x)))), test_array))\n",
    "#print('Length of distArray:', len(distArray))\n",
    "\n",
    "# *********************************\n",
    "# ****CURRENT AREA OF WORK*********\n",
    "# *********************************\n",
    "\n",
    "XY = [X,Y]\n",
    "XY = np.transpose(XY)\n",
    "XYcoords = XY[0]\n",
    "for j in range(1,len(XY)):\n",
    "    XYcoords = np.vstack((XYcoords,XY[j]))\n",
    "print(len(XY),len(XYcoords))\n",
    "print(test_array)\n",
    "tree = KDTree(data,1000)\n",
    "dist = tree.query(test_array,k=7)\n",
    "print('Length of dist',len(dist[0]))\n",
    "\n",
    "# *********************************\n",
    "# ****CURRENT AREA OF WORK*********\n",
    "# *********************************\n",
    "\n",
    "distArray = []\n",
    "# for i in range(len(dist)):\n",
    "#     distArray.append(dist[5])\n",
    "\n",
    "distArray = np.array(distArray)\n",
    "print(distArray.shape)\n",
    "#print(len(XYcoords[0]))\n",
    "\n",
    "distArray = np.reshape(distArray,(-1,N))\n",
    "print('TESTING',len(distArray[100]),len(distArray))\n",
    "#distArray = np.delete(distArray, 100,0)\n",
    "#print('TESTING',len(distArray[100]),len(distArray))\n",
    "end1 = time.time()  \n",
    "print('Total Time(s):', (end1-time1))\n",
    "#print('Length of DistArray:', distArray)\n",
    "test_array = np.array(test_array)\n",
    "\n",
    "\n",
    "plt.scatter(test_array[:,0]*N,test_array[:,1]*N,marker='s',c=distArray,cmap=\"gray\")\n",
    "plt.colorbar()\n",
    "plt.contour((distArray))\n",
    "plt.colorbar()\n",
    "plt.scatter(data[:,0],data[:,1],s=8.0,c='orange')\n",
    "plt.show()\n",
    "\n",
    "print(len(distArray))\n",
    "end = time.time()\n",
    "\n",
    "print(len(distArray))\n",
    "print('For loop time:', end2 - time2)\n",
    "print('\\n\\nfinalDist: ', finalDist.size)\n",
    "print(finalDist.shape,'\\n\\n',len(finalDist))"
   ]
  },
  {
   "cell_type": "code",
   "execution_count": 114,
   "metadata": {},
   "outputs": [
    {
     "name": "stdout",
     "output_type": "stream",
     "text": [
      "50\n",
      "[ 0.02040816  0.6122449 ]\n"
     ]
    }
   ],
   "source": [
    "B = [X,Y]\n",
    "B = np.transpose(B)\n",
    "XY = B[0]\n",
    "for j in range(1,len(B)):\n",
    "    XY = np.vstack((XY,B[j]))\n",
    "print(len(B))\n",
    "print((XY[]))"
   ]
  },
  {
   "cell_type": "code",
   "execution_count": 10,
   "metadata": {},
   "outputs": [
    {
     "name": "stdout",
     "output_type": "stream",
     "text": [
      "[ 0.24985213  0.24985213]\n"
     ]
    }
   ],
   "source": [
    "A = np.array([1,2,3,4,5,6,7,8])\n",
    "B = np.reshape(distArray, (-1, 2))\n",
    "print(B[0])\n"
   ]
  },
  {
   "cell_type": "code",
   "execution_count": 352,
   "metadata": {
    "scrolled": false
   },
   "outputs": [
    {
     "name": "stdout",
     "output_type": "stream",
     "text": [
      "[4466 4465 4366 4566 4467 4365]\n",
      "[ 0.00209189  0.00806909  0.00987068  0.01074163  0.0121533   0.01257635]\n",
      "[ 0.66666667  0.43434343]\n",
      "[ 0.6646225   0.43389912]\n",
      "[ 0.6646225   0.43389912]\n",
      "100\n"
     ]
    }
   ],
   "source": [
    "distArray = []\n",
    "# for i in range(len(test_array)):\n",
    "#         dat = []\n",
    "#         dat = copy.copy(data)\n",
    "#         #dat.append(test_array[i])\n",
    "#         #dat = np.concatenate((dat,test_array[i]),axis=0)\n",
    "#         dat = np.vstack((dat,test_array[i]))\n",
    "#         tree = KDTree(dat,2)\n",
    "#         dist, ind = tree.query(dat[len(dat)-1], k=7)\n",
    "#         distArray.append(dist[3])\n",
    "    \n",
    "\n",
    "#testDat = [data,test_array]\n",
    "testDat = np.vstack((data,test_array))\n",
    "#tree = KDTree(testDat,10)\n",
    "tree = KDTree(test_array,2)\n",
    "dist, ind = tree.query(data,k=6)\n",
    "print(ind[0])\n",
    "print(dist[0])\n",
    "print(testDat[4566])\n",
    "print(testDat[0])\n",
    "print(data[0])\n",
    "# print(len(test_array),len(data),len(testDat))\n",
    "# print(testDat[501:506])\n",
    "# print(ind[300])\n",
    "dist_array = []\n",
    "for i in range(len(dist)):\n",
    "    dist_array.append(dist[i][3])\n",
    "print(len(dist_array))\n",
    "# plt.scatter(testDat[:,0],testDat[:,1], c = dist_array)\n",
    "# plt.show()\n",
    "# #test_array = np.array(test_array)\n",
    "# plt.scatter(test_array[:,0],test_array[:,1],marker='s',c=dist_array)\n",
    "# plt.colorbar()\n",
    "# plt.scatter(data[:,0],data[:,1],c='w')\n",
    "# plt.show()\n",
    "# print(len(distArray))"
   ]
  },
  {
   "cell_type": "code",
   "execution_count": 301,
   "metadata": {},
   "outputs": [
    {
     "name": "stdout",
     "output_type": "stream",
     "text": [
      "[1.0, 0]\n",
      "[ 0.          0.01449275  0.02898551  0.04347826  0.05797101  0.07246377\n",
      "  0.08695652  0.10144928  0.11594203  0.13043478  0.14492754  0.15942029\n",
      "  0.17391304  0.1884058   0.20289855  0.2173913   0.23188406  0.24637681\n",
      "  0.26086957  0.27536232  0.28985507  0.30434783  0.31884058  0.33333333\n",
      "  0.34782609  0.36231884  0.37681159  0.39130435  0.4057971   0.42028986\n",
      "  0.43478261  0.44927536  0.46376812  0.47826087  0.49275362  0.50724638\n",
      "  0.52173913  0.53623188  0.55072464  0.56521739  0.57971014  0.5942029\n",
      "  0.60869565  0.62318841  0.63768116  0.65217391  0.66666667  0.68115942\n",
      "  0.69565217  0.71014493  0.72463768  0.73913043  0.75362319  0.76811594\n",
      "  0.7826087   0.79710145  0.8115942   0.82608696  0.84057971  0.85507246\n",
      "  0.86956522  0.88405797  0.89855072  0.91304348  0.92753623  0.94202899\n",
      "  0.95652174  0.97101449  0.98550725  1.        ]\n"
     ]
    }
   ],
   "source": [
    "test_array = []\n",
    "for x in range(len(X)):\n",
    "    for i in (Xvalues):\n",
    "        if(x == 0):\n",
    "            test_array.append([i,0])\n",
    "        test_array.append([i,(yval-((1+x)*yval))])\n",
    "print(test_array[138])\n",
    "print(X[0])"
   ]
  },
  {
   "cell_type": "code",
   "execution_count": 53,
   "metadata": {},
   "outputs": [
    {
     "name": "stdout",
     "output_type": "stream",
     "text": [
      "[ 0.81423611  0.55391823  0.68867785  0.17154147  0.85741169]\n",
      "[[ 0.81423611]\n",
      " [ 0.55391823]\n",
      " [ 0.68867785]\n",
      " [ 0.17154147]\n",
      " [ 0.85741169]]\n",
      "time1:  5.78012752532959\n",
      "time2:  0.06602883338928223\n"
     ]
    }
   ],
   "source": [
    "#testing Cell\n",
    "\n",
    "a = np.random.random((100000,1))\n",
    "b = []\n",
    "time1 = time.time()\n",
    "for i in a:\n",
    "    b = np.append(b,i)\n",
    "end1 = time.time()\n",
    "print(b[0:5])\n",
    "\n",
    "time2 = time.time()\n",
    "c = list(map((lambda x: x), a))\n",
    "end2 = time.time()\n",
    "c = np.array(c)\n",
    "print(c[0:5])\n",
    "\n",
    "print('time1: ',end1-time1)\n",
    "print('time2: ',end2-time2)"
   ]
  },
  {
   "cell_type": "code",
   "execution_count": 104,
   "metadata": {},
   "outputs": [
    {
     "name": "stdout",
     "output_type": "stream",
     "text": [
      "[[1 1]\n",
      " [2 2]\n",
      " [3 3]\n",
      " [4 4]]\n"
     ]
    }
   ],
   "source": [
    "v = np.array([[1,1],[2,2],[3,3]])\n",
    "n = np.vstack((v,[4,4]))\n",
    "print(n)"
   ]
  }
 ],
 "metadata": {
  "kernelspec": {
   "display_name": "Python 3",
   "language": "python",
   "name": "python3"
  },
  "language_info": {
   "codemirror_mode": {
    "name": "ipython",
    "version": 3
   },
   "file_extension": ".py",
   "mimetype": "text/x-python",
   "name": "python",
   "nbconvert_exporter": "python",
   "pygments_lexer": "ipython3",
   "version": "3.6.1"
  }
 },
 "nbformat": 4,
 "nbformat_minor": 2
}
