{
 "cells": [
  {
   "cell_type": "code",
   "execution_count": 1,
   "metadata": {
    "collapsed": true
   },
   "outputs": [],
   "source": [
    "import numpy as np\n",
    "import matplotlib.pyplot as plt\n",
    "import numpy.ma as ma\n",
    "from astropy.table import Table"
   ]
  },
  {
   "cell_type": "code",
   "execution_count": 20,
   "metadata": {},
   "outputs": [
    {
     "name": "stderr",
     "output_type": "stream",
     "text": [
      "WARNING: W03: Tgas200_Wright2003_2MASS_FinCat_out.vot:9:0: W03: Implicitly generating an ID from a name '/Users/joncouri/Desktop/Student_UMD/Catalogs/0work/Tgas200Wright2003_FinCat_out.csv' -> '__Users_joncouri_Desktop_Student_UMD_Catalogs_0work_Tgas200Wright2003_FinCat_out.csv' [astropy.io.votable.xmlutil]\n",
      "WARNING: W30: Tgas200_Wright2003_2MASS_FinCat_out.vot:1076:8: W30: Invalid literal for float 'NA'.  Treating as empty. [astropy.io.votable.converters]\n",
      "WARNING: W30: Tgas200_Wright2003_2MASS_FinCat_out.vot:1097:8: W30: Invalid literal for float 'NA'.  Treating as empty. [astropy.io.votable.converters]\n",
      "WARNING: W30: Tgas200_Wright2003_2MASS_FinCat_out.vot:1098:8: W30: Invalid literal for float 'NA'.  Treating as empty. [astropy.io.votable.converters]\n",
      "WARNING: W30: Tgas200_Wright2003_2MASS_FinCat_out.vot:1099:8: W30: Invalid literal for float 'NA'.  Treating as empty. [astropy.io.votable.converters]\n",
      "WARNING: W30: Tgas200_Wright2003_2MASS_FinCat_out.vot:1476:8: W30: Invalid literal for float 'NA'.  Treating as empty. [astropy.io.votable.converters]\n",
      "WARNING: W30: Tgas200_Wright2003_2MASS_FinCat_out.vot:3452:8: W30: Invalid literal for float 'NA'.  Treating as empty. [astropy.io.votable.converters]\n",
      "WARNING: W30: Tgas200_Wright2003_2MASS_FinCat_out.vot:3473:8: W30: Invalid literal for float 'NA'.  Treating as empty. [astropy.io.votable.converters]\n",
      "WARNING: W30: Tgas200_Wright2003_2MASS_FinCat_out.vot:3474:8: W30: Invalid literal for float 'NA'.  Treating as empty. [astropy.io.votable.converters]\n",
      "WARNING: W30: Tgas200_Wright2003_2MASS_FinCat_out.vot:3475:8: W30: Invalid literal for float 'NA'.  Treating as empty. [astropy.io.votable.converters]\n",
      "WARNING: W30: Tgas200_Wright2003_2MASS_FinCat_out.vot:5202:8: W30: Invalid literal for float 'NA'.  Treating as empty. (suppressing further warnings of this type...) [astropy.io.votable.converters]\n"
     ]
    },
    {
     "name": "stdout",
     "output_type": "stream",
     "text": [
      "['col1', 'angDist', 'd_arcsec', 'X_RAJ2000', 'X_DEJ2000', 'HIP', 'TYC2', 'Source', 'RA_ICRS', 'e_RA_ICRS', 'DE_ICRS', 'e_DE_ICRS', 'Plx', 'e_Plx', 'pmRA', 'e_pmRA', 'pmDE', 'e_pmDE', 'Dup', 'X.FG.', 'e_.FG.', 'X.Gmag.', 'Var', 'X_RAJ2000.1', 'X_DEJ2000.1', 'TYC1', 'TYC2.1', 'TYC3', 'RAJ2000', 'DEJ2000', 'VTmag', 'BTmag', 'r_SpType', 'Dist', 'Teff', 'SpType', 'X2MASS', 'RAJ2000.1', 'DEJ2000.1', 'errHalfMaj', 'errHalfMin', 'errPosAng', 'Jmag', 'Hmag', 'Kmag', 'e_Jmag', 'e_Hmag', 'e_Kmag', 'Qfl', 'Rfl', 'X', 'MeasureJD']\n"
     ]
    }
   ],
   "source": [
    "import copy\n",
    "t = Table.read('Tgas200_Wright2003_2MASS_FinCat_out.vot', format='votable')\n",
    "print(t.colnames)\n",
    "\n",
    "\n",
    "Source = t[\"Source\"]\n",
    "Gmag = t[\"X.Gmag.\"]\n",
    "Vmag = t[\"VTmag\"]\n",
    "Jmag = t[\"Jmag\"]\n",
    "Hmag = t[\"Hmag\"]\n",
    "Kmag = t[\"Kmag\"]\n",
    "Qfl = t[\"Qfl\"]\n",
    "Bmag = t['BTmag']\n",
    "\n",
    "\n",
    "\n"
   ]
  },
  {
   "cell_type": "code",
   "execution_count": null,
   "metadata": {
    "collapsed": true
   },
   "outputs": [],
   "source": []
  },
  {
   "cell_type": "code",
   "execution_count": 21,
   "metadata": {},
   "outputs": [
    {
     "name": "stdout",
     "output_type": "stream",
     "text": [
      "50093\n",
      "48250\n"
     ]
    }
   ],
   "source": [
    "for i in range(0,len(Qfl)):\n",
    "    if(Source.mask[i] == False):\n",
    "        if(Qfl[i][0] == ord(\"A\")):\n",
    "            Jmag.mask[i] = False\n",
    "        else:\n",
    "            Jmag.mask[i] = True\n",
    "        if(Qfl[i][1] == ord(\"A\")):\n",
    "            Hmag.mask[i] = False\n",
    "        else:\n",
    "            Hmag.mask[i] = True\n",
    "        if(Qfl[i][2] == ord(\"A\")):\n",
    "            Kmag.mask[i] = False\n",
    "        else:\n",
    "            Kmag.mask[i] = True\n",
    "print(len(Jmag))\n",
    "print(len(Jmag.compressed()))"
   ]
  },
  {
   "cell_type": "code",
   "execution_count": 85,
   "metadata": {},
   "outputs": [
    {
     "ename": "TypeError",
     "evalue": "only integer arrays with one element can be converted to an index",
     "output_type": "error",
     "traceback": [
      "\u001b[0;31m---------------------------------------------------------------------------\u001b[0m",
      "\u001b[0;31mTypeError\u001b[0m                                 Traceback (most recent call last)",
      "\u001b[0;32m<ipython-input-85-d8de8762dbcc>\u001b[0m in \u001b[0;36m<module>\u001b[0;34m()\u001b[0m\n\u001b[1;32m      1\u001b[0m \u001b[0mv\u001b[0m \u001b[1;33m=\u001b[0m \u001b[1;33m[\u001b[0m\u001b[1;33m]\u001b[0m\u001b[1;33m\u001b[0m\u001b[0m\n\u001b[0;32m----> 2\u001b[0;31m \u001b[1;32mfor\u001b[0m \u001b[0mi\u001b[0m \u001b[1;32min\u001b[0m \u001b[0mrange\u001b[0m\u001b[1;33m(\u001b[0m\u001b[0mVmag\u001b[0m\u001b[1;33m)\u001b[0m\u001b[1;33m:\u001b[0m\u001b[1;33m\u001b[0m\u001b[0m\n\u001b[0m\u001b[1;32m      3\u001b[0m     \u001b[0mv\u001b[0m\u001b[1;33m.\u001b[0m\u001b[0mappend\u001b[0m\u001b[1;33m(\u001b[0m\u001b[0mVmag\u001b[0m\u001b[1;33m[\u001b[0m\u001b[0mi\u001b[0m\u001b[1;33m]\u001b[0m\u001b[1;33m)\u001b[0m\u001b[1;33m\u001b[0m\u001b[0m\n\u001b[1;32m      4\u001b[0m \u001b[0mprint\u001b[0m\u001b[1;33m(\u001b[0m\u001b[0mVmag\u001b[0m\u001b[1;33m[\u001b[0m\u001b[1;36m0\u001b[0m\u001b[1;33m:\u001b[0m\u001b[1;36m100\u001b[0m\u001b[1;33m]\u001b[0m\u001b[1;33m)\u001b[0m\u001b[1;33m\u001b[0m\u001b[0m\n",
      "\u001b[0;31mTypeError\u001b[0m: only integer arrays with one element can be converted to an index"
     ]
    }
   ],
   "source": [
    "v = []\n",
    "for i in range(Vmag):\n",
    "    v.append(Vmag[i])\n",
    "print(Vmag[0:100])"
   ]
  },
  {
   "cell_type": "code",
   "execution_count": 9,
   "metadata": {},
   "outputs": [
    {
     "data": {
      "image/png": "[encoded data removed]",
      "text/plain": [
       "<matplotlib.figure.Figure at 0x7fbb10eb7390>"
      ]
     },
     "metadata": {},
     "output_type": "display_data"
    }
   ],
   "source": [
    "plt.title(\"Gmag vs Jmag\")\n",
    "plt.scatter(Jmag,Gmag,s=1.0)\n",
    "plt.xlabel(\"Jmag\")\n",
    "plt.ylabel(\"Gmag\")\n",
    "plt.show()"
   ]
  },
  {
   "cell_type": "code",
   "execution_count": 18,
   "metadata": {},
   "outputs": [
    {
     "data": {
      "image/png": "[encoded data removed]",
      "text/plain": [
       "<matplotlib.figure.Figure at 0x7fbb12084a90>"
      ]
     },
     "metadata": {},
     "output_type": "display_data"
    }
   ],
   "source": [
    "Teff = t[\"Teff\"]\n",
    "plt.title(\"Teff vs Magnitude\")\n",
    "plt.scatter(Teff,Gmag,s=1.0)\n",
    "plt.xlabel(\"Temperature in Kelvin\")\n",
    "plt.ylabel(\"Apparent Jmag\")\n",
    "plt.xlim(3500,9500)\n",
    "\n",
    "plt.gca().invert_xaxis()\n",
    "plt.gca().invert_yaxis()\n",
    "plt.show()"
   ]
  },
  {
   "cell_type": "code",
   "execution_count": 73,
   "metadata": {},
   "outputs": [
    {
     "data": {
      "image/png": "[encoded data removed]",
      "text/plain": [
       "<matplotlib.figure.Figure at 0x50e4448780>"
      ]
     },
     "metadata": {},
     "output_type": "display_data"
    },
    {
     "name": "stdout",
     "output_type": "stream",
     "text": [
      "50093\n"
     ]
    }
   ],
   "source": [
    "temps = [2000,2500,3000,3500,4000,4500,5000,5500,6000,6500,7000,7500,8000,8500,9000,9500,10000,10500]\n",
    "test = []\n",
    "#for i in range(0,len(Teff)):\n",
    "#    if(Teff[i] >= 5000 & Teff[i] <= 5500):\n",
    "#        test.append(Teff[i])\n",
    "#        print(test[i])\n",
    "\n",
    "bins = 20\n",
    "plt.xlabel(\"Effective Temperature in Kelvin\")\n",
    "plt.ylabel(\"Number of Sources\")\n",
    "plt.title(\"Histogram of Effective Temperature\")\n",
    "pltemp=plt.hist(Teff,bins)\n",
    "plt.show()\n",
    "print(len(Teff))"
   ]
  },
  {
   "cell_type": "code",
   "execution_count": 42,
   "metadata": {},
   "outputs": [
    {
     "name": "stdout",
     "output_type": "stream",
     "text": [
      "50093\n",
      "50093\n",
      "22514\n",
      "[5.0, 5.0, 5.0, 5.0, 5.0, 5.0, 5.0, 5.0, 5.0, 5.0, 5.0, 5.0, 5.0, 5.0, 5.0, 5.0, 5.0, 5.0, 5.0, 5.0, 5.0, 5.0, 5.0, 5.0, 5.0, 5.0, 5.0, 5.0, 5.0, 5.0]\n"
     ]
    }
   ],
   "source": [
    "SpType = t['SpType']\n",
    "Sp = [0.0]*len(SpType)\n",
    "SpV = []\n",
    "SPIII = []\n",
    "temperature = t['Teff']\n",
    "for i in range(0,len(SpType)):\n",
    "    if(SpType.mask[i]==False):\n",
    "        Spc = SpType[i].decode()\n",
    "        if(len(Spc) > 2):\n",
    "            for c in range(0,len(Spc)):\n",
    "                if(Spc[c] == 'V'):\n",
    "                    Sp[i] = Sp[i] + 5\n",
    "                if(Sp[c] == 'I'):\n",
    "                    Sp[i] = Sp[i] + 1\n",
    "                if(Sp[c] == '+'):\n",
    "                    Sp[i] = -30\n",
    "        else:\n",
    "            Sp[i] = 5.1\n",
    "        \n",
    "        if(Sp[i] == 6):\n",
    "            Sp[i] = 4\n",
    "        if(Sp[i] > 5.2):\n",
    "            Sp[i] = -30\n",
    "        if(Sp[i] == 11):\n",
    "            Sp[i] = 4.5\n",
    "        if(Sp[i] == 9):\n",
    "            Sp[i] = 3.5\n",
    "            \n",
    "for i in range(0,len(Sp)):\n",
    "    if(Sp[i] == 5.0):\n",
    "        SpV.append(Sp[i])\n",
    "    if(Sp[i] ==3 ):\n",
    "        SpIII.append(Sp[i])\n",
    "print(len(SpType))        \n",
    "print(len(Sp))\n",
    "print(len(SpV))\n",
    "print(SpV[0:30])"
   ]
  },
  {
   "cell_type": "code",
   "execution_count": 55,
   "metadata": {},
   "outputs": [
    {
     "name": "stdout",
     "output_type": "stream",
     "text": [
      "nan\n"
     ]
    },
    {
     "name": "stderr",
     "output_type": "stream",
     "text": [
      "/astromake/opt/python/anaconda3/lib/python3.6/site-packages/numpy/core/numeric.py:583: UserWarning: Warning: converting a masked element to nan.\n",
      "  return array(a, dtype, copy=False, order=order, subok=True)\n"
     ]
    }
   ],
   "source": [
    "para = t['Plx']\n",
    "dist = 1000/para\n",
    "AbsGmag = []\n",
    "AbsVmag = []\n",
    "AbsKmag = []\n",
    "AbsHmag = []\n",
    "AbsJmag = []\n",
    "AbsBmag = []\n",
    "\n",
    "for i in range(len(dist)):\n",
    "        AbsGmag.append(Gmag[i] + 5 - 5*np.log10(dist[i]))\n",
    "        AbsVmag.append(Vmag[i] + 5 - 5*np.log10(dist[i]))\n",
    "        AbsKmag.append(Kmag[i] + 5 - 5*np.log10(dist[i]))\n",
    "        AbsHmag.append(Hmag[i] + 5 - 5*np.log10(dist[i]))\n",
    "        AbsJmag.append(Jmag[i] + 5 - 5*np.log10(dist[i]))\n",
    "        AbsBmag.append(Bmag[i] + 5 - 5*np.log10(dist[i]))\n",
    "print(np.mean(AbsHmag))"
   ]
  },
  {
   "cell_type": "code",
   "execution_count": 59,
   "metadata": {},
   "outputs": [
    {
     "ename": "AttributeError",
     "evalue": "'list' object has no attribute 'mask'",
     "output_type": "error",
     "traceback": [
      "\u001b[0;31m---------------------------------------------------------------------------\u001b[0m",
      "\u001b[0;31mAttributeError\u001b[0m                            Traceback (most recent call last)",
      "\u001b[0;32m<ipython-input-59-8a5a29cc62de>\u001b[0m in \u001b[0;36m<module>\u001b[0;34m()\u001b[0m\n\u001b[1;32m      1\u001b[0m \u001b[0mnan\u001b[0m \u001b[0;34m=\u001b[0m \u001b[0;36m0\u001b[0m\u001b[0;34m\u001b[0m\u001b[0m\n\u001b[1;32m      2\u001b[0m \u001b[0;32mfor\u001b[0m \u001b[0mi\u001b[0m \u001b[0;32min\u001b[0m \u001b[0mrange\u001b[0m\u001b[0;34m(\u001b[0m\u001b[0;36m0\u001b[0m\u001b[0;34m,\u001b[0m\u001b[0mlen\u001b[0m\u001b[0;34m(\u001b[0m\u001b[0mAbsHmag\u001b[0m\u001b[0;34m)\u001b[0m\u001b[0;34m)\u001b[0m\u001b[0;34m:\u001b[0m\u001b[0;34m\u001b[0m\u001b[0m\n\u001b[0;32m----> 3\u001b[0;31m     \u001b[0;32mif\u001b[0m\u001b[0;34m(\u001b[0m\u001b[0mstr\u001b[0m\u001b[0;34m(\u001b[0m\u001b[0mAbsHmag\u001b[0m\u001b[0;34m.\u001b[0m\u001b[0mmask\u001b[0m\u001b[0;34m[\u001b[0m\u001b[0mi\u001b[0m\u001b[0;34m]\u001b[0m\u001b[0;34m)\u001b[0m\u001b[0;34m==\u001b[0m\u001b[0;32mTrue\u001b[0m\u001b[0;34m)\u001b[0m\u001b[0;34m:\u001b[0m\u001b[0;34m\u001b[0m\u001b[0m\n\u001b[0m\u001b[1;32m      4\u001b[0m         \u001b[0mnan\u001b[0m \u001b[0;34m=\u001b[0m \u001b[0mnan\u001b[0m \u001b[0;34m+\u001b[0m\u001b[0;36m1\u001b[0m\u001b[0;34m\u001b[0m\u001b[0m\n\u001b[1;32m      5\u001b[0m \u001b[0mprint\u001b[0m\u001b[0;34m(\u001b[0m\u001b[0mnan\u001b[0m\u001b[0;34m)\u001b[0m\u001b[0;34m\u001b[0m\u001b[0m\n",
      "\u001b[0;31mAttributeError\u001b[0m: 'list' object has no attribute 'mask'"
     ]
    }
   ],
   "source": [
    "nan = 0\n",
    "for i in range(0,len(AbsHmag)):\n",
    "    if(str(AbsHmag.mask[i])==True):\n",
    "        nan = nan +1\n",
    "print(nan)"
   ]
  },
  {
   "cell_type": "markdown",
   "metadata": {},
   "source": [
    "GmagV = []\n",
    "VmagV = []\n",
    "KmagV = []\n",
    "HmagV = []\n",
    "JmagV = []\n",
    "TotalV = 0\n",
    "\n",
    "for i in range(len(Sp)):\n",
    "    if(5 in Sp[i] or 5.1 in Sp[i]):\n",
    "        GmagV.append(AbsGmag[i])\n",
    "        VmagV.append(AbsVmag[i])\n",
    "        KmagV.append(AbsKmag[i])\n",
    "        HmagV.append(AbsHmag[i])\n",
    "        JmagV.append(AbsJmag[i])\n",
    "        TotalV = TotalV + 1\n",
    "    \n",
    "        \n",
    "        \n",
    "#print('There are ', TotalV, 'Main Sequence stars')\n",
    "#print(np.mean(VmagV))\n"
   ]
  },
  {
   "cell_type": "code",
   "execution_count": 24,
   "metadata": {},
   "outputs": [
    {
     "name": "stdout",
     "output_type": "stream",
     "text": [
      "[1.4783930778503418, 4.8138687610626221, 2.1393182277679443, 1.8806251287460327, 5.2165861129760742, 6.7565220594406128, 4.2880363464355469, 4.9412219524383545, 5.2503769397735596, 4.4245645999908447, 3.7984733581542969, 1.919757604598999, 2.3844528198242188, 4.2413432598114014, 1.9458460807800293, 4.4787747859954834, 1.4253709316253662, 4.8061437606811523, 3.9779989719390869, 6.1196740865707397]\n"
     ]
    }
   ],
   "source": [
    "GmagV = [] \n",
    "VmagV = [] \n",
    "KmagV = [] \n",
    "HmagV = [] \n",
    "JmagV = [] \n",
    "BmagV = []\n",
    "TotalV = 0\n",
    "for i in range(len(Sp)): \n",
    "    if('5.0' in str(Sp[i])): \n",
    "        GmagV.append(AbsGmag[i]) \n",
    "        VmagV.append(AbsVmag[i]) \n",
    "        KmagV.append(AbsKmag[i]) \n",
    "        HmagV.append(AbsHmag[i]) \n",
    "        JmagV.append(AbsJmag[i])\n",
    "        BmagV.append(AbsBmag[i])\n",
    "        TotalV = TotalV + 1\n",
    "#print('There are ', TotalV, 'Main Sequence stars')\n",
    "#print(np.mean(VmagV))\n",
    "print(BmagV[0:20])"
   ]
  },
  {
   "cell_type": "code",
   "execution_count": 40,
   "metadata": {},
   "outputs": [
    {
     "name": "stdout",
     "output_type": "stream",
     "text": [
      "0\n"
     ]
    },
    {
     "data": {
      "image/png": "[encoded data removed]",
      "text/plain": [
       "<matplotlib.figure.Figure at 0x7fbb121baa90>"
      ]
     },
     "metadata": {},
     "output_type": "display_data"
    }
   ],
   "source": [
    "Temps= []\n",
    "length = 0\n",
    "for i in Teff:\n",
    "    if(Sp[i] == 5.0):\n",
    "        Temps.append(Teff[i])\n",
    "        if(5000.0 <= Teff[i] <= 5500.0):\n",
    "            length = length + 1\n",
    "        \n",
    "print(length)\n",
    "\n",
    "bins = 20\n",
    "plt.xlabel(\"Effective Temperature in Kelvin\")\n",
    "plt.ylabel(\"Number of Sources\")\n",
    "plt.title(\"Histogram of Effective Temperature for Main Sequence\")\n",
    "pltemp=plt.hist(Temps,bins)\n",
    "plt.show()"
   ]
  },
  {
   "cell_type": "code",
   "execution_count": 53,
   "metadata": {},
   "outputs": [
    {
     "name": "stderr",
     "output_type": "stream",
     "text": [
      "/astromake/opt/python/anaconda3/lib/python3.6/site-packages/numpy/core/numeric.py:583: UserWarning: Warning: converting a masked element to nan.\n",
      "  return array(a, dtype, copy=False, order=order, subok=True)\n"
     ]
    },
    {
     "name": "stdout",
     "output_type": "stream",
     "text": [
      "Average Bmag:  7.41889070433\n",
      "Average Vmag:  6.04928490176\n",
      "Average Gmag:  nan\n",
      "average Hmag:  nan\n",
      "average Jmag:  nan\n",
      "average Kmag:  nan\n"
     ]
    },
    {
     "ename": "KeyboardInterrupt",
     "evalue": "",
     "output_type": "error",
     "traceback": [
      "\u001b[0;31m---------------------------------------------------------------------------\u001b[0m",
      "\u001b[0;31mKeyboardInterrupt\u001b[0m                         Traceback (most recent call last)",
      "\u001b[0;32m<ipython-input-53-5da147fb417d>\u001b[0m in \u001b[0;36m<module>\u001b[0;34m()\u001b[0m\n\u001b[1;32m     14\u001b[0m     \u001b[0mBmagV\u001b[0m \u001b[0;34m=\u001b[0m \u001b[0;34m[\u001b[0m\u001b[0;34m]\u001b[0m\u001b[0;34m\u001b[0m\u001b[0m\n\u001b[1;32m     15\u001b[0m     \u001b[0;32mfor\u001b[0m \u001b[0mj\u001b[0m \u001b[0;32min\u001b[0m \u001b[0mrange\u001b[0m\u001b[0;34m(\u001b[0m\u001b[0;36m0\u001b[0m\u001b[0;34m,\u001b[0m\u001b[0mlen\u001b[0m\u001b[0;34m(\u001b[0m\u001b[0mTeff\u001b[0m\u001b[0;34m)\u001b[0m\u001b[0;34m)\u001b[0m\u001b[0;34m:\u001b[0m\u001b[0;34m\u001b[0m\u001b[0m\n\u001b[0;32m---> 16\u001b[0;31m         \u001b[0;32mif\u001b[0m\u001b[0;34m(\u001b[0m\u001b[0mSp\u001b[0m\u001b[0;34m[\u001b[0m\u001b[0mj\u001b[0m\u001b[0;34m]\u001b[0m \u001b[0;32min\u001b[0m \u001b[0mSpV\u001b[0m\u001b[0;34m)\u001b[0m\u001b[0;34m:\u001b[0m\u001b[0;34m\u001b[0m\u001b[0m\n\u001b[0m\u001b[1;32m     17\u001b[0m             \u001b[0;32mif\u001b[0m\u001b[0;34m(\u001b[0m\u001b[0mi\u001b[0m \u001b[0;34m<=\u001b[0m \u001b[0mTeff\u001b[0m\u001b[0;34m[\u001b[0m\u001b[0mj\u001b[0m\u001b[0;34m]\u001b[0m \u001b[0;34m<=\u001b[0m \u001b[0;34m(\u001b[0m\u001b[0mi\u001b[0m\u001b[0;34m+\u001b[0m\u001b[0;36m500.0\u001b[0m\u001b[0;34m)\u001b[0m\u001b[0;34m)\u001b[0m\u001b[0;34m:\u001b[0m\u001b[0;34m\u001b[0m\u001b[0m\n\u001b[1;32m     18\u001b[0m                 \u001b[0mtempRange\u001b[0m\u001b[0;34m.\u001b[0m\u001b[0mappend\u001b[0m\u001b[0;34m(\u001b[0m\u001b[0mTeff\u001b[0m\u001b[0;34m[\u001b[0m\u001b[0mj\u001b[0m\u001b[0;34m]\u001b[0m\u001b[0;34m)\u001b[0m\u001b[0;34m\u001b[0m\u001b[0m\n",
      "\u001b[0;31mKeyboardInterrupt\u001b[0m: "
     ]
    }
   ],
   "source": [
    "Teff = t['Teff']\n",
    "temps = [4000.0,4500.0,5000.0,5500.0,6000.0,6500.0,7000.0,7500.0,8000.0,8500.0,9000.0,9500.0,10000.0]\n",
    "EffWave = [445,551,600,1220,1630,2190]\n",
    "# Splits up all main sequence stars based on their effective temperature\n",
    "\n",
    "for i in temps:\n",
    "    sources = 0\n",
    "    tempRange = []\n",
    "    GmagV = []\n",
    "    VmagV = []\n",
    "    KmagV = []\n",
    "    HmagV = []\n",
    "    JmagV = []\n",
    "    BmagV = []\n",
    "    for j in range(0,len(Teff)):\n",
    "        if(Sp[j] in SpV):\n",
    "            if(i <= Teff[j] <= (i+500.0)):\n",
    "                \n",
    "                tempRange.append(Teff[j])\n",
    "                GmagV.append(AbsGmag[j])\n",
    "                VmagV.append(AbsVmag[j])\n",
    "                KmagV.append(AbsKmag[j])\n",
    "                HmagV.append(AbsHmag[j])\n",
    "                JmagV.append(AbsJmag[j])\n",
    "                BmagV.append(AbsBmag[j])\n",
    "                sources = sources + 1\n",
    "    #MeanTemp = np.mean(tempRange)\n",
    "    #MinTemp = np.min(tempRange)\n",
    "    #MaxTemp = np.max(tempRange)\n",
    "    #TempStd = np.std(tempRange)\n",
    "    MeanGmag = np.mean(GmagV)\n",
    "    MeanVmag = np.mean(VmagV)\n",
    "    MeanHmag = np.mean(HmagV)\n",
    "    MeanJmag = np.mean(JmagV)\n",
    "    MeanKmag = np.mean(KmagV)\n",
    "    MeanBmag = np.mean(BmagV)\n",
    "    #GmagStd = np.std(GmagV)\n",
    "    #HmagStd = np.std(HmagV)\n",
    "    #VmagStd = np.std(VmagV)\n",
    "    #JmagStd = np.std(JmagV)\n",
    "    #KmagStd = np.std(KmagV)\n",
    "    #BmagStd = np.std(BmagV)\n",
    "    Mags = [MeanBmag,MeanVmag,MeanGmag,MeanJmag,MeanHmag,MeanKmag]\n",
    "    #Mags = [MeanKmag,MeanHmag,MeanJmag,MeanGmag,MeanVmag]\n",
    "    #plt.xlabel('Effective Wavelength')\n",
    "    #plt.ylabel('Absolute Magnitude')\n",
    "    #plt.title('Absolute Magnitude SED for '+ str(i)+'-'+ str(i+500) + ' K')\n",
    "    #plt.scatter(EffWave,Mags)\n",
    "    #plt.gca().invert_yaxis()\n",
    "    #plt.errorbar(EffWave,Mags,[BmagStd,VmagStd,GmagStd,JmagStd,HmagStd,KmagStd])\n",
    "    #plt.show()\n",
    "    \n",
    "    #print('Number of Stars: ', sources)\n",
    "    #print('Average Effective Temp in K: ', MeanTemp)\n",
    "    #print('Standard Deviation of Temp in K: ', TempStd)\n",
    "    #print('Min Temp: ', MinTemp, '  Max Temp: ', MaxTemp)\n",
    "    print('Average Bmag: ', MeanBmag)\n",
    "    print('Average Vmag: ', MeanVmag)\n",
    "    print('Average Gmag: ', MeanGmag)\n",
    "    print('average Hmag: ', MeanHmag)\n",
    "    print('average Jmag: ', MeanJmag)\n",
    "    print('average Kmag: ', MeanKmag)\n",
    "    #print('Standard Deviation of Gmag: ',GmagStd)\n",
    "    #print(MeanVmag)\n",
    "        "
   ]
  },
  {
   "cell_type": "code",
   "execution_count": 51,
   "metadata": {},
   "outputs": [
    {
     "name": "stderr",
     "output_type": "stream",
     "text": [
      "/astromake/opt/python/anaconda3/lib/python3.6/site-packages/numpy/core/numeric.py:583: UserWarning: Warning: converting a masked element to nan.\n",
      "  return array(a, dtype, copy=False, order=order, subok=True)\n"
     ]
    },
    {
     "data": {
      "image/png": "[encoded data removed]",
      "text/plain": [
       "<matplotlib.figure.Figure at 0x7fbb10f499b0>"
      ]
     },
     "metadata": {},
     "output_type": "display_data"
    },
    {
     "data": {
      "image/png": "[encoded data removed]",
      "text/plain": [
       "<matplotlib.figure.Figure at 0x7fbb11297080>"
      ]
     },
     "metadata": {},
     "output_type": "display_data"
    },
    {
     "data": {
      "image/png": "[encoded data removed]",
      "text/plain": [
       "<matplotlib.figure.Figure at 0x7fbb112a4c50>"
      ]
     },
     "metadata": {},
     "output_type": "display_data"
    },
    {
     "ename": "KeyboardInterrupt",
     "evalue": "",
     "output_type": "error",
     "traceback": [
      "\u001b[0;31m---------------------------------------------------------------------------\u001b[0m",
      "\u001b[0;31mKeyboardInterrupt\u001b[0m                         Traceback (most recent call last)",
      "\u001b[0;32m<ipython-input-51-f104c41efa5f>\u001b[0m in \u001b[0;36m<module>\u001b[0;34m()\u001b[0m\n\u001b[1;32m     10\u001b[0m     \u001b[0;32mfor\u001b[0m \u001b[0mj\u001b[0m \u001b[0;32min\u001b[0m \u001b[0mrange\u001b[0m\u001b[0;34m(\u001b[0m\u001b[0;36m0\u001b[0m\u001b[0;34m,\u001b[0m\u001b[0mlen\u001b[0m\u001b[0;34m(\u001b[0m\u001b[0mTeff\u001b[0m\u001b[0;34m)\u001b[0m\u001b[0;34m)\u001b[0m\u001b[0;34m:\u001b[0m\u001b[0;34m\u001b[0m\u001b[0m\n\u001b[1;32m     11\u001b[0m         \u001b[0;32mif\u001b[0m\u001b[0;34m(\u001b[0m\u001b[0mSp\u001b[0m\u001b[0;34m[\u001b[0m\u001b[0mj\u001b[0m\u001b[0;34m]\u001b[0m \u001b[0;32min\u001b[0m \u001b[0mSpV\u001b[0m\u001b[0;34m)\u001b[0m\u001b[0;34m:\u001b[0m\u001b[0;34m\u001b[0m\u001b[0m\n\u001b[0;32m---> 12\u001b[0;31m             \u001b[0;32mif\u001b[0m\u001b[0;34m(\u001b[0m\u001b[0mi\u001b[0m \u001b[0;34m<=\u001b[0m \u001b[0mTeff\u001b[0m\u001b[0;34m[\u001b[0m\u001b[0mj\u001b[0m\u001b[0;34m]\u001b[0m \u001b[0;34m<=\u001b[0m \u001b[0mi\u001b[0m\u001b[0;34m+\u001b[0m\u001b[0;36m500\u001b[0m\u001b[0;34m)\u001b[0m\u001b[0;34m:\u001b[0m\u001b[0;34m\u001b[0m\u001b[0m\n\u001b[0m\u001b[1;32m     13\u001b[0m                 \u001b[0mtempRange\u001b[0m\u001b[0;34m.\u001b[0m\u001b[0mappend\u001b[0m\u001b[0;34m(\u001b[0m\u001b[0mTeff\u001b[0m\u001b[0;34m[\u001b[0m\u001b[0mj\u001b[0m\u001b[0;34m]\u001b[0m\u001b[0;34m)\u001b[0m\u001b[0;34m\u001b[0m\u001b[0m\n\u001b[1;32m     14\u001b[0m                 \u001b[0mGmagV\u001b[0m\u001b[0;34m.\u001b[0m\u001b[0mappend\u001b[0m\u001b[0;34m(\u001b[0m\u001b[0mAbsGmag\u001b[0m\u001b[0;34m[\u001b[0m\u001b[0mj\u001b[0m\u001b[0;34m]\u001b[0m\u001b[0;34m-\u001b[0m\u001b[0mAbsGmag\u001b[0m\u001b[0;34m[\u001b[0m\u001b[0mj\u001b[0m\u001b[0;34m]\u001b[0m\u001b[0;34m)\u001b[0m\u001b[0;34m\u001b[0m\u001b[0m\n",
      "\u001b[0;32mastropy/table/_column_mixins.pyx\u001b[0m in \u001b[0;36mastropy.table._column_mixins._MaskedColumnGetitemShim.__getitem__ (astropy/table/_column_mixins.c:1316)\u001b[0;34m()\u001b[0m\n",
      "\u001b[0;32mastropy/table/_column_mixins.pyx\u001b[0m in \u001b[0;36mastropy.table._column_mixins.base_getitem (astropy/table/_column_mixins.c:992)\u001b[0;34m()\u001b[0m\n",
      "\u001b[0;32mastropy/table/_column_mixins.pyx\u001b[0m in \u001b[0;36mastropy.table._column_mixins.masked_column_getitem (astropy/table/_column_mixins.c:1171)\u001b[0;34m()\u001b[0m\n",
      "\u001b[0;32m/astromake/opt/python/anaconda3/lib/python3.6/site-packages/numpy/ma/core.py\u001b[0m in \u001b[0;36m__getitem__\u001b[0;34m(self, indx)\u001b[0m\n\u001b[1;32m   3166\u001b[0m \u001b[0;34m\u001b[0m\u001b[0m\n\u001b[1;32m   3167\u001b[0m         \"\"\"\n\u001b[0;32m-> 3168\u001b[0;31m         \u001b[0mdout\u001b[0m \u001b[0;34m=\u001b[0m \u001b[0mself\u001b[0m\u001b[0;34m.\u001b[0m\u001b[0mdata\u001b[0m\u001b[0;34m[\u001b[0m\u001b[0mindx\u001b[0m\u001b[0;34m]\u001b[0m\u001b[0;34m\u001b[0m\u001b[0m\n\u001b[0m\u001b[1;32m   3169\u001b[0m         \u001b[0;31m# We could directly use ndarray.__getitem__ on self.\u001b[0m\u001b[0;34m\u001b[0m\u001b[0;34m\u001b[0m\u001b[0m\n\u001b[1;32m   3170\u001b[0m         \u001b[0;31m# But then we would have to modify __array_finalize__ to prevent the\u001b[0m\u001b[0;34m\u001b[0m\u001b[0;34m\u001b[0m\u001b[0m\n",
      "\u001b[0;32m/astromake/opt/python/anaconda3/lib/python3.6/site-packages/astropy/table/column.py\u001b[0m in \u001b[0;36mdata\u001b[0;34m(self)\u001b[0m\n\u001b[1;32m    997\u001b[0m         \u001b[0;31m# The following is necessary because of a bug in Numpy, which was\u001b[0m\u001b[0;34m\u001b[0m\u001b[0;34m\u001b[0m\u001b[0m\n\u001b[1;32m    998\u001b[0m         \u001b[0;31m# fixed in numpy/numpy#2703. The fix should be included in Numpy 1.8.0.\u001b[0m\u001b[0;34m\u001b[0m\u001b[0;34m\u001b[0m\u001b[0m\n\u001b[0;32m--> 999\u001b[0;31m         \u001b[0mout\u001b[0m\u001b[0;34m.\u001b[0m\u001b[0mfill_value\u001b[0m \u001b[0;34m=\u001b[0m \u001b[0mself\u001b[0m\u001b[0;34m.\u001b[0m\u001b[0mfill_value\u001b[0m\u001b[0;34m\u001b[0m\u001b[0m\n\u001b[0m\u001b[1;32m   1000\u001b[0m         \u001b[0;32mreturn\u001b[0m \u001b[0mout\u001b[0m\u001b[0;34m\u001b[0m\u001b[0m\n\u001b[1;32m   1001\u001b[0m \u001b[0;34m\u001b[0m\u001b[0m\n",
      "\u001b[0;32m/astromake/opt/python/anaconda3/lib/python3.6/site-packages/astropy/table/column.py\u001b[0m in \u001b[0;36mfill_value\u001b[0;34m(self)\u001b[0m\n\u001b[1;32m    966\u001b[0m     \u001b[0;34m@\u001b[0m\u001b[0mproperty\u001b[0m\u001b[0;34m\u001b[0m\u001b[0m\n\u001b[1;32m    967\u001b[0m     \u001b[0;32mdef\u001b[0m \u001b[0mfill_value\u001b[0m\u001b[0;34m(\u001b[0m\u001b[0mself\u001b[0m\u001b[0;34m)\u001b[0m\u001b[0;34m:\u001b[0m\u001b[0;34m\u001b[0m\u001b[0m\n\u001b[0;32m--> 968\u001b[0;31m         \u001b[0;32mreturn\u001b[0m \u001b[0mself\u001b[0m\u001b[0;34m.\u001b[0m\u001b[0mget_fill_value\u001b[0m\u001b[0;34m(\u001b[0m\u001b[0;34m)\u001b[0m  \u001b[0;31m# defer to native ma.MaskedArray method\u001b[0m\u001b[0;34m\u001b[0m\u001b[0m\n\u001b[0m\u001b[1;32m    969\u001b[0m \u001b[0;34m\u001b[0m\u001b[0m\n\u001b[1;32m    970\u001b[0m     \u001b[0;34m@\u001b[0m\u001b[0mfill_value\u001b[0m\u001b[0;34m.\u001b[0m\u001b[0msetter\u001b[0m\u001b[0;34m\u001b[0m\u001b[0m\n",
      "\u001b[0;32m/astromake/opt/python/anaconda3/lib/python3.6/site-packages/numpy/ma/core.py\u001b[0m in \u001b[0;36mget_fill_value\u001b[0;34m(self)\u001b[0m\n\u001b[1;32m   3592\u001b[0m         \u001b[0;31m# The if-block can be removed after #7267 has been fixed.\u001b[0m\u001b[0;34m\u001b[0m\u001b[0;34m\u001b[0m\u001b[0m\n\u001b[1;32m   3593\u001b[0m         \u001b[0;32mif\u001b[0m \u001b[0misinstance\u001b[0m\u001b[0;34m(\u001b[0m\u001b[0mself\u001b[0m\u001b[0;34m.\u001b[0m\u001b[0m_fill_value\u001b[0m\u001b[0;34m,\u001b[0m \u001b[0mndarray\u001b[0m\u001b[0;34m)\u001b[0m\u001b[0;34m:\u001b[0m\u001b[0;34m\u001b[0m\u001b[0m\n\u001b[0;32m-> 3594\u001b[0;31m             \u001b[0;32mreturn\u001b[0m \u001b[0mself\u001b[0m\u001b[0;34m.\u001b[0m\u001b[0m_fill_value\u001b[0m\u001b[0;34m[\u001b[0m\u001b[0;34m(\u001b[0m\u001b[0;34m)\u001b[0m\u001b[0;34m]\u001b[0m\u001b[0;34m\u001b[0m\u001b[0m\n\u001b[0m\u001b[1;32m   3595\u001b[0m         \u001b[0;32mreturn\u001b[0m \u001b[0mself\u001b[0m\u001b[0;34m.\u001b[0m\u001b[0m_fill_value\u001b[0m\u001b[0;34m\u001b[0m\u001b[0m\n\u001b[1;32m   3596\u001b[0m \u001b[0;34m\u001b[0m\u001b[0m\n",
      "\u001b[0;31mKeyboardInterrupt\u001b[0m: "
     ]
    }
   ],
   "source": [
    "for i in temps:\n",
    "    sources = 0\n",
    "    tempRange = []\n",
    "    GmagV = []\n",
    "    VmagV = []\n",
    "    KmagV = []\n",
    "    HmagV = []\n",
    "    JmagV = []\n",
    "    BmagV = []\n",
    "    for j in range(0,len(Teff)):\n",
    "        if(Sp[j] in SpV):\n",
    "            if(i <= Teff[j] <= i+500):\n",
    "                tempRange.append(Teff[j])\n",
    "                GmagV.append(AbsGmag[j]-AbsGmag[j])\n",
    "                VmagV.append(AbsGmag[j]-AbsVmag[j])\n",
    "                KmagV.append(AbsGmag[j]-AbsKmag[j])\n",
    "                HmagV.append(AbsGmag[j]-AbsHmag[j])\n",
    "                JmagV.append(AbsGmag[j]-AbsJmag[j])\n",
    "                BmagV.append(AbsGmag[j]-AbsBmag[j])\n",
    "                sources = sources + 1\n",
    "    \n",
    "    MeanGmag = np.mean(GmagV)\n",
    "    MeanVmag = np.mean(VmagV)\n",
    "    MeanHmag = np.mean(HmagV)\n",
    "    MeanJmag = np.mean(JmagV)\n",
    "    MeanKmag = np.mean(KmagV)\n",
    "    MeanBmag = np.mean(BmagV)\n",
    "    \n",
    "    Mags = [MeanBmag,MeanVmag,MeanGmag,MeanJmag,MeanHmag,MeanKmag]\n",
    "    #Mags = [MeanKmag,MeanHmag,MeanJmag,MeanGmag,MeanVmag]\n",
    "    plt.xlabel('Effective Wavelength')\n",
    "    plt.ylabel('Absolute Magnitude')\n",
    "    plt.title('Relative Magnitude SED for '+ str(i)+'-'+ str(i+500) + ' K')\n",
    "    plt.scatter(EffWave,Mags)\n",
    "    plt.gca().invert_yaxis()\n",
    "    plt.show()\n",
    "    "
   ]
  },
  {
   "cell_type": "code",
   "execution_count": 52,
   "metadata": {},
   "outputs": [
    {
     "name": "stderr",
     "output_type": "stream",
     "text": [
      "/astromake/opt/python/anaconda3/lib/python3.6/site-packages/ipykernel_launcher.py:1: UserWarning: Warning: converting a masked element to nan.\n",
      "  \"\"\"Entry point for launching an IPython kernel.\n",
      "/astromake/opt/python/anaconda3/lib/python3.6/site-packages/numpy/ma/core.py:2766: UserWarning: Warning: converting a masked element to nan.\n",
      "  order=order, subok=True, ndmin=ndmin)\n"
     ]
    },
    {
     "data": {
      "image/png": "[encoded data removed]",
      "text/plain": [
       "<matplotlib.figure.Figure at 0x7fbb119236a0>"
      ]
     },
     "metadata": {},
     "output_type": "display_data"
    },
    {
     "name": "stdout",
     "output_type": "stream",
     "text": [
      "6\n",
      "nan\n"
     ]
    }
   ],
   "source": [
    "VmG = np.array(JmagV) - np.array(GmagV)\n",
    "plt.xlabel('GBand Absolute Magnitude')\n",
    "plt.ylabel('V-G ABsolute Magnitude')\n",
    "plt.scatter(GmagV,VmG,s=1.0)\n",
    "plt.gca().invert_yaxis()\n",
    "plt.gca().invert_xaxis()\n",
    "plt.show()\n",
    "\n",
    "print(len(Mags))\n",
    "print((MeanGmag))"
   ]
  },
  {
   "cell_type": "code",
   "execution_count": 49,
   "metadata": {},
   "outputs": [
    {
     "name": "stdout",
     "output_type": "stream",
     "text": [
      "[1.4566256999969482, 1.4566256999969482, 1.4566256999969482, 1.4566256999969482, 1.4566256999969482]\n"
     ]
    }
   ],
   "source": [
    "print(GmagV[0:5])"
   ]
  },
  {
   "cell_type": "code",
   "execution_count": 11,
   "metadata": {},
   "outputs": [
    {
     "name": "stdout",
     "output_type": "stream",
     "text": [
      "[  3500.   4000.   4500.   5000.   5500.   6000.   6500.   7000.   7500.\n",
      "   8000.   8500.   9000.   9500.  10000.]\n",
      "There are  275  stars in the range 3500.0  -  4000.0\n",
      "\n",
      " Mean:  3920.14545455\n",
      "Standard Deviation:  93.6180670562\n",
      "Max:  4000\n",
      "Min:  3530\n",
      "\n",
      "\n",
      "Standard Deviation for Absolute Jmag "
     ]
    },
    {
     "name": "stderr",
     "output_type": "stream",
     "text": [
      "C:\\Users\\Kevin.Hall\\Anaconda3\\lib\\site-packages\\numpy\\ma\\core.py:4185: UserWarning: Warning: converting a masked element to nan.\n",
      "  warnings.warn(\"Warning: converting a masked element to nan.\")\n"
     ]
    },
    {
     "name": "stdout",
     "output_type": "stream",
     "text": [
      "nan\n",
      "There are  1131  stars in the range 4000.0  -  4500.0\n",
      "\n",
      " Mean:  4259.34571176\n",
      "Standard Deviation:  219.736430467\n",
      "Max:  4420\n",
      "Min:  3530\n",
      "\n",
      "\n",
      "Standard Deviation for Absolute Jmag nan\n",
      "There are  6223  stars in the range 4500.0  -  5000.0\n",
      "\n",
      " Mean:  4673.33440463\n",
      "Standard Deviation:  231.626417363\n",
      "Max:  4900\n",
      "Min:  3530\n",
      "\n",
      "\n",
      "Standard Deviation for Absolute Jmag nan\n",
      "There are  10828  stars in the range 5000.0  -  5500.0\n",
      "\n",
      " Mean:  4883.65903214\n",
      "Standard Deviation:  304.259629527\n",
      "Max:  5500\n",
      "Min:  3530\n",
      "\n",
      "\n",
      "Standard Deviation for Absolute Jmag nan\n",
      "There are  15768  stars in the range 5500.0  -  6000.0\n",
      "\n",
      " Mean:  5168.48236936\n",
      "Standard Deviation:  494.176794431\n",
      "Max:  5860\n",
      "Min:  3530\n",
      "\n",
      "\n",
      "Standard Deviation for Absolute Jmag nan\n",
      "There are  36728  stars in the range 6000.0  -  6500.0\n",
      "\n",
      " Mean:  5786.07166195\n",
      "Standard Deviation:  639.840071778\n",
      "Max:  6470\n",
      "Min:  3530\n",
      "\n",
      "\n",
      "Standard Deviation for Absolute Jmag nan\n",
      "There are  41701  stars in the range 6500.0  -  7000.0\n",
      "\n",
      " Mean:  5917.38951104\n",
      "Standard Deviation:  698.524970158\n",
      "Max:  6900\n",
      "Min:  3530\n",
      "\n",
      "\n",
      "Standard Deviation for Absolute Jmag nan\n",
      "There are  44312  stars in the range 7000.0  -  7500.0\n",
      "\n",
      " Mean:  5994.0955046\n",
      "Standard Deviation:  743.993440846\n",
      "Max:  7450\n",
      "Min:  3530\n",
      "\n",
      "\n",
      "Standard Deviation for Absolute Jmag nan\n",
      "There are  45136  stars in the range 7500.0  -  8000.0\n",
      "\n",
      " Mean:  6027.36418823\n",
      "Standard Deviation:  776.559010386\n",
      "Max:  7950\n",
      "Min:  3530\n",
      "\n",
      "\n",
      "Standard Deviation for Absolute Jmag nan\n",
      "There are  46224  stars in the range 8000.0  -  8500.0\n",
      "\n",
      " Mean:  6077.97594323\n",
      "Standard Deviation:  833.760874609\n",
      "Max:  8200\n",
      "Min:  3530\n",
      "\n",
      "\n",
      "Standard Deviation for Absolute Jmag nan\n",
      "There are  48349  stars in the range 8500.0  -  9000.0\n",
      "\n",
      " Mean:  6199.31911725\n",
      "Standard Deviation:  992.900869815\n",
      "Max:  9000\n",
      "Min:  3530\n",
      "\n",
      "\n",
      "Standard Deviation for Absolute Jmag nan\n",
      "There are  48948  stars in the range 9000.0  -  9500.0\n",
      "\n",
      " Mean:  6235.98962164\n",
      "Standard Deviation:  1040.48594745\n",
      "Max:  9480\n",
      "Min:  3530\n",
      "\n",
      "\n",
      "Standard Deviation for Absolute Jmag nan\n",
      "There are  49830  stars in the range 9500.0  -  10000.0\n",
      "\n",
      " Mean:  6294.11719847\n",
      "Standard Deviation:  1118.46383352\n",
      "Max:  9520\n",
      "Min:  3530\n",
      "\n",
      "\n",
      "Standard Deviation for Absolute Jmag nan\n",
      "There are  50121  stars in the range 10000.0  -  10500.0\n",
      "\n",
      " Mean:  6318.19317252\n",
      "Standard Deviation:  1158.91040982\n",
      "Max:  10500\n",
      "Min:  3530\n",
      "\n",
      "\n",
      "Standard Deviation for Absolute Jmag nan\n"
     ]
    }
   ],
   "source": [
    "# This cell contains old code. I do not want to erase it until I am 100% sure I do not require it. Once final SED\n",
    "# models are complete, I will remove it\n",
    "Teff = t['Teff']\n",
    "Plx = t[\"Plx\"]\n",
    "\n",
    "temp = np.linspace(3500,10000,num=14)\n",
    "print(temp)\n",
    "#18 sets of ranges\n",
    "tempRange = []\n",
    "PlxRange = []\n",
    "JmagRange = []\n",
    "GmagRange = []\n",
    "HmagRange = []\n",
    "KmagRange = []\n",
    "VmagRange = []\n",
    "dist = []\n",
    "Sp_str = str(Sp)\n",
    "\n",
    "def AbsoluteMag(mag,dist):\n",
    "    return mag - (5*np.log10(dist/10))\n",
    "\n",
    "for low in temp:\n",
    "    high = low + 500\n",
    "    for i in range(0,len(Teff)):\n",
    "        if(low <= Teff[i] <= high):\n",
    "            if(Teff.mask[i] == False):\n",
    "                tempRange.append(Teff[i])\n",
    "                JmagRange.append(Jmag[i])\n",
    "                GmagRange.append(Gmag[i])\n",
    "                HmagRange.append(Hmag[i])\n",
    "                KmagRange.append(Kmag[i])\n",
    "                VmagRange.append(Vmag[i])\n",
    "                PlxRange.append(Plx[i])\n",
    "                dist.append(1000/Plx[i])\n",
    "    #plt.hist(tempRange,bins=25)\n",
    "    #TempValMask = ma.masked_outside(temp,low,high)\n",
    "    #TempValComp = TempValMask.compressed()\n",
    "    #plt.hist(TempValComp,bins=15)\n",
    "    #plt.show()    \n",
    "    for j in range(0,len(tempRange)):\n",
    "        JmagRange[j] = AbsoluteMag(JmagRange[j],dist[j])\n",
    "        GmagRange[j] = AbsoluteMag(GmagRange[j],dist[j])\n",
    "        HmagRange[j] = AbsoluteMag(HmagRange[j],dist[j])\n",
    "        KmagRange[j] = AbsoluteMag(KmagRange[j],dist[j])\n",
    "        VmagRange[j] = AbsoluteMag(VmagRange[j],dist[j])\n",
    "    print(\"There are \", len(tempRange), \" stars in the range\", low, \" - \", high)\n",
    "    print(\"\\n\",\"Mean: \", np.mean(tempRange))\n",
    "    print(\"Standard Deviation: \", np.std(tempRange))\n",
    "    print(\"Max: \", np.max(tempRange))\n",
    "    print(\"Min: \", np.min(tempRange))\n",
    "    print(\"\\n\")\n",
    "    print(\"Standard Deviation for Absolute Jmag\", np.std(JmagRange))\n",
    "    #print(\"There are \", len(TempValComp), \"in the range\", low, \" - \", high)\n",
    "    #tempRange = []"
   ]
  },
  {
   "cell_type": "code",
   "execution_count": 45,
   "metadata": {},
   "outputs": [
    {
     "ename": "KeyboardInterrupt",
     "evalue": "",
     "output_type": "error",
     "traceback": [
      "\u001b[0;31m---------------------------------------------------------------------------\u001b[0m",
      "\u001b[0;31mKeyboardInterrupt\u001b[0m                         Traceback (most recent call last)",
      "\u001b[0;32m<ipython-input-45-52bd9bfbb82c>\u001b[0m in \u001b[0;36m<module>\u001b[0;34m()\u001b[0m\n\u001b[1;32m      1\u001b[0m \u001b[0mtest\u001b[0m \u001b[0;34m=\u001b[0m \u001b[0;36m0\u001b[0m\u001b[0;34m\u001b[0m\u001b[0m\n\u001b[1;32m      2\u001b[0m \u001b[0;32mfor\u001b[0m \u001b[0mi\u001b[0m \u001b[0;32min\u001b[0m \u001b[0mrange\u001b[0m\u001b[0;34m(\u001b[0m\u001b[0;36m0\u001b[0m\u001b[0;34m,\u001b[0m\u001b[0mlen\u001b[0m\u001b[0;34m(\u001b[0m\u001b[0mTeff\u001b[0m\u001b[0;34m)\u001b[0m\u001b[0;34m)\u001b[0m\u001b[0;34m:\u001b[0m\u001b[0;34m\u001b[0m\u001b[0m\n\u001b[0;32m----> 3\u001b[0;31m     \u001b[0;32mif\u001b[0m\u001b[0;34m(\u001b[0m\u001b[0mstr\u001b[0m\u001b[0;34m(\u001b[0m\u001b[0mSpV\u001b[0m\u001b[0;34m)\u001b[0m \u001b[0;32min\u001b[0m \u001b[0mstr\u001b[0m\u001b[0;34m(\u001b[0m\u001b[0mSp\u001b[0m\u001b[0;34m[\u001b[0m\u001b[0mi\u001b[0m\u001b[0;34m]\u001b[0m\u001b[0;34m)\u001b[0m\u001b[0;34m)\u001b[0m\u001b[0;34m:\u001b[0m\u001b[0;34m\u001b[0m\u001b[0m\n\u001b[0m\u001b[1;32m      4\u001b[0m         \u001b[0;32mif\u001b[0m\u001b[0;34m(\u001b[0m\u001b[0;36m5000.0\u001b[0m \u001b[0;34m<=\u001b[0m \u001b[0mTeff\u001b[0m\u001b[0;34m[\u001b[0m\u001b[0mi\u001b[0m\u001b[0;34m]\u001b[0m \u001b[0;34m<=\u001b[0m \u001b[0;36m5500.0\u001b[0m\u001b[0;34m)\u001b[0m\u001b[0;34m:\u001b[0m\u001b[0;34m\u001b[0m\u001b[0m\n\u001b[1;32m      5\u001b[0m             \u001b[0mtest\u001b[0m \u001b[0;34m=\u001b[0m \u001b[0mtest\u001b[0m \u001b[0;34m+\u001b[0m \u001b[0;36m1\u001b[0m\u001b[0;34m\u001b[0m\u001b[0m\n",
      "\u001b[0;31mKeyboardInterrupt\u001b[0m: "
     ]
    }
   ],
   "source": [
    "test = 0\n",
    "for i in range(0,len(Teff)):\n",
    "    if(str(SpV) in str(Sp[i])):\n",
    "        if(5000.0 <= Teff[i] <= 5500.0):\n",
    "            test = test + 1\n",
    "        \n",
    "print(test)\n",
    "      "
   ]
  }
 ],
 "metadata": {
  "kernelspec": {
   "display_name": "Python 3",
   "language": "python",
   "name": "python3"
  },
  "language_info": {
   "codemirror_mode": {
    "name": "ipython",
    "version": 3
   },
   "file_extension": ".py",
   "mimetype": "text/x-python",
   "name": "python",
   "nbconvert_exporter": "python",
   "pygments_lexer": "ipython3",
   "version": "3.6.1"
  }
 },
 "nbformat": 4,
 "nbformat_minor": 2
}
