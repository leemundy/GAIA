{
 "cells": [
  {
   "cell_type": "code",
   "execution_count": 1,
   "metadata": {
    "collapsed": true
   },
   "outputs": [],
   "source": [
    "import numpy as np\n",
    "import matplotlib.pyplot as plt\n",
    "import numpy.ma as ma\n",
    "from astropy.table import Table"
   ]
  },
  {
   "cell_type": "code",
   "execution_count": 2,
   "metadata": {
    "collapsed": false
   },
   "outputs": [
    {
     "name": "stderr",
     "output_type": "stream",
     "text": [
      "WARNING: W03: Tgas200_Wright2003_2MASS_FinCat_out.vot:9:0: W03: Implicitly generating an ID from a name '/Users/joncouri/Desktop/Student_UMD/Catalogs/0work/Tgas200Wright2003_FinCat_out.csv' -> '__Users_joncouri_Desktop_Student_UMD_Catalogs_0work_Tgas200Wright2003_FinCat_out.csv' [astropy.io.votable.xmlutil]\n",
      "WARNING: W30: Tgas200_Wright2003_2MASS_FinCat_out.vot:1076:8: W30: Invalid literal for float 'NA'.  Treating as empty. [astropy.io.votable.converters]\n",
      "WARNING: W30: Tgas200_Wright2003_2MASS_FinCat_out.vot:1097:8: W30: Invalid literal for float 'NA'.  Treating as empty. [astropy.io.votable.converters]\n",
      "WARNING: W30: Tgas200_Wright2003_2MASS_FinCat_out.vot:1098:8: W30: Invalid literal for float 'NA'.  Treating as empty. [astropy.io.votable.converters]\n",
      "WARNING: W30: Tgas200_Wright2003_2MASS_FinCat_out.vot:1099:8: W30: Invalid literal for float 'NA'.  Treating as empty. [astropy.io.votable.converters]\n",
      "WARNING: W30: Tgas200_Wright2003_2MASS_FinCat_out.vot:1476:8: W30: Invalid literal for float 'NA'.  Treating as empty. [astropy.io.votable.converters]\n",
      "WARNING: W30: Tgas200_Wright2003_2MASS_FinCat_out.vot:3452:8: W30: Invalid literal for float 'NA'.  Treating as empty. [astropy.io.votable.converters]\n",
      "WARNING: W30: Tgas200_Wright2003_2MASS_FinCat_out.vot:3473:8: W30: Invalid literal for float 'NA'.  Treating as empty. [astropy.io.votable.converters]\n",
      "WARNING: W30: Tgas200_Wright2003_2MASS_FinCat_out.vot:3474:8: W30: Invalid literal for float 'NA'.  Treating as empty. [astropy.io.votable.converters]\n",
      "WARNING: W30: Tgas200_Wright2003_2MASS_FinCat_out.vot:3475:8: W30: Invalid literal for float 'NA'.  Treating as empty. [astropy.io.votable.converters]\n",
      "WARNING: W30: Tgas200_Wright2003_2MASS_FinCat_out.vot:5202:8: W30: Invalid literal for float 'NA'.  Treating as empty. (suppressing further warnings of this type...) [astropy.io.votable.converters]\n"
     ]
    },
    {
     "name": "stdout",
     "output_type": "stream",
     "text": [
      "['col1', 'angDist', 'd_arcsec', 'X_RAJ2000', 'X_DEJ2000', 'HIP', 'TYC2', 'Source', 'RA_ICRS', 'e_RA_ICRS', 'DE_ICRS', 'e_DE_ICRS', 'Plx', 'e_Plx', 'pmRA', 'e_pmRA', 'pmDE', 'e_pmDE', 'Dup', 'X.FG.', 'e_.FG.', 'X.Gmag.', 'Var', 'X_RAJ2000.1', 'X_DEJ2000.1', 'TYC1', 'TYC2.1', 'TYC3', 'RAJ2000', 'DEJ2000', 'VTmag', 'BTmag', 'r_SpType', 'Dist', 'Teff', 'SpType', 'X2MASS', 'RAJ2000.1', 'DEJ2000.1', 'errHalfMaj', 'errHalfMin', 'errPosAng', 'Jmag', 'Hmag', 'Kmag', 'e_Jmag', 'e_Hmag', 'e_Kmag', 'Qfl', 'Rfl', 'X', 'MeasureJD']\n"
     ]
    }
   ],
   "source": [
    "import copy\n",
    "t = Table.read('Tgas200_Wright2003_2MASS_FinCat_out.vot', format='votable')\n",
    "print(t.colnames)\n",
    "\n",
    "\n",
    "Source = t[\"Source\"]\n",
    "Gmag = t[\"X.Gmag.\"]\n",
    "Vmag = t[\"VTmag\"]\n",
    "Jmag = t[\"Jmag\"]\n",
    "Hmag = t[\"Hmag\"]\n",
    "Kmag = t[\"Kmag\"]\n",
    "Qfl = t[\"Qfl\"]\n",
    "Bmag = t['BTmag']\n",
    "\n",
    "\n",
    "\n"
   ]
  },
  {
   "cell_type": "code",
   "execution_count": 53,
   "metadata": {
    "collapsed": false
   },
   "outputs": [
    {
     "name": "stdout",
     "output_type": "stream",
     "text": [
      "        Source        \n",
      "----------------------\n",
      "1.1367301994554332e+18\n",
      "   99583180444752384.0\n",
      "6.7251384071648348e+18\n",
      " 2.149593164137238e+18\n",
      "3.2126194914101847e+18\n",
      "6.7251458632214118e+18\n",
      "1.8687432254297426e+18\n",
      "   99684576032567552.0\n",
      " 4.395149229245545e+18\n",
      "6.0034856325847409e+18\n",
      "                   ...\n",
      "2.9983479023409853e+18\n",
      "5.1763029345556787e+18\n",
      "3.3109516681409459e+18\n",
      "3.6603709658899282e+18\n",
      "4.1179490506667576e+18\n",
      "5.4823776972323082e+18\n",
      "2.9984534210963241e+18\n",
      "3.3110001153717335e+18\n",
      "4.1179762292177428e+18\n",
      "5.1764038834670981e+18\n",
      "  3.66051098182383e+18\n",
      "Length = 50093 rows\n"
     ]
    }
   ],
   "source": [
    "print(Source)"
   ]
  },
  {
   "cell_type": "code",
   "execution_count": 5,
   "metadata": {
    "collapsed": false
   },
   "outputs": [
    {
     "name": "stdout",
     "output_type": "stream",
     "text": [
      "50093\n",
      "48250\n"
     ]
    }
   ],
   "source": [
    "# for i in range(0,len(Qfl)):\n",
    "#     if(Source.mask[i] == False):\n",
    "#         if(Qfl[i][0] == ord(\"A\")):\n",
    "#             Jmag.mask[i] = False\n",
    "#         else:\n",
    "#             Jmag.mask[i] = True\n",
    "#         if(Qfl[i][1] == ord(\"A\")):\n",
    "#             Hmag.mask[i] = False\n",
    "#         else:\n",
    "#             Hmag.mask[i] = True\n",
    "#         if(Qfl[i][2] == ord(\"A\")):\n",
    "#             Kmag.mask[i] = False\n",
    "#         else:\n",
    "#             Kmag.mask[i] = True\n",
    "print(len(Jmag))\n",
    "print(len(Jmag.compressed()))"
   ]
  },
  {
   "cell_type": "code",
   "execution_count": 4,
   "metadata": {
    "collapsed": false
   },
   "outputs": [
    {
     "data": {
      "image/png": "[encoded data removed]",
      "text/plain": [
       "<matplotlib.figure.Figure at 0x47b20afd0>"
      ]
     },
     "metadata": {},
     "output_type": "display_data"
    }
   ],
   "source": [
    "plt.title(\"Gmag vs Jmag\")\n",
    "plt.scatter(Jmag,Gmag,s=1.0)\n",
    "plt.xlabel(\"Jmag\")\n",
    "plt.ylabel(\"Gmag\")\n",
    "plt.show()"
   ]
  },
  {
   "cell_type": "code",
   "execution_count": 5,
   "metadata": {
    "collapsed": false
   },
   "outputs": [
    {
     "data": {
      "image/png": "[encoded data removed]",
      "text/plain": [
       "<matplotlib.figure.Figure at 0x7f5115f19160>"
      ]
     },
     "metadata": {},
     "output_type": "display_data"
    }
   ],
   "source": [
    "Teff = t[\"Teff\"]\n",
    "plt.title(\"Teff vs Magnitude\")\n",
    "plt.scatter(Teff,Gmag,s=1.0)\n",
    "plt.xlabel(\"Temperature in Kelvin\")\n",
    "plt.ylabel(\"Apparent Jmag\")\n",
    "plt.xlim(3500,9500)\n",
    "\n",
    "plt.gca().invert_xaxis()\n",
    "plt.gca().invert_yaxis()\n",
    "plt.show()"
   ]
  },
  {
   "cell_type": "code",
   "execution_count": 6,
   "metadata": {
    "collapsed": false
   },
   "outputs": [
    {
     "data": {
      "image/png": "[encoded data removed]",
      "text/plain": [
       "<matplotlib.figure.Figure at 0x7f5115df01d0>"
      ]
     },
     "metadata": {},
     "output_type": "display_data"
    },
    {
     "name": "stdout",
     "output_type": "stream",
     "text": [
      "50093\n"
     ]
    }
   ],
   "source": [
    "temps = [2000,2500,3000,3500,4000,4500,5000,5500,6000,6500,7000,7500,8000,8500,9000,9500,10000,10500]\n",
    "test = []\n",
    "#for i in range(0,len(Teff)):\n",
    "#    if(Teff[i] >= 5000 & Teff[i] <= 5500):\n",
    "#        test.append(Teff[i])\n",
    "#        print(test[i])\n",
    "\n",
    "bins = 20\n",
    "plt.xlabel(\"Effective Temperature in Kelvin\")\n",
    "plt.ylabel(\"Number of Sources\")\n",
    "plt.title(\"Histogram of Effective Temperature\")\n",
    "pltemp=plt.hist(Teff,bins)\n",
    "plt.show()\n",
    "print(len(Teff))"
   ]
  },
  {
   "cell_type": "code",
   "execution_count": 4,
   "metadata": {
    "collapsed": false
   },
   "outputs": [
    {
     "name": "stdout",
     "output_type": "stream",
     "text": [
      "50093\n",
      "50093\n",
      "22514\n",
      "[5.0, 5.0, 5.0, 5.0, 5.0, 5.0, 5.0, 5.0, 5.0, 5.0, 5.0, 5.0, 5.0, 5.0, 5.0, 5.0, 5.0, 5.0, 5.0, 5.0, 5.0, 5.0, 5.0, 5.0, 5.0, 5.0, 5.0, 5.0, 5.0, 5.0]\n"
     ]
    }
   ],
   "source": [
    "SpType = t['SpType']\n",
    "Sp = [0.0]*len(SpType)\n",
    "SpV = []\n",
    "SPIII = []\n",
    "temperature = t['Teff']\n",
    "for i in range(0,len(SpType)):\n",
    "    if(SpType.mask[i]==False):\n",
    "        Spc = SpType[i].decode()\n",
    "        if(len(Spc) > 2):\n",
    "            for c in range(0,len(Spc)):\n",
    "                if(Spc[c] == 'V'):\n",
    "                    Sp[i] = Sp[i] + 5\n",
    "                if(Sp[c] == 'I'):\n",
    "                    Sp[i] = Sp[i] + 1\n",
    "                if(Sp[c] == '+'):\n",
    "                    Sp[i] = -30\n",
    "        else:\n",
    "            Sp[i] = 5.1\n",
    "        \n",
    "        if(Sp[i] == 6):\n",
    "            Sp[i] = 4\n",
    "        if(Sp[i] > 5.2):\n",
    "            Sp[i] = -30\n",
    "        if(Sp[i] == 11):\n",
    "            Sp[i] = 4.5\n",
    "        if(Sp[i] == 9):\n",
    "            Sp[i] = 3.5\n",
    "            \n",
    "for i in range(0,len(Sp)):\n",
    "    if(Sp[i] == 5.0):\n",
    "        SpV.append(Sp[i])\n",
    "    if(Sp[i] ==3 ):\n",
    "        SpIII.append(Sp[i])\n",
    "print(len(SpType))        \n",
    "print(len(Sp))\n",
    "print(len(SpV))\n",
    "print(SpV[0:30])"
   ]
  },
  {
   "cell_type": "code",
   "execution_count": 3,
   "metadata": {
    "collapsed": false
   },
   "outputs": [
    {
     "name": "stdout",
     "output_type": "stream",
     "text": [
      "Finished Luminosity Class Translation\n",
      "  Number of single Stars:  49670   Binaries or Unknown luminosity class:  423\n"
     ]
    }
   ],
   "source": [
    "SpType = t[\"SpType\"]\n",
    "SpTypeN = [0.0]*len(SpType)\n",
    "SpV = []\n",
    "for i in range(0,len(SpType)):\n",
    "    if(SpType.mask[i] == False):\n",
    "        SpT = SpType[i].decode()\n",
    "        if(len(SpT) > 2):\n",
    "            for j in range(0,len(SpT)):\n",
    "                if(SpT[j] == 'I'):\n",
    "                    SpTypeN[i] = SpTypeN[i] + 1\n",
    "                if(SpT[j] == 'V'):\n",
    "                    SpTypeN[i] = SpTypeN[i] + 5\n",
    "                if(SpT[j] == '+'):\n",
    "                    SpTypeN[i] = -20.\n",
    "                \n",
    "        else:\n",
    "            SpTypeN[i] = 5.1\n",
    "        \n",
    "        if(SpTypeN[i] == 6):\n",
    "            SpTypeN[i] = 4.\n",
    "        if(SpTypeN[i] == 11):\n",
    "            SpTypeN[i] = 4.5\n",
    "        if(SpTypeN[i] == 9):\n",
    "            SpTypeN[i] = 3.5\n",
    "        if(SpTypeN[i] > 5.2):\n",
    "            SpTypeN[i] = -30.\n",
    "print(\"Finished Luminosity Class Translation\")\n",
    "count = 0\n",
    "for i in range(0,len(SpTypeN)):\n",
    "    if(SpTypeN[i] == 5.0):\n",
    "        SpV.append(SpTypeN[i])\n",
    "for i in range(0,len(SpType)):\n",
    "    if(SpTypeN[i] < 0.):\n",
    "        count = count + 1\n",
    "test = SpType.compressed()\n",
    "good = len(test) - count\n",
    "print(\"  Number of single Stars: \",good,\"  Binaries or Unknown luminosity class: \",count)"
   ]
  },
  {
   "cell_type": "code",
   "execution_count": 5,
   "metadata": {
    "collapsed": false
   },
   "outputs": [
    {
     "ename": "NameError",
     "evalue": "name 'Teff' is not defined",
     "output_type": "error",
     "traceback": [
      "\u001b[0;31m---------------------------------------------------------------------------\u001b[0m",
      "\u001b[0;31mNameError\u001b[0m                                 Traceback (most recent call last)",
      "\u001b[0;32m<ipython-input-5-2d637ff357ee>\u001b[0m in \u001b[0;36m<module>\u001b[0;34m()\u001b[0m\n\u001b[1;32m      1\u001b[0m \u001b[0mcount\u001b[0m \u001b[1;33m=\u001b[0m \u001b[1;36m0\u001b[0m\u001b[1;33m\u001b[0m\u001b[0m\n\u001b[0;32m----> 2\u001b[0;31m \u001b[1;32mfor\u001b[0m \u001b[0mj\u001b[0m \u001b[1;32min\u001b[0m \u001b[0mrange\u001b[0m\u001b[1;33m(\u001b[0m\u001b[0mlen\u001b[0m\u001b[1;33m(\u001b[0m\u001b[0mTeff\u001b[0m\u001b[1;33m)\u001b[0m\u001b[1;33m)\u001b[0m\u001b[1;33m:\u001b[0m\u001b[1;33m\u001b[0m\u001b[0m\n\u001b[0m\u001b[1;32m      3\u001b[0m     \u001b[1;32mif\u001b[0m\u001b[1;33m(\u001b[0m\u001b[0mfloat\u001b[0m\u001b[1;33m(\u001b[0m\u001b[0mSpTypeN\u001b[0m\u001b[1;33m[\u001b[0m\u001b[0mj\u001b[0m\u001b[1;33m]\u001b[0m\u001b[1;33m)\u001b[0m \u001b[1;33m==\u001b[0m \u001b[1;36m5.0\u001b[0m\u001b[1;33m)\u001b[0m\u001b[1;33m:\u001b[0m\u001b[1;33m\u001b[0m\u001b[0m\n\u001b[1;32m      4\u001b[0m         \u001b[0mcount\u001b[0m \u001b[1;33m=\u001b[0m \u001b[0mcount\u001b[0m \u001b[1;33m+\u001b[0m \u001b[1;36m1\u001b[0m\u001b[1;33m\u001b[0m\u001b[0m\n\u001b[1;32m      5\u001b[0m \u001b[0mprint\u001b[0m\u001b[1;33m(\u001b[0m\u001b[0mcount\u001b[0m\u001b[1;33m)\u001b[0m\u001b[1;33m\u001b[0m\u001b[0m\n",
      "\u001b[0;31mNameError\u001b[0m: name 'Teff' is not defined"
     ]
    }
   ],
   "source": [
    "count = 0\n",
    "for j in range(len(Teff)):\n",
    "    if(float(SpTypeN[j]) == 5.0):\n",
    "        count = count + 1\n",
    "print(count)"
   ]
  },
  {
   "cell_type": "code",
   "execution_count": 26,
   "metadata": {
    "collapsed": false
   },
   "outputs": [
    {
     "name": "stdout",
     "output_type": "stream",
     "text": [
      "[3.5043776035308838, 2.2642421722412109, 1.2373929023742676, 0.37450814247131348, 0.047734260559082031, 2.9840960502624512, 1.8383498191833496, 3.1845827102661133, 2.3590567111968994, 2.948868989944458, 1.7667338848114014, 2.5559618473052979, -0.49607706069946289, 3.6240905523300171, 0.74231839179992676, 3.3939220905303955, 1.6036251783370972, 2.5129621028900146, 2.419586181640625, 3.9125221967697144]\n"
     ]
    }
   ],
   "source": [
    "para = t['Plx'] \n",
    "dist = 1000/para \n",
    "AbsGmag = [] \n",
    "AbsVmag = [] \n",
    "AbsKmag = [] \n",
    "AbsHmag = [] \n",
    "AbsJmag = [] \n",
    "AbsBmag = []\n",
    "\n",
    "for i in range(len(dist)): \n",
    "    if(Kmag.mask[i] == False and Hmag.mask[i] == False and Jmag.mask[i] == False): \n",
    "        AbsGmag.append(Gmag[i] + 5 - 5*np.log10(dist[i]))\n",
    "\n",
    "        AbsVmag.append(Vmag[i] + 5 - 5*np.log10(dist[i]))\n",
    "\n",
    "        AbsKmag.append(Kmag[i] + 5 - 5*np.log10(dist[i]))\n",
    "\n",
    "        AbsHmag.append(Hmag[i] + 5 - 5*np.log10(dist[i]))\n",
    "\n",
    "        AbsJmag.append(Jmag[i] + 5 - 5*np.log10(dist[i]))\n",
    "\n",
    "        AbsBmag.append(Bmag[i] + 5 - 5*np.log10(dist[i]))\n"
   ]
  },
  {
   "cell_type": "code",
   "execution_count": 4,
   "metadata": {
    "collapsed": false
   },
   "outputs": [
    {
     "name": "stdout",
     "output_type": "stream",
     "text": [
      "50093 50093 50093\n"
     ]
    }
   ],
   "source": [
    "para = t['Plx'] \n",
    "dist = 1000/para \n",
    "AbsGmag = [] \n",
    "AbsVmag = [] \n",
    "AbsKmag = [] \n",
    "AbsHmag = [] \n",
    "AbsJmag = [] \n",
    "AbsBmag = []\n",
    "\n",
    "for i in range(len(dist)): \n",
    "    \n",
    "    AbsGmag.append(Gmag[i] + 5 - 5*np.log10(dist[i]))\n",
    "\n",
    "    AbsVmag.append(Vmag[i] + 5 - 5*np.log10(dist[i]))\n",
    "\n",
    "    AbsKmag.append(Kmag[i] + 5 - 5*np.log10(dist[i]))\n",
    "\n",
    "    AbsHmag.append(Hmag[i] + 5 - 5*np.log10(dist[i]))\n",
    "\n",
    "    AbsJmag.append(Jmag[i] + 5 - 5*np.log10(dist[i]))\n",
    "\n",
    "    AbsBmag.append(Bmag[i] + 5 - 5*np.log10(dist[i]))\n",
    "        \n",
    "print(len(AbsVmag), len(AbsBmag), len(AbsJmag))"
   ]
  },
  {
   "cell_type": "code",
   "execution_count": 47,
   "metadata": {
    "collapsed": false
   },
   "outputs": [
    {
     "name": "stdout",
     "output_type": "stream",
     "text": [
      "   Hmag  \n",
      "---------\n",
      "8.4549999\n",
      "8.5039997\n",
      "7.4239998\n",
      "6.0050001\n",
      "5.5349998\n",
      "8.7930002\n",
      "8.2919998\n",
      "8.4820004\n",
      "    7.822\n",
      "8.9350004\n",
      "7.6170001\n",
      "7.7919998\n",
      "5.5279999\n",
      "8.3780003\n",
      "7.2129998\n",
      "9.2250004\n",
      "5.9860001\n",
      "7.7490001\n",
      "       --\n",
      "8.5179996\n",
      "[3.5043776035308838, 2.2642421722412109, 1.2373929023742676, 0.37450814247131348, 0.047734260559082031, 2.9840960502624512, 1.8383498191833496, 3.1845827102661133, 2.3590567111968994, 2.948868989944458, 1.7667338848114014, 2.5559618473052979, -0.49607706069946289, 3.6240905523300171, 0.74231839179992676, 3.3939220905303955, 1.6036251783370972, 2.5129621028900146, masked, 2.419586181640625]\n"
     ]
    }
   ],
   "source": [
    "print(Hmag[0:20])\n",
    "print(AbsHmag[0:20])"
   ]
  },
  {
   "cell_type": "code",
   "execution_count": 18,
   "metadata": {
    "collapsed": false
   },
   "outputs": [
    {
     "ename": "IndexError",
     "evalue": "list index out of range",
     "output_type": "error",
     "traceback": [
      "\u001b[0;31m---------------------------------------------------------------------------\u001b[0m",
      "\u001b[0;31mIndexError\u001b[0m                                Traceback (most recent call last)",
      "\u001b[0;32m<ipython-input-18-1d0497054782>\u001b[0m in \u001b[0;36m<module>\u001b[0;34m()\u001b[0m\n\u001b[1;32m      8\u001b[0m \u001b[0;32mfor\u001b[0m \u001b[0mi\u001b[0m \u001b[0;32min\u001b[0m \u001b[0mrange\u001b[0m\u001b[0;34m(\u001b[0m\u001b[0mlen\u001b[0m\u001b[0;34m(\u001b[0m\u001b[0mSp\u001b[0m\u001b[0;34m)\u001b[0m\u001b[0;34m)\u001b[0m\u001b[0;34m:\u001b[0m\u001b[0;34m\u001b[0m\u001b[0m\n\u001b[1;32m      9\u001b[0m     \u001b[0;32mif\u001b[0m\u001b[0;34m(\u001b[0m\u001b[0;34m'5.0'\u001b[0m \u001b[0;32min\u001b[0m \u001b[0mstr\u001b[0m\u001b[0;34m(\u001b[0m\u001b[0mSp\u001b[0m\u001b[0;34m[\u001b[0m\u001b[0mi\u001b[0m\u001b[0;34m]\u001b[0m\u001b[0;34m)\u001b[0m\u001b[0;34m)\u001b[0m\u001b[0;34m:\u001b[0m\u001b[0;34m\u001b[0m\u001b[0m\n\u001b[0;32m---> 10\u001b[0;31m         \u001b[0mGmagV\u001b[0m\u001b[0;34m.\u001b[0m\u001b[0mappend\u001b[0m\u001b[0;34m(\u001b[0m\u001b[0mAbsGmag\u001b[0m\u001b[0;34m[\u001b[0m\u001b[0mi\u001b[0m\u001b[0;34m]\u001b[0m\u001b[0;34m)\u001b[0m\u001b[0;34m\u001b[0m\u001b[0m\n\u001b[0m\u001b[1;32m     11\u001b[0m         \u001b[0mVmagV\u001b[0m\u001b[0;34m.\u001b[0m\u001b[0mappend\u001b[0m\u001b[0;34m(\u001b[0m\u001b[0mAbsVmag\u001b[0m\u001b[0;34m[\u001b[0m\u001b[0mi\u001b[0m\u001b[0;34m]\u001b[0m\u001b[0;34m)\u001b[0m\u001b[0;34m\u001b[0m\u001b[0m\n\u001b[1;32m     12\u001b[0m         \u001b[0mKmagV\u001b[0m\u001b[0;34m.\u001b[0m\u001b[0mappend\u001b[0m\u001b[0;34m(\u001b[0m\u001b[0mAbsKmag\u001b[0m\u001b[0;34m[\u001b[0m\u001b[0mi\u001b[0m\u001b[0;34m]\u001b[0m\u001b[0;34m)\u001b[0m\u001b[0;34m\u001b[0m\u001b[0m\n",
      "\u001b[0;31mIndexError\u001b[0m: list index out of range"
     ]
    }
   ],
   "source": [
    "GmagV = [] \n",
    "VmagV = [] \n",
    "KmagV = [] \n",
    "HmagV = [] \n",
    "JmagV = [] \n",
    "BmagV = []\n",
    "TotalV = 0\n",
    "for i in range(len(Sp)): \n",
    "    if('5.0' in str(Sp[i])): \n",
    "        GmagV.append(AbsGmag[i]) \n",
    "        VmagV.append(AbsVmag[i]) \n",
    "        KmagV.append(AbsKmag[i]) \n",
    "        HmagV.append(AbsHmag[i]) \n",
    "        JmagV.append(AbsJmag[i])\n",
    "        BmagV.append(AbsBmag[i])\n",
    "        TotalV = TotalV + 1\n",
    "print('There are ', TotalV, 'Main Sequence stars')\n",
    "#print(np.mean(VmagV))\n"
   ]
  },
  {
   "cell_type": "code",
   "execution_count": 7,
   "metadata": {
    "collapsed": false
   },
   "outputs": [
    {
     "ename": "NameError",
     "evalue": "name 'Teff' is not defined",
     "output_type": "error",
     "traceback": [
      "\u001b[0;31m---------------------------------------------------------------------------\u001b[0m",
      "\u001b[0;31mNameError\u001b[0m                                 Traceback (most recent call last)",
      "\u001b[0;32m<ipython-input-7-01e24714866d>\u001b[0m in \u001b[0;36m<module>\u001b[0;34m()\u001b[0m\n\u001b[1;32m      1\u001b[0m \u001b[0mTemps\u001b[0m\u001b[1;33m=\u001b[0m \u001b[1;33m[\u001b[0m\u001b[1;33m]\u001b[0m\u001b[1;33m\u001b[0m\u001b[0m\n\u001b[1;32m      2\u001b[0m \u001b[0mlength\u001b[0m \u001b[1;33m=\u001b[0m \u001b[1;36m0\u001b[0m\u001b[1;33m\u001b[0m\u001b[0m\n\u001b[0;32m----> 3\u001b[0;31m \u001b[1;32mfor\u001b[0m \u001b[0mi\u001b[0m \u001b[1;32min\u001b[0m \u001b[0mTeff\u001b[0m\u001b[1;33m:\u001b[0m\u001b[1;33m\u001b[0m\u001b[0m\n\u001b[0m\u001b[1;32m      4\u001b[0m     \u001b[1;32mif\u001b[0m\u001b[1;33m(\u001b[0m\u001b[0mSpTypeN\u001b[0m \u001b[1;33m==\u001b[0m \u001b[1;36m5.0\u001b[0m\u001b[1;33m)\u001b[0m\u001b[1;33m:\u001b[0m\u001b[1;33m\u001b[0m\u001b[0m\n\u001b[1;32m      5\u001b[0m         \u001b[0mTemps\u001b[0m\u001b[1;33m.\u001b[0m\u001b[0mappend\u001b[0m\u001b[1;33m(\u001b[0m\u001b[0mTeff\u001b[0m\u001b[1;33m[\u001b[0m\u001b[0mi\u001b[0m\u001b[1;33m]\u001b[0m\u001b[1;33m)\u001b[0m\u001b[1;33m\u001b[0m\u001b[0m\n",
      "\u001b[0;31mNameError\u001b[0m: name 'Teff' is not defined"
     ]
    }
   ],
   "source": [
    "Temps= []\n",
    "\n",
    "length = 0\n",
    "for i in Teff:\n",
    "    if(SpTypeN == 5.0):\n",
    "        Temps.append(Teff[i])\n",
    "        if(5000.0 <= Teff[i] <= 5500.0):\n",
    "            length = length + 1\n",
    "        \n",
    "print(length)\n",
    "\n",
    "bins = 20\n",
    "plt.xlabel(\"Effective Temperature in Kelvin\")\n",
    "plt.ylabel(\"Number of Sources\")\n",
    "plt.title(\"Histogram of Effective Temperature for Main Sequence\")\n",
    "pltemp=plt.hist(Temps,bins)\n",
    "plt.show()"
   ]
  },
  {
   "cell_type": "code",
   "execution_count": 25,
   "metadata": {
    "collapsed": false,
    "scrolled": true
   },
   "outputs": [],
   "source": [
    "Teff = t['Teff']\n",
    "temps = [4000.0,4500.0,5000.0,5500.0,6000.0,6500.0,7000.0,7500.0,8000.0,8500.0,9000.0,9500.0,10000.0]\n",
    "EffWave = [445,551,600,1220,1630,2190]\n",
    "\n",
    "totalB = []\n",
    "totalV = []\n",
    "totalK = []\n",
    "totalH = []\n",
    "totalJ = []\n",
    "totalG = []\n",
    "totalTemp = []\n",
    "TotalMags = np.zeros((6,13))\n",
    "for i in temps:\n",
    "    sources = 0\n",
    "    tempRange = []\n",
    "    GmagV = []\n",
    "    VmagV = []\n",
    "    KmagV = []\n",
    "    HmagV = []\n",
    "    JmagV = []\n",
    "    BmagV = []\n",
    "    for j in range(0,len(Teff)):\n",
    "        if(SpTypeN[j] in SpV):\n",
    "            if(i <= Teff[j] <= (i+500.0)):\n",
    "                \n",
    "                tempRange.append(Teff[j])\n",
    "                if(Gmag.mask[j] == False): \n",
    "                    GmagV.append(AbsGmag[j])\n",
    "                if(Vmag.mask[j] == False): \n",
    "                    VmagV.append(AbsVmag[j])\n",
    "                if(Kmag.mask[j] == False):     \n",
    "                    KmagV.append(AbsKmag[j])\n",
    "                if(Hmag.mask[j] == False): \n",
    "                    HmagV.append(AbsHmag[j])\n",
    "                if(Jmag.mask[j] == False): \n",
    "                    JmagV.append(AbsJmag[j])\n",
    "                if(Bmag.mask[j] == False): \n",
    "                    BmagV.append(AbsBmag[j])\n",
    "                sources = sources + 1\n",
    "    MeanTemp = np.mean(tempRange)\n",
    "    MinTemp = np.min(tempRange)\n",
    "    MaxTemp = np.max(tempRange)\n",
    "    TempStd = np.std(tempRange)     \n",
    "    MeanGmag = np.mean(GmagV)\n",
    "    MeanVmag = np.mean(VmagV)\n",
    "    MeanHmag = np.mean(HmagV)\n",
    "    MeanJmag = np.mean(JmagV)\n",
    "    MeanKmag = np.mean(KmagV)\n",
    "    MeanBmag = np.mean(BmagV)\n",
    "    totalTemp.append(MeanTemp)\n",
    "    totalB.append(MeanBmag)\n",
    "    totalG.append(MeanGmag)\n",
    "    totalV.append(MeanVmag)\n",
    "    totalH.append(MeanHmag)\n",
    "    totalK.append(MeanKmag)\n",
    "    totalJ.append(MeanJmag)\n",
    "    GmagStd = np.std(GmagV)\n",
    "    HmagStd = np.std(HmagV)\n",
    "    VmagStd = np.std(VmagV)\n",
    "    JmagStd = np.std(JmagV)\n",
    "    KmagStd = np.std(KmagV)\n",
    "    BmagStd = np.std(BmagV)\n",
    "    Mags = [MeanBmag,MeanVmag,MeanGmag,MeanJmag,MeanHmag,MeanKmag]\n",
    "    \n",
    "    #Mags = [MeanKmag,MeanHmag,MeanJmag,MeanGmag,MeanVmag]\n",
    "#     plt.xlabel('Effective Wavelength')\n",
    "#     plt.ylabel('Absolute Magnitude')\n",
    "#     plt.title('Absolute Magnitude SED for '+ str(i)+'-'+ str(i+500) + ' K')\n",
    "#     plt.scatter(EffWave,Mags)\n",
    "#     plt.gca().invert_yaxis()\n",
    "#     #plt.errorbar(EffWave,Mags,[BmagStd,VmagStd,GmagStd,JmagStd,HmagStd,KmagStd])\n",
    "#     plt.show()\n",
    "    \n",
    "#     print('Number of Stars: ', sources)\n",
    "#     print('Average Effective Temp in K: ', MeanTemp)\n",
    "#     print('Standard Deviation of Temp in K: ', TempStd)\n",
    "#     print('Min Temp: ', MinTemp, '  Max Temp: ', MaxTemp)\n",
    "#     print('Average Bmag: ', MeanBmag)\n",
    "#     print('Average Vmag: ', MeanVmag)\n",
    "#     print('Average Gmag: ', MeanGmag)\n",
    "#     print('average Hmag: ', MeanHmag)\n",
    "#     print('average Jmag: ', MeanJmag)\n",
    "#     print('average Kmag: ', MeanKmag)\n",
    "    #print('Standard Deviation of Gmag: ',GmagStd)\n",
    "    #print(MeanVmag)\n",
    "        "
   ]
  },
  {
   "cell_type": "code",
   "execution_count": 20,
   "metadata": {
    "collapsed": false,
    "scrolled": false
   },
   "outputs": [
    {
     "name": "stdout",
     "output_type": "stream",
     "text": [
      "Mean Effective Temperature in G-J Range 0.0-0.5:  9385.89085072 \n",
      "Number of Sources:  623 \n",
      "\n",
      "Mean Effective Temperature in G-J Range 0.5-1.2:  6223.22580645 \n",
      "Number of Sources:  465 \n",
      "\n",
      "     G-J [0.0-0.5]                           G-J [0.5-1.2]\n",
      "\n",
      "    RA                 DEC         DIST                 RA                DEC         DIST\n",
      "271.16212372     -41.97017167     172.712          238.30027959     -7.65534154     145.773\n",
      "93.2465281     -28.46361115     150.15          77.88766668     -3.59936093     182.482\n",
      "48.75113318     -26.10046057     151.057          234.06460186     -7.71727492     174.52\n",
      "45.2229946     52.35204252     147.71          280.46668795     -39.67516865     119.332\n",
      "273.55307709     -39.94978747     191.205          231.77763686     -40.37868703     186.567\n",
      "51.54522928     48.38403538     170.358          231.54871677     -38.15709231     184.502\n",
      "52.22355732     49.07031609     198.02          76.49528868     -68.41664384     106.496\n",
      "166.63697272     -21.16687764     151.976          72.8365555     -68.06964517     55.5864\n",
      "51.15085027     -51.06266257     118.343          207.13007062     -22.15570342     95.6023\n",
      "231.2768025     -38.16923903     162.075          108.88705038     -23.70733759     109.409\n",
      "169.08251355     -34.66788741     117.786          56.9140909     -70.92183867     150.376\n",
      "283.35284716     -37.27438803     165.837          255.73966253     -47.3645371     188.324\n",
      "50.0260971     50.96876025     170.94          111.23950052     4.10595693     149.477\n",
      "177.30304023     -57.69155758     158.983          246.39557076     -16.08493438     166.667\n",
      "109.99821013     2.46043834     198.02          204.54614546     -20.76125482     195.313\n",
      "243.29936597     -49.88470269     180.832          205.29833264     -11.29819742     168.919\n",
      "303.93020932     50.23289643     135.135          315.42829404     -23.7992821     116.009\n",
      "209.24714609     -23.10361801     168.919          271.74718488     -76.11250569     186.916\n",
      "60.1819997     -71.16679951     105.263          205.24124214     -8.66945456     146.199\n",
      "251.52655192     -46.53199785     139.47          286.9049121     -19.37720271     179.856\n",
      "\n",
      " \n",
      "All Source below Theoretical Main Sequence Line (blue)\n",
      "\n",
      "    RA                 DEC         DIST\n",
      "142.66100342     -15.15792257     68.0735\n",
      "282.98578749     -57.93476179     143.062\n",
      "339.19491598     -21.0895881     95.3289\n",
      "46.96187363     -27.83114851     51.1509\n",
      "353.74871814     -21.7749636     89.5255\n",
      "289.33936518     -46.68330316     70.922\n",
      "76.52355991     2.02940625     187.97\n",
      "286.60034562     -34.20057564     58.0046\n",
      "293.53999847     -55.02820401     77.2201\n",
      "42.24223184     4.08002177     183.15\n",
      "350.92682537     -78.17102438     116.279\n",
      "71.00411298     -78.02153553     173.01\n",
      "150.31366142     -0.75054421     185.185\n",
      "168.97595432     2.08669023     86.1326\n",
      "111.78915991     -41.0555261     172.712\n",
      "157.57375381     -17.86106772     62.6566\n",
      "154.94225644     -71.55480071     58.8582\n",
      "310.46841917     -10.15402611     175.131\n",
      "88.99303883     -1.28753831     186.22\n",
      "92.88695087     3.84207908     175.747\n"
     ]
    },
    {
     "data": {
      "image/png": "[encoded data removed]",
      "text/plain": [
       "<matplotlib.figure.Figure at 0xe9e8378828>"
      ]
     },
     "metadata": {},
     "output_type": "display_data"
    },
    {
     "data": {
      "image/png": "[encoded data removed]",
      "text/plain": [
       "<matplotlib.figure.Figure at 0xe9e7ecf208>"
      ]
     },
     "metadata": {},
     "output_type": "display_data"
    },
    {
     "data": {
      "image/png": "[encoded data removed]",
      "text/plain": [
       "<matplotlib.figure.Figure at 0xe9e892b710>"
      ]
     },
     "metadata": {},
     "output_type": "display_data"
    },
    {
     "data": {
      "image/png": "[encoded data removed]",
      "text/plain": [
       "<matplotlib.figure.Figure at 0xe9e8234b38>"
      ]
     },
     "metadata": {},
     "output_type": "display_data"
    },
    {
     "data": {
      "image/png": "[encoded data removed]",
      "text/plain": [
       "<matplotlib.figure.Figure at 0xe9e7f451d0>"
      ]
     },
     "metadata": {},
     "output_type": "display_data"
    },
    {
     "data": {
      "image/png": "[encoded data removed]",
      "text/plain": [
       "<matplotlib.figure.Figure at 0xe9e87c4588>"
      ]
     },
     "metadata": {},
     "output_type": "display_data"
    },
    {
     "name": "stdout",
     "output_type": "stream",
     "text": [
      "There are:  19641 Stars being used here\n"
     ]
    }
   ],
   "source": [
    "Teff = t['Teff']\n",
    "RA = t['RAJ2000']\n",
    "DEC = t['DEJ2000']\n",
    "Gabs = []\n",
    "GJabs = []\n",
    "# First Region represents the G-J range of [0.0-0.5]\n",
    "# Second Region represents the G-J range of [0.5-1.2]\n",
    "# Each RA and DEC arrays correspond to each region based on the _\"first\" or _\"second\" notation\n",
    "RA_first = []\n",
    "DEC_first = []\n",
    "temp_first = []\n",
    "RA_second = []\n",
    "DEC_second = []\n",
    "temp_second = []\n",
    "GJ1st = []\n",
    "G1st = []\n",
    "GJ2nd = []\n",
    "G2nd = []\n",
    "dist_1st = []\n",
    "dist_2nd = []\n",
    "# Arrays for sources below Main Sequence Line\n",
    "RA_below = []\n",
    "DEC_below = []\n",
    "G_below = []\n",
    "GJ_below = []\n",
    "dist_below = []\n",
    "temp_below = []\n",
    "# Defines a rough estimate of the bottom of the Main Sequence Line. \n",
    "xrange = np.linspace(-0.5,2.0)\n",
    "yvalue = xrange*3.7 +1.4\n",
    "plt.plot(xrange,yvalue,c='b')\n",
    "count = 0\n",
    "all_dist = []\n",
    "for i in range(0,len(Teff)):\n",
    "    if(SpTypeN[i] == 5.0 and Gmag.mask[i] == False and Jmag.mask[i] == False and Kmag.mask[i] == False and Hmag.mask[i] == False):\n",
    "        \n",
    "        if(Jmag.mask[i] == False and Gmag.mask[i] == False and Bmag.mask[i] == False):\n",
    "            count = count + 1\n",
    "            Gvalue = AbsGmag[i]\n",
    "            GJvalue = AbsGmag[i]-AbsJmag[i]\n",
    "            Gabs.append(Gvalue)\n",
    "            GJabs.append(GJvalue)\n",
    "            all_dist.append(dist[i])\n",
    "            if(GJvalue >= 0.0 and GJvalue < 0.5):\n",
    "                if(Gvalue >= 0.0 and Gvalue <= 1.5):\n",
    "                    RA_first.append(RA[i])\n",
    "                    DEC_first.append(DEC[i])\n",
    "                    temp_first.append(Teff[i])\n",
    "                    G1st.append(Gvalue)\n",
    "                    GJ1st.append(GJvalue)\n",
    "                    dist_1st.append(dist[i])\n",
    "            if(0.9 <= GJvalue <= 1.2):\n",
    "                if(2.5 <= Gvalue <= 3.0):\n",
    "                    RA_second.append(RA[i])\n",
    "                    DEC_second.append(DEC[i])\n",
    "                    temp_second.append(Teff[i])\n",
    "                    G2nd.append(Gvalue)\n",
    "                    GJ2nd.append(GJvalue)\n",
    "                    dist_2nd.append(dist[i])\n",
    "            if(0.1 <= GJvalue <= 1.0):\n",
    "                if(Gvalue > GJvalue*3.7+1.6):\n",
    "                    RA_below.append(RA[i])\n",
    "                    DEC_below.append(DEC[i])\n",
    "                    G_below.append(Gvalue)\n",
    "                    GJ_below.append(GJvalue)\n",
    "                    dist_below.append(dist[i])\n",
    "                    temp_below.append(Teff[i])\n",
    "#              if(0.2 <= GJvalue <= 0.5):\n",
    "#                  if(Gvalue/GJvalue < 3.7):\n",
    "#                      RA_below.append(RA[i])\n",
    "#                      DEC_below.append(DEC[i])\n",
    "#                      G_below.append(Gvalue)\n",
    "#                      GJ_below.append(GJvalue)\n",
    "#                      dist_below.append(dist[i])\n",
    "#                      temp_below.append(Teff[i])\n",
    "                \n",
    "plt.title('Color-Mag Diagram and Luminosity of class V')\n",
    "plt.xlabel('G-J')\n",
    "plt.ylabel('Gabs')\n",
    "plt.gca().invert_yaxis()\n",
    "plt.scatter(GJabs,Gabs,s=0.6,c='k')\n",
    "meanTempFirst = np.mean(temp_first)\n",
    "meanTempSecond = np.mean(temp_second)\n",
    "\n",
    "Gabs100 = []\n",
    "GJabs100 = []\n",
    "\n",
    "\n",
    "print('Mean Effective Temperature in G-J Range 0.0-0.5: ', meanTempFirst, '\\nNumber of Sources: ', len(RA_first), '\\n')\n",
    "\n",
    "\n",
    "print('Mean Effective Temperature in G-J Range 0.5-1.2: ', meanTempSecond, '\\nNumber of Sources: ', len(RA_second), '\\n')\n",
    "print('     G-J [0.0-0.5]                           G-J [0.5-1.2]\\n')\n",
    "print('    RA                 DEC         DIST                 RA                DEC         DIST')\n",
    "\n",
    "G_1st = []\n",
    "GJ_1st = []\n",
    "G_2nd = []\n",
    "GJ_2nd = []\n",
    "for j in range(0,20):\n",
    "    \n",
    "    print(RA_first[j], '   ',DEC_first[j], '   ',dist_1st[j], '        ',RA_second[j], '   ',DEC_second[j], '   ',dist_2nd[j])\n",
    "    G_1st.append(G1st[j])\n",
    "    GJ_1st.append(GJ1st[j])\n",
    "    G_2nd.append(G2nd[j])\n",
    "    GJ_2nd.append(GJ2nd[j])\n",
    "\n",
    "print('\\n \\nAll Source below Theoretical Main Sequence Line (blue)\\n')\n",
    "print('    RA                 DEC         DIST')\n",
    "for j in range(0,len(RA_below)):\n",
    "    \n",
    "    print(RA_below[j], '   ',DEC_below[j], '   ',dist_below[j])\n",
    "#     G_1st.append(G1st[j])\n",
    "#     GJ_1st.append(GJ1st[j])\n",
    "#     G_2nd.append(G2nd[j])\n",
    "#     GJ_2nd.append(GJ2nd[j])\n",
    "plt.scatter(GJ_1st,G_1st,s=3.0,c='r')\n",
    "plt.scatter(GJ_2nd,G_2nd,s=3.0,c='r')\n",
    "plt.scatter(GJ_below,G_below,s=3.0,c='r')\n",
    "plt.show()\n",
    "    \n",
    "plt.title('Histogram of Normalized Source Distance in G-J Range [0.0-0.5] ')\n",
    "plt.xlabel('Distance in Parsecs')\n",
    "plt.ylabel('Number of Sources')\n",
    "hist1st=plt.hist(dist_1st,normed=True)\n",
    "plt.show()\n",
    "plt.title('Histogram of Normalized Source Distance in G-J Range [0.5-1.2] ')\n",
    "plt.xlabel('Distance in Parsecs')\n",
    "plt.ylabel('Number of Sources')\n",
    "hist2nd=plt.hist(dist_2nd,normed=True)\n",
    "plt.show()\n",
    "plt.title('Normalized sources in 3 ranges')\n",
    "histbelow=plt.hist(all_dist,normed=True)\n",
    "hist1st=plt.hist(dist_1st,normed=True)\n",
    "plt.hist(dist_2nd,normed=True)\n",
    "#plt.legend('Class V','1st Region','2nd Region')\n",
    "plt.show()\n",
    "plt.title('Normalized Source distance for all ClassV stars')\n",
    "plt.hist(all_dist,normed=True)\n",
    "plt.show()\n",
    "\n",
    "for i in range(0,len(Teff)):\n",
    "    if(SpTypeN[i] == 5.0 and Gmag.mask[i] == False and Jmag.mask[i] == False and Kmag.mask[i] == False and Hmag.mask[i] == False):\n",
    "        if(Jmag.mask[i] == False and Gmag.mask[i] == False and Bmag.mask[i] == False):\n",
    "            if(dist[i] < 100):\n",
    "                Gvalue = AbsGmag[i]\n",
    "                GJvalue = AbsGmag[i]-AbsJmag[i]\n",
    "                Gabs100.append(Gvalue)\n",
    "                GJabs100.append(GJvalue)\n",
    "\n",
    "plt.scatter(GJ_1st,G_1st,s=3.0,c='r')\n",
    "plt.scatter(GJ_2nd,G_2nd,s=3.0,c='r')\n",
    "plt.scatter(GJ_below,G_below,s=3.0,c='r')\n",
    "plt.scatter(GJabs100,Gabs100,s=1.0)\n",
    "plt.gca().invert_yaxis()\n",
    "plt.show()\n",
    "print('There are: ',count, 'Stars being used here')"
   ]
  },
  {
   "cell_type": "code",
   "execution_count": 9,
   "metadata": {
    "collapsed": false
   },
   "outputs": [
    {
     "name": "stdout",
     "output_type": "stream",
     "text": [
      "1091\n"
     ]
    }
   ],
   "source": [
    "print(len(RA_first))"
   ]
  },
  {
   "cell_type": "code",
   "execution_count": 153,
   "metadata": {
    "collapsed": false
   },
   "outputs": [
    {
     "name": "stdout",
     "output_type": "stream",
     "text": [
      "[ 1.13198906  1.08665074  1.09707195  0.92395071  0.93862775  0.89636776]\n",
      "0.200704184789\n"
     ]
    }
   ],
   "source": [
    "totalMags = np.array([totalB,totalV,totalG,totalJ,totalH,totalK])\n",
    "\n",
    "#plt.scatter(totalMags[0][0:])\n",
    "print(totalMags[:,12])\n",
    "print(totalMags[:,12][2]-totalMags[:,12][5])"
   ]
  },
  {
   "cell_type": "code",
   "execution_count": 133,
   "metadata": {
    "collapsed": false
   },
   "outputs": [
    {
     "name": "stdout",
     "output_type": "stream",
     "text": [
      "[[1, 2, 3]]\n"
     ]
    }
   ],
   "source": [
    "array = [[1,2,3],[4,5,6]]\n",
    "print(array[0:3][0:1])"
   ]
  },
  {
   "cell_type": "code",
   "execution_count": 57,
   "metadata": {
    "collapsed": false
   },
   "outputs": [],
   "source": [
    "Teff = t['Teff']\n",
    "temps = [4000.0,4500.0,5000.0,5500.0,6000.0,6500.0,7000.0,7500.0,8000.0,8500.0,9000.0,9500.0,10000.0]\n",
    "totalRelB = ([])\n",
    "totalRelV = ([])\n",
    "totalRelK = ([])\n",
    "totalRelH = ([])\n",
    "totalRelJ = ([])\n",
    "totalRelG = ([])\n",
    "Bstd = []\n",
    "Vstd = []\n",
    "Kstd = []\n",
    "Hstd = []\n",
    "Jstd = []\n",
    "Gstd = []\n",
    "for i in temps:\n",
    "    sources = 0\n",
    "    tempRange = []\n",
    "    GmagV = []\n",
    "    VmagV = []\n",
    "    KmagV = []\n",
    "    HmagV = []\n",
    "    JmagV = []\n",
    "    BmagV = []\n",
    "    for j in range(0,len(Teff)):\n",
    "        if(SpTypeN[j] in SpV):\n",
    "            if(i <= Teff[j] <= i+500):\n",
    "                tempRange.append(Teff[j])\n",
    "                if(Gmag.mask[j] == False):\n",
    "                    GmagV.append(AbsGmag[j]-AbsGmag[j])\n",
    "                if(Vmag.mask[j] == False and Gmag.mask[j] == False):\n",
    "                    VmagV.append(AbsGmag[j]-AbsVmag[j])\n",
    "                if(Kmag.mask[j] == False and Gmag.mask[j] == False):\n",
    "                    KmagV.append(AbsGmag[j]-AbsKmag[j])\n",
    "                if(Hmag.mask[j] == False and Gmag.mask[j] == False):\n",
    "                    HmagV.append(AbsGmag[j]-AbsHmag[j])\n",
    "                if(Jmag.mask[j] == False and Gmag.mask[j] == False):\n",
    "                    JmagV.append(AbsGmag[j]-AbsJmag[j])\n",
    "                if(Bmag.mask[j] == False and Gmag.mask[j] == False):\n",
    "                    BmagV.append(AbsGmag[j]-AbsBmag[j])\n",
    "                sources = sources + 1\n",
    "    \n",
    "    MeanGmag = np.mean(GmagV)\n",
    "    MeanVmag = np.mean(VmagV)\n",
    "    MeanHmag = np.mean(HmagV)\n",
    "    MeanJmag = np.mean(JmagV)\n",
    "    MeanKmag = np.mean(KmagV)\n",
    "    MeanBmag = np.mean(BmagV)\n",
    "    \n",
    "    Bstd.append(np.nanstd(BmagV))\n",
    "    Vstd.append(np.nanstd(VmagV))\n",
    "    Hstd.append(np.nanstd(HmagV))\n",
    "    Jstd.append(np.nanstd(JmagV))\n",
    "    Kstd.append(np.nanstd(KmagV))\n",
    "    Gstd.append(np.nanstd(GmagV))\n",
    "    totalRelB.append(MeanBmag)\n",
    "    totalRelG.append(MeanGmag)\n",
    "    totalRelV.append(MeanVmag)\n",
    "    totalRelH.append(MeanHmag)\n",
    "    totalRelK.append(MeanKmag)\n",
    "    totalRelJ.append(MeanJmag)\n",
    "    #print(MeanBmag)\n",
    "    Mags = [MeanBmag,MeanVmag,MeanJmag,MeanHmag,MeanKmag]\n",
    "    #Mags = [MeanKmag,MeanHmag,MeanJmag,MeanGmag,MeanVmag]\n",
    "    #plt.xlabel('Effective Wavelength')\n",
    "#     plt.ylabel('Absolute Magnitude')\n",
    "#     plt.title('Relative Magnitude SED for '+ str(i)+'-'+ str(i+500) + ' K')\n",
    "#     plt.scatter(EffWave,Mags)\n",
    "#     plt.gca().invert_yaxis()\n",
    "#     plt.show()\n",
    "    "
   ]
  },
  {
   "cell_type": "code",
   "execution_count": 55,
   "metadata": {
    "collapsed": false
   },
   "outputs": [
    {
     "name": "stdout",
     "output_type": "stream",
     "text": [
      "[-2.091311770600158, -1.6942293482615536, -1.380323401284874]\n"
     ]
    }
   ],
   "source": [
    "print(totalRelB)"
   ]
  },
  {
   "cell_type": "code",
   "execution_count": 29,
   "metadata": {
    "collapsed": false
   },
   "outputs": [
    {
     "name": "stdout",
     "output_type": "stream",
     "text": [
      "[4268.2022471910113, 4781.5254237288136, 5191.283185840708, 5788.2507739938083, 6316.1147482442566, 6889.9280810722457, 7201.1148272017836, 7847.7671451355664, 8194.3298969072166, 8819.509981851179, 9224.1970802919714, 9520.0, 10500.0]\n"
     ]
    }
   ],
   "source": [
    "print((totalTemp))"
   ]
  },
  {
   "cell_type": "code",
   "execution_count": 8,
   "metadata": {
    "collapsed": false
   },
   "outputs": [
    {
     "name": "stderr",
     "output_type": "stream",
     "text": [
      "C:\\Users\\Kevin.Hall\\Anaconda3\\lib\\site-packages\\matplotlib\\cbook.py:136: MatplotlibDeprecationWarning: The set_color_cycle attribute was deprecated in version 1.5. Use set_prop_cycle instead.\n",
      "  warnings.warn(message, mplDeprecation, stacklevel=1)\n"
     ]
    },
    {
     "data": {
      "image/png": "[encoded data removed]",
      "text/plain": [
       "<matplotlib.figure.Figure at 0x9f2cb78cf8>"
      ]
     },
     "metadata": {},
     "output_type": "display_data"
    }
   ],
   "source": [
    "from matplotlib.pyplot import *\n",
    "\n",
    "totalRelMags = np.array([totalRelB,totalRelV,totalRelG,totalRelJ,totalRelH,totalRelK])\n",
    "fig, ax = plt.subplots()\n",
    "ax.set_color_cycle(['red', 'black', 'blue'])\n",
    "#plt.scatter(totalMags[0][0:])\n",
    "for i in range(len(temps)):\n",
    "    plt.plot(EffWave,totalRelMags[:,i])\n",
    "    #plt.legend([\"Mean Temp: \"], [totalTemp[i]])\n",
    "    \n",
    "plt.show()\n"
   ]
  },
  {
   "cell_type": "code",
   "execution_count": 58,
   "metadata": {
    "collapsed": false
   },
   "outputs": [],
   "source": [
    "Uncert = 0.1\n",
    "ChiVal = []\n",
    "\n",
    "def ChiSq(theory,data):\n",
    "    value = ((theory-data)/Uncert)**(2.0)\n",
    "    return value\n",
    "All_Chi_Values = []\n",
    "Chi_minB = []\n",
    "Chi_minV = []\n",
    "Chi_minH = []\n",
    "Chi_minK = []\n",
    "Chi_minJ = []\n",
    "for i in range(0,len(Teff)):\n",
    "    #if(SpTypeN[i] in SpV and Gmag.mask[i] == False and Jmag.mask[i] == False and Kmag.mask[i] == False and Hmag.mask[i] == False and Bmag.mask[i] == False):\n",
    "    Chivalues = []\n",
    "    ChiB = ([])\n",
    "    #ChiG = []\n",
    "    ChiV = ([])\n",
    "    ChiH = ([])\n",
    "    ChiK = ([])\n",
    "    ChiJ = ([])\n",
    "    for j in range(len(totalTemp)):\n",
    "\n",
    "#             if(Gmag.mask[i] == False):\n",
    "#                 data = (AbsGmag[i]-AbsGmag[i])\n",
    "#                 Chivalues.append(MeanGmag,data)\n",
    "        if(Vmag.mask[i] == False and Gmag.mask[i] == False):\n",
    "            data = (AbsGmag[i]-AbsVmag[i])\n",
    "            currentV = ChiSq(totalRelV[j],data)\n",
    "            ChiV.append([currentV,totalTemp[j]])\n",
    "        if(Kmag.mask[i] == False and Gmag.mask[i] == False):\n",
    "            data = (AbsGmag[i]-AbsKmag[i])\n",
    "            currentK = ChiSq(totalRelK[j],data)\n",
    "            ChiK.append([currentK,totalTemp[j]])\n",
    "        if(Hmag.mask[i] == False and Gmag.mask[i] == False):\n",
    "            data = (AbsGmag[i]-AbsHmag[i])\n",
    "            currentH = ChiSq(totalRelH[j],data)\n",
    "            ChiH.append([currentH,totalTemp[j]])\n",
    "        if(Jmag.mask[i] == False and Gmag.mask[i] == False):\n",
    "            data = (AbsGmag[i]-AbsJmag[i])\n",
    "            currentJ = (ChiSq(totalRelJ[j],data))\n",
    "            ChiJ.append([currentJ,totalTemp[j]])\n",
    "        if(Bmag.mask[i] == False and Gmag.mask[i] == False):\n",
    "            data = (AbsGmag[i]-AbsBmag[i])\n",
    "            currentB = (ChiSq(totalRelB[j],data))\n",
    "            ChiB.append([currentB,totalTemp[j]])\n",
    "    #print(len(ChiV),len(ChiH))\n",
    "    if(len(ChiB) == 0):\n",
    "        Chi_minB.append('nan')\n",
    "    else:\n",
    "        Chi_minB.append(np.min(ChiB))\n",
    "    if(len(ChiV) == 0):\n",
    "        Chi_minV.append('nan')\n",
    "    else:\n",
    "        Chi_minV.append(np.min(ChiV))\n",
    "    if(len(ChiH) == 0):\n",
    "        Chi_minH.append('nan')\n",
    "    else:\n",
    "        Chi_minH.append(np.min(ChiH))\n",
    "    if(len(ChiJ) == 0):\n",
    "        Chi_minJ.append('nan')\n",
    "    else:\n",
    "        Chi_minJ.append(np.min(ChiJ))\n",
    "    if(len(ChiK) == 0):\n",
    "        Chi_minK.append('nan')\n",
    "    else:\n",
    "        Chi_minK.append(np.min(ChiK))\n",
    "\n",
    "        \n",
    "        \n",
    "        "
   ]
  },
  {
   "cell_type": "code",
   "execution_count": 61,
   "metadata": {
    "collapsed": false
   },
   "outputs": [
    {
     "name": "stdout",
     "output_type": "stream",
     "text": [
      "50093\n"
     ]
    }
   ],
   "source": [
    "print(len(Chi_minK))"
   ]
  },
  {
   "cell_type": "code",
   "execution_count": 41,
   "metadata": {
    "collapsed": false
   },
   "outputs": [
    {
     "name": "stdout",
     "output_type": "stream",
     "text": [
      "0.1\n",
      "[0.1, 0.1, 0.1, 0.1, 0.1, 0.1, 0.1, 0.1, 0.1, 0.1, 0.1, 0.1, 0.1, 0.1, 0.1, 0.1, 0.1, 0.1, 0.1, 0.1]\n"
     ]
    }
   ],
   "source": [
    "all_RedChi = []\n",
    "for i in range(len(Chi_minB)): \n",
    "    if('nan' not in str(Chi_minB[i]) and 'nan' not in str(Chi_minV[i]) and 'nan' not in str(Chi_minH[i]) and 'nan' not in str(Chi_minJ[i]) and 'nan' not in str(Chi_minK[i])):\n",
    "        ChiSqu = Chi_minB[i]+Chi_minV[i]+Chi_minH[i]+Chi_minK[i]+Chi_minJ[i]\n",
    "        RedChi = ChiSqu/4.0\n",
    "        all_RedChi.append(RedChi)\n",
    "    else:\n",
    "        all_RedChi.append(.1)\n",
    "print(np.mean(all_RedChi))\n",
    "print(all_RedChi[4000:4020])\n"
   ]
  },
  {
   "cell_type": "code",
   "execution_count": 10,
   "metadata": {
    "collapsed": false,
    "scrolled": false
   },
   "outputs": [
    {
     "ename": "NameError",
     "evalue": "name 'all_RedChi' is not defined",
     "output_type": "error",
     "traceback": [
      "\u001b[0;31m---------------------------------------------------------------------------\u001b[0m",
      "\u001b[0;31mNameError\u001b[0m                                 Traceback (most recent call last)",
      "\u001b[0;32m<ipython-input-10-86b11c4765bd>\u001b[0m in \u001b[0;36m<module>\u001b[0;34m()\u001b[0m\n\u001b[1;32m     57\u001b[0m                     \u001b[0mGJ1st\u001b[0m\u001b[1;33m.\u001b[0m\u001b[0mappend\u001b[0m\u001b[1;33m(\u001b[0m\u001b[0mGJvalue\u001b[0m\u001b[1;33m)\u001b[0m\u001b[1;33m\u001b[0m\u001b[0m\n\u001b[1;32m     58\u001b[0m                     \u001b[0mdist_1st\u001b[0m\u001b[1;33m.\u001b[0m\u001b[0mappend\u001b[0m\u001b[1;33m(\u001b[0m\u001b[0mdist\u001b[0m\u001b[1;33m[\u001b[0m\u001b[0mi\u001b[0m\u001b[1;33m]\u001b[0m\u001b[1;33m)\u001b[0m\u001b[1;33m\u001b[0m\u001b[0m\n\u001b[0;32m---> 59\u001b[0;31m                     \u001b[0mChi1st\u001b[0m\u001b[1;33m.\u001b[0m\u001b[0mappend\u001b[0m\u001b[1;33m(\u001b[0m\u001b[0mall_RedChi\u001b[0m\u001b[1;33m[\u001b[0m\u001b[0mi\u001b[0m\u001b[1;33m]\u001b[0m\u001b[1;33m)\u001b[0m\u001b[1;33m\u001b[0m\u001b[0m\n\u001b[0m\u001b[1;32m     60\u001b[0m                     \u001b[0mregion1count\u001b[0m \u001b[1;33m=\u001b[0m \u001b[0mregion1count\u001b[0m \u001b[1;33m+\u001b[0m \u001b[1;36m1\u001b[0m\u001b[1;33m\u001b[0m\u001b[0m\n\u001b[1;32m     61\u001b[0m             \u001b[1;32mif\u001b[0m\u001b[1;33m(\u001b[0m\u001b[1;36m0.9\u001b[0m \u001b[1;33m<=\u001b[0m \u001b[0mGJvalue\u001b[0m \u001b[1;33m<=\u001b[0m \u001b[1;36m1.2\u001b[0m\u001b[1;33m)\u001b[0m\u001b[1;33m:\u001b[0m\u001b[1;33m\u001b[0m\u001b[0m\n",
      "\u001b[0;31mNameError\u001b[0m: name 'all_RedChi' is not defined"
     ]
    }
   ],
   "source": [
    "RA = t['RAJ2000']\n",
    "DEC = t['DEJ2000']\n",
    "Gabs = []\n",
    "GJabs = []\n",
    "# First Region represents the G-J range of [0.0-0.5]\n",
    "# Second Region represents the G-J range of [0.5-1.2]\n",
    "# Each RA and DEC arrays correspond to each region based on the _\"first\" or _\"second\" notation\n",
    "RA_first = []\n",
    "DEC_first = []\n",
    "temp_first = []\n",
    "RA_second = []\n",
    "DEC_second = []\n",
    "temp_second = []\n",
    "GJ1st = []\n",
    "G1st = []\n",
    "GJ2nd = []\n",
    "G2nd = []\n",
    "dist_1st = []\n",
    "dist_2nd = []\n",
    "# Arrays for sources below Main Sequence Line\n",
    "RA_below = []\n",
    "DEC_below = []\n",
    "G_below = []\n",
    "GJ_below = []\n",
    "dist_below = []\n",
    "temp_below = []\n",
    "Chi1st = []\n",
    "Chi2nd = []\n",
    "ChiBelow = []\n",
    "nanChi = []\n",
    "# Defines a rough estimate of the bottom of the Main Sequence Line. \n",
    "xrange = np.linspace(-0.5,2.0)\n",
    "yvalue = xrange*3.7 +1.4\n",
    "plt.plot(xrange,yvalue,c='b')\n",
    "count = 0\n",
    "all_dists = []\n",
    "region1count = 0\n",
    "region2count = 0\n",
    "totalcount = 0\n",
    "for i in range(0,len(Teff)):\n",
    "    if(SpTypeN[i] == 5.0 and Gmag.mask[i] == False and Jmag.mask[i] == False and Kmag.mask[i] == False and Hmag.mask[i] == False):\n",
    "        \n",
    "        if(Jmag.mask[i] == False and Gmag.mask[i] == False and Bmag.mask[i] == False):\n",
    "            count = count + 1\n",
    "            Gvalue = AbsGmag[i]\n",
    "            GJvalue = AbsGmag[i]-AbsJmag[i]\n",
    "            Gabs.append(Gvalue)\n",
    "            GJabs.append(GJvalue)\n",
    "            all_dists.append(dist[i])\n",
    "            totalcount = totalcount + 1\n",
    "            if(GJvalue >= 0.0 and GJvalue < 0.5):\n",
    "                if(Gvalue >= 0.0 and Gvalue <= 1.5):\n",
    "                    RA_first.append(RA[i])\n",
    "                    DEC_first.append(DEC[i])\n",
    "                    temp_first.append(Teff[i])\n",
    "                    G1st.append(Gvalue)\n",
    "                    GJ1st.append(GJvalue)\n",
    "                    dist_1st.append(dist[i])\n",
    "                    Chi1st.append(all_RedChi[i])\n",
    "                    region1count = region1count + 1\n",
    "            if(0.9 <= GJvalue <= 1.2):\n",
    "                if(2.5 <= Gvalue <= 3.0):\n",
    "                    RA_second.append(RA[i])\n",
    "                    DEC_second.append(DEC[i])\n",
    "                    temp_second.append(Teff[i])\n",
    "                    G2nd.append(Gvalue)\n",
    "                    GJ2nd.append(GJvalue)\n",
    "                    dist_2nd.append(dist[i])\n",
    "                    Chi2nd.append(all_RedChi[i])\n",
    "                    region2count = region2count + 1\n",
    "            if(0.1 <= GJvalue <= 1.0):\n",
    "                if(Gvalue > GJvalue*3.7+1.6):\n",
    "                    RA_below.append(RA[i])\n",
    "                    DEC_below.append(DEC[i])\n",
    "                    G_below.append(Gvalue)\n",
    "                    GJ_below.append(GJvalue)\n",
    "                    dist_below.append(dist[i])\n",
    "                    temp_below.append(Teff[i])\n",
    "                    ChiBelow.append(all_RedChi[i])\n",
    "            #else:\n",
    "                #nanChi.append(all_RedChi[i])\n",
    "#              if(0.2 <= GJvalue <= 0.5):\n",
    "#                  if(Gvalue/GJvalue < 3.7):\n",
    "#                      RA_below.append(RA[i])\n",
    "#                      DEC_below.append(DEC[i])\n",
    "#                      G_below.append(Gvalue)\n",
    "#                      GJ_below.append(GJvalue)\n",
    "#                      dist_below.append(dist[i])\n",
    "#                      temp_below.append(Teff[i])\n",
    "                \n",
    "plt.title('Color-Mag Diagram and Luminosity of class V')\n",
    "plt.xlabel('G-J')\n",
    "plt.ylabel('Gabs')\n",
    "plt.gca().invert_yaxis()\n",
    "plt.scatter(GJabs,Gabs,s=0.6,c='k')\n",
    "meanTempFirst = np.mean(temp_first)\n",
    "meanTempSecond = np.mean(temp_second)\n",
    "\n",
    "Gabs100 = []\n",
    "GJabs100 = []\n",
    "\n",
    "\n",
    "print('Mean Effective Temperature in G-J Range 0.0-0.5: ', meanTempFirst, '\\nNumber of Sources: ', len(RA_first), '\\n')\n",
    "\n",
    "\n",
    "print('Mean Effective Temperature in G-J Range 0.5-1.2: ', meanTempSecond, '\\nNumber of Sources: ', len(RA_second), '\\n')\n",
    "print('     G-J [0.0-0.5]                           G-J [0.5-1.2]\\n')\n",
    "print('    RA                 DEC         DIST      ReducedChisq               RA                DEC         DIST      RedChiSQ')\n",
    "\n",
    "G_1st = []\n",
    "GJ_1st = []\n",
    "dist1 = []\n",
    "G_2nd = []\n",
    "GJ_2nd = []\n",
    "dist2 = []\n",
    "for j in range(0,20):\n",
    "    \n",
    "    print(RA_first[j], '   ',DEC_first[j], '   ',dist_1st[j],'   ',Chi1st[j], '        ',RA_second[j], '   ',DEC_second[j], '   ',dist_2nd[j],'   ',Chi2nd[j])\n",
    "    G_1st.append(G1st[j])\n",
    "    GJ_1st.append(GJ1st[j])\n",
    "    G_2nd.append(G2nd[j])\n",
    "    GJ_2nd.append(GJ2nd[j])\n",
    "    dist1.append(dist_1st[j])\n",
    "    dist2.append(dist_2nd[j])\n",
    "distBelow = []\n",
    "print('\\n \\nAll Source below Theoretical Main Sequence Line (blue)\\n')\n",
    "print('    RA                 DEC         DIST      Reduced ChiSq')\n",
    "for j in range(0,len(RA_below)):\n",
    "    \n",
    "    print(RA_below[j], '   ',DEC_below[j], '   ',dist_below[j],'   ',ChiBelow[j])\n",
    "    distBelow.append(dist_below[j])\n",
    "#     G_1st.append(G1st[j])\n",
    "#     GJ_1st.append(GJ1st[j])\n",
    "#     G_2nd.append(G2nd[j])\n",
    "#     GJ_2nd.append(GJ2nd[j])\n",
    "plt.scatter(GJ_1st,G_1st,s=3.0,c='r')\n",
    "plt.scatter(GJ_2nd,G_2nd,s=3.0,c='r')\n",
    "plt.scatter(GJ_below,G_below,s=3.0,c='r')\n",
    "plt.show()\n",
    "\n",
    "def Norm(data,max,min):\n",
    "    norm = (data-min)/(max-min)\n",
    "    return norm\n",
    "Norm_Dist_1st = []\n",
    "Norm_Dist_2nd = []\n",
    "Norm_Dist_below = []\n",
    "for j in range(len(G_1st)):\n",
    "    Norm_Dist_1st.append(Norm(dist1,np.max(dist1),np.min(dist1)))\n",
    "    Norm_Dist_2nd.append(Norm(dist2,np.max(dist2),np.min(dist2)))\n",
    "    Norm_Dist_below.append(Norm(distBelow,np.max(distBelow),np.min(distBelow)))\n",
    "plt.title('Histogram of Source Distance in G-J Range [0.0-0.5] ')\n",
    "plt.xlabel('Distance in Parsecs')\n",
    "plt.ylabel('Number of Sources')\n",
    "hist1st=plt.hist(dist_1st,normed=True)\n",
    "plt.show()\n",
    "plt.title('Histogram of Source Distance in G-J Range [0.5-1.2] ')\n",
    "plt.xlabel('Distance in Parsecs')\n",
    "plt.ylabel('Number of Sources')\n",
    "hist2nd=plt.hist(dist_2nd,normed=True)\n",
    "plt.show()\n",
    "histbelow=plt.hist(dist_below,normed=True)\n",
    "hist1st=plt.hist(dist_1st,True)\n",
    "plt.show()\n",
    "classV = []\n",
    "for i in range(0,len(Teff)):\n",
    "    if(SpTypeN[i] == 5.0 and Gmag.mask[i] == False and Jmag.mask[i] == False and Kmag.mask[i] == False and Hmag.mask[i] == False):\n",
    "        if(Jmag.mask[i] == False and Gmag.mask[i] == False and Bmag.mask[i] == False):\n",
    "            classV.append(dist[i])\n",
    "pltall=plt.hist(classV,20)\n",
    "plt.show()\n",
    "for i in range(0,len(Teff)):\n",
    "    if(SpTypeN[i] == 5.0 and Gmag.mask[i] == False and Jmag.mask[i] == False and Kmag.mask[i] == False and Hmag.mask[i] == False):\n",
    "        if(Jmag.mask[i] == False and Gmag.mask[i] == False and Bmag.mask[i] == False):\n",
    "            if(dist[i] < 150.0):\n",
    "                Gvalue = AbsGmag[i]\n",
    "                GJvalue = AbsGmag[i]-AbsJmag[i]\n",
    "                Gabs100.append(Gvalue)\n",
    "                GJabs100.append(GJvalue)\n",
    "\n",
    "plt.title('H-R Diagram <150 Parsecs')\n",
    "plt.xlabel('GJabs')\n",
    "plt.ylabel('Gabs')\n",
    "plt.scatter(GJabs100,Gabs100,s=1.0)\n",
    "plt.scatter(GJ_1st,G_1st,s=3.0,c='r')\n",
    "plt.scatter(GJ_2nd,G_2nd,s=3.0,c='r')\n",
    "plt.scatter(GJ_below,G_below,s=3.0,c='r')\n",
    "\n",
    "plt.gca().invert_yaxis()\n",
    "plt.show()\n",
    "G_Chi = []\n",
    "GJ_Chi = []\n",
    "print('There are: ',count, 'Stars being used here')\n",
    "print(len(all_RedChi))\n",
    "for i in range(0,len(Teff)):\n",
    "    if(SpTypeN[i] == 5.0 and Gmag.mask[i] == False and Jmag.mask[i] == False and Kmag.mask[i] == False and Hmag.mask[i] == False):\n",
    "        if(Jmag.mask[i] == False and Gmag.mask[i] == False and Bmag.mask[i] == False):\n",
    "            if(all_RedChi[i] <= 60.0 and dist[i] < 100.0):\n",
    "                Gvalue = AbsGmag[i]\n",
    "                GJvalue = AbsGmag[i] - AbsJmag[i]\n",
    "                G_Chi.append(Gvalue)\n",
    "                GJ_Chi.append(GJvalue)\n",
    "plt.title('H-R With Reduced Chi Sq <10.0')\n",
    "plt.xlabel('GJabs')\n",
    "plt.ylabel('Gabs')\n",
    "plt.scatter(GJ_Chi,G_Chi,s=2.0)\n",
    "plt.gca().invert_yaxis()\n",
    "plt.show()\n",
    "\n",
    "plt.title('Normalized Region 1 Distance histogram')\n",
    "plt.hist(Norm_Dist_1st)\n",
    "plt.show()"
   ]
  },
  {
   "cell_type": "code",
   "execution_count": 56,
   "metadata": {
    "collapsed": false
   },
   "outputs": [
    {
     "name": "stdout",
     "output_type": "stream",
     "text": [
      "44.9103 31.1111 36.0409 52.3163\n"
     ]
    },
    {
     "data": {
      "image/png": "[encoded data removed]",
      "text/plain": [
       "<matplotlib.figure.Figure at 0x9f30451898>"
      ]
     },
     "metadata": {},
     "output_type": "display_data"
    },
    {
     "data": {
      "image/png": "[encoded data removed]",
      "text/plain": [
       "<matplotlib.figure.Figure at 0x9f3178a198>"
      ]
     },
     "metadata": {},
     "output_type": "display_data"
    },
    {
     "data": {
      "image/png": "[encoded data removed]",
      "text/plain": [
       "<matplotlib.figure.Figure at 0x9f2fe14240>"
      ]
     },
     "metadata": {},
     "output_type": "display_data"
    },
    {
     "name": "stdout",
     "output_type": "stream",
     "text": [
      "151.645\n",
      "19641 623 465\n"
     ]
    }
   ],
   "source": [
    "#Statistical Analysis of the three regions\n",
    "def Gauss(x,std,mu):\n",
    "    value = (1/(np.sqrt(2*np.pi*std**2.0)))*np.exp(-(x-mu)**2.0/(2*std**2.0))\n",
    "    return value\n",
    "\n",
    "totalStd = np.std(all_dists)\n",
    "Std1 = np.std(dist_1st)\n",
    "Std2 = np.std(dist_2nd)\n",
    "StdBelow = np.std(dist_below)\n",
    "print(totalStd,Std1,Std2,StdBelow)\n",
    "total_Mu = np.mean(all_dists)\n",
    "Mu_1 = np.mean(dist_1st)\n",
    "Mu_2 = np.mean(dist_2nd)\n",
    "Mu_below = np.mean(dist_below)\n",
    "DistSpreadtotal = []\n",
    "DistSpread1st = []\n",
    "DistSpread2nd = []\n",
    "DistSpreadBelow = []\n",
    "\n",
    "for i in range(0,len(all_dists)):\n",
    "    DistSpreadtotal.append(Gauss(all_dists[i],totalStd,total_Mu))\n",
    "plt.scatter(all_dists,DistSpreadtotal,s=2.0)\n",
    "axes = plt.gca()\n",
    "plt.title('Gaussian Distribution of the Distance for all Clas V stars')\n",
    "plt.xlabel('Distance in Parsecs')\n",
    "plt.ylabel('Distribution')\n",
    "plt.scatter(all_dists,DistSpreadtotal,s=3.0,c='k')\n",
    "axes.set_ylim([-0.0005,0.0105])\n",
    "plt.show()\n",
    "for i in range(0,len(dist_1st)):\n",
    "    DistSpread1st.append(Gauss(dist_1st[i],Std1,Mu_1))\n",
    "axes = plt.gca()\n",
    "axes.set_ylim([-0.0001,0.015])\n",
    "# plt.scatter(dist_1st,DistSpread1st,s=3.0,c=r)\n",
    "#plt.scatter(all_dists,DistSpreadtotal,s=3.0,c=k)\n",
    "# plt.scatter(dist_2nd,DistSpread2nd,s=3.0,c=b)\n",
    "# plt.scatter(dist_below,DistSpreadBelow,s=3.0)\n",
    "#plt.show()\n",
    "for i in range(0,len(dist_2nd)):\n",
    "    DistSpread2nd.append(Gauss(dist_2nd[i],Std2,Mu_2))\n",
    "axes = plt.gca()\n",
    "plt.title('Gaussian Distribution of the Distance for all Clas V Stars in region G-J[0.5-1.2]')\n",
    "plt.xlabel('Distance in Parsecs')\n",
    "plt.ylabel('Distribution')\n",
    "#axes.set_ylim([-0.0001,0.015])\n",
    "#plt.scatter(dist_2nd,DistSpread2nd,s=3.0)\n",
    "#plt.show()\n",
    "for i in range(0,len(dist_below)):\n",
    "    DistSpreadBelow.append(Gauss(dist_below[i],StdBelow,Mu_below))\n",
    "axes = plt.gca()\n",
    "#axes.set_ylim([-0.0001,0.015])\n",
    "#plt.scatter(dist_below,DistSpreadBelow,s=3.0)\n",
    "#plt.show()\n",
    "axes = plt.gca()\n",
    "axes.set_ylim([-0.0001,0.015])\n",
    "plt.title('Gaussian Distribution of the Distance for all Clas V stars in both G-J regions')\n",
    "plt.xlabel('Distance in Parsecs')\n",
    "plt.ylabel('Distribution')\n",
    "plt.scatter(dist_1st,DistSpread1st,s=4.0,c='r')\n",
    "plt.scatter(all_dists,DistSpreadtotal,s=4.0,c='k')\n",
    "plt.scatter(dist_2nd,DistSpread2nd,s=4.0,c='b')\n",
    "#plt.scatter(dist_below,DistSpreadBelow,c='g')\n",
    "plt.show()\n",
    "# plt.scatter(dist_1st,DistSpread1st,s=3.0,c='r')\n",
    "# plt.scatter(all_dists,DistSpreadtotal,s=3.0,c='k')\n",
    "# plt.scatter(dist_2nd,DistSpread2nd,s=3.0,c='b')\n",
    "#plt.scatter(dist_below,DistSpreadBelow,c='g')\n",
    "#plt.show()\n",
    "#plt.scatter(dist_1st,DistSpread1st,s=3.0,c='r')\n",
    "#plt.scatter(all_dists,DistSpreadtotal,s=3.0,c='k')\n",
    "#plt.scatter(dist_2nd,DistSpread2nd,s=3.0,c='b')\n",
    "plt.title('Gaussian Distribution of the Distance for all Clas V stars below Line')\n",
    "plt.xlabel('Distance in Parsecs')\n",
    "plt.ylabel('Distribution')\n",
    "axes = plt.gca()\n",
    "axes.set_ylim([0.002,0.009])\n",
    "plt.scatter(dist_below,DistSpreadBelow,c='g')\n",
    "plt.show()\n",
    "print(Mu_2)\n",
    "print(totalcount,region1count,region2count)"
   ]
  },
  {
   "cell_type": "code",
   "execution_count": null,
   "metadata": {
    "collapsed": true
   },
   "outputs": [],
   "source": [
    "\n",
    "    "
   ]
  },
  {
   "cell_type": "code",
   "execution_count": 52,
   "metadata": {
    "collapsed": false
   },
   "outputs": [
    {
     "name": "stderr",
     "output_type": "stream",
     "text": [
      "/astromake/opt/python/anaconda3/lib/python3.6/site-packages/ipykernel_launcher.py:1: UserWarning: Warning: converting a masked element to nan.\n",
      "  \"\"\"Entry point for launching an IPython kernel.\n",
      "/astromake/opt/python/anaconda3/lib/python3.6/site-packages/numpy/ma/core.py:2766: UserWarning: Warning: converting a masked element to nan.\n",
      "  order=order, subok=True, ndmin=ndmin)\n"
     ]
    },
    {
     "data": {
      "image/png": "[encoded data removed]",
      "text/plain": [
       "<matplotlib.figure.Figure at 0x7fbb119236a0>"
      ]
     },
     "metadata": {},
     "output_type": "display_data"
    },
    {
     "name": "stdout",
     "output_type": "stream",
     "text": [
      "6\n",
      "nan\n"
     ]
    }
   ],
   "source": [
    "VmG = np.array(JmagV) - np.array(GmagV)\n",
    "plt.xlabel('GBand Absolute Magnitude')\n",
    "plt.ylabel('V-G ABsolute Magnitude')\n",
    "plt.scatter(GmagV,VmG,s=1.0)\n",
    "plt.gca().invert_yaxis()\n",
    "plt.gca().invert_xaxis()\n",
    "plt.show()\n",
    "\n",
    "print(len(Mags))\n",
    "print((MeanGmag))"
   ]
  },
  {
   "cell_type": "code",
   "execution_count": 52,
   "metadata": {
    "collapsed": false
   },
   "outputs": [
    {
     "name": "stdout",
     "output_type": "stream",
     "text": [
      "[0.0, 0.0, 0.0, 0.0, 0.0]\n"
     ]
    }
   ],
   "source": [
    "print(GmagV[0:5])"
   ]
  },
  {
   "cell_type": "code",
   "execution_count": 11,
   "metadata": {
    "collapsed": false
   },
   "outputs": [
    {
     "name": "stdout",
     "output_type": "stream",
     "text": [
      "[  3500.   4000.   4500.   5000.   5500.   6000.   6500.   7000.   7500.\n",
      "   8000.   8500.   9000.   9500.  10000.]\n",
      "There are  275  stars in the range 3500.0  -  4000.0\n",
      "\n",
      " Mean:  3920.14545455\n",
      "Standard Deviation:  93.6180670562\n",
      "Max:  4000\n",
      "Min:  3530\n",
      "\n",
      "\n",
      "Standard Deviation for Absolute Jmag "
     ]
    },
    {
     "name": "stderr",
     "output_type": "stream",
     "text": [
      "C:\\Users\\Kevin.Hall\\Anaconda3\\lib\\site-packages\\numpy\\ma\\core.py:4185: UserWarning: Warning: converting a masked element to nan.\n",
      "  warnings.warn(\"Warning: converting a masked element to nan.\")\n"
     ]
    },
    {
     "name": "stdout",
     "output_type": "stream",
     "text": [
      "nan\n",
      "There are  1131  stars in the range 4000.0  -  4500.0\n",
      "\n",
      " Mean:  4259.34571176\n",
      "Standard Deviation:  219.736430467\n",
      "Max:  4420\n",
      "Min:  3530\n",
      "\n",
      "\n",
      "Standard Deviation for Absolute Jmag nan\n",
      "There are  6223  stars in the range 4500.0  -  5000.0\n",
      "\n",
      " Mean:  4673.33440463\n",
      "Standard Deviation:  231.626417363\n",
      "Max:  4900\n",
      "Min:  3530\n",
      "\n",
      "\n",
      "Standard Deviation for Absolute Jmag nan\n",
      "There are  10828  stars in the range 5000.0  -  5500.0\n",
      "\n",
      " Mean:  4883.65903214\n",
      "Standard Deviation:  304.259629527\n",
      "Max:  5500\n",
      "Min:  3530\n",
      "\n",
      "\n",
      "Standard Deviation for Absolute Jmag nan\n",
      "There are  15768  stars in the range 5500.0  -  6000.0\n",
      "\n",
      " Mean:  5168.48236936\n",
      "Standard Deviation:  494.176794431\n",
      "Max:  5860\n",
      "Min:  3530\n",
      "\n",
      "\n",
      "Standard Deviation for Absolute Jmag nan\n",
      "There are  36728  stars in the range 6000.0  -  6500.0\n",
      "\n",
      " Mean:  5786.07166195\n",
      "Standard Deviation:  639.840071778\n",
      "Max:  6470\n",
      "Min:  3530\n",
      "\n",
      "\n",
      "Standard Deviation for Absolute Jmag nan\n",
      "There are  41701  stars in the range 6500.0  -  7000.0\n",
      "\n",
      " Mean:  5917.38951104\n",
      "Standard Deviation:  698.524970158\n",
      "Max:  6900\n",
      "Min:  3530\n",
      "\n",
      "\n",
      "Standard Deviation for Absolute Jmag nan\n",
      "There are  44312  stars in the range 7000.0  -  7500.0\n",
      "\n",
      " Mean:  5994.0955046\n",
      "Standard Deviation:  743.993440846\n",
      "Max:  7450\n",
      "Min:  3530\n",
      "\n",
      "\n",
      "Standard Deviation for Absolute Jmag nan\n",
      "There are  45136  stars in the range 7500.0  -  8000.0\n",
      "\n",
      " Mean:  6027.36418823\n",
      "Standard Deviation:  776.559010386\n",
      "Max:  7950\n",
      "Min:  3530\n",
      "\n",
      "\n",
      "Standard Deviation for Absolute Jmag nan\n",
      "There are  46224  stars in the range 8000.0  -  8500.0\n",
      "\n",
      " Mean:  6077.97594323\n",
      "Standard Deviation:  833.760874609\n",
      "Max:  8200\n",
      "Min:  3530\n",
      "\n",
      "\n",
      "Standard Deviation for Absolute Jmag nan\n",
      "There are  48349  stars in the range 8500.0  -  9000.0\n",
      "\n",
      " Mean:  6199.31911725\n",
      "Standard Deviation:  992.900869815\n",
      "Max:  9000\n",
      "Min:  3530\n",
      "\n",
      "\n",
      "Standard Deviation for Absolute Jmag nan\n",
      "There are  48948  stars in the range 9000.0  -  9500.0\n",
      "\n",
      " Mean:  6235.98962164\n",
      "Standard Deviation:  1040.48594745\n",
      "Max:  9480\n",
      "Min:  3530\n",
      "\n",
      "\n",
      "Standard Deviation for Absolute Jmag nan\n",
      "There are  49830  stars in the range 9500.0  -  10000.0\n",
      "\n",
      " Mean:  6294.11719847\n",
      "Standard Deviation:  1118.46383352\n",
      "Max:  9520\n",
      "Min:  3530\n",
      "\n",
      "\n",
      "Standard Deviation for Absolute Jmag nan\n",
      "There are  50121  stars in the range 10000.0  -  10500.0\n",
      "\n",
      " Mean:  6318.19317252\n",
      "Standard Deviation:  1158.91040982\n",
      "Max:  10500\n",
      "Min:  3530\n",
      "\n",
      "\n",
      "Standard Deviation for Absolute Jmag nan\n"
     ]
    }
   ],
   "source": [
    "# This cell contains old code. I do not want to erase it until I am 100% sure I do not require it. Once final SED\n",
    "# models are complete, I will remove it\n",
    "Teff = t['Teff']\n",
    "Plx = t[\"Plx\"]\n",
    "\n",
    "temp = np.linspace(3500,10000,num=14)\n",
    "print(temp)\n",
    "#18 sets of ranges\n",
    "tempRange = []\n",
    "PlxRange = []\n",
    "JmagRange = []\n",
    "GmagRange = []\n",
    "HmagRange = []\n",
    "KmagRange = []\n",
    "VmagRange = []\n",
    "dist = []\n",
    "Sp_str = str(Sp)\n",
    "\n",
    "def AbsoluteMag(mag,dist):\n",
    "    return mag - (5*np.log10(dist/10))\n",
    "\n",
    "for low in temp:\n",
    "    high = low + 500\n",
    "    for i in range(0,len(Teff)):\n",
    "        if(low <= Teff[i] <= high):\n",
    "            if(Teff.mask[i] == False):\n",
    "                tempRange.append(Teff[i])\n",
    "                JmagRange.append(Jmag[i])\n",
    "                GmagRange.append(Gmag[i])\n",
    "                HmagRange.append(Hmag[i])\n",
    "                KmagRange.append(Kmag[i])\n",
    "                VmagRange.append(Vmag[i])\n",
    "                PlxRange.append(Plx[i])\n",
    "                dist.append(1000/Plx[i])\n",
    "    #plt.hist(tempRange,bins=25)\n",
    "    #TempValMask = ma.masked_outside(temp,low,high)\n",
    "    #TempValComp = TempValMask.compressed()\n",
    "    #plt.hist(TempValComp,bins=15)\n",
    "    #plt.show()    \n",
    "    for j in range(0,len(tempRange)):\n",
    "        JmagRange[j] = AbsoluteMag(JmagRange[j],dist[j])\n",
    "        GmagRange[j] = AbsoluteMag(GmagRange[j],dist[j])\n",
    "        HmagRange[j] = AbsoluteMag(HmagRange[j],dist[j])\n",
    "        KmagRange[j] = AbsoluteMag(KmagRange[j],dist[j])\n",
    "        VmagRange[j] = AbsoluteMag(VmagRange[j],dist[j])\n",
    "    print(\"There are \", len(tempRange), \" stars in the range\", low, \" - \", high)\n",
    "    print(\"\\n\",\"Mean: \", np.mean(tempRange))\n",
    "    print(\"Standard Deviation: \", np.std(tempRange))\n",
    "    print(\"Max: \", np.max(tempRange))\n",
    "    print(\"Min: \", np.min(tempRange))\n",
    "    print(\"\\n\")\n",
    "    print(\"Standard Deviation for Absolute Jmag\", np.std(JmagRange))\n",
    "    #print(\"There are \", len(TempValComp), \"in the range\", low, \" - \", high)\n",
    "    #tempRange = []"
   ]
  },
  {
   "cell_type": "code",
   "execution_count": 45,
   "metadata": {
    "collapsed": false
   },
   "outputs": [
    {
     "ename": "KeyboardInterrupt",
     "evalue": "",
     "output_type": "error",
     "traceback": [
      "\u001b[0;31m---------------------------------------------------------------------------\u001b[0m",
      "\u001b[0;31mKeyboardInterrupt\u001b[0m                         Traceback (most recent call last)",
      "\u001b[0;32m<ipython-input-45-52bd9bfbb82c>\u001b[0m in \u001b[0;36m<module>\u001b[0;34m()\u001b[0m\n\u001b[1;32m      1\u001b[0m \u001b[0mtest\u001b[0m \u001b[0;34m=\u001b[0m \u001b[0;36m0\u001b[0m\u001b[0;34m\u001b[0m\u001b[0m\n\u001b[1;32m      2\u001b[0m \u001b[0;32mfor\u001b[0m \u001b[0mi\u001b[0m \u001b[0;32min\u001b[0m \u001b[0mrange\u001b[0m\u001b[0;34m(\u001b[0m\u001b[0;36m0\u001b[0m\u001b[0;34m,\u001b[0m\u001b[0mlen\u001b[0m\u001b[0;34m(\u001b[0m\u001b[0mTeff\u001b[0m\u001b[0;34m)\u001b[0m\u001b[0;34m)\u001b[0m\u001b[0;34m:\u001b[0m\u001b[0;34m\u001b[0m\u001b[0m\n\u001b[0;32m----> 3\u001b[0;31m     \u001b[0;32mif\u001b[0m\u001b[0;34m(\u001b[0m\u001b[0mstr\u001b[0m\u001b[0;34m(\u001b[0m\u001b[0mSpV\u001b[0m\u001b[0;34m)\u001b[0m \u001b[0;32min\u001b[0m \u001b[0mstr\u001b[0m\u001b[0;34m(\u001b[0m\u001b[0mSp\u001b[0m\u001b[0;34m[\u001b[0m\u001b[0mi\u001b[0m\u001b[0;34m]\u001b[0m\u001b[0;34m)\u001b[0m\u001b[0;34m)\u001b[0m\u001b[0;34m:\u001b[0m\u001b[0;34m\u001b[0m\u001b[0m\n\u001b[0m\u001b[1;32m      4\u001b[0m         \u001b[0;32mif\u001b[0m\u001b[0;34m(\u001b[0m\u001b[0;36m5000.0\u001b[0m \u001b[0;34m<=\u001b[0m \u001b[0mTeff\u001b[0m\u001b[0;34m[\u001b[0m\u001b[0mi\u001b[0m\u001b[0;34m]\u001b[0m \u001b[0;34m<=\u001b[0m \u001b[0;36m5500.0\u001b[0m\u001b[0;34m)\u001b[0m\u001b[0;34m:\u001b[0m\u001b[0;34m\u001b[0m\u001b[0m\n\u001b[1;32m      5\u001b[0m             \u001b[0mtest\u001b[0m \u001b[0;34m=\u001b[0m \u001b[0mtest\u001b[0m \u001b[0;34m+\u001b[0m \u001b[0;36m1\u001b[0m\u001b[0;34m\u001b[0m\u001b[0m\n",
      "\u001b[0;31mKeyboardInterrupt\u001b[0m: "
     ]
    }
   ],
   "source": [
    "test = 0\n",
    "for i in range(0,len(Teff)):\n",
    "    if(str(SpV) in str(Sp[i])):\n",
    "        if(5000.0 <= Teff[i] <= 5500.0):\n",
    "            test = test + 1\n",
    "        \n",
    "print(test)\n",
    "      "
   ]
  }
 ],
 "metadata": {
  "kernelspec": {
   "display_name": "Python 3",
   "language": "python",
   "name": "python3"
  },
  "language_info": {
   "codemirror_mode": {
    "name": "ipython",
    "version": 3
   },
   "file_extension": ".py",
   "mimetype": "text/x-python",
   "name": "python",
   "nbconvert_exporter": "python",
   "pygments_lexer": "ipython3",
   "version": "3.6.0"
  }
 },
 "nbformat": 4,
 "nbformat_minor": 2
}
