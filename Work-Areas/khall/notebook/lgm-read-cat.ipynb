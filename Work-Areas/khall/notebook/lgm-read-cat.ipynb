{
 "cells": [
  {
   "cell_type": "markdown",
   "metadata": {},
   "source": [
    "# Reading an ASCII Catalog file"
   ]
  },
  {
   "cell_type": "markdown",
   "metadata": {},
   "source": [
    "In order to do inline plotting within a notebook, ipython needs a magic command, commands that start with the %"
   ]
  },
  {
   "cell_type": "code",
   "execution_count": null,
   "metadata": {
    "collapsed": true
   },
   "outputs": [],
   "source": [
    "%matplotlib inline"
   ]
  },
  {
   "cell_type": "markdown",
   "metadata": {},
   "source": [
    "Importing some modules (libraries) and giving them short names such as **np** and **plt**. You will find that most users will use these common ones."
   ]
  },
  {
   "cell_type": "code",
   "execution_count": 1,
   "metadata": {},
   "outputs": [
    {
     "name": "stderr",
     "output_type": "stream",
     "text": [
      "/astromake/opt/python/anaconda3/lib/python3.6/site-packages/matplotlib/font_manager.py:280: UserWarning: Matplotlib is building the font cache using fc-list. This may take a moment.\n",
      "  'Matplotlib is building the font cache using fc-list. '\n"
     ]
    }
   ],
   "source": [
    "import numpy as np\n",
    "import matplotlib.pyplot as plt"
   ]
  },
  {
   "cell_type": "markdown",
   "metadata": {},
   "source": [
    "## Simple example of opening a file, read lines using columns to separate each cell, then any cell can be put into a variable\n",
    "\n",
    "This assumes that each line is a separate source and the entries on the line are space separated. In this case, we are reading one line at a time and printing out information on that line. The data for a line are not saved anywhere for later access. At the end \"line\" and \"name\" contain only the last values read."
   ]
  },
  {
   "cell_type": "code",
   "execution_count": 2,
   "metadata": {},
   "outputs": [
    {
     "name": "stdout",
     "output_type": "stream",
     "text": [
      "'     4273718580960061184     277.484124608      0.762186       1.172287709   18h29m56.19s   01d10m20.24s      0.895364          null            null              null              null              null              null      0.657550              null          null           null               null           null            null                null                 null             null                  0      2230.323451802            23.338522621      17.153850436       NOT_AVAILABLE    31.521989935     5.318127411   278.221156656    24.398236245      285.539590   191.543420 \\n'\n",
      "NAME =  4273718580960061184\n",
      "'     4273718580960238464     277.480437183      4.803475       1.179580819   18h29m55.30s   01d10m46.49s      5.569466          null            null              null              null              null              null      0.697250              null          null           null               null           null            null                null                 null             null                  0       109.411239476             3.458622478      20.427115219       NOT_AVAILABLE    31.526819302     5.324734879   278.217570446    24.405727242      263.105399   195.522459 \\n'\n",
      "NAME =  4273718580960238464\n",
      "'     4273718649681459456     277.471101787      1.943808       1.180431209   18h29m53.06s   01d10m49.55s      2.547786          null            null              null              null              null              null      0.750250              null          null           null               null           null            null                null                 null             null                  0       166.932382206             4.066804055      19.968418586       NOT_AVAILABLE    31.523303541     5.333428662   278.207390762    24.407106697      271.186536   202.553275 \\n'\n",
      "NAME =  4273718649681459456\n",
      "'     4273718821478507520     277.543899993      0.166647       1.181480986   18h30m10.54s   01d10m53.33s      0.185605          null            null              null              null              null              null      0.782600              null          null           null               null           null            null                null                 null             null                  0    109455.571641187            66.293583491      12.926675380       NOT_AVAILABLE    31.557582558     5.269137065   278.287250791    24.404000923      292.934653   147.357786 \\n'\n",
      "NAME =  4273718821478507520\n",
      "'     4273718821480164864     277.538496048      4.346684       1.188247820   18h30m09.24s   01d11m17.69s      3.914810          null            null              null              null              null              null      0.687550              null          null           null               null           null            null                null                 null             null                  0       117.281173988             3.334393898      20.351699302       NOT_AVAILABLE    31.561155369     5.277031557   278.281753517    24.411066356      261.950567   148.066172 \\n'\n",
      "NAME =  4273718821480164864\n",
      "'     4273718924559608320     277.545965065      2.116391       1.203017471   18h30m11.03s   01d12m10.86s      2.606775          null            null              null              null              null              null      0.815900              null          null           null               null           null            null                null                 null             null                  0       174.446172643             2.756655378      19.920616450       NOT_AVAILABLE    31.577775623     5.277122489   278.290871057    24.425383526      236.593608   135.633240 \\n'\n",
      "NAME =  4273718924559608320\n",
      "'     4273718958917194112     277.484107167      0.379391       1.182587802   18h29m56.19s   01d10m57.32s      0.419074          null            null              null              null              null              null      0.877700              null          null           null               null           null            null                null                 null             null                  0     12160.664261976            26.167567124      15.312376818       NOT_AVAILABLE    31.531187746     5.322841207   278.221781044    24.408520645      249.334055   193.262881 \\n'\n",
      "NAME =  4273718958917194112\n",
      "'     4273718958917361152     277.496387404      2.812314       1.188889893   18h29m59.13s   01d11m20.00s      2.474818          null            null              null              null              null              null      0.859550              null          null           null               null           null            null                null                 null             null                  0       316.159359184             3.665044948      19.275004957       NOT_AVAILABLE    31.542444684     5.314789735   278.235636219    24.414113375      220.380289   183.382445 \\n'\n",
      "NAME =  4273718958917361152\n",
      "'     4273718958917457536     277.490223687      0.255402       1.181504099   18h29m57.65s   01d10m53.41s      0.293913      3.775995        0.281604      -4.942239982       0.515631371     -11.562093825       0.517055972      0.471571         -0.205179     -0.272190      -0.224128          -0.523295      -0.119583       -0.458758           -0.148236            -0.023018         0.431931                  0   6693668.225119822         12558.521351767       8.460609607       NOT_AVAILABLE    31.533020591     5.316904891   278.228417809    24.407090627      249.083106   188.121176 \\n'\n",
      "NAME =  4273718958917457536\n",
      "'     4273718958917457664     277.489880416      0.261258       1.179686869   18h29m57.57s   01d10m46.87s      0.343240      3.820444        0.295889      -5.223166560       1.025537282     -12.381013715       0.936205552      0.571680          0.057192     -0.648255      -0.628068          -0.442918      -0.512647       -0.660002           -0.251465            -0.164297         0.861411                  0   2175612.696224679          1485.058376550       9.680816102       NOT_AVAILABLE    31.531239209     5.316381406   278.227927918    24.405295887      255.734238   188.188159 \\n'\n",
      "NAME =  4273718958917457664\n",
      "'     4273719027636934144     277.475336494      0.294945       1.197658790   18h29m54.08s   01d11m51.57s      0.315313          null            null              null              null              null              null      0.946700              null          null           null               null           null            null                null                 null             null                  0     78923.421281872            49.528496084      13.281755305       NOT_AVAILABLE    31.540640878     5.337518935   278.213107808    24.424065897      208.290825   205.225332 \\n'\n",
      "NAME =  4273719027636934144\n",
      "'     4273719096360269952     277.516409123      3.081326       1.204226387   18h30m03.94s   01d12m15.21s      5.011283          null            null              null              null              null              null      0.229300              null          null           null               null           null            null                null                 null             null                  0       147.778459150             3.067568514      20.100742229       NOT_AVAILABLE    31.565321223     5.303970886   278.258545922    24.428282472      175.048844   160.282037 \\n'\n",
      "NAME =  4273719096360269952\n",
      "'     4273719199435379200     277.511587388      0.733520       1.222633962   18h30m02.78s   01d13m21.48s      0.876194          null            null              null              null              null              null      0.796250              null          null           null               null           null            null                null                 null             null                  0       860.383897665             9.941214385      18.188039379       NOT_AVAILABLE    31.579565324     5.316656350   278.254414767    24.446935407      106.981503   157.055785 \\n'\n",
      "NAME =  4273719199435379200\n",
      "'     4273719405593791744     277.456302995      0.418704       1.191849144   18h29m49.51s   01d11m30.66s      0.466945          null            null              null              null              null              null      0.862150              null          null           null               null           null            null                null                 null             null                  0     13390.124381538            14.441265068      15.207808536       NOT_AVAILABLE    31.526730565     5.351803562   278.191880041    24.419345800      261.838649   216.916964 \\n'\n",
      "NAME =  4273719405593791744\n",
      "'     4273719409887143424     277.464766012      0.584475       1.188735742   18h29m51.54s   01d11m19.45s      0.673418          null            null              null              null              null              null      0.811700              null          null           null               null           null            null                null                 null             null                  0      4570.561142194            30.325964964      16.374846256       NOT_AVAILABLE    31.527824079     5.342853723   278.200963457    24.415757474      254.410267   209.898619 \\n'\n",
      "NAME =  4273719409887143424\n",
      "'     4273719684765064832     277.435615855      0.672699       1.219765411   18h29m44.55s   01d13m11.16s      0.818782          null            null              null              null              null              null      0.745450              null          null           null               null           null            null                null                 null             null                  0      2621.695124796            15.975383326      16.978314598       NOT_AVAILABLE    31.542208044     5.382942444   278.170935447    24.448388317      256.018553   244.840976 \\n'\n",
      "NAME =  4273719684765064832\n",
      "'     4273719955349625984     277.502718839      2.234113       1.227790954   18h30m00.65s   01d13m40.05s      2.582007          null            null              null              null              null              null      0.857550              null          null           null               null           null            null                null                 null             null                  0       228.812365212             3.339553665      19.626071338       NOT_AVAILABLE    31.580113362     5.326899006   278.245014106    24.452590171       80.549174   173.022144 \\n'\n",
      "NAME =  4273719955349625984\n",
      "'     4273720024069117312     277.496870169      0.478543       1.235409371   18h29m59.25s   01d14m07.47s      0.526426          null            null              null              null              null              null      0.876700              null          null           null               null           null            null                null                 null             null                  0      8635.488883891           145.007519508      15.684052740       NOT_AVAILABLE    31.584244463     5.335577298   278.239078242    24.460529697       53.720599   192.104295 \\n'\n",
      "NAME =  4273720024069117312\n",
      "'     4273720230227656960     277.487031557      0.771209       1.246158670   18h29m56.89s   01d14m46.17s      0.876939          null            null              null              null              null              null      0.820200              null          null           null               null           null            null                null                 null             null                  0      6823.818380037           108.990346755      15.939701416       NOT_AVAILABLE    31.589347086     5.349233406   278.228962058    24.471822020       48.680803   253.496837 \\n'\n",
      "NAME =  4273720230227656960\n",
      "'     4273720230227709568     277.477172355      1.217230       1.246343148   18h29m54.52s   01d14m46.84s      1.446102          null            null              null              null              null              null      0.788950              null          null           null               null           null            null                null                 null             null                  0       391.893592540             4.745573147      19.041849657       NOT_AVAILABLE    31.584997048     5.358089693   278.218161351    24.472567151       83.208040   260.897010 \\n'\n",
      "NAME =  4273720230227709568\n",
      "'     4273720230229656320     277.489230439      1.059623       1.247239491   18h29m57.42s   01d14m50.06s      1.303540          null            null              null              null              null              null      0.734250              null          null           null               null           null            null                null                 null             null                  0       617.048359684             6.713238877      18.548972058       NOT_AVAILABLE    31.591320118     5.347769871   278.231441124    24.472775877       40.014901   255.620026 \\n'\n",
      "NAME =  4273720230229656320\n",
      "'     4273720333306960384     277.567367595      2.318087       1.201808755   18h30m16.17s   01d12m06.51s      2.741597          null            null              null              null              null              null      0.775950              null          null           null               null           null            null                null                 null             null                  0       155.448509588             2.397387651      20.045803658       NOT_AVAILABLE    31.586495953     5.257528503   278.314256903    24.422947462      298.142414   125.583426 \\n'\n",
      "NAME =  4273720333306960384\n"
     ]
    }
   ],
   "source": [
    "fdata = open('junk.txt', 'r')\n",
    "for line in fdata:\n",
    "    print(repr(line))\n",
    "    line = line.strip()\n",
    "    columns = line.split()\n",
    "    name = columns[0]\n",
    "    print(\"NAME = \",name)"
   ]
  },
  {
   "cell_type": "markdown",
   "metadata": {},
   "source": [
    "## Now lets use astropy table reader... because it is easier..\n",
    "\n",
    "A file with the extension .tbl is an ipac table type. astropy knows this format, as well as many other formats. It reads the file into a structure \"t\". Nice work astropy people!"
   ]
  },
  {
   "cell_type": "code",
   "execution_count": 3,
   "metadata": {},
   "outputs": [
    {
     "name": "stdout",
     "output_type": "stream",
     "text": [
      "     source_id            ra      ra_error ...    dist      angle   \n",
      "                         deg        mas    ...   arcsec      deg    \n",
      "------------------- ------------- -------- ... ---------- ----------\n",
      "4273718580960061184 277.484124608 0.762186 ...  285.53959  191.54342\n",
      "4273718580960238464 277.480437183 4.803475 ... 263.105399 195.522459\n",
      "4273718649681459456 277.471101787 1.943808 ... 271.186536 202.553275\n",
      "4273718821478507520 277.543899993 0.166647 ... 292.934653 147.357786\n",
      "4273718821480164864 277.538496048 4.346684 ... 261.950567 148.066172\n",
      "4273718924559608320 277.545965065 2.116391 ... 236.593608  135.63324\n",
      "4273718958917194112 277.484107167 0.379391 ... 249.334055 193.262881\n",
      "4273718958917361152 277.496387404 2.812314 ... 220.380289 183.382445\n",
      "4273718958917457536 277.490223687 0.255402 ... 249.083106 188.121176\n",
      "4273718958917457664 277.489880416 0.261258 ... 255.734238 188.188159\n",
      "4273719027636934144 277.475336494 0.294945 ... 208.290825 205.225332\n",
      "4273719096360269952 277.516409123 3.081326 ... 175.048844 160.282037\n",
      "4273719199435379200 277.511587388  0.73352 ... 106.981503 157.055785\n",
      "4273719405593791744 277.456302995 0.418704 ... 261.838649 216.916964\n",
      "4273719409887143424 277.464766012 0.584475 ... 254.410267 209.898619\n",
      "4273719684765064832 277.435615855 0.672699 ... 256.018553 244.840976\n",
      "4273719955349625984 277.502718839 2.234113 ...  80.549174 173.022144\n",
      "4273720024069117312 277.496870169 0.478543 ...  53.720599 192.104295\n",
      "4273720230227656960 277.487031557 0.771209 ...  48.680803 253.496837\n",
      "4273720230227709568 277.477172355  1.21723 ...   83.20804  260.89701\n",
      "4273720230229656320 277.489230439 1.059623 ...  40.014901 255.620026\n",
      "4273720333306960384 277.567367595 2.318087 ... 298.142414 125.583426\n"
     ]
    }
   ],
   "source": [
    "from astropy.table import Table\n",
    "t = Table.read('junk.tbl', format='ascii.ipac')\n",
    "\n",
    "print(t)\n",
    "\n"
   ]
  },
  {
   "cell_type": "markdown",
   "metadata": {},
   "source": [
    "## Access to values within the table...\n",
    "\n",
    "Astropy reads both the header information and the ascii column information. The data in the columns of the table go into the structure with labels corresponding to the column header title... for example"
   ]
  },
  {
   "cell_type": "code",
   "execution_count": 4,
   "metadata": {},
   "outputs": [
    {
     "name": "stdout",
     "output_type": "stream",
     "text": [
      "The astropy reader loads the data into the following variable names:\n",
      "['source_id', 'ra', 'ra_error', 'dec', 'clon', 'clat', 'dec_error', 'parallax', 'parallax_error', 'pmra', 'pmra_error', 'pmdec', 'pmdec_error', 'ra_dec_corr', 'ra_parallax_corr', 'ra_pmra_corr', 'ra_pmdec_corr', 'dec_parallax_corr', 'dec_pmra_corr', 'dec_pmdec_corr', 'parallax_pmra_corr', 'parallax_pmdec_corr', 'pmra_pmdec_corr', 'duplicated_source', 'phot_g_mean_flux', 'phot_g_mean_flux_error', 'phot_g_mean_mag', 'phot_variable_flag', 'l', 'b', 'ecl_lon', 'ecl_lat', 'dist', 'angle']\n"
     ]
    }
   ],
   "source": [
    "print(\"The astropy reader loads the data into the following variable names:\")\n",
    "print(t.colnames)"
   ]
  },
  {
   "cell_type": "markdown",
   "metadata": {},
   "source": [
    "## so you can access, for example, the parallax, or phot_g_mean_mag"
   ]
  },
  {
   "cell_type": "code",
   "execution_count": 5,
   "metadata": {},
   "outputs": [
    {
     "name": "stdout",
     "output_type": "stream",
     "text": [
      "     source_id      parallax phot_g_mean_mag\n",
      "                      mas          mag      \n",
      "------------------- -------- ---------------\n",
      "4273718580960061184       --    17.153850436\n",
      "4273718580960238464       --    20.427115219\n",
      "4273718649681459456       --    19.968418586\n",
      "4273718821478507520       --     12.92667538\n",
      "4273718821480164864       --    20.351699302\n",
      "4273718924559608320       --     19.92061645\n",
      "4273718958917194112       --    15.312376818\n",
      "4273718958917361152       --    19.275004957\n",
      "4273718958917457536 3.775995     8.460609607\n",
      "4273718958917457664 3.820444     9.680816102\n",
      "4273719027636934144       --    13.281755305\n",
      "4273719096360269952       --    20.100742229\n",
      "4273719199435379200       --    18.188039379\n",
      "4273719405593791744       --    15.207808536\n",
      "4273719409887143424       --    16.374846256\n",
      "4273719684765064832       --    16.978314598\n",
      "4273719955349625984       --    19.626071338\n",
      "4273720024069117312       --     15.68405274\n",
      "4273720230227656960       --    15.939701416\n",
      "4273720230227709568       --    19.041849657\n",
      "4273720230229656320       --    18.548972058\n",
      "4273720333306960384       --    20.045803658\n"
     ]
    }
   ],
   "source": [
    "print(t[\"source_id\",\"parallax\",\"phot_g_mean_mag\"])"
   ]
  },
  {
   "cell_type": "markdown",
   "metadata": {},
   "source": [
    "## So now lets load in a larger table so we can make some interesting plots\n",
    "\n",
    "This is a GAIA table for a 5 arcmin radius region around RA=18:30 Dec=1:15. It has 84 entries."
   ]
  },
  {
   "cell_type": "code",
   "execution_count": 6,
   "metadata": {},
   "outputs": [
    {
     "name": "stdout",
     "output_type": "stream",
     "text": [
      "phot_g_mean_mag\n",
      "      mag      \n",
      "---------------\n",
      "   17.153850436\n",
      "   20.427115219\n",
      "   19.968418586\n",
      "    12.92667538\n",
      "   20.351699302\n",
      "    19.92061645\n",
      "   15.312376818\n",
      "   19.275004957\n",
      "    8.460609607\n",
      "    9.680816102\n",
      "            ...\n",
      "   16.268683339\n",
      "   19.569729179\n",
      "   18.756960034\n",
      "   19.308948238\n",
      "   19.889002989\n",
      "   19.215559453\n",
      "   18.468328492\n",
      "   19.248323758\n",
      "   20.272776217\n",
      "   18.429863168\n",
      "Length = 84 rows\n"
     ]
    },
    {
     "data": {
      "image/png": "[encoded data removed]",
      "text/plain": [
       "<matplotlib.figure.Figure at 0x7f75b82a3c50>"
      ]
     },
     "metadata": {},
     "output_type": "display_data"
    },
    {
     "data": {
      "image/png": "[encoded data removed]",
      "text/plain": [
       "<matplotlib.figure.Figure at 0x7f75b9ac14e0>"
      ]
     },
     "metadata": {},
     "output_type": "display_data"
    }
   ],
   "source": [
    "tfull = Table.read('junk-full.tbl', format='ascii.ipac')\n",
    "mags = tfull[\"phot_g_mean_mag\"]\n",
    "\n",
    "print(mags)\n",
    "bins = 15\n",
    "plt.xlabel('g-band magnitude')\n",
    "plt.ylabel('Number of Stars in Bin')\n",
    "plt.title('Histogram of Source Magnitudes')\n",
    "plmags=plt.hist(mags,bins)\n",
    "plt.show()\n",
    "\n",
    "xpos = tfull[\"ra\"]\n",
    "ypos = tfull[\"dec\"]\n",
    "plt.xlabel('RA J2000 (degrees)')\n",
    "plt.ylabel('Decl J2000 (degrees)')\n",
    "plt.title('Locations of Sources on Sky')\n",
    "plt.scatter(xpos,ypos,s=20.0,c='r')\n",
    "plt.show()"
   ]
  }
 ],
 "metadata": {
  "anaconda-cloud": {},
  "kernelspec": {
   "display_name": "Python 3",
   "language": "python",
   "name": "python3"
  },
  "language_info": {
   "codemirror_mode": {
    "name": "ipython",
    "version": 3
   },
   "file_extension": ".py",
   "mimetype": "text/x-python",
   "name": "python",
   "nbconvert_exporter": "python",
   "pygments_lexer": "ipython3",
   "version": "3.6.1"
  }
 },
 "nbformat": 4,
 "nbformat_minor": 1
}
