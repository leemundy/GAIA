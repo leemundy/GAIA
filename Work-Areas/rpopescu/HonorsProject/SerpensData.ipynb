{
 "cells": [
  {
   "cell_type": "code",
   "execution_count": 3,
   "metadata": {
    "collapsed": true
   },
   "outputs": [],
   "source": [
    "# Standard definitions needed for script\n",
    "import numpy as np\n",
    "import matplotlib.pyplot as plt\n",
    "import numpy.ma as ma\n",
    "import math\n",
    "from astropy.table import Table\n",
    "from astropy.io import fits\n",
    "import astropy.units as u\n",
    "from astropy.coordinates.sky_coordinate import SkyCoord\n",
    "from astropy.units import Quantity\n",
    "from numpy.polynomial.polynomial import polyfit\n",
    "import astropy.constants as const\n",
    "from astropy.coordinates import Angle\n",
    "import pickle"
   ]
  },
  {
   "cell_type": "code",
   "execution_count": 4,
   "metadata": {},
   "outputs": [
    {
     "name": "stdout",
     "output_type": "stream",
     "text": [
      "['solution_id', 'designation', 'source_id', 'random_index', 'ref_epoch', 'ra', 'ra_error', 'dec', 'dec_error', 'parallax', 'parallax_error', 'parallax_over_error', 'pmra', 'pmra_error', 'pmdec', 'pmdec_error', 'ra_dec_corr', 'ra_parallax_corr', 'ra_pmra_corr', 'ra_pmdec_corr', 'dec_parallax_corr', 'dec_pmra_corr', 'dec_pmdec_corr', 'parallax_pmra_corr', 'parallax_pmdec_corr', 'pmra_pmdec_corr', 'astrometric_n_obs_al', 'astrometric_n_obs_ac', 'astrometric_n_good_obs_al', 'astrometric_n_bad_obs_al', 'astrometric_gof_al', 'astrometric_chi2_al', 'astrometric_excess_noise', 'astrometric_excess_noise_sig', 'astrometric_params_solved', 'astrometric_primary_flag', 'astrometric_weight_al', 'astrometric_pseudo_colour', 'astrometric_pseudo_colour_error', 'mean_varpi_factor_al', 'astrometric_matched_observations', 'visibility_periods_used', 'astrometric_sigma5d_max', 'frame_rotator_object_type', 'matched_observations', 'duplicated_source', 'phot_g_n_obs', 'phot_g_mean_flux', 'phot_g_mean_flux_error', 'phot_g_mean_flux_over_error', 'phot_g_mean_mag', 'phot_bp_n_obs', 'phot_bp_mean_flux', 'phot_bp_mean_flux_error', 'phot_bp_mean_flux_over_error', 'phot_bp_mean_mag', 'phot_rp_n_obs', 'phot_rp_mean_flux', 'phot_rp_mean_flux_error', 'phot_rp_mean_flux_over_error', 'phot_rp_mean_mag', 'phot_bp_rp_excess_factor', 'phot_proc_mode', 'bp_rp', 'bp_g', 'g_rp', 'radial_velocity', 'radial_velocity_error', 'rv_nb_transits', 'rv_template_teff', 'rv_template_logg', 'rv_template_fe_h', 'phot_variable_flag', 'l', 'b', 'ecl_lon', 'ecl_lat', 'priam_flags', 'teff_val', 'teff_percentile_lower', 'teff_percentile_upper', 'a_g_val', 'a_g_percentile_lower', 'a_g_percentile_upper', 'e_bp_min_rp_val', 'e_bp_min_rp_percentile_lower', 'e_bp_min_rp_percentile_upper', 'flame_flags', 'radius_val', 'radius_percentile_lower', 'radius_percentile_upper', 'lum_val', 'lum_percentile_lower', 'lum_percentile_upper', 'datalink_url', 'epoch_photometry_url', 'source_id_2', 'original_ext_source_id', 'angular_distance', 'gaia_astrometric_params', 'tmass_oid', 'number_of_neighbours', 'number_of_mates', 'best_neighbour_multiplicity', 'ph_qual', 'tmass_oid_2', 'designation_2', 'ra_2', 'dec_2', 'err_maj', 'err_min', 'err_ang', 'j_m', 'j_msigcom', 'h_m', 'h_msigcom', 'ks_m', 'ks_msigcom', 'ext_key', 'j_date']\n",
      " GAIA Table contains  30266  sources\n"
     ]
    }
   ],
   "source": [
    "file = 'GAIA_data.pkl'\n",
    "with open(file,'rb') as f: \n",
    "    data = pickle.load(f)\n",
    "GTab = data['GTab']\n",
    "\n",
    "print (GTab.colnames)\n",
    "Gra = GTab[\"ra\"]\n",
    "Gdec = GTab[\"dec\"]\n",
    "Gpmra = GTab[\"pmra\"]\n",
    "Gpmra_e = GTab[\"pmra_error\"]\n",
    "Gpmdec = GTab[\"pmdec\"]\n",
    "Gpmdec_e = GTab[\"pmdec_error\"]\n",
    "Gpar = GTab[\"parallax\"]\n",
    "Gpar_sn = GTab[\"parallax_over_error\"]\n",
    "Gsepar = GTab[\"angular_distance\"]\n",
    "G2MASS = GTab[\"designation_2\"]\n",
    "g = GTab[\"phot_g_mean_mag\"]\n",
    "b = GTab[\"phot_bp_mean_mag\"]\n",
    "r = GTab[\"phot_rp_mean_mag\"]\n",
    "print(\" GAIA Table contains \",len(Gra),\" sources\")"
   ]
  },
  {
   "cell_type": "code",
   "execution_count": 5,
   "metadata": {
    "collapsed": true
   },
   "outputs": [],
   "source": [
    "#calculate distance in pc and proper motion in km/s\n",
    "Gdist = 1000./Gpar\n",
    "Gpmra_km = (Gpmra*Gdist*const.au.value)/(u.yr.to('s')*1000.)\n",
    "Gpmdec_km = (Gpmdec*Gdist*const.au.value)/(u.yr.to('s')*1000.)"
   ]
  },
  {
   "cell_type": "code",
   "execution_count": 6,
   "metadata": {
    "collapsed": true
   },
   "outputs": [],
   "source": [
    "#creates list of indentifiers from 2MASS? \n",
    "\n",
    "gaia_list = []\n",
    "for i in range(0,len(G2MASS)):\n",
    "    gaia_list.append(G2MASS[i].decode('utf-8'))"
   ]
  },
  {
   "cell_type": "code",
   "execution_count": 7,
   "metadata": {},
   "outputs": [
    {
     "name": "stdout",
     "output_type": "stream",
     "text": [
      "Read  1442  YSOs from GB YSO catalog\n",
      "82\n",
      "(array([ 150,  160,  194,  253,  279,  282,  309,  347,  348,  349,  360,\n",
      "        371,  380,  382,  428,  433,  446,  495,  520,  690,  730,  734,\n",
      "        762,  791,  793,  833,  844,  875,  939,  942,  961,  962,  964,\n",
      "        974,  975,  978,  979,  982,  987,  992, 1036, 1042, 1043, 1047,\n",
      "       1059, 1067, 1068, 1093, 1095, 1132, 1133, 1138, 1145, 1155, 1185,\n",
      "       1213, 1226, 1227, 1233, 1253, 1255, 1258, 1269, 1276, 1286, 1288,\n",
      "       1292, 1300, 1307, 1312, 1315, 1324, 1326, 1327, 1330, 1331, 1341,\n",
      "       1345, 1356, 1388, 1402, 1406]),)\n"
     ]
    }
   ],
   "source": [
    "#read in gould belt YSO catalog\n",
    "\n",
    "infile = \"SERAQU-YSOs.tbl\"\n",
    "GBYSO = Table.read(infile,format=\"ascii.ipac\")\n",
    "# print(GBYSO.colnames)\n",
    "GBYSOra = GBYSO[\"ra\"]\n",
    "GBYSOdec = GBYSO[\"dec\"]\n",
    "GBYSO2MASS = GBYSO[\"id2mass\"]\n",
    "print(\"Read \",len(GBYSOra),\" YSOs from GB YSO catalog\")\n",
    "\n",
    "#match up GAIA catalog and Gould Belt YSO\n",
    "GBYSO_match = np.empty(len(GBYSO2MASS),dtype=int); GBYSO_match.fill(-2)\n",
    "for j in range(0,len(GBYSO2MASS)):\n",
    "    if(GBYSO2MASS[j] in gaia_list):\n",
    "        GBYSO_match[j] = gaia_list.index(GBYSO2MASS[j])\n",
    "    else:\n",
    "        GBYSO_match[j] = -2\n",
    "good_GBYSO = GBYSO_match > -1\n",
    "print(len(GBYSO_match[good_GBYSO]))\n",
    "print(np.where(GBYSO_match > -1))"
   ]
  },
  {
   "cell_type": "code",
   "execution_count": 8,
   "metadata": {},
   "outputs": [
    {
     "name": "stdout",
     "output_type": "stream",
     "text": [
      "Read  3725  YSOs from GB Star+Dust catalog\n",
      "64\n",
      "(array([ 744,  749,  850, 1311, 1336, 1401, 1470, 1764, 1793, 1880, 1907,\n",
      "       2107, 2178, 2186, 2188, 2194, 2212, 2219, 2223, 2233, 2615, 2751,\n",
      "       2752, 2902, 3084, 3119, 3127, 3129, 3133, 3136, 3138, 3170, 3175,\n",
      "       3213, 3267, 3271, 3287, 3304, 3310, 3326, 3330, 3344, 3346, 3366,\n",
      "       3369, 3372, 3375, 3380, 3406, 3417, 3435, 3465, 3478, 3480, 3488,\n",
      "       3489, 3494, 3501, 3512, 3521, 3530, 3542, 3549, 3625]),)\n"
     ]
    }
   ],
   "source": [
    "#read in gould belt stars + dust catalgog\n",
    "\n",
    "infile = \"SERP_GB_star+dust.tbl\"\n",
    "GBSD = Table.read(infile,format=\"ascii.ipac\")\n",
    "# print(GBSD.colnames)\n",
    "GBSDra = GBSD[\"ra\"]\n",
    "GBSDdec = GBSD[\"dec\"]\n",
    "GBSD2MASS = GBSD[\"id2mass\"]\n",
    "print(\"Read \",len(GBSDra),\" YSOs from GB Star+Dust catalog\")\n",
    "\n",
    "#match up GAIA catalog and Gould Belt stars+dust\n",
    "GBSD_match = np.empty(len(GBSD2MASS),dtype=int); GBSD_match.fill(-2)\n",
    "for j in range(0,len(GBSD2MASS)):\n",
    "    if(GBSD2MASS[j] in gaia_list):\n",
    "        GBSD_match[j] = gaia_list.index(GBSD2MASS[j])\n",
    "    else:\n",
    "        GBSD_match[j] = -2\n",
    "good_GBSD = GBSD_match > -1\n",
    "print(len(GBSD_match[good_GBSD]))\n",
    "print(np.where(GBSD_match > -1))"
   ]
  },
  {
   "cell_type": "code",
   "execution_count": 9,
   "metadata": {},
   "outputs": [
    {
     "name": "stdout",
     "output_type": "stream",
     "text": [
      "Read  262  YSOs from c2d YSO catalog\n",
      "95\n",
      "(array([  0,   6,   9,  10,  11,  15,  16,  33,  36,  43,  53,  54,  56,\n",
      "        57,  59,  61,  63,  64,  67,  70,  72,  77,  78,  79,  81,  85,\n",
      "        87,  95,  98, 101, 103, 112, 113, 115, 116, 119, 120, 123, 125,\n",
      "       127, 131, 132, 134, 136, 137, 138, 139, 140, 141, 142, 144, 145,\n",
      "       159, 162, 172, 174, 175, 179, 182, 184, 186, 187, 189, 195, 197,\n",
      "       198, 200, 207, 208, 211, 212, 213, 218, 225, 228, 231, 232, 233,\n",
      "       235, 237, 238, 239, 242, 243, 245, 246, 249, 250, 251, 252, 255,\n",
      "       256, 257, 259, 261]),)\n"
     ]
    }
   ],
   "source": [
    "#read in c2d YSO catalog \n",
    "\n",
    "infile = \"catalog-SER-YSOc.tbl\"\n",
    "c2dYSO = Table.read(infile,format=\"ascii.ipac\")\n",
    "#print(c2dYSO.colnames)\n",
    "c2dYSOra = c2dYSO[\"ra\"]\n",
    "c2dYSOdec = c2dYSO[\"dec\"]\n",
    "c2dYSO2MASS = c2dYSO[\"id2mass\"]\n",
    "c2dYSOobj = c2dYSO[\"object_type\"]\n",
    "print(\"Read \",len(c2dYSOra),\" YSOs from c2d YSO catalog\")\n",
    "\n",
    "#match up GAIA catalog and c2d YSO catalog\n",
    "c2dYSO_match = np.empty(len(c2dYSO2MASS),dtype=int); c2dYSO_match.fill(-2)\n",
    "for j in range(0,len(c2dYSO2MASS)):\n",
    "    if(c2dYSO2MASS[j] in gaia_list):\n",
    "        c2dYSO_match[j] = gaia_list.index(c2dYSO2MASS[j])\n",
    "    else:\n",
    "        c2dYSO_match[j] = -2\n",
    "good_c2dYSO = c2dYSO_match > -1\n",
    "print(len(c2dYSO_match[good_c2dYSO]))\n",
    "print(np.where(c2dYSO_match > -1))"
   ]
  },
  {
   "cell_type": "code",
   "execution_count": 10,
   "metadata": {},
   "outputs": [
    {
     "name": "stdout",
     "output_type": "stream",
     "text": [
      "Read  256  YSOs from c2d Star+Dust catalog\n",
      "23\n",
      "(array([  2,  29,  51,  54, 126, 128, 142, 147, 153, 156, 171, 175, 193,\n",
      "       201, 214, 217, 219, 223, 224, 228, 235, 238, 251]),)\n"
     ]
    }
   ],
   "source": [
    "#read in c2d YSO stars+dust catalog\n",
    "\n",
    "infile = \"SERP_c2d_star+dust.tbl\"\n",
    "c2dSD = Table.read(infile,format=\"ascii.ipac\")\n",
    "# print(GBSD.colnames)\n",
    "c2dSDra = c2dSD[\"ra\"]\n",
    "c2dSDdec = c2dSD[\"dec\"]\n",
    "c2dSD2MASS = c2dSD[\"id2mass\"]\n",
    "print(\"Read \",len(c2dSDra),\" YSOs from c2d Star+Dust catalog\")\n",
    "\n",
    "#match up GAIA catalog and c2d YSO catalog\n",
    "c2dSD_match = np.empty(len(c2dSD2MASS),dtype=int); c2dSD_match.fill(-2)\n",
    "for j in range(0,len(c2dSD2MASS)):\n",
    "    if(c2dSD2MASS[j] in gaia_list):\n",
    "        c2dSD_match[j] = gaia_list.index(c2dSD2MASS[j])\n",
    "    else:\n",
    "        c2dSD_match[j] = -2\n",
    "good_c2dSD = c2dSD_match > -1\n",
    "print(len(c2dSD_match[good_c2dSD]))\n",
    "print(np.where(c2dSD_match > -1))"
   ]
  },
  {
   "cell_type": "code",
   "execution_count": 21,
   "metadata": {},
   "outputs": [
    {
     "name": "stdout",
     "output_type": "stream",
     "text": [
      "Total number of GAIA matches to YSOs:  177\n",
      "Total number of GAIA matches to star+dust:  87\n",
      "Total number of all matches:  264\n"
     ]
    }
   ],
   "source": [
    "#total number of YSO matches\n",
    "\n",
    "YSO_match = c2dYSO_match; YSO_match = np.append(YSO_match,GBYSO_match)\n",
    "good_YSO = YSO_match > -1\n",
    "print(\"Total number of GAIA matches to YSOs: \",len(YSO_match[good_YSO]))\n",
    "SD_match = c2dSD_match; SD_match = np.append(SD_match,GBSD_match)\n",
    "good_SD = SD_match > -1\n",
    "print(\"Total number of GAIA matches to star+dust: \",len(SD_match[good_SD]))\n",
    "All_YSO = YSO_match\n",
    "All_YSO = np.append(All_YSO,SD_match)\n",
    "good_all = All_YSO > -1\n",
    "print(\"Total number of all matches: \",len(All_YSO[good_all]))"
   ]
  },
  {
   "cell_type": "code",
   "execution_count": 12,
   "metadata": {},
   "outputs": [
    {
     "name": "stdout",
     "output_type": "stream",
     "text": [
      "Number of YSO matches in the correct distance interval:  134\n",
      "Number of YSO with parallax > 5, 10, 20:  123 79 40\n"
     ]
    },
    {
     "data": {
      "image/png": "[encoded data removed]",
      "text/plain": [
       "<matplotlib.figure.Figure at 0x7f5e573adfd0>"
      ]
     },
     "metadata": {},
     "output_type": "display_data"
    },
    {
     "data": {
      "image/png": "[encoded data removed]",
      "text/plain": [
       "<matplotlib.figure.Figure at 0x7f5e57460550>"
      ]
     },
     "metadata": {},
     "output_type": "display_data"
    },
    {
     "data": {
      "image/png": "[encoded data removed]",
      "text/plain": [
       "<matplotlib.figure.Figure at 0x7f5e57875208>"
      ]
     },
     "metadata": {},
     "output_type": "display_data"
    },
    {
     "name": "stdout",
     "output_type": "stream",
     "text": [
      "Mean proper motion (Ra,Dec):  2.64910640266 -7.18264595998\n",
      "Median proper motion (Ra,Dec):  3.0520386376 -8.24506899085\n"
     ]
    },
    {
     "data": {
      "image/png": "[encoded data removed]",
      "text/plain": [
       "<matplotlib.figure.Figure at 0x7f5e5725b8d0>"
      ]
     },
     "metadata": {},
     "output_type": "display_data"
    }
   ],
   "source": [
    "#properties of good YSO matches\n",
    "raYSO = np.zeros(len(YSO_match[good_YSO]))\n",
    "decYSO = np.zeros(len(YSO_match[good_YSO]))\n",
    "pmraYSO = np.zeros(len(YSO_match[good_YSO]))\n",
    "pmdecYSO = np.zeros(len(YSO_match[good_YSO]))\n",
    "pmra_eYSO = np.zeros(len(YSO_match[good_YSO]))\n",
    "pmdec_eYSO = np.zeros(len(YSO_match[good_YSO]))\n",
    "parYSO = np.zeros(len(YSO_match[good_YSO]))\n",
    "par_snYSO = np.zeros(len(YSO_match[good_YSO]))\n",
    "nyso = 0\n",
    "\n",
    "#find number of YSO matches in the correct interval\n",
    "for i in range(0,len(YSO_match)):\n",
    "    if(YSO_match[i] > -1):\n",
    "        j = YSO_match[i]\n",
    "        if(1000./Gpar[j] > 350. and 1000/Gpar[j] < 550.):\n",
    "            raYSO[nyso] = Gra[j]\n",
    "            decYSO[nyso] = Gdec[j]\n",
    "            pmraYSO[nyso] = Gpmra[j]\n",
    "            pmdecYSO[nyso] = Gpmdec[j]\n",
    "            parYSO[nyso] = Gpar[j]\n",
    "            par_snYSO[nyso] = Gpar_sn[j]\n",
    "            nyso = nyso + 1        \n",
    "print(\"Number of YSO matches in the correct distance interval: \",nyso)\n",
    "\n",
    "#find number of YSOs within parallax S/N greater than certain amount\n",
    "parsn10 = par_snYSO > 10.\n",
    "parsn5 = par_snYSO > 5\n",
    "parsn20 = par_snYSO > 20\n",
    "print(\"Number of YSO with parallax > 5, 10, 20: \", len(par_snYSO[parsn5]),len(par_snYSO[parsn10]),len(par_snYSO[parsn20]))\n",
    "\n",
    "#scatter plot of ra and dec\n",
    "plt.scatter(raYSO[parsn5],decYSO[parsn5],s=5)\n",
    "plt.show()\n",
    "#scatter plot of proper motions\n",
    "plt.scatter(pmraYSO[parsn5],pmdecYSO[parsn5],s=5)\n",
    "plt.show()\n",
    "#plot of YSOs at ra and dec with proper motions\n",
    "plt.quiver(raYSO[parsn5],decYSO[parsn5],pmraYSO[parsn5],pmdecYSO[parsn5])\n",
    "plt.show()\n",
    "#mean proper motions\n",
    "mean_pmra = np.mean(pmraYSO[parsn10])\n",
    "mean_pmdec = np.mean(pmdecYSO[parsn10])\n",
    "print(\"Mean proper motion (Ra,Dec): \",mean_pmra,mean_pmdec)\n",
    "#median proper motions\n",
    "median_pmra = np.median(pmraYSO[parsn10])\n",
    "median_pmdec = np.median(pmdecYSO[parsn10])\n",
    "print(\"Median proper motion (Ra,Dec): \",median_pmra,median_pmdec)\n",
    "#deviation from median of proper motion  of S/N > 10 ysos\n",
    "rpmraYSO = pmraYSO - median_pmra\n",
    "rpmdecYSO = pmdecYSO - median_pmdec\n",
    "#magnitude of deviation from median of proper motion\n",
    "pmmagYSO = np.zeros(len(YSO_match[good_YSO]))\n",
    "pmmagYSO = np.power((rpmraYSO*rpmraYSO+rpmdecYSO*rpmdecYSO),0.5)\n",
    "#plot of YSOs at ra and dec with deviation from median of proper motion\n",
    "plt.quiver(raYSO[parsn5],decYSO[parsn5],rpmraYSO[parsn5],rpmdecYSO[parsn5],pmmagYSO[parsn5])\n",
    "plt.colorbar()\n",
    "plt.show()"
   ]
  },
  {
   "cell_type": "code",
   "execution_count": 13,
   "metadata": {},
   "outputs": [
    {
     "name": "stdout",
     "output_type": "stream",
     "text": [
      "277.608676558 0.437709628428 YSOc_star+dust(IR2) -3.87263960869 10.8203900954 11.4925271092\n",
      "277.608676558 0.437709628428 YSOc_star+dust(IR2) 0.597333704512 2.74276451243 2.80705623834\n",
      "277.303750568 0.163151797375 YSOc_star+dust(IR3) -0.975429026274 2.89158707525 3.05167783343\n",
      "277.608676558 0.437709628428 YSOc_star+dust(MP1) -2.90629716471 -0.437039448472 2.93897374761\n",
      "277.608676558 0.437709628428 YSOc -3.35485524773 2.3817755552 4.11435396248\n",
      "277.608676558 0.437709628428 YSOc_star+dust(IR2) 1.644561668 9.33801981218 9.48172964667\n"
     ]
    }
   ],
   "source": [
    "#determine high proper motion YSOs \n",
    "high_pmYSO = pmmagYSO[parsn5] > 8.\n",
    "for i in range(0,len(high_pmYSO)):\n",
    "    if(high_pmYSO[i]):\n",
    "        j = YSO_match[i] #identifier of YSO match\n",
    "        print(Gra[j],Gdec[j],c2dYSOobj[i],rpmraYSO[i],rpmdecYSO[i],pmmagYSO[i])"
   ]
  },
  {
   "cell_type": "code",
   "execution_count": 14,
   "metadata": {},
   "outputs": [
    {
     "name": "stdout",
     "output_type": "stream",
     "text": [
      "277.608676558 0.437709628428 YSOc_star+dust(IR2) -3.87263960869 10.8203900954 11.4925271092 52.1638450623\n",
      "277.608676558 0.437709628428 YSOc_star+dust(MP1) -0.580729433761 15.8191050639 15.8297609489 83.362991333\n",
      "277.608676558 0.437709628428 YSOc_star+dust(IR4) -9.01521255883 15.6350758888 18.0479820348 74.2138214111\n",
      "277.608676558 0.437709628428 YSOc_star+dust(IR2) -2.5745355018 10.0879764331 10.4113160343 47.1941757202\n",
      "277.608676558 0.437709628428 YSOc_star+dust(IR2) 1.644561668 9.33801981218 9.48172964667 30.1823787689\n",
      "277.608676558 0.437709628428 YSOc_star+dust(IR2) -1.59266791199 8.13130892882 8.28581776132 40.8754005432\n",
      "277.422823536 1.12714849646 YSOc_star+dust(IR1) -3.0520386376 8.24506899085 8.79182020456 0.0\n",
      "277.608676558 0.437709628428 YSOc_star+dust(MP1) -3.0520386376 8.24506899085 8.79182020456 0.0\n",
      "277.423789607 0.740778899427 YSOc_star+dust(IR3) -3.0520386376 8.24506899085 8.79182020456 0.0\n",
      "277.425746129 1.33912431006 YSOc_star+dust(IR2) -3.0520386376 8.24506899085 8.79182020456 0.0\n",
      "277.433091371 1.12238525227 YSOc_star+dust(IR1) -3.0520386376 8.24506899085 8.79182020456 0.0\n",
      "277.433804191 0.565550238951 YSOc_star+dust(MP1) -3.0520386376 8.24506899085 8.79182020456 0.0\n",
      "277.435615431 1.21976330593 YSOc_star+dust(IR3) -3.0520386376 8.24506899085 8.79182020456 0.0\n",
      "277.437641885 0.590679754776 YSOc_star+dust(IR4) -3.0520386376 8.24506899085 8.79182020456 0.0\n",
      "277.442878136 1.17366238261 YSOc_star+dust(IR2) -3.0520386376 8.24506899085 8.79182020456 0.0\n",
      "277.608676558 0.437709628428 YSOc -3.0520386376 8.24506899085 8.79182020456 0.0\n",
      "277.446993345 0.665408076031 YSOc_star+dust(IR4) -3.0520386376 8.24506899085 8.79182020456 0.0\n",
      "277.446972222 0.539706540192 YSOc_star+dust(IR3) -3.0520386376 8.24506899085 8.79182020456 0.0\n",
      "277.608676558 0.437709628428 YSOc_star+dust(IR4) -3.0520386376 8.24506899085 8.79182020456 0.0\n",
      "277.608676558 0.437709628428 YSOc_red -3.0520386376 8.24506899085 8.79182020456 0.0\n",
      "277.608676558 0.437709628428 YSOc_red -3.0520386376 8.24506899085 8.79182020456 0.0\n",
      "277.608676558 0.437709628428 YSOc_star+dust(IR4) -3.0520386376 8.24506899085 8.79182020456 0.0\n",
      "277.608676558 0.437709628428 YSOc_red -3.0520386376 8.24506899085 8.79182020456 0.0\n",
      "277.608676558 0.437709628428 YSOc_star+dust(MP1) -3.0520386376 8.24506899085 8.79182020456 0.0\n",
      "277.608676558 0.437709628428 YSOc -3.0520386376 8.24506899085 8.79182020456 0.0\n",
      "277.608676558 0.437709628428 YSOc_star+dust(MP1) -3.0520386376 8.24506899085 8.79182020456 0.0\n",
      "277.608676558 0.437709628428 YSOc_red -3.0520386376 8.24506899085 8.79182020456 0.0\n",
      "277.608676558 0.437709628428 YSOc -3.0520386376 8.24506899085 8.79182020456 0.0\n",
      "277.608676558 0.437709628428 YSOc_red -3.0520386376 8.24506899085 8.79182020456 0.0\n",
      "277.608676558 0.437709628428 YSOc_star+dust(IR4) -3.0520386376 8.24506899085 8.79182020456 0.0\n",
      "277.608676558 0.437709628428 YSOc_star+dust(IR1) -3.0520386376 8.24506899085 8.79182020456 0.0\n",
      "277.460119747 0.728741481203 YSOc_star+dust(IR2) -3.0520386376 8.24506899085 8.79182020456 0.0\n",
      "277.608676558 0.437709628428 YSOc_red -3.0520386376 8.24506899085 8.79182020456 0.0\n",
      "277.608676558 0.437709628428 YSOc_star+dust(IR4) -3.0520386376 8.24506899085 8.79182020456 0.0\n",
      "277.463785466 0.463270776664 YSOc_star+dust(MP1) -3.0520386376 8.24506899085 8.79182020456 0.0\n",
      "277.608676558 0.437709628428 YSOc_red -3.0520386376 8.24506899085 8.79182020456 0.0\n",
      "277.608676558 0.437709628428 YSOc_red -3.0520386376 8.24506899085 8.79182020456 0.0\n",
      "277.608676558 0.437709628428 YSOc_star+dust(MP1) -3.0520386376 8.24506899085 8.79182020456 0.0\n",
      "277.608676558 0.437709628428 YSOc_red -3.0520386376 8.24506899085 8.79182020456 0.0\n",
      "277.608676558 0.437709628428 YSOc_red -3.0520386376 8.24506899085 8.79182020456 0.0\n",
      "277.608676558 0.437709628428 YSOc_star+dust(IR2) -3.0520386376 8.24506899085 8.79182020456 0.0\n",
      "277.608676558 0.437709628428 YSOc_star+dust(IR2) -3.0520386376 8.24506899085 8.79182020456 0.0\n",
      "277.608676558 0.437709628428 YSOc_red -3.0520386376 8.24506899085 8.79182020456 0.0\n",
      "277.608676558 0.437709628428 YSOc_red -3.0520386376 8.24506899085 8.79182020456 0.0\n",
      "277.471082661 0.669535966881 YSOc_star+dust(IR2) -3.0520386376 8.24506899085 8.79182020456 0.0\n",
      "277.608676558 0.437709628428 YSOc_star+dust(IR2) -3.0520386376 8.24506899085 8.79182020456 0.0\n",
      "277.471229041 1.00955302207 YSOc_star+dust(IR1) -3.0520386376 8.24506899085 8.79182020456 0.0\n",
      "277.471289628 1.10489957899 YSOc_star+dust(IR1) -3.0520386376 8.24506899085 8.79182020456 0.0\n",
      "277.608676558 0.437709628428 YSOc -3.0520386376 8.24506899085 8.79182020456 0.0\n"
     ]
    }
   ],
   "source": [
    "#FIXED determine high proper motion YSOs\n",
    "for i in range(0,len(pmmagYSO)):\n",
    "    if(pmmagYSO[i] > 8): \n",
    "        j = YSO_match[i] #identifier of YSO match\n",
    "        print(Gra[j],Gdec[j],c2dYSOobj[i],rpmraYSO[i],rpmdecYSO[i],pmmagYSO[i],par_snYSO[i])\n",
    "        #figure out difference between i and j"
   ]
  },
  {
   "cell_type": "code",
   "execution_count": 15,
   "metadata": {},
   "outputs": [
    {
     "name": "stdout",
     "output_type": "stream",
     "text": [
      "1704\n",
      "123\n"
     ]
    }
   ],
   "source": [
    "print(len(YSO_match))\n",
    "print(len(high_pmYSO))"
   ]
  },
  {
   "cell_type": "code",
   "execution_count": 16,
   "metadata": {},
   "outputs": [
    {
     "name": "stdout",
     "output_type": "stream",
     "text": [
      "Number of Star+dusts sources in distance interval:  62\n",
      "Number of SD with parallax > 5, 10, 20:  49 28 16\n"
     ]
    },
    {
     "data": {
      "image/png": "[encoded data removed]",
      "text/plain": [
       "<matplotlib.figure.Figure at 0x7f5e58a17cf8>"
      ]
     },
     "metadata": {},
     "output_type": "display_data"
    },
    {
     "data": {
      "image/png": "[encoded data removed]",
      "text/plain": [
       "<matplotlib.figure.Figure at 0x7f5e57887b70>"
      ]
     },
     "metadata": {},
     "output_type": "display_data"
    },
    {
     "data": {
      "image/png": "[encoded data removed]",
      "text/plain": [
       "<matplotlib.figure.Figure at 0x7f5e574c87b8>"
      ]
     },
     "metadata": {},
     "output_type": "display_data"
    },
    {
     "name": "stdout",
     "output_type": "stream",
     "text": [
      "Mean proper motion (Ra,Dec):  1.79623125503 -5.67962899707\n",
      "Median proper motion (Ra,Dec):  3.0520386376 -8.24506899085\n"
     ]
    },
    {
     "data": {
      "image/png": "[encoded data removed]",
      "text/plain": [
       "<matplotlib.figure.Figure at 0x7f5e573d25c0>"
      ]
     },
     "metadata": {},
     "output_type": "display_data"
    }
   ],
   "source": [
    "#properties of good star + dust matches\n",
    "raSD = np.zeros(len(SD_match[good_SD]))\n",
    "decSD = np.zeros(len(SD_match[good_SD]))\n",
    "pmraSD = np.zeros(len(SD_match[good_SD]))\n",
    "pmdecSD = np.zeros(len(SD_match[good_SD]))\n",
    "pmra_eSD = np.zeros(len(SD_match[good_SD]))\n",
    "pmdec_eSD = np.zeros(len(SD_match[good_SD]))\n",
    "parSD = np.zeros(len(SD_match[good_SD]))\n",
    "par_snSD = np.zeros(len(SD_match[good_SD]))\n",
    "pmmagSD = np.zeros(len(SD_match[good_SD]))\n",
    "nsd = 0\n",
    "\n",
    "#find number of star+dust matches in the correct interval\n",
    "for i in range(0,len(SD_match)):\n",
    "    if(SD_match[i] > -1):\n",
    "        j = SD_match[i]\n",
    "        if(1000./Gpar[j] > 350. and 1000./Gpar[j]<550):\n",
    "            raSD[nsd] = Gra[j]\n",
    "            decSD[nsd] = Gdec[j]\n",
    "            pmraSD[nsd] = Gpmra[j]\n",
    "            pmdecSD[nsd] = Gpmdec[j]\n",
    "            parSD[nsd] = Gpar[j]\n",
    "            par_snSD[nsd] = Gpar_sn[j]\n",
    "            nsd = nsd + 1\n",
    "print(\"Number of Star+dusts sources in distance interval: \",nsd)\n",
    "\n",
    "#find number of star+dust within parallax S/N greater than certain amount\n",
    "parsn10SD = par_snSD > 10.\n",
    "parsn5SD = par_snSD > 5\n",
    "parsn20SD = par_snSD > 20\n",
    "print(\"Number of SD with parallax > 5, 10, 20: \", len(par_snSD[parsn5SD]),len(par_snSD[parsn10SD]),len(par_snSD[parsn20SD]))\n",
    "\n",
    "#scatter plot of ra and dec\n",
    "plt.scatter(raSD[parsn5SD],decSD[parsn5SD],s=5)\n",
    "plt.show()\n",
    "#scatter plot of proper motion in ra and dec\n",
    "plt.scatter(pmraSD[parsn5SD],pmdecSD[parsn5SD],s=5)\n",
    "plt.show()\n",
    "#plot of stars+dust at ra and dec with proper motion vector indciated\n",
    "plt.quiver(raSD[parsn5SD],decSD[parsn5SD],pmraSD[parsn5SD],pmdecSD[parsn5SD])\n",
    "plt.show()\n",
    "#mean proper motion in ra and dec\n",
    "mean_pmraSD = np.mean(pmraSD[parsn10SD])\n",
    "mean_pmdecSD = np.mean(pmdecSD[parsn10SD])\n",
    "print(\"Mean proper motion (Ra,Dec): \",mean_pmraSD,mean_pmdecSD)\n",
    "#median proper motion in ra and dec\n",
    "median_pmraSD = np.median(pmraSD[parsn10SD])\n",
    "median_pmdecSD = np.median(pmdecSD[parsn10SD])\n",
    "print(\"Median proper motion (Ra,Dec): \",median_pmra,median_pmdec)\n",
    "#\n",
    "rpmraSD = pmraSD - median_pmraSD\n",
    "rpmdecSD = pmdecSD - median_pmdecSD\n",
    "pmmagSD = np.zeros(len(SD_match[good_SD]))\n",
    "pmmagSD = np.power((rpmraSD*rpmraSD+rpmdecSD*rpmdecSD),0.5)\n",
    "plt.quiver(raSD[parsn5SD],decSD[parsn5SD],rpmraSD[parsn5SD],rpmdecSD[parsn5SD],pmmagSD[parsn5SD])\n",
    "plt.colorbar()\n",
    "plt.show()"
   ]
  },
  {
   "cell_type": "code",
   "execution_count": 22,
   "metadata": {},
   "outputs": [
    {
     "name": "stdout",
     "output_type": "stream",
     "text": [
      "30266\n",
      "Number of sources in distance range: 6057\n",
      "6057\n"
     ]
    },
    {
     "data": {
      "image/png": "[encoded data removed]",
      "text/plain": [
       "<matplotlib.figure.Figure at 0x7f5e573d2908>"
      ]
     },
     "metadata": {},
     "output_type": "display_data"
    }
   ],
   "source": [
    "#define variables\n",
    "ra_big = GTab[\"ra\"]\n",
    "dec_big = GTab[\"dec\"]\n",
    "par_big = GTab[\"parallax\"]\n",
    "pare_big = GTab[\"parallax_error\"]\n",
    "parsn_big = GTab[\"parallax_over_error\"]\n",
    "pmra_big = GTab[\"pmra\"]\n",
    "pmdec_big = GTab[\"pmdec\"]\n",
    "print(len(ra_big))\n",
    "\n",
    "#count number of sources in distance range\n",
    "nn = 0\n",
    "for i in range(0,len(ra_big)):\n",
    "     dist = 1000/par_big[i]\n",
    "     if(dist > 350. and dist <550. and parsn_big[i]>10.):\n",
    "         nn = nn + 1\n",
    "print(\"Number of sources in distance range:\", nn)\n",
    "\n",
    "\n",
    "secperyr = 60*60*24*365.25\n",
    "to_kms = 443./1000. * 1.496e8/secperyr\n",
    "\n",
    "#find magnitude of proper motion for sources with S/N greater than 10 in parallax\n",
    "pm_mag = np.zeros(0)\n",
    "for i in range(0,len(ra_big)):\n",
    "     dist = 1000/par_big[i]\n",
    "     if (dist > 350. and dist <550. and parsn_big[i]>10.):\n",
    "        \n",
    "        pmra_km = (pmra_big[i]*dist*const.au.value)/(secperyr*1000.0)\n",
    "        pmdec_km = (pmdec_big[i]*dist*const.au.value)/(secperyr*1000.0)\n",
    "        #pm2 = pmra_big[i]*pmra_big[i] + pmdec_big[i]*pmdec_big[i]\n",
    "        pm2 = pmra_km*pmra_km+pmdec_km*pmdec_km\n",
    "        pm = np.power(pm2,0.5)\n",
    "        pm_mag = np.append(pm_mag,pm)\n",
    "        \n",
    "print(len(pm_mag))\n",
    "\n",
    "#create histogram of number of sources for each proper motion magnitude\n",
    "plt.hist(pm_mag,bins=100)\n",
    "plt.xlabel(\"Magnitude of Proper Motion (km/sec)\")\n",
    "plt.ylabel(\"Number of sources with S/N>10 in Parallax\")\n",
    "plt.text(100000,300,\"Gaia sources in 5 deg radius of (18:30, -1 deg)\")\n",
    "plt.text(100000,250,\"With Parallax S/N > 10\")\n",
    "plt.text(100000,200,\"With 350 pc < Dist < 550 pc\")\n",
    "plt.savefig(\"big-Serp-pms.png\")\n",
    "plt.show()"
   ]
  },
  {
   "cell_type": "code",
   "execution_count": 23,
   "metadata": {},
   "outputs": [
    {
     "ename": "SyntaxError",
     "evalue": "invalid syntax (<ipython-input-23-25c8a1e66317>, line 40)",
     "output_type": "error",
     "traceback": [
      "\u001b[0;36m  File \u001b[0;32m\"<ipython-input-23-25c8a1e66317>\"\u001b[0;36m, line \u001b[0;32m40\u001b[0m\n\u001b[0;31m    plt.quiver(raALL[parsn5ALL],decALL[parsn5ALL],pmraSD[parsn5ALL,pmdecALL[parsn5ALL])\u001b[0m\n\u001b[0m                                                                                      ^\u001b[0m\n\u001b[0;31mSyntaxError\u001b[0m\u001b[0;31m:\u001b[0m invalid syntax\n"
     ]
    }
   ],
   "source": [
    "#properties of good star + dust matches\n",
    "raALL = np.zeros(len(All_YSO[good_all]))\n",
    "decALL = np.zeros(len(All_YSO[good_all]))\n",
    "pmraALL = np.zeros(len(All_YSO[good_all]))\n",
    "pmdecALL = np.zeros(len(All_YSO[good_all]))\n",
    "pmra_eALL = np.zeros(len(All_YSO[good_all]))\n",
    "pmdec_eALL = np.zeros(len(All_YSO[good_all]))\n",
    "parALL = np.zeros(len(All_YSO[good_all]))\n",
    "par_snALL = np.zeros(len(All_YSO[good_all]))\n",
    "pmmagALL = np.zeros(len(All_YSO[good_all]))\n",
    "nALL = 0\n",
    "\n",
    "#find number of star+dust matches in the correct interval\n",
    "for i in range(0,len(All_YSO)):\n",
    "    if(All_YSO[i] > -1):\n",
    "        j = All_YSO[i]\n",
    "        if(1000./Gpar[j] > 350. and 1000./Gpar[j]<550):\n",
    "            raALL[nALL] = Gra[j]\n",
    "            decALL[nALL] = Gdec[j]\n",
    "            pmraALL[nALL] = Gpmra[j]\n",
    "            pmdecALL[nALL] = Gpmdec[j]\n",
    "            parALL[nALL] = Gpar[j]\n",
    "            par_snALL[nALL] = Gpar_sn[j]\n",
    "            nALL = nALL + 1\n",
    "print(\"Number of Star+dusts sources in distance interval: \",nALL)\n",
    "\n",
    "#find number of star+dust within parallax S/N greater than certain amount\n",
    "parsn10ALL = par_snALL > 10.\n",
    "parsn5ALL = par_snALL > 5\n",
    "parsn20ALL = par_snALL > 20\n",
    "print(\"Number of SD with parallax > 5, 10, 20: \", len(par_snALL[parsn5ALL]),len(par_snALL[parsn10ALL]),\\\n",
    "      len(par_snALL[parsn20ALL]))\n",
    "\n",
    "#scatter plot of ra and dec\n",
    "plt.scatter(raALL[parsn5ALL],decALL[parsn5ALL],s=5)\n",
    "plt.show()\n",
    "#scatter plot of proper motion in ra and dec\n",
    "plt.scatter(pmraALL[parsn5ALL],pmdecALL[parsn5ALL],s=5)\n",
    "plt.show()\n",
    "#plot of stars+dust at ra and dec with proper motion vector indciated\n",
    "plt.quiver(raALL[parsn5ALL],decALL[parsn5ALL],pmraSD[parsn5ALL,pmdecALL[parsn5ALL])\n",
    "plt.show()\n",
    "#mean proper motion in ra and dec\n",
    "mean_pmraALL = np.mean(pmraALL[parsn10ALL])\n",
    "mean_pmdecALL = np.mean(pmdecALL[parsn10ALL])\n",
    "print(\"Mean proper motion (Ra,Dec): \",mean_pmraALL,mean_pmdecALL)\n",
    "#median proper motion in ra and dec\n",
    "median_pmraALL = np.median(pmraALL[parsn10ALL])\n",
    "median_pmdecALL = np.median(pmdecALL[parsn10ALL])\n",
    "print(\"Median proper motion (Ra,Dec): \",median_pmraALL,median_pmdecALL)\n",
    "#\n",
    "rpmraALL = pmraALL - median_pmraALL\n",
    "rpmdecALL = pmdecALL - median_pmdecALL\n",
    "pmmagALL = np.zeros(len(All_YSO[good_ALL]))\n",
    "pmmagALL = np.power((rpmraALL*rpmraALL+rpmdecALL*rpmdecALL),0.5)\n",
    "plt.quiver(raALL[parsn5ALL],decALL[parsn5ALL],rpmraALL[parsn5ALL],rpmdecALL[parsn5ALL],pmmagALL[parsn5ALL])\n",
    "plt.colorbar()\n",
    "plt.show()"
   ]
  },
  {
   "cell_type": "code",
   "execution_count": null,
   "metadata": {},
   "outputs": [],
   "source": [
    "#Failed method to get WISE data\n",
    "\n",
    "mydec = -1.00\n",
    "myra = 277.49\n",
    "\n",
    "from astroquery.irsa import Irsa\n",
    "Irsa.ROW_LIMIT = 10000 #value of new row limit here\n",
    "Irsa.list_catalogs()\n",
    "irsatable = Irsa.query_region(SkyCoord(myra,mydec,unit=(u.deg,u.deg),frame='icrs'),catalog='allwise_p3as_psd',\\\n",
    "                              spatial='Box',width=5*u.deg)\n",
    "print(irsatable['designation','ra','dec','w3mpro','w3sigmpro','id'])"
   ]
  },
  {
   "cell_type": "code",
   "execution_count": 50,
   "metadata": {},
   "outputs": [
    {
     "name": "stdout",
     "output_type": "stream",
     "text": [
      "['Name', 'RAJ2000', 'DEJ2000', 'GLON', 'GLAT', 'W1mag', 'W2mag', 'W3mag', 'W4mag', 'extflag', 'phQual', '_2MASSKey', 'Jmag', 'Hmag', 'Ksmag', 'SName', 'SType', 'SDist', 'tau']\n"
     ]
    }
   ],
   "source": [
    "WISE_YSO = Table.read('WISE_SVM_YSO_class1+2.vot',format='votable')\n",
    "print(WISE_YSO.colnames)\n",
    "Wra = WISE_YSO['RAJ2000']\n",
    "Wdec = WISE_YSO['DEJ2000']"
   ]
  },
  {
   "cell_type": "code",
   "execution_count": 51,
   "metadata": {},
   "outputs": [
    {
     "name": "stdout",
     "output_type": "stream",
     "text": [
      "0\n",
      "(array([], dtype=int64),)\n"
     ]
    }
   ],
   "source": [
    "#match up GAIA catalog and WISE YSO catalog\n",
    "WISE_YSO2MASS = WISE_YSO['_2MASSKey']\n",
    "WISE_YSO_match = np.empty(len(WISE_YSO2MASS),dtype=int)\n",
    "WISE_YSO_match.fill(-2)\n",
    "for j in range(0,len(WISE_YSO2MASS)):\n",
    "    if(WISE_YSO2MASS[j] in gaia_list):\n",
    "        WISE_YSO_match[j] = gaia_list.index(WISE_YSO2MASS[j])\n",
    "    else:\n",
    "        WISE_YSO_match[j] = -2\n",
    "good_WISE_YSO = WISE_YSO_match > -1\n",
    "print(len(WISE_YSO_match[good_WISE_YSO]))\n",
    "print(np.where(WISE_YSO_match > -1))"
   ]
  },
  {
   "cell_type": "code",
   "execution_count": 52,
   "metadata": {
    "collapsed": true
   },
   "outputs": [],
   "source": [
    "#matching the catalogs \n",
    "\n",
    "gaia_coord = SkyCoord(ra=Gra,dec=Gdec,unit=(u.deg,u.deg))\n",
    "WISE_coord = SkyCoord(ra=Wra,dec=Wdec,unit=(u.deg,u.deg))\n",
    "idx, d2d, d3d = WISE_coord.match_to_catalog_sky(gaia_coord)"
   ]
  },
  {
   "cell_type": "code",
   "execution_count": 58,
   "metadata": {},
   "outputs": [
    {
     "data": {
      "text/latex": [
       "$0^\\circ00{}^\\prime00.0113{}^{\\prime\\prime}$"
      ],
      "text/plain": [
       "<Angle 3.1490453701799347e-06 deg>"
      ]
     },
     "execution_count": 58,
     "metadata": {},
     "output_type": "execute_result"
    }
   ],
   "source": [
    "#match up GAIA catalog with WISE catalog\n",
    "\n",
    "for j in range(0,len(WISE_match)):\n",
    "    if(d3d[i] = np.mean(d3d)):\n",
    "        WISE_match[j] = gaia_list.index(GBYSO2MASS[j])\n",
    "    else:\n",
    "        GBYSO_match[j] = -2\n",
    "good_GBYSO = GBYSO_match > -1\n",
    "print(len(GBYSO_match[good_GBYSO]))\n",
    "print(np.where(GBYSO_match > -1))"
   ]
  },
  {
   "cell_type": "code",
   "execution_count": 78,
   "metadata": {},
   "outputs": [
    {
     "name": "stdout",
     "output_type": "stream",
     "text": [
      "76\n",
      "(array([ 27,  60,  71,  78,  85,  94,  99, 106, 112, 130, 197, 200, 210,\n",
      "       215, 244, 249, 259, 266, 293, 301, 308, 314, 317, 326, 332, 342,\n",
      "       505, 513, 514, 515, 522, 540, 541, 546, 547, 550, 559, 564, 567,\n",
      "       569, 573, 574, 575, 576, 577, 580, 581, 584, 585, 586, 589, 591,\n",
      "       593, 594, 596, 598, 599, 603, 606, 608, 615, 617, 620, 621, 623,\n",
      "       627, 634, 641, 643, 645, 646, 650, 654, 656, 661, 669]),)\n"
     ]
    }
   ],
   "source": [
    "WISE_match = np.empty(len(Wra),dtype=int); WISE_match.fill(-2)\n",
    "for i in range(len(d2d)):\n",
    "    if (d2d[i] <= Angle('0d00m00.2s')):\n",
    "        WISE_match[i] = idx[i]\n",
    "    else:\n",
    "        WISE_match[i] = -2\n",
    "good_WISE_YSO = WISE_match >-1\n",
    "print(len(WISE_match[good_WISE_YSO]))\n",
    "print(np.where(WISE_match > -1))"
   ]
  },
  {
   "cell_type": "code",
   "execution_count": 79,
   "metadata": {},
   "outputs": [
    {
     "data": {
      "text/plain": [
       "array([4003,   -2,   -2,   -2,   -2,   -2, 8680,   -2,   -2,   -2,   -2,\n",
       "       8671,   -2,   -2,   -2, 4504, 8923,   -2,   -2,   -2,   -2,   -2,\n",
       "         -2,   -2,   -2,   -2,   -2,   -2,   -2,   -2,   -2,   -2,   -2,\n",
       "       4615,   -2,   -2, 4524,   -2,   -2,   -2,   -2,   -2,   -2, 5090,\n",
       "         -2,   -2,   -2,   -2,   -2,   -2,   -2,   -2,   -2,   -2,   -2,\n",
       "         -2, 4456, 4781,   -2,   -2,   -2,   -2,   -2,   -2,   -2,   -2,\n",
       "         -2,   -2,   -2,   -2, 4547,   -2, 4567,   -2,   -2,   -2,   -2,\n",
       "         -2, 5132, 5114,   -2, 5855,   -2,   -2,   -2,   -2,   -2,   -2,\n",
       "         -2,   -2,   -2,   -2,   -2,   -2,   -2,   -2,   -2,   -2,   -2,\n",
       "         -2,   -2, 5850,   -2,   -2,   -2,   -2,   -2,   -2,   -2,   -2,\n",
       "         -2,   -2,   -2, 5879,   -2,   -2,   -2,   -2,   -2,   -2, 5744,\n",
       "         -2,   -2,   -2,   -2, 4872,   -2, 4937,   -2,   -2,   -2,   -2,\n",
       "       4799,   -2, 5758,   -2, 4947, 5806, 5821, 4866,   -2, 4883, 5752,\n",
       "         -2, 4939, 4815,   -2,   -2,   -2,   -2,   -2,   -2,   -2,   -2,\n",
       "         -2,   -2,   -2,   -2,   -2, 4865,   -2,   -2,   -2,   -2,   -2,\n",
       "         -2,   -2,   -2,   -2,   -2,   -2,   -2,   -2,   -2,   -2, 5814,\n",
       "         -2,   -2,   -2, 5835,   -2,   -2,   -2,   -2, 5909,   -2, 5683,\n",
       "         -2,   -2, 4875,   -2,   -2,   -2,   -2,   -2,   -2,   -2, 4940,\n",
       "         -2,   -2,   -2,   -2,   -2,   -2,   -2,   -2,   -2, 5735, 4764,\n",
       "         -2,   -2,   -2, 4778,   -2,   -2,   -2,   -2,   -2, 5764,   -2,\n",
       "         -2,   -2,   -2,   -2,   -2,   -2,   -2,   -2,   -2,   -2,   -2,\n",
       "         -2, 5675, 5575,   -2, 5800,   -2,   -2, 5895, 5864,   -2,   -2,\n",
       "       5859,   -2,   -2, 5648, 5891,   -2,   -2,   -2, 5853, 5900,   -2,\n",
       "         -2,   -2, 5783,   -2,   -2,   -2, 5922,   -2,   -2])"
      ]
     },
     "execution_count": 79,
     "metadata": {},
     "output_type": "execute_result"
    }
   ],
   "source": [
    "for i in range(len(c2dYSO_match)):\n",
    "    if()"
   ]
  },
  {
   "cell_type": "code",
   "execution_count": null,
   "metadata": {
    "collapsed": true
   },
   "outputs": [],
   "source": []
  }
 ],
 "metadata": {
  "kernelspec": {
   "display_name": "Python 3",
   "language": "python",
   "name": "python3"
  },
  "language_info": {
   "codemirror_mode": {
    "name": "ipython",
    "version": 3
   },
   "file_extension": ".py",
   "mimetype": "text/x-python",
   "name": "python",
   "nbconvert_exporter": "python",
   "pygments_lexer": "ipython3",
   "version": "3.6.1"
  }
 },
 "nbformat": 4,
 "nbformat_minor": 2
}
