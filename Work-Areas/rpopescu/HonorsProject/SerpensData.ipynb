{
 "cells": [
  {
   "cell_type": "code",
   "execution_count": 4,
   "metadata": {},
   "outputs": [],
   "source": [
    "# Standard definitions needed for script\n",
    "import numpy as np\n",
    "import matplotlib.pyplot as plt\n",
    "import numpy.ma as ma\n",
    "import math\n",
    "from astropy.table import Table\n",
    "from astropy.io import fits\n",
    "import astropy.units as u\n",
    "from astropy.coordinates.sky_coordinate import SkyCoord\n",
    "from astropy.units import Quantity\n",
    "from numpy.polynomial.polynomial import polyfit"
   ]
  },
  {
   "cell_type": "code",
   "execution_count": 2,
   "metadata": {},
   "outputs": [
    {
     "ename": "ModuleNotFoundError",
     "evalue": "No module named 'astroquery'",
     "output_type": "error",
     "traceback": [
      "\u001b[1;31m---------------------------------------------------------------------------\u001b[0m",
      "\u001b[1;31mModuleNotFoundError\u001b[0m                       Traceback (most recent call last)",
      "\u001b[1;32m<ipython-input-2-71c1e9797a0b>\u001b[0m in \u001b[0;36m<module>\u001b[1;34m()\u001b[0m\n\u001b[0;32m      1\u001b[0m \u001b[1;31m# set-up for query to GAIA archive\u001b[0m\u001b[1;33m\u001b[0m\u001b[1;33m\u001b[0m\u001b[0m\n\u001b[1;32m----> 2\u001b[1;33m \u001b[1;32mfrom\u001b[0m \u001b[0mastroquery\u001b[0m\u001b[1;33m.\u001b[0m\u001b[0mgaia\u001b[0m \u001b[1;32mimport\u001b[0m \u001b[0mGaia\u001b[0m\u001b[1;33m\u001b[0m\u001b[0m\n\u001b[0m\u001b[0;32m      3\u001b[0m \u001b[0mtables\u001b[0m \u001b[1;33m=\u001b[0m \u001b[0mGaia\u001b[0m\u001b[1;33m.\u001b[0m\u001b[0mload_tables\u001b[0m\u001b[1;33m(\u001b[0m\u001b[0monly_names\u001b[0m\u001b[1;33m=\u001b[0m\u001b[1;32mTrue\u001b[0m\u001b[1;33m)\u001b[0m\u001b[1;33m\u001b[0m\u001b[0m\n\u001b[0;32m      4\u001b[0m \u001b[1;32mfor\u001b[0m \u001b[0mtable\u001b[0m \u001b[1;32min\u001b[0m \u001b[1;33m(\u001b[0m\u001b[0mtables\u001b[0m\u001b[1;33m)\u001b[0m\u001b[1;33m:\u001b[0m\u001b[1;33m\u001b[0m\u001b[0m\n\u001b[0;32m      5\u001b[0m      \u001b[0mprint\u001b[0m \u001b[1;33m(\u001b[0m\u001b[0mtable\u001b[0m\u001b[1;33m.\u001b[0m\u001b[0mget_qualified_name\u001b[0m\u001b[1;33m(\u001b[0m\u001b[1;33m)\u001b[0m\u001b[1;33m)\u001b[0m\u001b[1;33m\u001b[0m\u001b[0m\n",
      "\u001b[1;31mModuleNotFoundError\u001b[0m: No module named 'astroquery'"
     ]
    }
   ],
   "source": [
    "# set-up for query to GAIA archive\n",
    "from astroquery.gaia import Gaia\n",
    "tables = Gaia.load_tables(only_names=True)\n",
    "for table in (tables):\n",
    "     print (table.get_qualified_name())"
   ]
  },
  {
   "cell_type": "code",
   "execution_count": null,
   "metadata": {
    "collapsed": true
   },
   "outputs": [],
   "source": [
    "# send request to GAIA archive\n",
    "# the items in the box command are (corrdinate system, RA in deg, Dec in \n",
    "deg, box width in RA and Dec in deg)\n",
    "query = \"SELECT * \\\n",
    "FROM gaiadr2.gaia_source AS g, gaiadr2.tmass_best_neighbour AS tbest, \n",
    "gaiadr1.tmass_original_valid AS tmass \\\n",
    "WHERE g.source_id = tbest.source_id AND tbest.tmass_oid = tmass.tmass_oid \\\n",
    "AND CONTAINS(POINT('ICRS',g.ra,g.dec),BOX('ICRS',277.49,-1.00,5.,5.))=1 AND (parallax >=1.7 AND parallax_over_error >=3);\""
   ]
  },
  {
   "cell_type": "code",
   "execution_count": null,
   "metadata": {
    "collapsed": true
   },
   "outputs": [],
   "source": [
    "job1 = Gaia.launch_job_async(query, dump_to_file=False)\n",
    "# this retrieves the result from the query above and puts into a table with the name \"p\"\n",
    "# The next line prints out the labels for all of the columns in the table\n",
    "pp = job1.get_results()\n",
    "print (p.colnames)"
   ]
  },
  {
   "cell_type": "code",
   "execution_count": null,
   "metadata": {
    "collapsed": true
   },
   "outputs": [],
   "source": [
    "ra_big = pp[\"ra\"]\n",
    "dec_big = pp[\"dec\"]\n",
    "par_big = pp[\"parallax\"]\n",
    "pare_big = pp[\"parallax_error\"]\n",
    "parsn_big = pp[\"parallax_over_error\"]\n",
    "pmra_big = pp[\"pmra\"]\n",
    "pmdec_big = pp[\"pmdec\"]\n",
    "print(len(ra_big))\n",
    "nn = 0\n",
    "for i in range(0,len(ra_big)):\n",
    "     dist = 1000/par_big[i]\n",
    "     if(dist > 350. and dist <550. and parsn_big[i]>10.):\n",
    "         nn = nn + 1\n",
    "print(\"Number of sources in distance range:\", nn)\n",
    "secperyr = 60*60*24*365.25\n",
    "to_kms = 443./1000. * 1.496e8/secperyr\n",
    "pm_mag = np.zeros(0)\n",
    "for i in range(0,len(ra_big)):\n",
    "     dist = 1000/par_big[i]\n",
    "     if(dist > 350. and dist <550. and parsn_big[i]>10.):\n",
    "         pm2 = pmra_big[i]*pmra_big[i] + pmdec_big[i]*pmdec_big[i]\n",
    "         pm = np.power(pm2,0.5)\n",
    "         pm_mag = np.append(pm_mag,pm)\n",
    "print(len(pm_mag))\n",
    "plt.hist(pm_mag,bins=100,range=(0,100))\n",
    "plt.xlabel(\"Magnitude of Proper Motion (km/sec)\")\n",
    "plt.ylabel(\"Number of sources with S/N>10 in Parallax\")\n",
    "plt.text(27,500,\"Gaia sources in 5 deg radius of (18:30, -1 deg)\")\n",
    "plt.text(40,450,\"With Parallax S/N > 10\")\n",
    "plt.text(40,400,\"With 350 pc < Dist < 550 pc\")\n",
    "plt.savefig(\"big-Serp-pms.png\")\n",
    "plt.show()"
   ]
  }
 ],
 "metadata": {
  "kernelspec": {
   "display_name": "Python 3",
   "language": "python",
   "name": "python3"
  },
  "language_info": {
   "codemirror_mode": {
    "name": "ipython",
    "version": 3
   },
   "file_extension": ".py",
   "mimetype": "text/x-python",
   "name": "python",
   "nbconvert_exporter": "python",
   "pygments_lexer": "ipython3",
   "version": "3.6.1"
  }
 },
 "nbformat": 4,
 "nbformat_minor": 2
}
