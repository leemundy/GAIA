{
 "cells": [
  {
   "cell_type": "code",
   "execution_count": 1,
   "metadata": {
    "collapsed": true
   },
   "outputs": [],
   "source": [
    "# Standard definitions needed for script\n",
    "import numpy as np\n",
    "import matplotlib.pyplot as plt\n",
    "import numpy.ma as ma\n",
    "import math\n",
    "from astropy.table import Table\n",
    "from astropy.io import fits\n",
    "import astropy.units as u\n",
    "from astropy.coordinates.sky_coordinate import SkyCoord\n",
    "from astropy.units import Quantity\n",
    "from numpy.polynomial.polynomial import polyfit"
   ]
  },
  {
   "cell_type": "code",
   "execution_count": 2,
   "metadata": {},
   "outputs": [
    {
     "name": "stdout",
     "output_type": "stream",
     "text": [
      "Created TAP+ (v1.0.1) - Connection:\n",
      "\tHost: gea.esac.esa.int\n",
      "\tUse HTTPS: False\n",
      "\tPort: 80\n",
      "\tSSL Port: 443\n",
      "Retrieving tables...\n",
      "Parsing tables...\n",
      "Done.\n",
      "external.external.gaiadr2_geometric_distance\n",
      "public.public.dual\n",
      "public.public.hipparcos\n",
      "public.public.hipparcos_newreduction\n",
      "public.public.hubble_sc\n",
      "public.public.igsl_source\n",
      "public.public.igsl_source_catalog_ids\n",
      "public.public.tycho2\n",
      "tap_schema.tap_schema.columns\n",
      "tap_schema.tap_schema.key_columns\n",
      "tap_schema.tap_schema.keys\n",
      "tap_schema.tap_schema.schemas\n",
      "tap_schema.tap_schema.tables\n",
      "gaiadr1.gaiadr1.aux_qso_icrf2_match\n",
      "gaiadr1.gaiadr1.ext_phot_zero_point\n",
      "gaiadr1.gaiadr1.allwise_best_neighbour\n",
      "gaiadr1.gaiadr1.allwise_neighbourhood\n",
      "gaiadr1.gaiadr1.gsc23_best_neighbour\n",
      "gaiadr1.gaiadr1.gsc23_neighbourhood\n",
      "gaiadr1.gaiadr1.ppmxl_best_neighbour\n",
      "gaiadr1.gaiadr1.ppmxl_neighbourhood\n",
      "gaiadr1.gaiadr1.sdss_dr9_best_neighbour\n",
      "gaiadr1.gaiadr1.sdss_dr9_neighbourhood\n",
      "gaiadr1.gaiadr1.tmass_best_neighbour\n",
      "gaiadr1.gaiadr1.tmass_neighbourhood\n",
      "gaiadr1.gaiadr1.ucac4_best_neighbour\n",
      "gaiadr1.gaiadr1.ucac4_neighbourhood\n",
      "gaiadr1.gaiadr1.urat1_best_neighbour\n",
      "gaiadr1.gaiadr1.urat1_neighbourhood\n",
      "gaiadr1.gaiadr1.cepheid\n",
      "gaiadr1.gaiadr1.phot_variable_time_series_gfov\n",
      "gaiadr1.gaiadr1.phot_variable_time_series_gfov_statistical_parameters\n",
      "gaiadr1.gaiadr1.rrlyrae\n",
      "gaiadr1.gaiadr1.variable_summary\n",
      "gaiadr1.gaiadr1.allwise_original_valid\n",
      "gaiadr1.gaiadr1.gsc23_original_valid\n",
      "gaiadr1.gaiadr1.ppmxl_original_valid\n",
      "gaiadr1.gaiadr1.sdssdr9_original_valid\n",
      "gaiadr1.gaiadr1.tmass_original_valid\n",
      "gaiadr1.gaiadr1.ucac4_original_valid\n",
      "gaiadr1.gaiadr1.urat1_original_valid\n",
      "gaiadr1.gaiadr1.gaia_source\n",
      "gaiadr1.gaiadr1.tgas_source\n",
      "gaiadr2.gaiadr2.aux_allwise_agn_gdr2_cross_id\n",
      "gaiadr2.gaiadr2.aux_iers_gdr2_cross_id\n",
      "gaiadr2.gaiadr2.aux_sso_orbit_residuals\n",
      "gaiadr2.gaiadr2.aux_sso_orbits\n",
      "gaiadr2.gaiadr2.dr1_neighbourhood\n",
      "gaiadr2.gaiadr2.allwise_best_neighbour\n",
      "gaiadr2.gaiadr2.allwise_neighbourhood\n",
      "gaiadr2.gaiadr2.apassdr9_best_neighbour\n",
      "gaiadr2.gaiadr2.apassdr9_neighbourhood\n",
      "gaiadr2.gaiadr2.gsc23_best_neighbour\n",
      "gaiadr2.gaiadr2.gsc23_neighbourhood\n",
      "gaiadr2.gaiadr2.hipparcos2_best_neighbour\n",
      "gaiadr2.gaiadr2.hipparcos2_neighbourhood\n",
      "gaiadr2.gaiadr2.panstarrs1_best_neighbour\n",
      "gaiadr2.gaiadr2.panstarrs1_neighbourhood\n",
      "gaiadr2.gaiadr2.ppmxl_best_neighbour\n",
      "gaiadr2.gaiadr2.ppmxl_neighbourhood\n",
      "gaiadr2.gaiadr2.ravedr5_best_neighbour\n",
      "gaiadr2.gaiadr2.ravedr5_neighbourhood\n",
      "gaiadr2.gaiadr2.sdssdr9_best_neighbour\n",
      "gaiadr2.gaiadr2.sdssdr9_neighbourhood\n",
      "gaiadr2.gaiadr2.tmass_best_neighbour\n",
      "gaiadr2.gaiadr2.tmass_neighbourhood\n",
      "gaiadr2.gaiadr2.tycho2_best_neighbour\n",
      "gaiadr2.gaiadr2.tycho2_neighbourhood\n",
      "gaiadr2.gaiadr2.urat1_best_neighbour\n",
      "gaiadr2.gaiadr2.urat1_neighbourhood\n",
      "gaiadr2.gaiadr2.sso_observation\n",
      "gaiadr2.gaiadr2.sso_source\n",
      "gaiadr2.gaiadr2.vari_cepheid\n",
      "gaiadr2.gaiadr2.vari_classifier_class_definition\n",
      "gaiadr2.gaiadr2.vari_classifier_definition\n",
      "gaiadr2.gaiadr2.vari_classifier_result\n",
      "gaiadr2.gaiadr2.vari_long_period_variable\n",
      "gaiadr2.gaiadr2.vari_rotation_modulation\n",
      "gaiadr2.gaiadr2.vari_rrlyrae\n",
      "gaiadr2.gaiadr2.vari_short_timescale\n",
      "gaiadr2.gaiadr2.vari_time_series_statistics\n",
      "gaiadr2.gaiadr2.panstarrs1_original_valid\n",
      "gaiadr2.gaiadr2.gaia_source\n"
     ]
    }
   ],
   "source": [
    "# set-up for query to GAIA archive\n",
    "from astroquery.gaia import Gaia\n",
    "tables = Gaia.load_tables(only_names=True)\n",
    "for table in (tables):\n",
    "     print (table.get_qualified_name())"
   ]
  },
  {
   "cell_type": "code",
   "execution_count": 3,
   "metadata": {
    "collapsed": true
   },
   "outputs": [],
   "source": [
    "# AND g.source_id = wbest.source_id AND wbest.allwise_oid = wise.allwise_oid \\\n",
    "# gaiadr2.allwise_best_neighbour AS wbest, gaiadr1.allwise_original_valid AS wise\\"
   ]
  },
  {
   "cell_type": "code",
   "execution_count": 4,
   "metadata": {
    "collapsed": true
   },
   "outputs": [],
   "source": [
    "# send request to GAIA archive\n",
    "# the items in the box command are (corrdinate system, RA in deg, Dec in \n",
    "#deg, box width in RA and Dec in deg)\n",
    "query = \"SELECT * \\\n",
    "FROM gaiadr2.gaia_source AS g, gaiadr2.tmass_best_neighbour AS tbest, gaiadr1.tmass_original_valid AS tmass, \\\n",
    "gaiadr2.allwise_best_neighbour AS wbest \\\n",
    "WHERE g.source_id = tbest.source_id AND tbest.tmass_oid = tmass.tmass_oid \\\n",
    "AND g.source_id = wbest.source_id \\\n",
    "AND CONTAINS(POINT('ICRS',g.ra,g.dec),BOX('ICRS',277.49,-1.00,5.,5.))=1 AND (parallax >=1.7 AND parallax_over_error >=3);\""
   ]
  },
  {
   "cell_type": "code",
   "execution_count": 8,
   "metadata": {},
   "outputs": [
    {
     "name": "stderr",
     "output_type": "stream",
     "text": [
      "WARNING: W35: None:5:0: W35: 'value' attribute required for INFO elements [astropy.io.votable.tree]\n",
      "WARNING: W35: None:6:0: W35: 'value' attribute required for INFO elements [astropy.io.votable.tree]\n",
      "WARNING: W35: None:7:0: W35: 'value' attribute required for INFO elements [astropy.io.votable.tree]\n",
      "WARNING: W35: None:8:0: W35: 'value' attribute required for INFO elements [astropy.io.votable.tree]\n",
      "WARNING: W35: None:10:0: W35: 'value' attribute required for INFO elements [astropy.io.votable.tree]\n",
      "WARNING: W27: None:11:0: W27: COOSYS deprecated in VOTable 1.2 [astropy.io.votable.tree]\n",
      "WARNING: W27: None:12:0: W27: COOSYS deprecated in VOTable 1.2 [astropy.io.votable.tree]\n",
      "WARNING: W06: None:48:0: W06: Invalid UCD 'arith.ratio': Secondary word 'arith.ratio' is not valid as a primary word [astropy.io.votable.tree]\n",
      "WARNING: W50: None:51:0: W50: Invalid unit string 'mas.yr**-1' [astropy.io.votable.tree]\n",
      "WARNING: W50: None:54:0: W50: Invalid unit string 'mas.yr**-1' [astropy.io.votable.tree]\n",
      "WARNING: W50: None:57:0: W50: Invalid unit string 'mas.yr**-1' [astropy.io.votable.tree]\n",
      "WARNING: W50: None:60:0: W50: Invalid unit string 'mas.yr**-1' [astropy.io.votable.tree]\n",
      "WARNING: W50: None:123:0: W50: Invalid unit string 'mas**-2' [astropy.io.votable.tree]\n",
      "WARNING: W50: None:126:0: W50: Invalid unit string 'um**-1' [astropy.io.votable.tree]\n",
      "WARNING: W06: None:129:0: W06: Invalid UCD 'em.wavenumber;stat.error': Primary word 'stat.error' is not valid as a secondary word [astropy.io.votable.tree]\n",
      "WARNING: W50: None:129:0: W50: Invalid unit string 'um**-1' [astropy.io.votable.tree]\n",
      "WARNING: W06: None:141:0: W06: Invalid UCD 'pos.errorEllipse;stat.max': Secondary word 'pos.errorEllipse' is not valid as a primary word [astropy.io.votable.tree]\n",
      "WARNING: W50: None:156:0: W50: Invalid unit string ''electron'.s**-1' [astropy.io.votable.tree]\n",
      "WARNING: W50: None:159:0: W50: Invalid unit string ''electron'.s**-1' [astropy.io.votable.tree]\n",
      "WARNING: W06: None:162:0: W06: Invalid UCD 'arith.ratio': Secondary word 'arith.ratio' is not valid as a primary word [astropy.io.votable.tree]\n",
      "WARNING: W50: None:171:0: W50: Invalid unit string ''electron'.s**-1' (suppressing further warnings of this type...) [astropy.io.votable.tree]\n",
      "WARNING: W06: None:177:0: W06: Invalid UCD 'arith.ratio': Secondary word 'arith.ratio' is not valid as a primary word [astropy.io.votable.tree]\n",
      "WARNING: W06: None:192:0: W06: Invalid UCD 'arith.ratio': Secondary word 'arith.ratio' is not valid as a primary word [astropy.io.votable.tree]\n",
      "WARNING: W06: None:204:0: W06: Invalid UCD 'phot.color': Unknown word 'phot.color' [astropy.io.votable.tree]\n",
      "WARNING: W06: None:207:0: W06: Invalid UCD 'phot.color': Unknown word 'phot.color' [astropy.io.votable.tree]\n",
      "WARNING: W06: None:210:0: W06: Invalid UCD 'phot.color': Unknown word 'phot.color' [astropy.io.votable.tree]\n",
      "WARNING: W06: None:282:0: W06: Invalid UCD 'phys.size.radius;stat.error': Primary word 'stat.error' is not valid as a secondary word (suppressing further warnings of this type...) [astropy.io.votable.tree]\n",
      "WARNING: W32: None:303:0: W32: Duplicate ID 'source_id' renamed to 'source_id_2' to ensure uniqueness [astropy.io.votable.tree]\n",
      "WARNING: W32: None:368:0: W32: Duplicate ID 'tmass_oid' renamed to 'tmass_oid_2' to ensure uniqueness [astropy.io.votable.tree]\n",
      "WARNING: W32: None:373:0: W32: Duplicate ID 'designation' renamed to 'designation_2' to ensure uniqueness [astropy.io.votable.tree]\n",
      "WARNING: W32: None:378:0: W32: Duplicate ID 'ra' renamed to 'ra_2' to ensure uniqueness [astropy.io.votable.tree]\n",
      "WARNING: W32: None:381:0: W32: Duplicate ID 'dec' renamed to 'dec_2' to ensure uniqueness [astropy.io.votable.tree]\n",
      "WARNING: W32: None:447:0: W32: Duplicate ID 'source_id' renamed to 'source_id_3' to ensure uniqueness [astropy.io.votable.tree]\n",
      "WARNING: W32: None:450:0: W32: Duplicate ID 'original_ext_source_id' renamed to 'original_ext_source_id_2' to ensure uniqueness [astropy.io.votable.tree]\n",
      "WARNING: W32: None:453:0: W32: Duplicate ID 'angular_distance' renamed to 'angular_distance_2' to ensure uniqueness [astropy.io.votable.tree]\n",
      "WARNING: W32: None:456:0: W32: Duplicate ID 'gaia_astrometric_params' renamed to 'gaia_astrometric_params_2' to ensure uniqueness [astropy.io.votable.tree]\n",
      "WARNING: W32: None:462:0: W32: Duplicate ID 'number_of_neighbours' renamed to 'number_of_neighbours_2' to ensure uniqueness (suppressing further warnings of this type...) [astropy.io.votable.tree]\n",
      "WARNING: W33: None:303:0: W33: Column name 'source_id' renamed to 'source_id 2' to ensure uniqueness [astropy.io.votable.tree]\n",
      "WARNING: W33: None:368:0: W33: Column name 'tmass_oid' renamed to 'tmass_oid 2' to ensure uniqueness [astropy.io.votable.tree]\n",
      "WARNING: W33: None:373:0: W33: Column name 'designation' renamed to 'designation 2' to ensure uniqueness [astropy.io.votable.tree]\n",
      "WARNING: W33: None:378:0: W33: Column name 'ra' renamed to 'ra 2' to ensure uniqueness [astropy.io.votable.tree]\n",
      "WARNING: W33: None:381:0: W33: Column name 'dec' renamed to 'dec 2' to ensure uniqueness [astropy.io.votable.tree]\n",
      "WARNING: W33: None:447:0: W33: Column name 'source_id' renamed to 'source_id 3' to ensure uniqueness [astropy.io.votable.tree]\n",
      "WARNING: W33: None:450:0: W33: Column name 'original_ext_source_id' renamed to 'original_ext_source_id 2' to ensure uniqueness [astropy.io.votable.tree]\n",
      "WARNING: W33: None:453:0: W33: Column name 'angular_distance' renamed to 'angular_distance 2' to ensure uniqueness [astropy.io.votable.tree]\n",
      "WARNING: W33: None:456:0: W33: Column name 'gaia_astrometric_params' renamed to 'gaia_astrometric_params 2' to ensure uniqueness [astropy.io.votable.tree]\n",
      "WARNING: W33: None:462:0: W33: Column name 'number_of_neighbours' renamed to 'number_of_neighbours 2' to ensure uniqueness (suppressing further warnings of this type...) [astropy.io.votable.tree]\n"
     ]
    },
    {
     "name": "stdout",
     "output_type": "stream",
     "text": [
      "Query finished.\n",
      "['solution_id', 'designation', 'source_id', 'random_index', 'ref_epoch', 'ra', 'ra_error', 'dec', 'dec_error', 'parallax', 'parallax_error', 'parallax_over_error', 'pmra', 'pmra_error', 'pmdec', 'pmdec_error', 'ra_dec_corr', 'ra_parallax_corr', 'ra_pmra_corr', 'ra_pmdec_corr', 'dec_parallax_corr', 'dec_pmra_corr', 'dec_pmdec_corr', 'parallax_pmra_corr', 'parallax_pmdec_corr', 'pmra_pmdec_corr', 'astrometric_n_obs_al', 'astrometric_n_obs_ac', 'astrometric_n_good_obs_al', 'astrometric_n_bad_obs_al', 'astrometric_gof_al', 'astrometric_chi2_al', 'astrometric_excess_noise', 'astrometric_excess_noise_sig', 'astrometric_params_solved', 'astrometric_primary_flag', 'astrometric_weight_al', 'astrometric_pseudo_colour', 'astrometric_pseudo_colour_error', 'mean_varpi_factor_al', 'astrometric_matched_observations', 'visibility_periods_used', 'astrometric_sigma5d_max', 'frame_rotator_object_type', 'matched_observations', 'duplicated_source', 'phot_g_n_obs', 'phot_g_mean_flux', 'phot_g_mean_flux_error', 'phot_g_mean_flux_over_error', 'phot_g_mean_mag', 'phot_bp_n_obs', 'phot_bp_mean_flux', 'phot_bp_mean_flux_error', 'phot_bp_mean_flux_over_error', 'phot_bp_mean_mag', 'phot_rp_n_obs', 'phot_rp_mean_flux', 'phot_rp_mean_flux_error', 'phot_rp_mean_flux_over_error', 'phot_rp_mean_mag', 'phot_bp_rp_excess_factor', 'phot_proc_mode', 'bp_rp', 'bp_g', 'g_rp', 'radial_velocity', 'radial_velocity_error', 'rv_nb_transits', 'rv_template_teff', 'rv_template_logg', 'rv_template_fe_h', 'phot_variable_flag', 'l', 'b', 'ecl_lon', 'ecl_lat', 'priam_flags', 'teff_val', 'teff_percentile_lower', 'teff_percentile_upper', 'a_g_val', 'a_g_percentile_lower', 'a_g_percentile_upper', 'e_bp_min_rp_val', 'e_bp_min_rp_percentile_lower', 'e_bp_min_rp_percentile_upper', 'flame_flags', 'radius_val', 'radius_percentile_lower', 'radius_percentile_upper', 'lum_val', 'lum_percentile_lower', 'lum_percentile_upper', 'datalink_url', 'epoch_photometry_url', 'source_id_2', 'original_ext_source_id', 'angular_distance', 'gaia_astrometric_params', 'tmass_oid', 'number_of_neighbours', 'number_of_mates', 'best_neighbour_multiplicity', 'ph_qual', 'tmass_oid_2', 'designation_2', 'ra_2', 'dec_2', 'err_maj', 'err_min', 'err_ang', 'j_m', 'j_msigcom', 'h_m', 'h_msigcom', 'ks_m', 'ks_msigcom', 'ext_key', 'j_date', 'source_id_3', 'original_ext_source_id_2', 'angular_distance_2', 'gaia_astrometric_params_2', 'allwise_oid', 'number_of_neighbours_2', 'number_of_mates_2', 'best_neighbour_multiplicity_2']\n",
      " GAIA Table contains  9058  sources\n"
     ]
    }
   ],
   "source": [
    "job1 = Gaia.launch_job_async(query, dump_to_file=False)\n",
    "# this retrieves the result from the query above and puts into a table with the name \"GTab\"\n",
    "# The next line prints out the labels for all of the columns in the table\n",
    "GTab = job1.get_results() \n",
    "print (GTab.colnames)\n",
    "Gra = GTab[\"ra\"]\n",
    "Gdec = GTab[\"dec\"]\n",
    "Gpmra = GTab[\"pmra\"]\n",
    "Gpmra_e = GTab[\"pmra_error\"]\n",
    "Gpmdec = GTab[\"pmdec\"]\n",
    "Gpmdec_e = GTab[\"pmdec_error\"]\n",
    "Gpar = GTab[\"parallax\"]\n",
    "Gpar_sn = GTab[\"parallax_over_error\"]\n",
    "Gsepar = GTab[\"angular_distance\"]\n",
    "G2MASS = GTab[\"designation_2\"]\n",
    "print(\" GAIA Table contains \",len(Gra),\" sources\")"
   ]
  },
  {
   "cell_type": "code",
   "execution_count": 11,
   "metadata": {
    "collapsed": true
   },
   "outputs": [],
   "source": [
    "#creates list of indentifiers from 2MASS? \n",
    "\n",
    "gaia_list = []\n",
    "for i in range(0,len(G2MASS)):\n",
    "    gaia_list.append(G2MASS[i].decode('utf-8'))"
   ]
  },
  {
   "cell_type": "code",
   "execution_count": 12,
   "metadata": {},
   "outputs": [
    {
     "name": "stdout",
     "output_type": "stream",
     "text": [
      "Read  1442  YSOs from GB YSO catalog\n",
      "47\n",
      "(array([ 150,  160,  194,  253,  279,  309,  347,  348,  380,  382,  428,\n",
      "        433,  495,  520,  690,  730,  734,  833,  939,  961,  979,  992,\n",
      "       1036, 1042, 1047, 1067, 1068, 1093, 1095, 1132, 1133, 1138, 1145,\n",
      "       1155, 1185, 1213, 1226, 1227, 1233, 1253, 1258, 1276, 1312, 1330,\n",
      "       1341, 1356, 1388]),)\n"
     ]
    }
   ],
   "source": [
    "#read in gould belt YSO catalog\n",
    "\n",
    "infile = \"SERAQU-YSOs.tbl\"\n",
    "GBYSO = Table.read(infile,format=\"ascii.ipac\")\n",
    "# print(GBYSO.colnames)\n",
    "GBYSOra = GBYSO[\"ra\"]\n",
    "GBYSOdec = GBYSO[\"dec\"]\n",
    "GBYSO2MASS = GBYSO[\"id2mass\"]\n",
    "print(\"Read \",len(GBYSOra),\" YSOs from GB YSO catalog\")\n",
    "\n",
    "#match up GAIA catalog and Gould Belt YSO\n",
    "GBYSO_match = np.empty(len(GBYSO2MASS),dtype=int); GBYSO_match.fill(-2)\n",
    "for j in range(0,len(GBYSO2MASS)):\n",
    "    if(GBYSO2MASS[j] in gaia_list):\n",
    "        GBYSO_match[j] = gaia_list.index(GBYSO2MASS[j])\n",
    "    else:\n",
    "        GBYSO_match[j] = -2\n",
    "good_GBYSO = GBYSO_match > -1\n",
    "print(len(GBYSO_match[good_GBYSO]))\n",
    "print(np.where(GBYSO_match > -1))"
   ]
  },
  {
   "cell_type": "code",
   "execution_count": 13,
   "metadata": {},
   "outputs": [
    {
     "name": "stdout",
     "output_type": "stream",
     "text": [
      "Read  3725  YSOs from GB Star+Dust catalog\n",
      "22\n",
      "(array([ 744,  850, 1336, 2107, 2194, 2751, 2752, 3084, 3119, 3136, 3175,\n",
      "       3267, 3287, 3310, 3326, 3344, 3346, 3489, 3501, 3512, 3530, 3549]),)\n"
     ]
    }
   ],
   "source": [
    "#read in gould belt stars + dust catalgog\n",
    "\n",
    "infile = \"SERP_GB_star+dust.tbl\"\n",
    "GBSD = Table.read(infile,format=\"ascii.ipac\")\n",
    "# print(GBSD.colnames)\n",
    "GBSDra = GBSD[\"ra\"]\n",
    "GBSDdec = GBSD[\"dec\"]\n",
    "GBSD2MASS = GBSD[\"id2mass\"]\n",
    "print(\"Read \",len(GBSDra),\" YSOs from GB Star+Dust catalog\")\n",
    "\n",
    "#match up GAIA catalog and Gould Belt stars+dust\n",
    "GBSD_match = np.empty(len(GBSD2MASS),dtype=int); GBSD_match.fill(-2)\n",
    "for j in range(0,len(GBSD2MASS)):\n",
    "    if(GBSD2MASS[j] in gaia_list):\n",
    "        GBSD_match[j] = gaia_list.index(GBSD2MASS[j])\n",
    "    else:\n",
    "        GBSD_match[j] = -2\n",
    "good_GBSD = GBSD_match > -1\n",
    "print(len(GBSD_match[good_GBSD]))\n",
    "print(np.where(GBSD_match > -1))"
   ]
  },
  {
   "cell_type": "code",
   "execution_count": 14,
   "metadata": {},
   "outputs": [
    {
     "name": "stdout",
     "output_type": "stream",
     "text": [
      "Read  262  YSOs from c2d YSO catalog\n",
      "53\n",
      "(array([  0,   6,  11,  15,  16,  33,  36,  43,  56,  57,  70,  72,  78,\n",
      "        79,  81, 101, 113, 120, 125, 127, 132, 134, 136, 137, 138, 139,\n",
      "       141, 142, 144, 145, 159, 175, 179, 184, 186, 189, 197, 207, 208,\n",
      "       212, 218, 232, 233, 235, 238, 239, 242, 245, 246, 250, 251, 255, 259]),)\n"
     ]
    }
   ],
   "source": [
    "#read in c2d YSO catalog \n",
    "\n",
    "infile = \"catalog-SER-YSOc.tbl\"\n",
    "c2dYSO = Table.read(infile,format=\"ascii.ipac\")\n",
    "#print(c2dYSO.colnames)\n",
    "c2dYSOra = c2dYSO[\"ra\"]\n",
    "c2dYSOdec = c2dYSO[\"dec\"]\n",
    "c2dYSO2MASS = c2dYSO[\"id2mass\"]\n",
    "c2dYSOobj = c2dYSO[\"object_type\"]\n",
    "print(\"Read \",len(c2dYSOra),\" YSOs from c2d YSO catalog\")\n",
    "\n",
    "#match up GAIA catalog and c2d YSO catalog\n",
    "c2dYSO_match = np.empty(len(c2dYSO2MASS),dtype=int); c2dYSO_match.fill(-2)\n",
    "for j in range(0,len(c2dYSO2MASS)):\n",
    "    if(c2dYSO2MASS[j] in gaia_list):\n",
    "        c2dYSO_match[j] = gaia_list.index(c2dYSO2MASS[j])\n",
    "    else:\n",
    "        c2dYSO_match[j] = -2\n",
    "good_c2dYSO = c2dYSO_match > -1\n",
    "print(len(c2dYSO_match[good_c2dYSO]))\n",
    "print(np.where(c2dYSO_match > -1))"
   ]
  },
  {
   "cell_type": "code",
   "execution_count": 15,
   "metadata": {},
   "outputs": [
    {
     "name": "stdout",
     "output_type": "stream",
     "text": [
      "Read  256  YSOs from c2d Star+Dust catalog\n",
      "16\n",
      "(array([  2,  51,  54, 126, 128, 142, 153, 201, 217, 219, 223, 224, 228,\n",
      "       235, 238, 251]),)\n"
     ]
    }
   ],
   "source": [
    "#read in c2d YSO stars+dust catalog\n",
    "\n",
    "infile = \"SERP_c2d_star+dust.tbl\"\n",
    "c2dSD = Table.read(infile,format=\"ascii.ipac\")\n",
    "# print(GBSD.colnames)\n",
    "c2dSDra = c2dSD[\"ra\"]\n",
    "c2dSDdec = c2dSD[\"dec\"]\n",
    "c2dSD2MASS = c2dSD[\"id2mass\"]\n",
    "print(\"Read \",len(c2dSDra),\" YSOs from c2d Star+Dust catalog\")\n",
    "\n",
    "#match up GAIA catalog and c2d YSO catalog\n",
    "c2dSD_match = np.empty(len(c2dSD2MASS),dtype=int); c2dSD_match.fill(-2)\n",
    "for j in range(0,len(c2dSD2MASS)):\n",
    "    if(c2dSD2MASS[j] in gaia_list):\n",
    "        c2dSD_match[j] = gaia_list.index(c2dSD2MASS[j])\n",
    "    else:\n",
    "        c2dSD_match[j] = -2\n",
    "good_c2dSD = c2dSD_match > -1\n",
    "print(len(c2dSD_match[good_c2dSD]))\n",
    "print(np.where(c2dSD_match > -1))"
   ]
  },
  {
   "cell_type": "code",
   "execution_count": 34,
   "metadata": {},
   "outputs": [
    {
     "name": "stdout",
     "output_type": "stream",
     "text": [
      "Total number of GAIA matches to YSOs:  100\n",
      "Total number of GAIA matches to star+dust:  38\n"
     ]
    }
   ],
   "source": [
    "#total number of YSO matches\n",
    "\n",
    "YSO_match = c2dYSO_match; YSO_match = np.append(YSO_match,GBYSO_match)\n",
    "good_YSO = YSO_match > -1\n",
    "print(\"Total number of GAIA matches to YSOs: \",len(YSO_match[good_YSO]))\n",
    "SD_match = c2dSD_match; SD_match = np.append(SD_match,GBSD_match)\n",
    "good_SD = SD_match > -1\n",
    "print(\"Total number of GAIA matches to star+dust: \",len(SD_match[good_SD]))"
   ]
  },
  {
   "cell_type": "code",
   "execution_count": 19,
   "metadata": {},
   "outputs": [
    {
     "name": "stdout",
     "output_type": "stream",
     "text": [
      "Number of YSO matches in the correct distance interval:  80\n",
      "Number of YSO with parallax > 5, 10, 20:  76 52 26\n"
     ]
    },
    {
     "data": {
      "image/png": "[encoded data removed]",
      "text/plain": [
       "<matplotlib.figure.Figure at 0x7fb68afb0390>"
      ]
     },
     "metadata": {},
     "output_type": "display_data"
    },
    {
     "data": {
      "image/png": "[encoded data removed]",
      "text/plain": [
       "<matplotlib.figure.Figure at 0x7fb68afb0c18>"
      ]
     },
     "metadata": {},
     "output_type": "display_data"
    },
    {
     "data": {
      "image/png": "[encoded data removed]",
      "text/plain": [
       "<matplotlib.figure.Figure at 0x7fb68f1fbfd0>"
      ]
     },
     "metadata": {},
     "output_type": "display_data"
    },
    {
     "name": "stdout",
     "output_type": "stream",
     "text": [
      "Mean proper motion (Ra,Dec):  2.72522406379 -7.63598293331\n",
      "Median proper motion (Ra,Dec):  3.03968761909 -8.34163909798\n"
     ]
    },
    {
     "data": {
      "image/png": "[encoded data removed]",
      "text/plain": [
       "<matplotlib.figure.Figure at 0x7fb68d643fd0>"
      ]
     },
     "metadata": {},
     "output_type": "display_data"
    }
   ],
   "source": [
    "#properties of good YSO matches\n",
    "raYSO = np.zeros(len(YSO_match[good_YSO]))\n",
    "decYSO = np.zeros(len(YSO_match[good_YSO]))\n",
    "pmraYSO = np.zeros(len(YSO_match[good_YSO]))\n",
    "pmdecYSO = np.zeros(len(YSO_match[good_YSO]))\n",
    "pmra_eYSO = np.zeros(len(YSO_match[good_YSO]))\n",
    "pmdec_eYSO = np.zeros(len(YSO_match[good_YSO]))\n",
    "parYSO = np.zeros(len(YSO_match[good_YSO]))\n",
    "par_snYSO = np.zeros(len(YSO_match[good_YSO]))\n",
    "nyso = 0\n",
    "\n",
    "#find number of YSO matches in the correct interval\n",
    "for i in range(0,len(YSO_match)):\n",
    "    if(YSO_match[i] > -1):\n",
    "        j = YSO_match[i]\n",
    "        if(1000./Gpar[j] > 350. and 1000/Gpar[j] < 550.):\n",
    "            raYSO[nyso] = Gra[j]\n",
    "            decYSO[nyso] = Gdec[j]\n",
    "            pmraYSO[nyso] = Gpmra[j]\n",
    "            pmdecYSO[nyso] = Gpmdec[j]\n",
    "            parYSO[nyso] = Gpar[j]\n",
    "            par_snYSO[nyso] = Gpar_sn[j]\n",
    "            nyso = nyso + 1        \n",
    "print(\"Number of YSO matches in the correct distance interval: \",nyso)\n",
    "\n",
    "#find number of YSOs within parallax S/N greater than certain amount\n",
    "parsn10 = par_snYSO > 10.\n",
    "parsn5 = par_snYSO > 5\n",
    "parsn20 = par_snYSO > 20\n",
    "print(\"Number of YSO with parallax > 5, 10, 20: \", len(par_snYSO[parsn5]),len(par_snYSO[parsn10]),len(par_snYSO[parsn20]))\n",
    "\n",
    "#scatter plot of ra and dec\n",
    "plt.scatter(raYSO[parsn5],decYSO[parsn5],s=5)\n",
    "plt.show()\n",
    "#scatter plot of proper motions\n",
    "plt.scatter(pmraYSO[parsn5],pmdecYSO[parsn5],s=5)\n",
    "plt.show()\n",
    "#plot of YSOs at ra and dec with proper motions\n",
    "plt.quiver(raYSO[parsn5],decYSO[parsn5],pmraYSO[parsn5],pmdecYSO[parsn5])\n",
    "plt.show()\n",
    "#mean proper motions\n",
    "mean_pmra = np.mean(pmraYSO[parsn10])\n",
    "mean_pmdec = np.mean(pmdecYSO[parsn10])\n",
    "print(\"Mean proper motion (Ra,Dec): \",mean_pmra,mean_pmdec)\n",
    "#median proper motions\n",
    "median_pmra = np.median(pmraYSO[parsn10])\n",
    "median_pmdec = np.median(pmdecYSO[parsn10])\n",
    "print(\"Median proper motion (Ra,Dec): \",median_pmra,median_pmdec)\n",
    "#deviation from median of proper motion  of S/N > 10 ysos\n",
    "rpmraYSO = pmraYSO - median_pmra\n",
    "rpmdecYSO = pmdecYSO - median_pmdec\n",
    "#magnitude of deviation from median of proper motion\n",
    "pmmagYSO = np.zeros(len(YSO_match[good_YSO]))\n",
    "pmmagYSO = np.power((rpmraYSO*rpmraYSO+rpmdecYSO*rpmdecYSO),0.5)\n",
    "#plot of YSOs at ra and dec with deviation from median of proper motion\n",
    "plt.quiver(raYSO[parsn5],decYSO[parsn5],rpmraYSO[parsn5],rpmdecYSO[parsn5],pmmagYSO[parsn5])\n",
    "plt.colorbar()\n",
    "plt.show()"
   ]
  },
  {
   "cell_type": "code",
   "execution_count": 20,
   "metadata": {},
   "outputs": [
    {
     "name": "stdout",
     "output_type": "stream",
     "text": [
      "277.467589037 0.107927928724 YSOc_star+dust(IR1) -0.585614106425 1.01117830244 1.1685142023\n",
      "277.467589037 0.107927928724 YSOc 0.0123510185112 -0.752984388651 0.753085677204\n"
     ]
    }
   ],
   "source": [
    "#determine high proper motion YSOs \n",
    "high_pmYSO = pmmagYSO[parsn5] > 8.\n",
    "for i in range(0,len(high_pmYSO)):\n",
    "    if(high_pmYSO[i]):\n",
    "        j = YSO_match[i] #identifier of YSO match\n",
    "        print(Gra[j],Gdec[j],c2dYSOobj[i],rpmraYSO[i],rpmdecYSO[i],pmmagYSO[i])"
   ]
  },
  {
   "cell_type": "code",
   "execution_count": 37,
   "metadata": {},
   "outputs": [
    {
     "name": "stdout",
     "output_type": "stream",
     "text": [
      "277.467589037 0.107927928724 YSOc_red 1.65691268652 9.43458991931 9.57897941309 30.1823787689\n",
      "277.467589037 0.107927928724 YSOc_red -1.58031689348 8.22787903596 8.37826920755 40.8754005432\n",
      "277.467589037 0.107927928724 YSOc_star+dust(MP1) -3.03968761909 8.34163909798 8.87821173788 0.0\n",
      "277.284136648 1.0956421736 YSOc_star+dust(MP1) -3.03968761909 8.34163909798 8.87821173788 0.0\n",
      "277.467589037 0.107927928724 YSOc -3.03968761909 8.34163909798 8.87821173788 0.0\n",
      "277.467589037 0.107927928724 YSOc_star+dust(IR4) -3.03968761909 8.34163909798 8.87821173788 0.0\n",
      "277.467589037 0.107927928724 YSOc_star+dust(MP1) -3.03968761909 8.34163909798 8.87821173788 0.0\n",
      "277.467589037 0.107927928724 YSOc_star+dust(MP1) -3.03968761909 8.34163909798 8.87821173788 0.0\n",
      "277.467589037 0.107927928724 YSOc_star+dust(IR4) -3.03968761909 8.34163909798 8.87821173788 0.0\n",
      "277.467589037 0.107927928724 YSOc_star+dust(IR3) -3.03968761909 8.34163909798 8.87821173788 0.0\n",
      "277.467589037 0.107927928724 YSOc_star+dust(MP1) -3.03968761909 8.34163909798 8.87821173788 0.0\n",
      "277.467589037 0.107927928724 YSOc -3.03968761909 8.34163909798 8.87821173788 0.0\n",
      "277.467589037 0.107927928724 YSOc_star+dust(IR2) -3.03968761909 8.34163909798 8.87821173788 0.0\n",
      "277.467589037 0.107927928724 YSOc_star+dust(IR4) -3.03968761909 8.34163909798 8.87821173788 0.0\n",
      "277.467589037 0.107927928724 YSOc_star+dust(IR2) -3.03968761909 8.34163909798 8.87821173788 0.0\n",
      "277.467589037 0.107927928724 YSOc_star+dust(IR4) -3.03968761909 8.34163909798 8.87821173788 0.0\n",
      "277.467589037 0.107927928724 YSOc_star+dust(IR2) -3.03968761909 8.34163909798 8.87821173788 0.0\n",
      "277.467589037 0.107927928724 YSOc_star+dust(IR2) -3.03968761909 8.34163909798 8.87821173788 0.0\n",
      "277.467589037 0.107927928724 YSOc_star+dust(MP1) -3.03968761909 8.34163909798 8.87821173788 0.0\n",
      "277.467589037 0.107927928724 YSOc -3.03968761909 8.34163909798 8.87821173788 0.0\n",
      "277.467589037 0.107927928724 YSOc_star+dust(IR2) -3.03968761909 8.34163909798 8.87821173788 0.0\n",
      "277.467589037 0.107927928724 YSOc_star+dust(MP1) -3.03968761909 8.34163909798 8.87821173788 0.0\n"
     ]
    }
   ],
   "source": [
    "#FIXED determine high proper motion YSOs\n",
    "for i in range(0,len(pmmagYSO)):\n",
    "    if(pmmagYSO[i] > 8): \n",
    "        j = YSO_match[i] #identifier of YSO match\n",
    "        print(Gra[j],Gdec[j],c2dYSOobj[i],rpmraYSO[i],rpmdecYSO[i],pmmagYSO[i],par_snYSO[i])\n",
    "        #figure out difference between i and j"
   ]
  },
  {
   "cell_type": "code",
   "execution_count": 26,
   "metadata": {},
   "outputs": [
    {
     "name": "stdout",
     "output_type": "stream",
     "text": [
      "1704\n",
      "76\n"
     ]
    }
   ],
   "source": [
    "print(len(YSO_match))\n",
    "print(len(high_pmYSO))"
   ]
  },
  {
   "cell_type": "code",
   "execution_count": 21,
   "metadata": {},
   "outputs": [
    {
     "name": "stdout",
     "output_type": "stream",
     "text": [
      "Number of Star+dusts sources in distance interval:  28\n",
      "Number of SD with parallax > 5, 10, 20:  23 14 8\n"
     ]
    },
    {
     "data": {
      "image/png": "[encoded data removed]",
      "text/plain": [
       "<matplotlib.figure.Figure at 0x7fb690250668>"
      ]
     },
     "metadata": {},
     "output_type": "display_data"
    },
    {
     "data": {
      "image/png": "[encoded data removed]",
      "text/plain": [
       "<matplotlib.figure.Figure at 0x7fb690250e10>"
      ]
     },
     "metadata": {},
     "output_type": "display_data"
    },
    {
     "data": {
      "image/png": "[encoded data removed]",
      "text/plain": [
       "<matplotlib.figure.Figure at 0x7fb68f0f1ba8>"
      ]
     },
     "metadata": {},
     "output_type": "display_data"
    },
    {
     "name": "stdout",
     "output_type": "stream",
     "text": [
      "Mean proper motion (Ra,Dec):  3.31667142763 -6.40853803665\n",
      "Median proper motion (Ra,Dec):  3.03968761909 -8.34163909798\n"
     ]
    },
    {
     "data": {
      "image/png": "[encoded data removed]",
      "text/plain": [
       "<matplotlib.figure.Figure at 0x7fb69023c550>"
      ]
     },
     "metadata": {},
     "output_type": "display_data"
    }
   ],
   "source": [
    "#properties of good star + dust matches\n",
    "raSD = np.zeros(len(SD_match[good_SD]))\n",
    "decSD = np.zeros(len(SD_match[good_SD]))\n",
    "pmraSD = np.zeros(len(SD_match[good_SD]))\n",
    "pmdecSD = np.zeros(len(SD_match[good_SD]))\n",
    "pmra_eSD = np.zeros(len(SD_match[good_SD]))\n",
    "pmdec_eSD = np.zeros(len(SD_match[good_SD]))\n",
    "parSD = np.zeros(len(SD_match[good_SD]))\n",
    "par_snSD = np.zeros(len(SD_match[good_SD]))\n",
    "pmmagSD = np.zeros(len(SD_match[good_SD]))\n",
    "nsd = 0\n",
    "\n",
    "#find number of star+dust matches in the correct interval\n",
    "for i in range(0,len(SD_match)):\n",
    "    if(SD_match[i] > -1):\n",
    "        j = SD_match[i]\n",
    "        if(1000./Gpar[j] > 350. and 1000./Gpar[j]<550):\n",
    "            raSD[nsd] = Gra[j]\n",
    "            decSD[nsd] = Gdec[j]\n",
    "            pmraSD[nsd] = Gpmra[j]\n",
    "            pmdecSD[nsd] = Gpmdec[j]\n",
    "            parSD[nsd] = Gpar[j]\n",
    "            par_snSD[nsd] = Gpar_sn[j]\n",
    "            nsd = nsd + 1\n",
    "print(\"Number of Star+dusts sources in distance interval: \",nsd)\n",
    "\n",
    "#find number of star+dust within parallax S/N greater than certain amount\n",
    "parsn10SD = par_snSD > 10.\n",
    "parsn5SD = par_snSD > 5\n",
    "parsn20SD = par_snSD > 20\n",
    "print(\"Number of SD with parallax > 5, 10, 20: \", len(par_snSD[parsn5SD]),len(par_snSD[parsn10SD]),len(par_snSD[parsn20SD]))\n",
    "\n",
    "#scatter plot of ra and dec\n",
    "plt.scatter(raSD[parsn5SD],decSD[parsn5SD],s=5)\n",
    "plt.show()\n",
    "#scatter plot of proper motion in ra and dec\n",
    "plt.scatter(pmraSD[parsn5SD],pmdecSD[parsn5SD],s=5)\n",
    "plt.show()\n",
    "#plot of stars+dust at ra and dec with proper motion vector indciated\n",
    "plt.quiver(raSD[parsn5SD],decSD[parsn5SD],pmraSD[parsn5SD],pmdecSD[parsn5SD])\n",
    "plt.show()\n",
    "#mean proper motion in ra and dec\n",
    "mean_pmraSD = np.mean(pmraSD[parsn10SD])\n",
    "mean_pmdecSD = np.mean(pmdecSD[parsn10SD])\n",
    "print(\"Mean proper motion (Ra,Dec): \",mean_pmraSD,mean_pmdecSD)\n",
    "#median proper motion in ra and dec\n",
    "median_pmraSD = np.median(pmraSD[parsn10SD])\n",
    "median_pmdecSD = np.median(pmdecSD[parsn10SD])\n",
    "print(\"Median proper motion (Ra,Dec): \",median_pmra,median_pmdec)\n",
    "#\n",
    "rpmraSD = pmraSD - median_pmraSD\n",
    "rpmdecSD = pmdecSD - median_pmdecSD\n",
    "pmmagSD = np.zeros(len(SD_match[good_SD]))\n",
    "pmmagSD = np.power((rpmraSD*rpmraSD+rpmdecSD*rpmdecSD),0.5)\n",
    "plt.quiver(raSD[parsn5SD],decSD[parsn5SD],rpmraSD[parsn5SD],rpmdecSD[parsn5SD],pmmagSD[parsn5SD])\n",
    "plt.colorbar()\n",
    "plt.show()"
   ]
  },
  {
   "cell_type": "code",
   "execution_count": 18,
   "metadata": {},
   "outputs": [
    {
     "name": "stdout",
     "output_type": "stream",
     "text": [
      "9058\n",
      "Number of sources in distance range: 3180\n",
      "3180\n"
     ]
    },
    {
     "data": {
      "image/png": "[encoded data removed]",
      "text/plain": [
       "<matplotlib.figure.Figure at 0x7fb68f7be7b8>"
      ]
     },
     "metadata": {},
     "output_type": "display_data"
    }
   ],
   "source": [
    "#define variables\n",
    "ra_big = GTab[\"ra\"]\n",
    "dec_big = GTab[\"dec\"]\n",
    "par_big = GTab[\"parallax\"]\n",
    "pare_big = GTab[\"parallax_error\"]\n",
    "parsn_big = GTab[\"parallax_over_error\"]\n",
    "pmra_big = GTab[\"pmra\"]\n",
    "pmdec_big = GTab[\"pmdec\"]\n",
    "print(len(ra_big))\n",
    "\n",
    "#count number of sources in distance range\n",
    "nn = 0\n",
    "for i in range(0,len(ra_big)):\n",
    "     dist = 1000/par_big[i]\n",
    "     if(dist > 350. and dist <550. and parsn_big[i]>10.):\n",
    "         nn = nn + 1\n",
    "print(\"Number of sources in distance range:\", nn)\n",
    "\n",
    "\n",
    "secperyr = 60*60*24*365.25\n",
    "to_kms = 443./1000. * 1.496e8/secperyr\n",
    "\n",
    "#find magnitude of proper motion for sources with S/N greater than 10 in parallax\n",
    "pm_mag = np.zeros(0)\n",
    "for i in range(0,len(ra_big)):\n",
    "     dist = 1000/par_big[i]\n",
    "     if(dist > 350. and dist <550. and parsn_big[i]>10.):\n",
    "         pm2 = pmra_big[i]*pmra_big[i] + pmdec_big[i]*pmdec_big[i]\n",
    "         pm = np.power(pm2,0.5)\n",
    "         pm_mag = np.append(pm_mag,pm)\n",
    "print(len(pm_mag))\n",
    "\n",
    "#create histogram of number of sources for each proper motion magnitude\n",
    "plt.hist(pm_mag,bins=100,range=(0,100))\n",
    "plt.xlabel(\"Magnitude of Proper Motion (km/sec)\")\n",
    "plt.ylabel(\"Number of sources with S/N>10 in Parallax\")\n",
    "plt.text(27,250,\"Gaia sources in 5 deg radius of (18:30, -1 deg)\")\n",
    "plt.text(40,225,\"With Parallax S/N > 10\")\n",
    "plt.text(40,200,\"With 350 pc < Dist < 550 pc\")\n",
    "plt.savefig(\"big-Serp-pms.png\")\n",
    "plt.show()"
   ]
  },
  {
   "cell_type": "code",
   "execution_count": null,
   "metadata": {
    "collapsed": true
   },
   "outputs": [],
   "source": [
    "from astroquery.irsa import Irsa\n",
    "Irsa.ROW_LIMIT = 10000 #value of new row limit here\n",
    "Irsa.list_catalogs()\n",
    "irsatable = Irsa.query_region(SkyCoord(myra,mydec,unit=(u.deg,u.deg),frame='icrs'),catalog='allwise_p3as_psd',\\\n",
    "                              spatial='Box',width=0.4*u.deg)\n",
    "print(irsatable['designation','ra','dec','w3mpro','w3sigmpro','id'])"
   ]
  }
 ],
 "metadata": {
  "kernelspec": {
   "display_name": "Python 3",
   "language": "python",
   "name": "python3"
  },
  "language_info": {
   "codemirror_mode": {
    "name": "ipython",
    "version": 3
   },
   "file_extension": ".py",
   "mimetype": "text/x-python",
   "name": "python",
   "nbconvert_exporter": "python",
   "pygments_lexer": "ipython3",
   "version": "3.6.1"
  }
 },
 "nbformat": 4,
 "nbformat_minor": 2
}
