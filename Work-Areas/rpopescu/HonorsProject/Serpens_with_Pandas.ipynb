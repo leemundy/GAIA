{
 "cells": [
  {
   "cell_type": "markdown",
   "metadata": {},
   "source": [
    "Notebook to read all of the data into pandas"
   ]
  },
  {
   "cell_type": "code",
   "execution_count": 1,
   "metadata": {},
   "outputs": [],
   "source": [
    "# Standard definitions needed for script\n",
    "import numpy as np\n",
    "import matplotlib.pyplot as plt\n",
    "import numpy.ma as ma\n",
    "import math\n",
    "from astropy.table import Table\n",
    "from astropy.io import fits\n",
    "import astropy.units as u\n",
    "from astropy.coordinates.sky_coordinate import SkyCoord\n",
    "from astropy.units import Quantity\n",
    "from numpy.polynomial.polynomial import polyfit\n",
    "import astropy.constants as const\n",
    "from astropy.coordinates import Angle\n",
    "import pickle\n",
    "import pandas as pd\n",
    "from matplotlib.patches import Rectangle\n",
    "from sklearn.cluster import KMeans\n",
    "import scipy\n",
    "from sklearn import neighbors\n",
    "from scipy.stats import kde\n",
    "%matplotlib inline"
   ]
  },
  {
   "cell_type": "code",
   "execution_count": 20,
   "metadata": {},
   "outputs": [],
   "source": [
    "#Read in GAIA data\n",
    "file = 'Data/GAIA_data2.pkl'\n",
    "GTab = pd.read_pickle(file)"
   ]
  },
  {
   "cell_type": "code",
   "execution_count": 21,
   "metadata": {},
   "outputs": [],
   "source": [
    "GTab2 = pd.DataFrame.from_dict(GTab, orient='index')"
   ]
  },
  {
   "cell_type": "code",
   "execution_count": 26,
   "metadata": {},
   "outputs": [
    {
     "name": "stdout",
     "output_type": "stream",
     "text": [
      "{'GTab': <Table masked=True length=61441>\n",
      "    solution_id             designation          ... ext_key    j_date   \n",
      "                                                 ...              d      \n",
      "       int64                   object            ...  int64    float64   \n",
      "------------------- ---------------------------- ... ------- ------------\n",
      "1635721458409799680 Gaia DR2 4269970242741104640 ...      -- 2451283.9033\n",
      "1635721458409799680 Gaia DR2 4269914824777175296 ...      -- 2451283.8986\n",
      "1635721458409799680 Gaia DR2 4269931759836731520 ...      --  2451283.889\n",
      "1635721458409799680 Gaia DR2 4269937154313312768 ...      -- 2451283.8764\n",
      "1635721458409799680 Gaia DR2 4269968288533089792 ...      -- 2451283.9033\n",
      "1635721458409799680 Gaia DR2 4269960793813501184 ...      -- 2451283.9034\n",
      "1635721458409799680 Gaia DR2 4269945950406885248 ...      -- 2451283.8988\n",
      "1635721458409799680 Gaia DR2 4269911350150390784 ...      -- 2451283.8766\n",
      "1635721458409799680 Gaia DR2 4269957293414812416 ...      --  2451283.913\n",
      "                ...                          ... ...     ...          ...\n",
      "1635721458409799680 Gaia DR2 4256794902323605248 ...      -- 2451093.5056\n",
      "1635721458409799680 Gaia DR2 4256811253231509760 ...      -- 2451093.5057\n",
      "1635721458409799680 Gaia DR2 4256795241582181376 ...      -- 2451093.5132\n",
      "1635721458409799680 Gaia DR2 4256811120087528448 ...      -- 2451093.5057\n",
      "1635721458409799680 Gaia DR2 4256789228627621632 ...      -- 2451093.5036\n",
      "1635721458409799680 Gaia DR2 4256799330401132672 ...      -- 2451093.4959\n",
      "1635721458409799680 Gaia DR2 4256798677556291072 ...      -- 2451093.5131\n",
      "1635721458409799680 Gaia DR2 4256794455646894592 ...      -- 2451093.5056\n",
      "1635721458409799680 Gaia DR2 4256801632496870784 ...      -- 2451093.5035\n",
      "1635721458409799680 Gaia DR2 4256812219600348160 ...      -- 2451093.5034}\n"
     ]
    }
   ],
   "source": [
    "print(GTab)"
   ]
  },
  {
   "cell_type": "code",
   "execution_count": 25,
   "metadata": {},
   "outputs": [
    {
     "name": "stdout",
     "output_type": "stream",
     "text": [
      "                                                      0\n",
      "GTab  [[1635721458409799680, b'Gaia DR2 426997024274...\n"
     ]
    }
   ],
   "source": [
    "print(GTab2)"
   ]
  },
  {
   "cell_type": "code",
   "execution_count": 13,
   "metadata": {},
   "outputs": [
    {
     "ename": "AttributeError",
     "evalue": "'dict' object has no attribute 'colnames'",
     "output_type": "error",
     "traceback": [
      "\u001b[0;31m---------------------------------------------------------------------------\u001b[0m",
      "\u001b[0;31mAttributeError\u001b[0m                            Traceback (most recent call last)",
      "\u001b[0;32m<ipython-input-13-65dfede4ae7a>\u001b[0m in \u001b[0;36m<module>\u001b[0;34m\u001b[0m\n\u001b[0;32m----> 1\u001b[0;31m \u001b[0mprint\u001b[0m \u001b[0;34m(\u001b[0m\u001b[0mGTab\u001b[0m\u001b[0;34m.\u001b[0m\u001b[0mcolnames\u001b[0m\u001b[0;34m)\u001b[0m\u001b[0;34m\u001b[0m\u001b[0;34m\u001b[0m\u001b[0m\n\u001b[0m\u001b[1;32m      2\u001b[0m \u001b[0;34m\u001b[0m\u001b[0m\n\u001b[1;32m      3\u001b[0m \u001b[0;31m#Assign columns from table to variables\u001b[0m\u001b[0;34m\u001b[0m\u001b[0;34m\u001b[0m\u001b[0;34m\u001b[0m\u001b[0m\n\u001b[1;32m      4\u001b[0m \u001b[0mGra\u001b[0m \u001b[0;34m=\u001b[0m \u001b[0mGTab\u001b[0m\u001b[0;34m[\u001b[0m\u001b[0;34m\"ra\"\u001b[0m\u001b[0;34m]\u001b[0m\u001b[0;34m\u001b[0m\u001b[0;34m\u001b[0m\u001b[0m\n\u001b[1;32m      5\u001b[0m \u001b[0mGdec\u001b[0m \u001b[0;34m=\u001b[0m \u001b[0mGTab\u001b[0m\u001b[0;34m[\u001b[0m\u001b[0;34m\"dec\"\u001b[0m\u001b[0;34m]\u001b[0m\u001b[0;34m\u001b[0m\u001b[0;34m\u001b[0m\u001b[0m\n",
      "\u001b[0;31mAttributeError\u001b[0m: 'dict' object has no attribute 'colnames'"
     ]
    }
   ],
   "source": [
    "print (GTab.colnames)\n",
    "\n",
    "#Assign columns from table to variables\n",
    "Gra = GTab[\"ra\"]\n",
    "Gdec = GTab[\"dec\"]\n",
    "Gpmra = GTab[\"pmra\"]\n",
    "Gpmra_e = GTab[\"pmra_error\"]\n",
    "Gpmdec = GTab[\"pmdec\"]\n",
    "Gpmdec_e = GTab[\"pmdec_error\"]\n",
    "Gpar = GTab[\"parallax\"]\n",
    "Gpar_e = GTab['parallax_error']\n",
    "Gpar_sn = GTab[\"parallax_over_error\"]\n",
    "Gsepar = GTab[\"angular_distance\"]\n",
    "G2MASS = GTab[\"designation_2\"]\n",
    "g = GTab[\"phot_g_mean_mag\"]\n",
    "b = GTab[\"phot_bp_mean_mag\"]\n",
    "r = GTab[\"phot_rp_mean_mag\"]\n",
    "J = GTab[\"j_m\"]\n",
    "H = GTab[\"h_m\"]\n",
    "K = GTab[\"ks_m\"]\n",
    "print(\" GAIA Table contains \",len(Gra),\" sources\")\n",
    "\n",
    "\n",
    "#calculate distance in pc \n",
    "Gdist = 1000./Gpar\n",
    "Gdist_e = 1000./(Gpar**2)\n",
    "\n",
    "#Calculate velocity in km/s\n",
    "Gpmra_km = 4.74*(Gpmra/1000.)*Gdist\n",
    "Gpmdec_km = 4.74*(Gpmdec/1000.)*Gdist\n",
    "\n",
    "#Calculate uncertainty in velocity\n",
    "Gpmra_km_e = Gpmra_km*np.sqrt((Gdist_e/Gdist)**2+(Gpmra_e/Gpmra)**2)\n",
    "Gpmdec_km_e = Gpmdec_km*np.sqrt((Gdist_e/Gdist)**2+(Gpmdec_e/Gpmdec)**2)\n",
    "\n",
    "\n",
    "#add variables to a dictionary\n",
    "Gvalues = {'ra':Gra,'dec':Gdec,'pmra':Gpmra,'pmra_error':Gpmra_e,'pmdec':Gpmdec,'pmdec_error':Gpmdec_e,\\\n",
    "           'parallax':Gpar,'parallax_error':Gpar_e,'par_over_e':Gpar_sn,'Dist':Gdist,'pmra_km':Gpmra_km,\n",
    "           'pmdec_km':Gpmdec_km,'pmra_km_e':Gpmra_km_e,'pmdec_km_e':Gpmdec_km_e}\n"
   ]
  },
  {
   "cell_type": "code",
   "execution_count": null,
   "metadata": {},
   "outputs": [],
   "source": []
  }
 ],
 "metadata": {
  "kernelspec": {
   "display_name": "Python 3",
   "language": "python",
   "name": "python3"
  },
  "language_info": {
   "codemirror_mode": {
    "name": "ipython",
    "version": 3
   },
   "file_extension": ".py",
   "mimetype": "text/x-python",
   "name": "python",
   "nbconvert_exporter": "python",
   "pygments_lexer": "ipython3",
   "version": "3.7.1"
  }
 },
 "nbformat": 4,
 "nbformat_minor": 2
}
