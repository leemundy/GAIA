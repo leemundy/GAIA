{
 "cells": [
  {
   "cell_type": "code",
   "execution_count": null,
   "metadata": {
    "collapsed": true
   },
   "outputs": [],
   "source": [
    "# Standard definitions needed for script\n",
    "import numpy as np\n",
    "import matplotlib.pyplot as plt\n",
    "import numpy.ma as ma\n",
    "import math\n",
    "from astropy.table import Table\n",
    "from astropy.io import fits\n",
    "import astropy.units as u\n",
    "from astropy.coordinates.sky_coordinate import SkyCoord\n",
    "from astropy.units import Quantity\n",
    "from numpy.polynomial.polynomial import polyfit"
   ]
  },
  {
   "cell_type": "code",
   "execution_count": null,
   "metadata": {},
   "outputs": [],
   "source": [
    "# set-up for query to GAIA archive\n",
    "from astroquery.gaia import Gaia\n",
    "tables = Gaia.load_tables(only_names=True)\n",
    "for table in (tables):\n",
    "    print (table.get_qualified_name())"
   ]
  },
  {
   "cell_type": "code",
   "execution_count": null,
   "metadata": {},
   "outputs": [],
   "source": [
    "# send request to GAIA archive\n",
    "# the items in the box command are (corrdinate system, RA in deg, Dec in deg, box width in RA and Dec in deg)\n",
    "query = \"SELECT * \\\n",
    "FROM gaiadr2.gaia_source AS g, gaiadr2.tmass_best_neighbour AS tbest, gaiadr1.tmass_original_valid AS tmass \\\n",
    "WHERE g.source_id = tbest.source_id AND tbest.tmass_oid = tmass.tmass_oid \\\n",
    "AND CONTAINS(POINT('ICRS',g.ra,g.dec),BOX('ICRS',277.49,-1.00,5.,5.))=1 AND (parallax >=1.6 AND parallax_over_error >=3);\"\n",
    "\n",
    "job1 = Gaia.launch_job_async(query, dump_to_file=False)"
   ]
  },
  {
   "cell_type": "code",
   "execution_count": null,
   "metadata": {},
   "outputs": [],
   "source": [
    "# this retrieves the result from the query above and puts into a table with the name \"p\"\n",
    "# The next line prints out the labels for all of the columns in the table\n",
    "GTab = job1.get_results() \n",
    "print (GTab.colnames)\n",
    "Gra = GTab[\"ra\"]\n",
    "Gdec = GTab[\"dec\"]\n",
    "Gpmra = GTab[\"pmra\"]\n",
    "Gpmra_e = GTab[\"pmra_error\"]\n",
    "Gpmdec = GTab[\"pmdec\"]\n",
    "Gpmdec_e = GTab[\"pmdec_error\"]\n",
    "Gpar = GTab[\"parallax\"]\n",
    "Gpar_sn = GTab[\"parallax_over_error\"]\n",
    "Gsepar = GTab[\"angular_distance\"]\n",
    "G2MASS = GTab[\"designation_2\"]\n",
    "print(\" GAIA Table contains \",len(Gra),\" sources\")"
   ]
  },
  {
   "cell_type": "code",
   "execution_count": null,
   "metadata": {},
   "outputs": [],
   "source": [
    "infile = \"SERAQU-YSOs.tbl\"\n",
    "GBYSO = Table.read(infile,format=\"ascii.ipac\")\n",
    "# print(GBYSO.colnames)\n",
    "GBYSOra = GBYSO[\"ra\"]\n",
    "GBYSOdec = GBYSO[\"dec\"]\n",
    "GBYSO2MASS = GBYSO[\"id2mass\"]\n",
    "print(\"Read \",len(GBYSOra),\" YSOs from GB YSO catalog\")"
   ]
  },
  {
   "cell_type": "code",
   "execution_count": null,
   "metadata": {},
   "outputs": [],
   "source": [
    "gaia_list = []\n",
    "for i in range(0,len(G2MASS)):\n",
    "    gaia_list.append(G2MASS[i].decode('utf-8'))\n",
    "    \n",
    "GBYSO_match = np.empty(len(GBYSO2MASS),dtype=int); GBYSO_match.fill(-2)\n",
    "for j in range(0,len(GBYSO2MASS)):\n",
    "    if(GBYSO2MASS[j] in gaia_list):\n",
    "        GBYSO_match[j] = gaia_list.index(GBYSO2MASS[j])\n",
    "    else:\n",
    "        GBYSO_match[j] = -2\n",
    "good_GBYSO = GBYSO_match > -1\n",
    "print(len(GBYSO_match[good_GBYSO]))\n",
    "print(np.where(GBYSO_match > -1))"
   ]
  },
  {
   "cell_type": "code",
   "execution_count": null,
   "metadata": {},
   "outputs": [],
   "source": [
    "infile = \"SERP_GB_star+dust.tbl\"\n",
    "GBSD = Table.read(infile,format=\"ascii.ipac\")\n",
    "# print(GBSD.colnames)\n",
    "GBSDra = GBSD[\"ra\"]\n",
    "GBSDdec = GBSD[\"dec\"]\n",
    "GBSD2MASS = GBSD[\"id2mass\"]\n",
    "print(\"Read \",len(GBSDra),\" YSOs from GB Star+Dust catalog\")\n",
    "\n",
    "GBSD_match = np.empty(len(GBSD2MASS),dtype=int); GBSD_match.fill(-2)\n",
    "for j in range(0,len(GBSD2MASS)):\n",
    "    if(GBSD2MASS[j] in gaia_list):\n",
    "        GBSD_match[j] = gaia_list.index(GBSD2MASS[j])\n",
    "    else:\n",
    "        GBSD_match[j] = -2\n",
    "good_GBSD = GBSD_match > -1\n",
    "print(len(GBSD_match[good_GBSD]))\n",
    "print(np.where(GBSD_match > -1))"
   ]
  },
  {
   "cell_type": "code",
   "execution_count": null,
   "metadata": {},
   "outputs": [],
   "source": [
    "infile = \"SERP_c2d_star+dust.tbl\"\n",
    "c2dSD = Table.read(infile,format=\"ascii.ipac\")\n",
    "# print(GBSD.colnames)\n",
    "c2dSDra = c2dSD[\"ra\"]\n",
    "c2dSDdec = c2dSD[\"dec\"]\n",
    "c2dSD2MASS = c2dSD[\"id2mass\"]\n",
    "print(\"Read \",len(c2dSDra),\" YSOs from c2d Star+Dust catalog\")\n",
    "\n",
    "c2dSD_match = np.empty(len(c2dSD2MASS),dtype=int); c2dSD_match.fill(-2)\n",
    "for j in range(0,len(c2dSD2MASS)):\n",
    "    if(c2dSD2MASS[j] in gaia_list):\n",
    "        c2dSD_match[j] = gaia_list.index(c2dSD2MASS[j])\n",
    "    else:\n",
    "        c2dSD_match[j] = -2\n",
    "good_c2dSD = c2dSD_match > -1\n",
    "print(len(c2dSD_match[good_c2dSD]))\n",
    "print(np.where(c2dSD_match > -1))"
   ]
  },
  {
   "cell_type": "code",
   "execution_count": null,
   "metadata": {},
   "outputs": [],
   "source": [
    "infile = \"SERP_c2d_YSOs.tbl\"\n",
    "c2dYSO = Table.read(infile,format=\"ascii.ipac\")\n",
    "#print(c2dYSO.colnames)\n",
    "c2dYSOra = c2dYSO[\"ra\"]\n",
    "c2dYSOdec = c2dYSO[\"dec\"]\n",
    "c2dYSO2MASS = c2dYSO[\"id2mass\"]\n",
    "c2dYSOobj = c2dYSO[\"object_type\"]\n",
    "print(\"Read \",len(c2dYSOra),\" YSOs from c2d YSO catalog\")\n",
    "\n",
    "c2dYSO_match = np.empty(len(c2dYSO2MASS),dtype=int); c2dYSO_match.fill(-2)\n",
    "for j in range(0,len(c2dYSO2MASS)):\n",
    "    if(c2dYSO2MASS[j] in gaia_list):\n",
    "        c2dYSO_match[j] = gaia_list.index(c2dYSO2MASS[j])\n",
    "    else:\n",
    "        c2dYSO_match[j] = -2\n",
    "good_c2dYSO = c2dYSO_match > -1\n",
    "print(len(c2dYSO_match[good_c2dYSO]))\n",
    "print(np.where(c2dYSO_match > -1))"
   ]
  },
  {
   "cell_type": "code",
   "execution_count": null,
   "metadata": {},
   "outputs": [],
   "source": [
    "YSO_match = c2dYSO_match; YSO_match = np.append(YSO_match,GBYSO_match)\n",
    "good_YSO = YSO_match > -1\n",
    "print(\"Total number of GAIA matches to YSOs: \",len(YSO_match[good_YSO]))\n",
    "SD_match = c2dSD_match; SD_match = np.append(SD_match,GBSD_match)\n",
    "good_SD = SD_match > -1\n",
    "print(\"Total number of GAIA matches to star+dust: \",len(SD_match[good_SD]))"
   ]
  },
  {
   "cell_type": "code",
   "execution_count": null,
   "metadata": {},
   "outputs": [],
   "source": [
    "raYSO = np.zeros(len(YSO_match[good_YSO]))\n",
    "decYSO = np.zeros(len(YSO_match[good_YSO]))\n",
    "pmraYSO = np.zeros(len(YSO_match[good_YSO]))\n",
    "pmdecYSO = np.zeros(len(YSO_match[good_YSO]))\n",
    "pmra_eYSO = np.zeros(len(YSO_match[good_YSO]))\n",
    "pmdec_eYSO = np.zeros(len(YSO_match[good_YSO]))\n",
    "parYSO = np.zeros(len(YSO_match[good_YSO]))\n",
    "par_snYSO = np.zeros(len(YSO_match[good_YSO]))\n",
    "nyso = 0\n",
    "for i in range(0,len(YSO_match)):\n",
    "    if(YSO_match[i] > -1):\n",
    "        j = YSO_match[i]\n",
    "        if(1000./Gpar[j] > 350. and 1000/Gpar[j] < 550.):\n",
    "            raYSO[nyso] = Gra[j]\n",
    "            decYSO[nyso] = Gdec[j]\n",
    "            pmraYSO[nyso] = Gpmra[j]\n",
    "            pmdecYSO[nyso] = Gpmdec[j]\n",
    "            parYSO[nyso] = Gpar[j]\n",
    "            par_snYSO[nyso] = Gpar_sn[j]\n",
    "            nyso = nyso + 1        \n",
    "print(\"Number of YSO matches in the correct distance interval: \",nyso)\n",
    "parsn10 = par_snYSO > 10.\n",
    "parsn5 = par_snYSO > 5\n",
    "parsn20 = par_snYSO > 20\n",
    "print(\"Number of YSO with parallax > 5, 10, 20: \", len(par_snYSO[parsn5]),len(par_snYSO[parsn10]),len(par_snYSO[parsn20]))\n",
    "plt.scatter(raYSO[parsn5],decYSO[parsn5],s=5)\n",
    "plt.show()\n",
    "plt.scatter(pmraYSO[parsn5],pmdecYSO[parsn5],s=5)\n",
    "plt.show()\n",
    "plt.quiver(raYSO[parsn5],decYSO[parsn5],pmraYSO[parsn5],pmdecYSO[parsn5])\n",
    "plt.show()\n",
    "mean_pmra = np.mean(pmraYSO[parsn10])\n",
    "mean_pmdec = np.mean(pmdecYSO[parsn10])\n",
    "print(\"Mean proper motion (Ra,Dec): \",mean_pmra,mean_pmdec)\n",
    "median_pmra = np.median(pmraYSO[parsn10])\n",
    "median_pmdec = np.median(pmdecYSO[parsn10])\n",
    "print(\"Median proper motion (Ra,Dec): \",median_pmra,median_pmdec)\n",
    "rpmraYSO = pmraYSO - median_pmra\n",
    "rpmdecYSO = pmdecYSO - median_pmdec\n",
    "pmmagYSO = np.zeros(len(YSO_match[good_YSO]))\n",
    "pmmagYSO = np.power((rpmraYSO*rpmraYSO+rpmdecYSO*rpmdecYSO),0.5)\n",
    "plt.quiver(raYSO[parsn5],decYSO[parsn5],rpmraYSO[parsn5],rpmdecYSO[parsn5],pmmagYSO[parsn5])\n",
    "plt.colorbar()\n",
    "plt.show()"
   ]
  },
  {
   "cell_type": "code",
   "execution_count": null,
   "metadata": {},
   "outputs": [],
   "source": [
    "high_pmYSO = pmmagYSO[parsn5] > 8.\n",
    "for i in range(0,len(high_pmYSO)):\n",
    "    if(high_pmYSO[i]):\n",
    "        j = YSO_match[i]\n",
    "        print(Gra[j],Gdec[j],c2dYSOobj[i],rpmraYSO[i],rpmdecYSO[i],pmmagYSO[i])"
   ]
  },
  {
   "cell_type": "code",
   "execution_count": null,
   "metadata": {},
   "outputs": [],
   "source": [
    "raSD = np.zeros(len(SD_match[good_SD]))\n",
    "decSD = np.zeros(len(SD_match[good_SD]))\n",
    "pmraSD = np.zeros(len(SD_match[good_SD]))\n",
    "pmdecSD = np.zeros(len(SD_match[good_SD]))\n",
    "pmra_eSD = np.zeros(len(SD_match[good_SD]))\n",
    "pmdec_eSD = np.zeros(len(SD_match[good_SD]))\n",
    "parSD = np.zeros(len(SD_match[good_SD]))\n",
    "par_snSD = np.zeros(len(SD_match[good_SD]))\n",
    "pmmagSD = np.zeros(len(SD_match[good_SD]))\n",
    "nsd = 0\n",
    "for i in range(0,len(SD_match)):\n",
    "    if(SD_match[i] > -1):\n",
    "        j = SD_match[i]\n",
    "        if(1000./Gpar[j] > 350. and 1000./Gpar[j]<550):\n",
    "            raSD[nsd] = Gra[j]\n",
    "            decSD[nsd] = Gdec[j]\n",
    "            pmraSD[nsd] = Gpmra[j]\n",
    "            pmdecSD[nsd] = Gpmdec[j]\n",
    "            parSD[nsd] = Gpar[j]\n",
    "            par_snSD[nsd] = Gpar_sn[j]\n",
    "            nsd = nsd + 1\n",
    "print(\"Number of Star+dusts sources in distance interval: \",nsd)\n",
    "parsn10SD = par_snSD > 10.\n",
    "parsn5SD = par_snSD > 5\n",
    "parsn20SD = par_snSD > 20\n",
    "print(\"Number of SD with parallax > 5, 10, 20: \", len(par_snSD[parsn5SD]),len(par_snSD[parsn10SD]),len(par_snSD[parsn20SD]))\n",
    "plt.scatter(raSD[parsn5SD],decSD[parsn5SD],s=5)\n",
    "plt.show()\n",
    "plt.scatter(pmraSD[parsn5SD],pmdecSD[parsn5SD],s=5)\n",
    "plt.show()\n",
    "plt.quiver(raSD[parsn5SD],decSD[parsn5SD],pmraSD[parsn5SD],pmdecSD[parsn5SD])\n",
    "plt.show()\n",
    "mean_pmraSD = np.mean(pmraSD[parsn10SD])\n",
    "mean_pmdecSD = np.mean(pmdecSD[parsn10SD])\n",
    "print(\"Mean proper motion (Ra,Dec): \",mean_pmraSD,mean_pmdecSD)\n",
    "median_pmraSD = np.median(pmraSD[parsn10SD])\n",
    "median_pmdecSD = np.median(pmdecSD[parsn10SD])\n",
    "print(\"Median proper motion (Ra,Dec): \",median_pmra,median_pmdec)\n",
    "rpmraSD = pmraSD - median_pmraSD\n",
    "rpmdecSD = pmdecSD - median_pmdecSD\n",
    "pmmagSD = np.zeros(len(SD_match[good_SD]))\n",
    "pmmagSD = np.power((rpmraSD*rpmraSD+rpmdecSD*rpmdecSD),0.5)\n",
    "plt.quiver(raSD[parsn5SD],decSD[parsn5SD],rpmraSD[parsn5SD],rpmdecSD[parsn5SD],pmmagSD[parsn5SD])\n",
    "plt.colorbar()\n",
    "plt.show()"
   ]
  },
  {
   "cell_type": "code",
   "execution_count": null,
   "metadata": {
    "collapsed": true
   },
   "outputs": [],
   "source": []
  }
 ],
 "metadata": {
  "kernelspec": {
   "display_name": "Python 3",
   "language": "python",
   "name": "python3"
  },
  "language_info": {
   "codemirror_mode": {
    "name": "ipython",
    "version": 3
   },
   "file_extension": ".py",
   "mimetype": "text/x-python",
   "name": "python",
   "nbconvert_exporter": "python",
   "pygments_lexer": "ipython3",
   "version": "3.6.1"
  }
 },
 "nbformat": 4,
 "nbformat_minor": 2
}
