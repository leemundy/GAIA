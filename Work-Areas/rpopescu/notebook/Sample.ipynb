{
 "cells": [
  {
   "cell_type": "code",
   "execution_count": 1,
   "metadata": {
    "collapsed": true
   },
   "outputs": [],
   "source": [
    "%matplotlib inline\n",
    "import numpy as np\n",
    "import matplotlib.pyplot as plt"
   ]
  },
  {
   "cell_type": "code",
   "execution_count": 2,
   "metadata": {},
   "outputs": [
    {
     "name": "stderr",
     "output_type": "stream",
     "text": [
      "WARNING: W50: TGAS_d125_Wright03.vot:25:0: W50: Invalid unit string 'e-/s' [astropy.io.votable.tree]\n",
      "WARNING: W50: TGAS_d125_Wright03.vot:26:0: W50: Invalid unit string 'e-/s' [astropy.io.votable.tree]\n",
      "WARNING: W32: TGAS_d125_Wright03.vot:30:0: W32: Duplicate ID '_RAJ2000' renamed to '_RAJ2000_2' to ensure uniqueness [astropy.io.votable.tree]\n",
      "WARNING: W32: TGAS_d125_Wright03.vot:31:0: W32: Duplicate ID '_DEJ2000' renamed to '_DEJ2000_2' to ensure uniqueness [astropy.io.votable.tree]\n",
      "WARNING: W32: TGAS_d125_Wright03.vot:33:0: W32: Duplicate ID 'TYC2' renamed to 'TYC2_2' to ensure uniqueness [astropy.io.votable.tree]\n",
      "WARNING: W33: TGAS_d125_Wright03.vot:30:0: W33: Column name '_RAJ2000' renamed to '_RAJ2000 2' to ensure uniqueness [astropy.io.votable.tree]\n",
      "WARNING: W33: TGAS_d125_Wright03.vot:31:0: W33: Column name '_DEJ2000' renamed to '_DEJ2000 2' to ensure uniqueness [astropy.io.votable.tree]\n",
      "WARNING: W33: TGAS_d125_Wright03.vot:33:0: W33: Column name 'TYC2' renamed to 'TYC2 2' to ensure uniqueness [astropy.io.votable.tree]\n"
     ]
    },
    {
     "name": "stdout",
     "output_type": "stream",
     "text": [
      "       d_arcsec        _RAJ2000  _DEJ2000   HIP  ...     Dist    Teff   SpType  \n",
      "         arcs            deg       deg           ...     arcs     K             \n",
      "--------------------- --------- ---------- ----- ... ----------- ---- ----------\n",
      "             0.043565 247.68256  37.526398 80861 ...       0.373 6030         G0\n",
      " 0.016476999999999999 3.0742466 -23.299042     0 ...       0.375 5770       G5 V\n",
      " 0.066216999999999998 343.67432 -53.870102     0 ...       0.138 5150         G5\n",
      "                  0.0 278.58377  18.690065 91043 ...       0.447 6030      G 0 V\n",
      "             0.013733  73.15329  17.333475 22676 ...       0.235 6030         G0\n",
      " 0.045608000000000003 247.62952  37.651146     0 ...  0.57999998 6030         G0\n",
      " 0.025375999999999999 103.24178 -39.020794 33033 ...       1.058 5860       G2 V\n",
      "0.0081239999999999993 1.7086926  -23.10754   560 ...  0.88499999 6870      F2 IV\n",
      "             0.013733 342.75037 -54.169827     0 ...  0.98199999 5150         G5\n",
      " 0.025465000000000002 103.90482 -38.666897 33301 ...       0.625 6440       F7 V\n",
      "                  ...       ...        ...   ... ...         ...  ...        ...\n",
      "0.0082159999999999993 110.15859 -72.594086     0 ...  0.21600001 5770       G5 V\n",
      "             0.041199 310.09009  45.617966     0 ...  0.75999999 6440        F7V\n",
      " 0.027754000000000001 103.75927 -6.8062925     0 ...  0.27000001 6030       G0 V\n",
      " 0.040340000000000001  280.1752 -2.6961572 91587 ...       0.259 4600 K1/2 (III)\n",
      "             0.019091 60.660488  15.062024 18864 ...  0.52399999 6030       G0V:\n",
      "             0.032492 179.89751  71.578178 58483 ...        0.56 6440         F5\n",
      " 0.028667000000000002 106.45515 -72.602882     0 ...  0.68000001 4900  G8 III/IV\n",
      "0.0068659999999999997 217.49501 -29.634176     0 ...  0.52499998 6890       F3 V\n",
      "               0.0103 60.609501  15.133954 18843 ...  0.27500001 6030         G0\n",
      "                  0.0 107.62497  -72.34269 34643 ... 0.026000001 8720   A3MA5-A7\n",
      "Length = 30918 rows\n"
     ]
    }
   ],
   "source": [
    "from astropy.table import Table\n",
    "t = Table.read('Data/TGAS_d125_Wright03.vot', format='votable')\n",
    "\n",
    "print(t)"
   ]
  },
  {
   "cell_type": "code",
   "execution_count": 3,
   "metadata": {},
   "outputs": [
    {
     "name": "stdout",
     "output_type": "stream",
     "text": [
      "The astropy reader loads the data into the following variable names:\n",
      "['d_arcsec', '_RAJ2000', '_DEJ2000', 'HIP', 'TYC2', 'Source', 'RA_ICRS', 'e_RA_ICRS', 'DE_ICRS', 'e_DE_ICRS', 'Plx', 'e_Plx', 'pmRA', 'e_pmRA', 'pmDE', 'e_pmDE', 'Dup', '__FG_', 'e__FG_', '__Gmag_', 'Var', '_RAJ2000_2', '_DEJ2000_2', 'TYC1', 'TYC2_2', 'TYC3', 'RAJ2000', 'DEJ2000', 'VTmag', 'BTmag', 'r_SpType', 'Dist', 'Teff', 'SpType']\n"
     ]
    }
   ],
   "source": [
    "print(\"The astropy reader loads the data into the following variable names:\")\n",
    "print(t.colnames)"
   ]
  },
  {
   "cell_type": "code",
   "execution_count": 11,
   "metadata": {},
   "outputs": [
    {
     "data": {
      "text/plain": [
       "<matplotlib.text.Text at 0x7fd9e1455278>"
      ]
     },
     "execution_count": 11,
     "metadata": {},
     "output_type": "execute_result"
    },
    {
     "data": {
      "image/png": "[encoded data removed]",
      "text/plain": [
       "<matplotlib.figure.Figure at 0x7fd9e1545a90>"
      ]
     },
     "metadata": {},
     "output_type": "display_data"
    }
   ],
   "source": [
    "Gmag = t['__Gmag_']\n",
    "Vband = t['VTmag']\n",
    "plt.scatter(Gmag,Vband)\n",
    "plt.xlabel('Gmag')\n",
    "plt.ylabel('V-band')"
   ]
  },
  {
   "cell_type": "markdown",
   "metadata": {},
   "source": [
    "Gmag and V-band should be correlated because they both indicate the magnitude of the stars. \n",
    "There are outliers in the data, these are the points that are not in the diagonal line across the plot that\n",
    "indicates a positive correlation between Gmag and V-band"
   ]
  },
  {
   "cell_type": "code",
   "execution_count": 14,
   "metadata": {},
   "outputs": [
    {
     "data": {
      "text/plain": [
       "<matplotlib.text.Text at 0x7fd9e124b208>"
      ]
     },
     "execution_count": 14,
     "metadata": {},
     "output_type": "execute_result"
    },
    {
     "data": {
      "image/png": "[encoded data removed]",
      "text/plain": [
       "<matplotlib.figure.Figure at 0x7fd9e1310cf8>"
      ]
     },
     "metadata": {},
     "output_type": "display_data"
    }
   ],
   "source": [
    "#Histogram of G band magnitudes\n",
    "plt.hist(Gmag)\n",
    "plt.xlabel('Gmag')"
   ]
  },
  {
   "cell_type": "markdown",
   "metadata": {},
   "source": [
    "## comments\n",
    "Most stars seem to have Gmagnitudes that are around 8 or 9"
   ]
  },
  {
   "cell_type": "code",
   "execution_count": 16,
   "metadata": {},
   "outputs": [
    {
     "data": {
      "text/plain": [
       "(array([  2.92800000e+04,   1.29400000e+03,   2.37000000e+02,\n",
       "          6.60000000e+01,   2.20000000e+01,   1.10000000e+01,\n",
       "          4.00000000e+00,   1.00000000e+00,   1.00000000e+00,\n",
       "          2.00000000e+00]),\n",
       " array([   8.01000023,   24.47500057,   40.94000092,   57.40500126,\n",
       "          73.8700016 ,   90.33500195,  106.80000229,  123.26500263,\n",
       "         139.73000298,  156.19500332,  172.66000366]),\n",
       " <a list of 10 Patch objects>)"
      ]
     },
     "execution_count": 16,
     "metadata": {},
     "output_type": "execute_result"
    },
    {
     "data": {
      "image/png": "[encoded data removed]",
      "text/plain": [
       "<matplotlib.figure.Figure at 0x7fd9e1193978>"
      ]
     },
     "metadata": {},
     "output_type": "display_data"
    }
   ],
   "source": [
    "#Histogram of parallaxes\n",
    "plx = t['Plx']\n",
    "plt.hist(plx)"
   ]
  },
  {
   "cell_type": "code",
   "execution_count": null,
   "metadata": {
    "collapsed": true
   },
   "outputs": [],
   "source": []
  }
 ],
 "metadata": {
  "kernelspec": {
   "display_name": "Python 3",
   "language": "python",
   "name": "python3"
  },
  "language_info": {
   "codemirror_mode": {
    "name": "ipython",
    "version": 3
   },
   "file_extension": ".py",
   "mimetype": "text/x-python",
   "name": "python",
   "nbconvert_exporter": "python",
   "pygments_lexer": "ipython3",
   "version": "3.6.1"
  }
 },
 "nbformat": 4,
 "nbformat_minor": 2
}
