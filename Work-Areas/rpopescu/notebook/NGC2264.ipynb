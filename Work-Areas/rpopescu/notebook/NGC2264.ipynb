{
 "cells": [
  {
   "cell_type": "code",
   "execution_count": 1,
   "metadata": {
    "collapsed": true
   },
   "outputs": [],
   "source": [
    "%matplotlib inline\n",
    "import numpy as np\n",
    "import matplotlib.pyplot as plt\n",
    "import math"
   ]
  },
  {
   "cell_type": "code",
   "execution_count": 4,
   "metadata": {},
   "outputs": [
    {
     "name": "stderr",
     "output_type": "stream",
     "text": [
      "WARNING: W27: Data/NGC2264_stars.vot:52:2: W27: COOSYS deprecated in VOTable 1.2 [astropy.io.votable.tree]\n",
      "WARNING: W03: Data/NGC2264_stars.vot:94:4: W03: Implicitly generating an ID from a name '<FG>' -> '__FG_' [astropy.io.votable.xmlutil]\n",
      "WARNING: W50: Data/NGC2264_stars.vot:94:4: W50: Invalid unit string 'e-/s' [astropy.io.votable.tree]\n",
      "WARNING: W03: Data/NGC2264_stars.vot:98:4: W03: Implicitly generating an ID from a name 'e_<FG>' -> 'e__FG_' [astropy.io.votable.xmlutil]\n",
      "WARNING: W50: Data/NGC2264_stars.vot:98:4: W50: Invalid unit string 'e-/s' [astropy.io.votable.tree]\n",
      "WARNING: W03: Data/NGC2264_stars.vot:102:4: W03: Implicitly generating an ID from a name '<Gmag>' -> '__Gmag_' [astropy.io.votable.xmlutil]\n",
      "WARNING: W51: Data/NGC2264_stars.vot:110:82: W51: Value '3326646749952172928' is out of range for a 16-bit integer field [astropy.io.votable.converters]\n",
      "WARNING: W51: Data/NGC2264_stars.vot:111:82: W51: Value '3326646784311918080' is out of range for a 16-bit integer field [astropy.io.votable.converters]\n",
      "WARNING: W51: Data/NGC2264_stars.vot:112:82: W51: Value '3326646788606087552' is out of range for a 16-bit integer field [astropy.io.votable.converters]\n",
      "WARNING: W51: Data/NGC2264_stars.vot:113:82: W51: Value '3326646818671657472' is out of range for a 16-bit integer field [astropy.io.votable.converters]\n",
      "WARNING: W51: Data/NGC2264_stars.vot:114:82: W51: Value '3326646822965817600' is out of range for a 16-bit integer field [astropy.io.votable.converters]\n",
      "WARNING: W51: Data/NGC2264_stars.vot:115:82: W51: Value '3326646818671653760' is out of range for a 16-bit integer field [astropy.io.votable.converters]\n",
      "WARNING: W51: Data/NGC2264_stars.vot:116:82: W51: Value '3326646818671657600' is out of range for a 16-bit integer field [astropy.io.votable.converters]"
     ]
    },
    {
     "name": "stdout",
     "output_type": "stream",
     "text": [
      "Finished reading Table. Read  7195  sources\n"
     ]
    },
    {
     "name": "stderr",
     "output_type": "stream",
     "text": [
      "\n",
      "WARNING: W51: Data/NGC2264_stars.vot:117:82: W51: Value '3326646853031396608' is out of range for a 16-bit integer field [astropy.io.votable.converters]\n",
      "WARNING: W51: Data/NGC2264_stars.vot:118:82: W51: Value '3326646853031862784' is out of range for a 16-bit integer field [astropy.io.votable.converters]\n",
      "WARNING: W51: Data/NGC2264_stars.vot:119:82: W51: Value '3326646857325565568' is out of range for a 16-bit integer field (suppressing further warnings of this type...) [astropy.io.votable.converters]\n"
     ]
    }
   ],
   "source": [
    "from astropy.table import Table\n",
    "t = Table.read('Data/NGC2264_stars.vot', format='votable')\n",
    "\n",
    "print(\"Finished reading Table. Read \",len(t['__Gmag_']),\" sources\")"
   ]
  },
  {
   "cell_type": "code",
   "execution_count": 5,
   "metadata": {},
   "outputs": [
    {
     "name": "stdout",
     "output_type": "stream",
     "text": [
      "The astropy reader loads the data into the following variable names:\n",
      "['RA_ICRS', 'e_RA_ICRS', 'DE_ICRS', 'e_DE_ICRS', 'Source', 'Plx', 'pmRA', 'pmDE', 'RADEcor', 'Dup', '__FG_', 'e__FG_', '__Gmag_', 'Var']\n"
     ]
    }
   ],
   "source": [
    "print(\"The astropy reader loads the data into the following variable names:\")\n",
    "print(t.colnames)"
   ]
  },
  {
   "cell_type": "code",
   "execution_count": 9,
   "metadata": {},
   "outputs": [
    {
     "name": "stdout",
     "output_type": "stream",
     "text": [
      "7195\n"
     ]
    }
   ],
   "source": [
    "RA = t['RA_ICRS']\n",
    "DE = t['DE_ICRS']\n",
    "num = len(RA)\n",
    "print(num)"
   ]
  },
  {
   "cell_type": "code",
   "execution_count": 28,
   "metadata": {},
   "outputs": [
    {
     "data": {
      "text/plain": [
       "<matplotlib.collections.PathCollection at 0x7f8334318588>"
      ]
     },
     "execution_count": 28,
     "metadata": {},
     "output_type": "execute_result"
    },
    {
     "data": {
      "image/png": "[encoded data removed]",
      "text/plain": [
       "<matplotlib.figure.Figure at 0x7f83362ef9b0>"
      ]
     },
     "metadata": {},
     "output_type": "display_data"
    }
   ],
   "source": [
    "plt.scatter(RA,DE)"
   ]
  },
  {
   "cell_type": "code",
   "execution_count": 22,
   "metadata": {},
   "outputs": [],
   "source": [
    "RA2 = np.zeros(num)\n",
    "DE2 = np.zeros(num)\n",
    "for i in range(0,num):\n",
    "    RA2[i] = RA[i]\n",
    "    DE2[i] = DE[i]"
   ]
  },
  {
   "cell_type": "code",
   "execution_count": 25,
   "metadata": {},
   "outputs": [
    {
     "data": {
      "text/plain": [
       "array([[   0,   26],\n",
       "       [   1,    2],\n",
       "       [   2,    1],\n",
       "       ..., \n",
       "       [7192, 7190],\n",
       "       [7193, 7187],\n",
       "       [7194, 6220]])"
      ]
     },
     "execution_count": 25,
     "metadata": {},
     "output_type": "execute_result"
    }
   ],
   "source": [
    "from sklearn.neighbors import NearestNeighbors\n",
    "X = np.column_stack((RA2,DE2))\n",
    "nbrs = NearestNeighbors(n_neighbors=2, algorithm='ball_tree').fit(X)\n",
    "distances, indices = nbrs.kneighbors(X)\n",
    "\n"
   ]
  },
  {
   "cell_type": "code",
   "execution_count": null,
   "metadata": {
    "collapsed": true
   },
   "outputs": [],
   "source": []
  }
 ],
 "metadata": {
  "kernelspec": {
   "display_name": "Python 3",
   "language": "python",
   "name": "python3"
  },
  "language_info": {
   "codemirror_mode": {
    "name": "ipython",
    "version": 3
   },
   "file_extension": ".py",
   "mimetype": "text/x-python",
   "name": "python",
   "nbconvert_exporter": "python",
   "pygments_lexer": "ipython3",
   "version": "3.6.1"
  }
 },
 "nbformat": 4,
 "nbformat_minor": 2
}
