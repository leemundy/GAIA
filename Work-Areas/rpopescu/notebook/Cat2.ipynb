{
 "cells": [
  {
   "cell_type": "markdown",
   "metadata": {},
   "source": [
    "# Cat 2"
   ]
  },
  {
   "cell_type": "code",
   "execution_count": 1,
   "metadata": {
    "collapsed": true
   },
   "outputs": [],
   "source": [
    "%matplotlib inline\n",
    "import numpy as np\n",
    "import numpy.ma as ma\n",
    "import matplotlib.pyplot as plt\n",
    "import math"
   ]
  },
  {
   "cell_type": "code",
   "execution_count": 21,
   "metadata": {},
   "outputs": [
    {
     "name": "stderr",
     "output_type": "stream",
     "text": [
      "WARNING: W03: Data/TGAS_d125_Wright03_2Mass.vot:44:0: W03: Implicitly generating an ID from a name '2MASS' -> '_2MASS' [astropy.io.votable.xmlutil]\n",
      "WARNING: W32: Data/TGAS_d125_Wright03_2Mass.vot:30:0: W32: Duplicate ID '_RAJ2000' renamed to '_RAJ2000_2' to ensure uniqueness [astropy.io.votable.tree]\n",
      "WARNING: W32: Data/TGAS_d125_Wright03_2Mass.vot:31:0: W32: Duplicate ID '_DEJ2000' renamed to '_DEJ2000_2' to ensure uniqueness [astropy.io.votable.tree]\n",
      "WARNING: W32: Data/TGAS_d125_Wright03_2Mass.vot:33:0: W32: Duplicate ID 'TYC2' renamed to 'TYC2_2' to ensure uniqueness [astropy.io.votable.tree]\n",
      "WARNING: W32: Data/TGAS_d125_Wright03_2Mass.vot:45:0: W32: Duplicate ID 'RAJ2000' renamed to 'RAJ2000_2' to ensure uniqueness [astropy.io.votable.tree]\n",
      "WARNING: W32: Data/TGAS_d125_Wright03_2Mass.vot:46:0: W32: Duplicate ID 'DEJ2000' renamed to 'DEJ2000_2' to ensure uniqueness [astropy.io.votable.tree]\n",
      "WARNING: W33: Data/TGAS_d125_Wright03_2Mass.vot:30:0: W33: Column name '_RAJ2000' renamed to '_RAJ2000 2' to ensure uniqueness [astropy.io.votable.tree]\n",
      "WARNING: W33: Data/TGAS_d125_Wright03_2Mass.vot:31:0: W33: Column name '_DEJ2000' renamed to '_DEJ2000 2' to ensure uniqueness [astropy.io.votable.tree]\n",
      "WARNING: W33: Data/TGAS_d125_Wright03_2Mass.vot:33:0: W33: Column name 'TYC2' renamed to 'TYC2 2' to ensure uniqueness [astropy.io.votable.tree]\n",
      "WARNING: W33: Data/TGAS_d125_Wright03_2Mass.vot:45:0: W33: Column name 'RAJ2000' renamed to 'RAJ2000 2' to ensure uniqueness [astropy.io.votable.tree]\n",
      "WARNING: W33: Data/TGAS_d125_Wright03_2Mass.vot:46:0: W33: Column name 'DEJ2000' renamed to 'DEJ2000 2' to ensure uniqueness [astropy.io.votable.tree]\n"
     ]
    },
    {
     "name": "stdout",
     "output_type": "stream",
     "text": [
      "Finished reading Table. Read  31446  sources\n"
     ]
    }
   ],
   "source": [
    "from astropy.table import Table\n",
    "t = Table.read('Data/TGAS_d125_Wright03_2Mass.vot', format='votable')\n",
    "\n",
    "Source = t[\"Source\"]\n",
    "Gmag = t[\"__Gmag_\"]\n",
    "Vmag = t[\"VTmag\"]\n",
    "Jmag = t[\"Jmag\"]\n",
    "Hmag = t[\"Hmag\"]\n",
    "Kmag = t[\"Kmag\"]\n",
    "QFlags = t[\"Qfl\"]\n",
    "DistW = t[\"Dist\"]\n",
    "s1= t[\"d_arcsec\"]\n",
    "s2 = t[\"angDist\"]\n",
    "plx = t['Plx']\n",
    "Teff = t['Teff']\n",
    "e_Jmag = t['e_Jmag']\n",
    "e_Kmag = t['e_Kmag']\n",
    "e_Hmag = t['e_Hmag']\n",
    "sptype = t['SpType']\n",
    "print(\"Finished reading Table. Read \",len(Jmag),\" sources\")"
   ]
  },
  {
   "cell_type": "code",
   "execution_count": 3,
   "metadata": {},
   "outputs": [
    {
     "name": "stdout",
     "output_type": "stream",
     "text": [
      "The astropy reader loads the data into the following variable names:\n",
      "['d_arcsec', 'angDist', '_RAJ2000', '_DEJ2000', 'HIP', 'TYC2', 'Source', 'RA_ICRS', 'e_RA_ICRS', 'DE_ICRS', 'e_DE_ICRS', 'Plx', 'e_Plx', 'pmRA', 'e_pmRA', 'pmDE', 'e_pmDE', 'Dup', '__FG_', 'e__FG_', '__Gmag_', 'Var', '_RAJ2000_2', '_DEJ2000_2', 'TYC1', 'TYC2_2', 'TYC3', 'RAJ2000', 'DEJ2000', 'VTmag', 'BTmag', 'r_SpType', 'Dist', 'Teff', 'SpType', '_2MASS', 'RAJ2000_2', 'DEJ2000_2', 'errHalfMaj', 'errHalfMin', 'errPosAng', 'Jmag', 'Hmag', 'Kmag', 'e_Jmag', 'e_Hmag', 'e_Kmag', 'Qfl', 'Rfl', 'X', 'MeasureJD']\n"
     ]
    }
   ],
   "source": [
    "print(\"The astropy reader loads the data into the following variable names:\")\n",
    "print(t.colnames)"
   ]
  },
  {
   "cell_type": "code",
   "execution_count": 5,
   "metadata": {
    "collapsed": true
   },
   "outputs": [],
   "source": [
    "# mask all data that does not have a Qfl value \n",
    "\n",
    "for i in range(0,len(QFlags)):\n",
    "    if(QFlags[i][0] == ord(\"A\")):\n",
    "        Jmag.mask[i] = False\n",
    "    else:\n",
    "         Jmag.mask[i] = True\n",
    "            \n",
    "for i in range(0,len(QFlags)):\n",
    "    if(QFlags[i][2] == ord(\"A\")):\n",
    "        Kmag.mask[i] = False\n",
    "    else:\n",
    "        Kmag.mask[i] = True  \n",
    "        \n",
    "for i in range(0,len(QFlags)):\n",
    "    if(QFlags[i][1] == ord(\"A\")):\n",
    "        Hmag.mask[i] = False\n",
    "    else:\n",
    "        Hmag.mask[i] = True  "
   ]
  },
  {
   "cell_type": "code",
   "execution_count": 6,
   "metadata": {},
   "outputs": [
    {
     "name": "stdout",
     "output_type": "stream",
     "text": [
      "Finished masking rows with >4 arcsec matches in Wright et al\n",
      "   Remaining number of sources:  31335\n"
     ]
    }
   ],
   "source": [
    "#remove stars from the Wright catalog with Spectral matches that were further away from the Tycho/Hipp position \n",
    "#by more than 4\"\n",
    "\n",
    "for i in range(0,len(DistW)):\n",
    "    if(DistW[i] > 4.0):\n",
    "        row = t[i]\n",
    "        idx = row._index\n",
    "        cols = row._table.columns.values()\n",
    "        for col in cols:\n",
    "            col.mask[i] = True\n",
    "for i in range(0,len(DistW)):\n",
    "    if(DistW[i] > 4.0):\n",
    "        print(i,DistW[i])\n",
    "print(\"Finished masking rows with >4 arcsec matches in Wright et al\")\n",
    "test = DistW.compressed()\n",
    "print(\"   Remaining number of sources: \",len(test))"
   ]
  },
  {
   "cell_type": "code",
   "execution_count": null,
   "metadata": {},
   "outputs": [],
   "source": [
    "#Histogram of G band magnitudes\n",
    "plt.hist(Gmag)\n",
    "plt.xlabel('Gmag')\n",
    "plt.ylabel('Number of Stars')\n",
    "plt.show()"
   ]
  },
  {
   "cell_type": "code",
   "execution_count": null,
   "metadata": {},
   "outputs": [],
   "source": [
    "#Histogram of J band magnitudes\n",
    "plt.hist(Jmag)\n",
    "plt.xlabel('Jmag')\n",
    "plt.ylabel('Number of Stars')\n",
    "plt.show()"
   ]
  },
  {
   "cell_type": "code",
   "execution_count": null,
   "metadata": {},
   "outputs": [],
   "source": [
    "#Histogram of K band magnitudes\n",
    "plt.hist(Kmag, range = [min(Kmag),max(Kmag)])\n",
    "plt.xlabel('Kmag')\n",
    "plt.ylabel('Number of Stars')\n",
    "plt.show()"
   ]
  },
  {
   "cell_type": "code",
   "execution_count": null,
   "metadata": {
    "collapsed": true
   },
   "outputs": [],
   "source": [
    "#calculate distances and store them in table column\n",
    "d_data = np.zeros(len(plx))\n",
    "for i in range(len(d_data)):\n",
    "    d_data[i] = 1/(plx[i]/1000)\n",
    "d = Table.Column(data=d_data, name='d')"
   ]
  },
  {
   "cell_type": "code",
   "execution_count": null,
   "metadata": {
    "collapsed": true
   },
   "outputs": [],
   "source": [
    "#Calculate absolute magnitudes and store them in table column\n",
    "Abs_mag_data = np.zeros(len(d))\n",
    "for i in range(len(Abs_mag_data)):\n",
    "    #Gmag is taken as apparent magnitude\n",
    "    Abs_mag_data[i] = Gmag[i] - 5*math.log10(d[i]/10)\n",
    "Abs_mag = Table.Column(data=Abs_mag_data, name='Abs_mag')"
   ]
  },
  {
   "cell_type": "code",
   "execution_count": null,
   "metadata": {},
   "outputs": [],
   "source": [
    "#H-R diagram (with apparent magnitude)\n",
    "plt.xlim(3500,9000)\n",
    "plt.scatter(Teff, Gmag,c=d,s=1.0)\n",
    "plt.gca().invert_xaxis()\n",
    "plt.gca().invert_yaxis()\n",
    "plt.xlabel('Teff')\n",
    "plt.ylabel('Gmag')\n",
    "plt.show()"
   ]
  },
  {
   "cell_type": "code",
   "execution_count": null,
   "metadata": {},
   "outputs": [],
   "source": [
    "#H-R diagram (with absolute magnitude)\n",
    "plt.xlim(3500,9000)\n",
    "plt.scatter(Teff,Abs_mag,c=d,s=1.0)\n",
    "plt.xlabel('Absolute Magnitude')\n",
    "plt.ylabel('Teff')\n",
    "plt.gca().invert_xaxis()\n",
    "plt.gca().invert_yaxis()\n",
    "plt.show()"
   ]
  },
  {
   "cell_type": "code",
   "execution_count": 13,
   "metadata": {
    "collapsed": true
   },
   "outputs": [],
   "source": [
    "#Calculate different Color indices\n",
    "G_J = Gmag-Jmag\n",
    "J_G = Jmag-Gmag\n",
    "G_K = Gmag-Kmag\n",
    "G_H = Gmag-Hmag\n",
    "J_K = Jmag-Kmag\n",
    "H_K = Hmag-Kmag"
   ]
  },
  {
   "cell_type": "code",
   "execution_count": 14,
   "metadata": {},
   "outputs": [
    {
     "data": {
      "image/png": "[encoded data removed]",
      "text/plain": [
       "<matplotlib.figure.Figure at 0x7fcb45393c88>"
      ]
     },
     "metadata": {},
     "output_type": "display_data"
    }
   ],
   "source": [
    "#Color-Color diagram with G plotted against G-J\n",
    "plt.scatter(G_J,Gmag, s=1)\n",
    "plt.xlabel('G-J')\n",
    "plt.ylabel('G')\n",
    "plt.show()\n"
   ]
  },
  {
   "cell_type": "code",
   "execution_count": null,
   "metadata": {},
   "outputs": [],
   "source": [
    "#check distant matches for G-J\n",
    "for i in range(len(G_J)):\n",
    "    if G_J[i] < -2:\n",
    "        print(t['d_arcsec'][i])"
   ]
  },
  {
   "cell_type": "code",
   "execution_count": 15,
   "metadata": {},
   "outputs": [
    {
     "data": {
      "image/png": "[encoded data removed]",
      "text/plain": [
       "<matplotlib.figure.Figure at 0x7fcb420aa5f8>"
      ]
     },
     "metadata": {},
     "output_type": "display_data"
    },
    {
     "name": "stdout",
     "output_type": "stream",
     "text": [
      "-0.884452162096\n",
      "0.508069495036\n"
     ]
    }
   ],
   "source": [
    "plt.scatter(s1,J_G,s=2.0)\n",
    "plt.show()\n",
    "print(np.mean(J_G))\n",
    "print(np.std(J_G))"
   ]
  },
  {
   "cell_type": "code",
   "execution_count": 18,
   "metadata": {},
   "outputs": [
    {
     "name": "stdout",
     "output_type": "stream",
     "text": [
      " Masked  0  rows based on J-G color > 5 sigma from mean\n"
     ]
    },
    {
     "data": {
      "image/png": "[encoded data removed]",
      "text/plain": [
       "<matplotlib.figure.Figure at 0x7fcb45052668>"
      ]
     },
     "metadata": {},
     "output_type": "display_data"
    },
    {
     "name": "stdout",
     "output_type": "stream",
     "text": [
      "New sigma for J-G:  0.237940987214\n"
     ]
    }
   ],
   "source": [
    "#limit match radius to less than 3\"\n",
    "imask = 0\n",
    "for i in range(0,len(J_G)):\n",
    "    if(abs(J_G[i] + 0.91) > 1.20):\n",
    "        imask = imask + 1\n",
    "        row = t[i]\n",
    "        idx = row._index\n",
    "        cols = row._table.columns.values()\n",
    "        for col in cols:\n",
    "            col.mask[i] = True\n",
    "print(\" Masked \",imask,\" rows based on J-G color > 5 sigma from mean\")\n",
    "J_G = Jmag - Gmag\n",
    "plt.xlabel(\"Distance of 2MASS to GAIA\")\n",
    "plt.ylabel(\" J - G magnitude\")\n",
    "plt.scatter(s1,J_G,s=2.0)\n",
    "plt.show()\n",
    "print(\"New sigma for J-G: \",np.std(J_G))"
   ]
  },
  {
   "cell_type": "code",
   "execution_count": 23,
   "metadata": {},
   "outputs": [
    {
     "name": "stdout",
     "output_type": "stream",
     "text": [
      "Finished GAIA Duplicate Check. Found:  0\n",
      "Finished masking all GAIA duplicates. All sources involved\n",
      "2MASS Duplicate Source:  b'07451457-0900204'\n",
      "2MASS Duplicate Source:  b'03391401+6639396'\n",
      "2MASS Duplicate Source:  b'11003108-4920149'\n",
      "2MASS Duplicate Source:  b'06185319-3212053'\n",
      "Finished 2MASS Duplicate Check. Found:  4\n"
     ]
    }
   ],
   "source": [
    "#look at number of duplicate matches\n",
    "Test = Source.compressed()\n",
    "unique = set()\n",
    "Gdups = set()\n",
    "\n",
    "for i in range(0,len(Test)):\n",
    "    if(Test[i] in unique):\n",
    "        print(\"GAIA Duplicate Source: \",Test[i])\n",
    "        Gdups.add(Test[i])\n",
    "    else:\n",
    "        unique.add(Test[i])\n",
    "        last = Test[i]\n",
    "print(\"Finished GAIA Duplicate Check. Found: \", len(Gdups))\n",
    "\n",
    "for i in range(0,len(Source)):\n",
    "    if(Source.mask[i] == False):\n",
    "        Name = Source[i]\n",
    "        if(Name in Gdups):\n",
    "            row = t[i]\n",
    "            idx = row._index\n",
    "            cols = row._table.columns.values()\n",
    "            for col in cols:\n",
    "                col.mask[i] = True\n",
    "print(\"Finished masking all GAIA duplicates. All sources involved\")\n",
    "TwoM = t[\"_2MASS\"]\n",
    "unique = set()\n",
    "Tdups = set()\n",
    "Test = TwoM.compressed()\n",
    "for i in range(0,len(Test)):\n",
    "    if(Test[i] in unique):\n",
    "        print(\"2MASS Duplicate Source: \",Test[i])\n",
    "        Tdups.add(Test[i])\n",
    "    else:\n",
    "        unique.add(Test[i])\n",
    "        last = Test[i]\n",
    "print(\"Finished 2MASS Duplicate Check. Found: \", len(Tdups))\n",
    "\n",
    "for i in range(0,len(Source)):\n",
    "    if(Source.mask[i] == False):\n",
    "        Name = Source[i]\n",
    "        if(Name in Tdups):\n",
    "            print(Source[i],s1[i],s2[i],Gmag[i],Vmag[i]-Gmag[i],Jmag[i],Kmag[i],TwoM[i])"
   ]
  },
  {
   "cell_type": "code",
   "execution_count": null,
   "metadata": {},
   "outputs": [],
   "source": [
    "#check distant matches for G-K\n",
    "for i in range(len(G_K)):\n",
    "    if G_K[i] < -2:\n",
    "        print(t['d_arcsec'][i])"
   ]
  },
  {
   "cell_type": "code",
   "execution_count": null,
   "metadata": {},
   "outputs": [],
   "source": [
    "#check distant matches for G-H\n",
    "for i in range(len(G_H)):\n",
    "    if G_H[i] < -2:\n",
    "        print(t['d_arcsec'][i])"
   ]
  },
  {
   "cell_type": "code",
   "execution_count": null,
   "metadata": {},
   "outputs": [],
   "source": [
    "#check distant matches for H-K\n",
    "for i in range(len(H_K)):\n",
    "    if G_H[i] < 0:\n",
    "        print(t['d_arcsec'][i])"
   ]
  },
  {
   "cell_type": "code",
   "execution_count": null,
   "metadata": {},
   "outputs": [],
   "source": [
    "#Color-Color diagram with G-K plotted against G-J\n",
    "plt.scatter(G_J,G_K, s=1)\n",
    "plt.xlabel('G-J')\n",
    "plt.ylabel('G-K')\n",
    "plt.show()\n"
   ]
  },
  {
   "cell_type": "code",
   "execution_count": null,
   "metadata": {},
   "outputs": [],
   "source": [
    "#Color-Color diagram with J-K plotted against H-K\n",
    "plt.scatter(H_K,J_K, s=1)\n",
    "plt.xlabel('H-K')\n",
    "plt.ylabel('J-K')\n",
    "plt.show()"
   ]
  },
  {
   "cell_type": "code",
   "execution_count": null,
   "metadata": {},
   "outputs": [],
   "source": [
    "#Plot of error in Jmag against Jmag\n",
    "plt.scatter(Jmag,e_Jmag)\n",
    "plt.xlabel('Jmag')\n",
    "plt.ylabel('Jmag error')\n",
    "plt.show()"
   ]
  },
  {
   "cell_type": "code",
   "execution_count": null,
   "metadata": {},
   "outputs": [],
   "source": [
    "#Plot of error in Kmag against Kmag\n",
    "plt.scatter(Kmag,e_Kmag)\n",
    "plt.xlabel('Kmag')\n",
    "plt.ylabel('Kmag error')\n",
    "plt.show()"
   ]
  },
  {
   "cell_type": "code",
   "execution_count": null,
   "metadata": {},
   "outputs": [],
   "source": [
    "#Plot of error in Hmag against Hmag\n",
    "plt.scatter(Kmag,e_Kmag)\n",
    "plt.xlabel('Hmag')\n",
    "plt.ylabel('Hmag error')\n",
    "plt.show()"
   ]
  },
  {
   "cell_type": "code",
   "execution_count": null,
   "metadata": {},
   "outputs": [],
   "source": [
    "#Look at spectrial type\n",
    "print(sptype)"
   ]
  }
 ],
 "metadata": {
  "kernelspec": {
   "display_name": "Python 3",
   "language": "python",
   "name": "python3"
  },
  "language_info": {
   "codemirror_mode": {
    "name": "ipython",
    "version": 3
   },
   "file_extension": ".py",
   "mimetype": "text/x-python",
   "name": "python",
   "nbconvert_exporter": "python",
   "pygments_lexer": "ipython3",
   "version": "3.6.1"
  }
 },
 "nbformat": 4,
 "nbformat_minor": 2
}
