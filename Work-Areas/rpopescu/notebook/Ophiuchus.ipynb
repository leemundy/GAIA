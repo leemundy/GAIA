{
 "cells": [
  {
   "cell_type": "code",
   "execution_count": 1,
   "metadata": {
    "collapsed": true
   },
   "outputs": [],
   "source": [
    "%matplotlib inline\n",
    "import numpy as np\n",
    "import matplotlib.pyplot as plt\n",
    "import math"
   ]
  },
  {
   "cell_type": "code",
   "execution_count": 8,
   "metadata": {},
   "outputs": [
    {
     "name": "stderr",
     "output_type": "stream",
     "text": [
      "WARNING: W27: ../vizier_votable.vot:52:2: W27: COOSYS deprecated in VOTable 1.2 [astropy.io.votable.tree]\n",
      "WARNING: W03: ../vizier_votable.vot:94:4: W03: Implicitly generating an ID from a name '<FG>' -> '__FG_' [astropy.io.votable.xmlutil]\n",
      "WARNING: W50: ../vizier_votable.vot:94:4: W50: Invalid unit string 'e-/s' [astropy.io.votable.tree]\n",
      "WARNING: W03: ../vizier_votable.vot:98:4: W03: Implicitly generating an ID from a name 'e_<FG>' -> 'e__FG_' [astropy.io.votable.xmlutil]\n",
      "WARNING: W50: ../vizier_votable.vot:98:4: W50: Invalid unit string 'e-/s' [astropy.io.votable.tree]\n",
      "WARNING: W03: ../vizier_votable.vot:102:4: W03: Implicitly generating an ID from a name '<Gmag>' -> '__Gmag_' [astropy.io.votable.xmlutil]\n",
      "WARNING: W51: ../vizier_votable.vot:110:82: W51: Value '4125650481078912512' is out of range for a 16-bit integer field [astropy.io.votable.converters]\n",
      "WARNING: W51: ../vizier_votable.vot:111:82: W51: Value '4125650481078914560' is out of range for a 16-bit integer field [astropy.io.votable.converters]\n",
      "WARNING: W51: ../vizier_votable.vot:112:82: W51: Value '4125650549796570240' is out of range for a 16-bit integer field [astropy.io.votable.converters]\n",
      "WARNING: W51: ../vizier_votable.vot:113:82: W51: Value '4125650549796571264' is out of range for a 16-bit integer field [astropy.io.votable.converters]\n",
      "WARNING: W51: ../vizier_votable.vot:114:82: W51: Value '4125650545501586048' is out of range for a 16-bit integer field [astropy.io.votable.converters]\n",
      "WARNING: W51: ../vizier_votable.vot:115:82: W51: Value '4125650549796574464' is out of range for a 16-bit integer field [astropy.io.votable.converters]\n",
      "WARNING: W51: ../vizier_votable.vot:116:82: W51: Value '4125650545501582080' is out of range for a 16-bit integer field [astropy.io.votable.converters]\n",
      "WARNING: W51: ../vizier_votable.vot:117:82: W51: Value '4125650545502944000' is out of range for a 16-bit integer field [astropy.io.votable.converters]\n",
      "WARNING: W51: ../vizier_votable.vot:118:82: W51: Value '4125650545510546432' is out of range for a 16-bit integer field [astropy.io.votable.converters]\n",
      "WARNING: W51: ../vizier_votable.vot:119:82: W51: Value '4125653500440444672' is out of range for a 16-bit integer field (suppressing further warnings of this type...) [astropy.io.votable.converters]\n"
     ]
    },
    {
     "name": "stdout",
     "output_type": "stream",
     "text": [
      "Finished reading Table. Read  999999  sources\n"
     ]
    }
   ],
   "source": [
    "from astropy.table import Table\n",
    "t = Table.read('../vizier_votable.vot', format='votable')\n",
    "\n",
    "print(\"Finished reading Table. Read \",len(t['__Gmag_']),\" sources\")"
   ]
  },
  {
   "cell_type": "code",
   "execution_count": 4,
   "metadata": {},
   "outputs": [
    {
     "name": "stdout",
     "output_type": "stream",
     "text": [
      "The astropy reader loads the data into the following variable names:\n",
      "['RA_ICRS', 'e_RA_ICRS', 'DE_ICRS', 'e_DE_ICRS', 'Source', 'Plx', 'pmRA', 'pmDE', 'RADEcor', 'Dup', '__FG_', 'e__FG_', '__Gmag_', 'Var']\n"
     ]
    }
   ],
   "source": [
    "print(\"The astropy reader loads the data into the following variable names:\")\n",
    "print(t.colnames)"
   ]
  },
  {
   "cell_type": "code",
   "execution_count": 9,
   "metadata": {
    "collapsed": true
   },
   "outputs": [],
   "source": [
    "RA = t['RA_ICRS']\n",
    "DE = t['DE_ICRS']\n",
    "plx = t['Plx']\n",
    "num = len(RA)"
   ]
  },
  {
   "cell_type": "code",
   "execution_count": 10,
   "metadata": {},
   "outputs": [
    {
     "data": {
      "image/png": "[encoded data removed]",
      "text/plain": [
       "<matplotlib.figure.Figure at 0x7f3548a83240>"
      ]
     },
     "metadata": {},
     "output_type": "display_data"
    }
   ],
   "source": [
    "plt.scatter(RA,DE, s = 1)\n",
    "plt.show()"
   ]
  },
  {
   "cell_type": "code",
   "execution_count": null,
   "metadata": {
    "collapsed": true
   },
   "outputs": [],
   "source": []
  }
 ],
 "metadata": {
  "kernelspec": {
   "display_name": "Python 3",
   "language": "python",
   "name": "python3"
  },
  "language_info": {
   "codemirror_mode": {
    "name": "ipython",
    "version": 3
   },
   "file_extension": ".py",
   "mimetype": "text/x-python",
   "name": "python",
   "nbconvert_exporter": "python",
   "pygments_lexer": "ipython3",
   "version": "3.6.1"
  }
 },
 "nbformat": 4,
 "nbformat_minor": 2
}
