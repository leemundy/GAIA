{
 "cells": [
  {
   "cell_type": "markdown",
   "metadata": {},
   "source": [
    "These functions are for reading in data from a catalgog that contains data from GAIA, 2Mass and SDSS. After reading in the data, templates are made based on the values of G-K in the data. "
   ]
  },
  {
   "cell_type": "code",
   "execution_count": null,
   "metadata": {
    "collapsed": true
   },
   "outputs": [],
   "source": [
    "def AbsoluteMagnitudes(plx,GBmag,GRmag,Gmag,Jmag,Hmag,Kmag,umag,gmag,rmag,imag,zmag):\n",
    "    #Calculate the absolute magnitudes of the stars\n",
    "    #Read in parallax and apparent magnitude from each band\n",
    "    \n",
    "    #create arrays for absolute magnitude\n",
    "    Dist = np.array([])\n",
    "    GBmags = np.array([])\n",
    "    GRmags = np.array([])\n",
    "    Gmags = np.array([])\n",
    "    Jmags = np.array([])\n",
    "    Hmags = np.array([])\n",
    "    Kmags = np.array([])\n",
    "    umags = np.array([])\n",
    "    gmags = np.array([])\n",
    "    rmags = np.array([])\n",
    "    imags = np.array([])\n",
    "    zmags = np.array([])\n",
    "    \n",
    "    #calculate the distance of each star in parsecs\n",
    "    Dist = 1000./plx\n",
    "    \n",
    "    #use the distance modulus formula to calculate the absolute magnitude for all the stars\n",
    "    GBmags = GBmag - 5 * np.log10(Dist) + 5\n",
    "    GRmags = GRmag - 5 * np.log10(Dist) + 5\n",
    "    Gmags = Gmag - 5 * np.log10(Dist) + 5\n",
    "    Jmags = Jmag - 5 * np.log10(Dist) + 5\n",
    "    Hmags = Hmag - 5 * np.log10(Dist) + 5\n",
    "    Kmags = Kmag - 5 * np.log10(Dist) + 5\n",
    "    umags = umag - 5 * np.log10(Dist) + 5\n",
    "    gmags = gmag - 5 * np.log10(Dist) + 5\n",
    "    rmags = rmag - 5 * np.log10(Dist) + 5\n",
    "    imags = imag - 5 * np.log10(Dist) + 5\n",
    "    zmags = zmag - 5 * np.log10(Dist) + 5\n",
    "    \n",
    "    return Dist, GBmags,GRmags,Gmags,Jmags,Hmags,Kmags,umags,gmags,rmags,imags,zmags"
   ]
  },
  {
   "cell_type": "code",
   "execution_count": null,
   "metadata": {
    "collapsed": true
   },
   "outputs": [],
   "source": [
    "def ColorClassification(Gmags,Kmags,colors):    \n",
    "    #split the stars into different categories based on G-K\n",
    "    #Read in the absolute magnitudes in the G and K bands, and a list of increments\n",
    "    \n",
    "    G_K = Gmags-Kmags\n",
    "    color = np.ones(len(G_K))*1000\n",
    "    for i in range(len(colors)):\n",
    "        for j in range(len(G_K)):\n",
    "            if (i == 0):\n",
    "                if (G_K[j] <= colors[i]):\n",
    "                    color[j] = colors[i]\n",
    "            elif(G_K[j] <= colors[i] and G_K[j] > colors[i-1]):\n",
    "                color[j] = colors[i]\n",
    "    return color"
   ]
  }
 ],
 "metadata": {
  "kernelspec": {
   "display_name": "Python 3",
   "language": "python",
   "name": "python3"
  },
  "language_info": {
   "codemirror_mode": {
    "name": "ipython",
    "version": 3
   },
   "file_extension": ".py",
   "mimetype": "text/x-python",
   "name": "python",
   "nbconvert_exporter": "python",
   "pygments_lexer": "ipython3",
   "version": "3.6.1"
  }
 },
 "nbformat": 4,
 "nbformat_minor": 2
}
