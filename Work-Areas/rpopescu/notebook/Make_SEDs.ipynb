{
 "cells": [
  {
   "cell_type": "code",
   "execution_count": 1,
   "metadata": {
    "collapsed": true
   },
   "outputs": [],
   "source": [
    "%matplotlib inline\n",
    "import numpy as np\n",
    "import numpy.ma as ma\n",
    "import matplotlib.pyplot as plt\n",
    "import math"
   ]
  },
  {
   "cell_type": "code",
   "execution_count": 2,
   "metadata": {},
   "outputs": [
    {
     "name": "stderr",
     "output_type": "stream",
     "text": [
      "WARNING: W03: ../../ijoncour/StandCat/Tgas200_Wright2003_2MASS_FinCat.vot:26:0: W03: Implicitly generating an ID from a name '<FG>' -> '__FG_' [astropy.io.votable.xmlutil]\n",
      "WARNING: W50: ../../ijoncour/StandCat/Tgas200_Wright2003_2MASS_FinCat.vot:26:0: W50: Invalid unit string 'e-/s' [astropy.io.votable.tree]\n",
      "WARNING: W03: ../../ijoncour/StandCat/Tgas200_Wright2003_2MASS_FinCat.vot:27:0: W03: Implicitly generating an ID from a name 'e_<FG>' -> 'e__FG_' [astropy.io.votable.xmlutil]\n",
      "WARNING: W50: ../../ijoncour/StandCat/Tgas200_Wright2003_2MASS_FinCat.vot:27:0: W50: Invalid unit string 'e-/s' [astropy.io.votable.tree]\n",
      "WARNING: W03: ../../ijoncour/StandCat/Tgas200_Wright2003_2MASS_FinCat.vot:28:0: W03: Implicitly generating an ID from a name '<Gmag>' -> '__Gmag_' [astropy.io.votable.xmlutil]\n",
      "WARNING: W03: ../../ijoncour/StandCat/Tgas200_Wright2003_2MASS_FinCat.vot:44:0: W03: Implicitly generating an ID from a name '2MASS' -> '_2MASS' [astropy.io.votable.xmlutil]\n",
      "WARNING: W32: ../../ijoncour/StandCat/Tgas200_Wright2003_2MASS_FinCat.vot:9:0: W32: Duplicate ID 'd_arcsec' renamed to 'd_arcsec_2' to ensure uniqueness [astropy.io.votable.tree]\n",
      "WARNING: W32: ../../ijoncour/StandCat/Tgas200_Wright2003_2MASS_FinCat.vot:30:0: W32: Duplicate ID '_RAJ2000' renamed to '_RAJ2000_2' to ensure uniqueness [astropy.io.votable.tree]\n",
      "WARNING: W32: ../../ijoncour/StandCat/Tgas200_Wright2003_2MASS_FinCat.vot:31:0: W32: Duplicate ID '_DEJ2000' renamed to '_DEJ2000_2' to ensure uniqueness [astropy.io.votable.tree]\n",
      "WARNING: W32: ../../ijoncour/StandCat/Tgas200_Wright2003_2MASS_FinCat.vot:33:0: W32: Duplicate ID 'TYC2' renamed to 'TYC2_2' to ensure uniqueness [astropy.io.votable.tree]\n",
      "WARNING: W32: ../../ijoncour/StandCat/Tgas200_Wright2003_2MASS_FinCat.vot:45:0: W32: Duplicate ID 'RAJ2000' renamed to 'RAJ2000_2' to ensure uniqueness [astropy.io.votable.tree]\n",
      "WARNING: W32: ../../ijoncour/StandCat/Tgas200_Wright2003_2MASS_FinCat.vot:46:0: W32: Duplicate ID 'DEJ2000' renamed to 'DEJ2000_2' to ensure uniqueness [astropy.io.votable.tree]\n",
      "WARNING: W33: ../../ijoncour/StandCat/Tgas200_Wright2003_2MASS_FinCat.vot:9:0: W33: Column name 'd_arcsec' renamed to 'd_arcsec 2' to ensure uniqueness [astropy.io.votable.tree]\n",
      "WARNING: W33: ../../ijoncour/StandCat/Tgas200_Wright2003_2MASS_FinCat.vot:30:0: W33: Column name '_RAJ2000' renamed to '_RAJ2000 2' to ensure uniqueness [astropy.io.votable.tree]\n",
      "WARNING: W33: ../../ijoncour/StandCat/Tgas200_Wright2003_2MASS_FinCat.vot:31:0: W33: Column name '_DEJ2000' renamed to '_DEJ2000 2' to ensure uniqueness [astropy.io.votable.tree]\n",
      "WARNING: W33: ../../ijoncour/StandCat/Tgas200_Wright2003_2MASS_FinCat.vot:33:0: W33: Column name 'TYC2' renamed to 'TYC2 2' to ensure uniqueness [astropy.io.votable.tree]\n",
      "WARNING: W33: ../../ijoncour/StandCat/Tgas200_Wright2003_2MASS_FinCat.vot:45:0: W33: Column name 'RAJ2000' renamed to 'RAJ2000 2' to ensure uniqueness [astropy.io.votable.tree]\n",
      "WARNING: W33: ../../ijoncour/StandCat/Tgas200_Wright2003_2MASS_FinCat.vot:46:0: W33: Column name 'DEJ2000' renamed to 'DEJ2000 2' to ensure uniqueness [astropy.io.votable.tree]\n",
      "WARNING: W49: ../../ijoncour/StandCat/Tgas200_Wright2003_2MASS_FinCat.vot:62:77: W49: Empty cell illegal for integer fields. [astropy.io.votable.converters]\n",
      "WARNING: W49: ../../ijoncour/StandCat/Tgas200_Wright2003_2MASS_FinCat.vot:63:76: W49: Empty cell illegal for integer fields. [astropy.io.votable.converters]\n",
      "WARNING: W49: ../../ijoncour/StandCat/Tgas200_Wright2003_2MASS_FinCat.vot:64:78: W49: Empty cell illegal for integer fields. [astropy.io.votable.converters]\n",
      "WARNING: W49: ../../ijoncour/StandCat/Tgas200_Wright2003_2MASS_FinCat.vot:67:76: W49: Empty cell illegal for integer fields. [astropy.io.votable.converters]\n",
      "WARNING: W49: ../../ijoncour/StandCat/Tgas200_Wright2003_2MASS_FinCat.vot:68:78: W49: Empty cell illegal for integer fields. [astropy.io.votable.converters]\n",
      "WARNING: W49: ../../ijoncour/StandCat/Tgas200_Wright2003_2MASS_FinCat.vot:69:77: W49: Empty cell illegal for integer fields. [astropy.io.votable.converters]\n",
      "WARNING: W49: ../../ijoncour/StandCat/Tgas200_Wright2003_2MASS_FinCat.vot:71:76: W49: Empty cell illegal for integer fields. [astropy.io.votable.converters]\n",
      "WARNING: W49: ../../ijoncour/StandCat/Tgas200_Wright2003_2MASS_FinCat.vot:72:76: W49: Empty cell illegal for integer fields. [astropy.io.votable.converters]\n",
      "WARNING: W49: ../../ijoncour/StandCat/Tgas200_Wright2003_2MASS_FinCat.vot:74:77: W49: Empty cell illegal for integer fields. [astropy.io.votable.converters]\n",
      "WARNING: W49: ../../ijoncour/StandCat/Tgas200_Wright2003_2MASS_FinCat.vot:78:76: W49: Empty cell illegal for integer fields. (suppressing further warnings of this type...) [astropy.io.votable.converters]\n"
     ]
    }
   ],
   "source": [
    "from astropy.table import Table\n",
    "t = Table.read('../../ijoncour/StandCat/Tgas200_Wright2003_2MASS_FinCat.vot', format='votable')"
   ]
  },
  {
   "cell_type": "code",
   "execution_count": 3,
   "metadata": {},
   "outputs": [
    {
     "name": "stdout",
     "output_type": "stream",
     "text": [
      "The astropy reader loads the data into the following variable names:\n",
      "['d_arcsec', 'd_arcsec_2', '_RAJ2000', '_DEJ2000', 'HIP', 'TYC2', 'Source', 'RA_ICRS', 'e_RA_ICRS', 'DE_ICRS', 'e_DE_ICRS', 'Plx', 'e_Plx', 'pmRA', 'e_pmRA', 'pmDE', 'e_pmDE', 'Dup', '__FG_', 'e__FG_', '__Gmag_', 'Var', '_RAJ2000_2', '_DEJ2000_2', 'TYC1', 'TYC2_2', 'TYC3', 'RAJ2000', 'DEJ2000', 'VTmag', 'BTmag', 'r_SpType', 'Dist', 'Teff', 'SpType', '_2MASS', 'RAJ2000_2', 'DEJ2000_2', 'errHalfMaj', 'errHalfMin', 'errPosAng', 'Jmag', 'Hmag', 'Kmag', 'e_Jmag', 'e_Hmag', 'e_Kmag', 'Qfl', 'Rfl', 'X', 'MeasureJD']\n"
     ]
    }
   ],
   "source": [
    "print(\"The astropy reader loads the data into the following variable names:\")\n",
    "print(t.colnames)"
   ]
  },
  {
   "cell_type": "code",
   "execution_count": 4,
   "metadata": {
    "collapsed": true
   },
   "outputs": [],
   "source": [
    "#Rename columns\n",
    "Source = t[\"Source\"]\n",
    "Gmag = t[\"__Gmag_\"]\n",
    "Vmag = t[\"VTmag\"]\n",
    "Jmag = t[\"Jmag\"]\n",
    "Hmag = t[\"Hmag\"]\n",
    "Kmag = t[\"Kmag\"]\n",
    "QFlags = t[\"Qfl\"]\n",
    "DistW = t[\"Dist\"]\n",
    "s1= t[\"d_arcsec\"]\n",
    "s2 = t[\"d_arcsec_2\"]\n",
    "plx = t['Plx']\n",
    "Teff = t['Teff']\n",
    "e_Jmag = t['e_Jmag']\n",
    "e_Kmag = t['e_Kmag']\n",
    "e_Hmag = t['e_Hmag']\n",
    "SpType = t[\"SpType\"]\n",
    "dup = t['Dup']"
   ]
  },
  {
   "cell_type": "code",
   "execution_count": 5,
   "metadata": {
    "collapsed": true
   },
   "outputs": [],
   "source": [
    "#calculate distance and absolute magnitudes and plot color index vs. absolute g magnitude for different luminosity classes\n",
    "Dist = 1000./t[\"Plx\"]\n",
    "Vmags = t['VTmag'] - 5 * np.log10(Dist) + 5\n",
    "Bmags = t['BTmag'] - 5 * np.log10(Dist) + 5\n",
    "Gmags = t['__Gmag_'] - 5 * np.log10(Dist) + 5\n",
    "Jmags = t['Jmag'] -5 * np.log10(Dist) + 5\n",
    "Hmags = t['Hmag'] - 5 * np.log10(Dist) + 5\n",
    "Kmags = t['Kmag'] - 5 * np.log10(Dist) + 5"
   ]
  },
  {
   "cell_type": "code",
   "execution_count": 6,
   "metadata": {
    "collapsed": true
   },
   "outputs": [],
   "source": [
    "# mask all data that does not have a Qfl value of A\n",
    "\n",
    "for i in range(0,len(QFlags)):\n",
    "    if(QFlags[i][0] == ord(\"A\")):\n",
    "        Jmag.mask[i] = False\n",
    "    else:\n",
    "         Jmag.mask[i] = True\n",
    "            \n",
    "for i in range(0,len(QFlags)):\n",
    "    if(QFlags[i][2] == ord(\"A\")):\n",
    "        Kmag.mask[i] = False\n",
    "    else:\n",
    "        Kmag.mask[i] = True  \n",
    "        \n",
    "for i in range(0,len(QFlags)):\n",
    "    if(QFlags[i][1] == ord(\"A\")):\n",
    "        Hmag.mask[i] = False\n",
    "    else:\n",
    "        Hmag.mask[i] = True  "
   ]
  },
  {
   "cell_type": "code",
   "execution_count": 7,
   "metadata": {},
   "outputs": [
    {
     "name": "stdout",
     "output_type": "stream",
     "text": [
      " Masked  25429  rows in which dup is equal to 1\n"
     ]
    }
   ],
   "source": [
    "#mask all values with dup = 1\n",
    "imask = 0\n",
    "for i in range(0,len(dup)):\n",
    "    if (dup[i] > 0.5):\n",
    "        imask = imask + 1\n",
    "        row = t[i]\n",
    "        idx = row._index\n",
    "        cols = row._table.columns.values()\n",
    "        for col in cols:\n",
    "            col.mask[i] = True\n",
    "for i in range(0,len(dup)):\n",
    "    if(dup[i] > 0.5):\n",
    "        print(i,dup[i])\n",
    "print(\" Masked \",imask,\" rows in which dup is equal to 1\")"
   ]
  },
  {
   "cell_type": "code",
   "execution_count": 8,
   "metadata": {},
   "outputs": [
    {
     "name": "stdout",
     "output_type": "stream",
     "text": [
      "GAIA Duplicate Source:  6726788842835559552\n",
      "GAIA Duplicate Source:  5140648418166947328\n",
      "GAIA Duplicate Source:  2520020864918288896\n",
      "GAIA Duplicate Source:  5959478126358758016\n",
      "GAIA Duplicate Source:  6668487925962916480\n",
      "GAIA Duplicate Source:  1214512606941823360\n",
      "GAIA Duplicate Source:  4097002323363211776\n",
      "GAIA Duplicate Source:  5769091159655753856\n",
      "GAIA Duplicate Source:  6790250970359184768\n",
      "GAIA Duplicate Source:  5123327399177495808\n",
      "GAIA Duplicate Source:  6785793275342096256\n",
      "GAIA Duplicate Source:  2498832038900176000\n",
      "GAIA Duplicate Source:  5324415053561705216\n",
      "GAIA Duplicate Source:  2067478096721765376\n",
      "GAIA Duplicate Source:  4785096491234658304\n",
      "GAIA Duplicate Source:  5447076227156166528\n",
      "GAIA Duplicate Source:  6054493694983536384\n",
      "GAIA Duplicate Source:  5133580860502607104\n",
      "GAIA Duplicate Source:  452193638896601088\n",
      "GAIA Duplicate Source:  1837550183626334848\n",
      "GAIA Duplicate Source:  3248442439236776960\n",
      "GAIA Duplicate Source:  4392970203357519360\n",
      "GAIA Duplicate Source:  5675318107888596608\n",
      "GAIA Duplicate Source:  6657758169946168576\n",
      "GAIA Duplicate Source:  3153870076878137600\n",
      "GAIA Duplicate Source:  4340260028239519232\n",
      "GAIA Duplicate Source:  2389294498652881536\n",
      "GAIA Duplicate Source:  5045205139519618816\n",
      "GAIA Duplicate Source:  2125511797904547840\n",
      "GAIA Duplicate Source:  6652593488951220864\n",
      "GAIA Duplicate Source:  6655327390255709824\n",
      "GAIA Duplicate Source:  6284251389929712128\n",
      "GAIA Duplicate Source:  5715484195366203904\n",
      "GAIA Duplicate Source:  4102312174253539584\n",
      "GAIA Duplicate Source:  3255252986058161408\n",
      "GAIA Duplicate Source:  2398194667322958976\n",
      "GAIA Duplicate Source:  6344759267153056128\n",
      "GAIA Duplicate Source:  6692161201584173184\n",
      "GAIA Duplicate Source:  350516782152418688\n",
      "GAIA Duplicate Source:  4304643067049623808\n",
      "GAIA Duplicate Source:  3912364874763753216\n",
      "GAIA Duplicate Source:  1414509064750524928\n",
      "GAIA Duplicate Source:  1770484097500579840\n",
      "GAIA Duplicate Source:  11528207618987776\n",
      "GAIA Duplicate Source:  1512962359559680\n",
      "GAIA Duplicate Source:  6608821072056229504\n",
      "GAIA Duplicate Source:  3874697290023399424\n",
      "GAIA Duplicate Source:  6619616420815047296\n",
      "GAIA Duplicate Source:  3863784911995419776\n",
      "GAIA Duplicate Source:  2755680429049643136\n",
      "GAIA Duplicate Source:  342510928752813184\n",
      "GAIA Duplicate Source:  3817842918140419968\n",
      "GAIA Duplicate Source:  5582652161253437312\n",
      "GAIA Duplicate Source:  2707233850786086144\n",
      "GAIA Duplicate Source:  3785073073586186112\n",
      "GAIA Duplicate Source:  628824718698962432\n",
      "GAIA Duplicate Source:  3416890094513036800\n",
      "GAIA Duplicate Source:  3416923423459867392\n",
      "GAIA Duplicate Source:  2028211581558734848\n",
      "GAIA Duplicate Source:  3428894253228690816\n",
      "GAIA Duplicate Source:  596820855791669376\n",
      "GAIA Duplicate Source:  6179370212707616256\n",
      "GAIA Duplicate Source:  6506475196847763712\n",
      "GAIA Duplicate Source:  4903815331530764672\n",
      "GAIA Duplicate Source:  6164768629571883520\n",
      "GAIA Duplicate Source:  4562514965086014976\n",
      "GAIA Duplicate Source:  3389026786238193152\n",
      "GAIA Duplicate Source:  4547093008831923968\n",
      "GAIA Duplicate Source:  5830541352703013760\n",
      "GAIA Duplicate Source:  5819883202381670272\n",
      "GAIA Duplicate Source:  6132630523167092736\n",
      "GAIA Duplicate Source:  6908358653989846912\n",
      "GAIA Duplicate Source:  6113353026316542464\n",
      "GAIA Duplicate Source:  4509228611513985152\n",
      "GAIA Duplicate Source:  2573940227949356416\n",
      "GAIA Duplicate Source:  6104771612937062784\n",
      "GAIA Duplicate Source:  5163910270279750272\n",
      "GAIA Duplicate Source:  4493709554640448512\n",
      "Finished GAIA Duplicate Check. Found:  78\n",
      "Finished masking all GAIA duplicates. All sources involved\n",
      "2MASS Duplicate Source:  b'20224375+1320260'\n",
      "2MASS Duplicate Source:  b'21453071+2156249'\n",
      "2MASS Duplicate Source:  b'06185319-3212053'\n",
      "2MASS Duplicate Source:  b'08135422-5222547'\n",
      "2MASS Duplicate Source:  b'05351451+3357454'\n",
      "2MASS Duplicate Source:  b'15290917-3248329'\n",
      "2MASS Duplicate Source:  b'03301382+7717357'\n",
      "2MASS Duplicate Source:  b'21045848-1105139'\n",
      "2MASS Duplicate Source:  b'21280133+4304426'\n",
      "Finished 2MASS Duplicate Check. Found:  9\n"
     ]
    }
   ],
   "source": [
    "#look at number of duplicate matches\n",
    "Test = Source.compressed()\n",
    "unique = set()\n",
    "Gdups = set()\n",
    "\n",
    "for i in range(0,len(Test)):\n",
    "    if(Test[i] in unique):\n",
    "        print(\"GAIA Duplicate Source: \",Test[i])\n",
    "        Gdups.add(Test[i])\n",
    "    else:\n",
    "        unique.add(Test[i])\n",
    "        last = Test[i]\n",
    "print(\"Finished GAIA Duplicate Check. Found: \", len(Gdups))\n",
    "\n",
    "for i in range(0,len(Source)):\n",
    "    if(Source.mask[i] == False):\n",
    "        Name = Source[i]\n",
    "        if(Name in Gdups):\n",
    "            row = t[i]\n",
    "            idx = row._index\n",
    "            cols = row._table.columns.values()\n",
    "            for col in cols:\n",
    "                col.mask[i] = True\n",
    "print(\"Finished masking all GAIA duplicates. All sources involved\")\n",
    "TwoM = t[\"_2MASS\"]\n",
    "unique = set()\n",
    "Tdups = set()\n",
    "Test = TwoM.compressed()\n",
    "for i in range(0,len(Test)):\n",
    "    if(Test[i] in unique):\n",
    "        print(\"2MASS Duplicate Source: \",Test[i])\n",
    "        Tdups.add(Test[i])\n",
    "    else:\n",
    "        unique.add(Test[i])\n",
    "        last = Test[i]\n",
    "print(\"Finished 2MASS Duplicate Check. Found: \", len(Tdups))\n",
    "\n",
    "for i in range(0,len(Source)):\n",
    "    if(Source.mask[i] == False):\n",
    "        Name = Source[i]\n",
    "        if(Name in Tdups):\n",
    "            print(Source[i],s1[i],s2[i],Gmag[i],Vmag[i]-Gmag[i],Jmag[i],Kmag[i],TwoM[i])"
   ]
  },
  {
   "cell_type": "code",
   "execution_count": 9,
   "metadata": {},
   "outputs": [
    {
     "data": {
      "image/png": "[encoded data removed]",
      "text/plain": [
       "<matplotlib.figure.Figure at 0x7f9f86ff9e48>"
      ]
     },
     "metadata": {},
     "output_type": "display_data"
    },
    {
     "name": "stdout",
     "output_type": "stream",
     "text": [
      "-0.863012770597\n",
      "0.281449081789\n"
     ]
    }
   ],
   "source": [
    "J_G = Jmag-Gmag\n",
    "plt.scatter(s1,J_G,s=2.0)\n",
    "plt.show()\n",
    "JGmean = np.mean(J_G)\n",
    "JGstd = np.std(J_G)\n",
    "print(JGmean)\n",
    "print(JGstd)"
   ]
  },
  {
   "cell_type": "code",
   "execution_count": 10,
   "metadata": {},
   "outputs": [
    {
     "name": "stdout",
     "output_type": "stream",
     "text": [
      " Masked  22  rows based on J-G color > 5 sigma from mean\n"
     ]
    },
    {
     "data": {
      "image/png": "[encoded data removed]",
      "text/plain": [
       "<matplotlib.figure.Figure at 0x7f9f870b9c50>"
      ]
     },
     "metadata": {},
     "output_type": "display_data"
    },
    {
     "name": "stdout",
     "output_type": "stream",
     "text": [
      "New sigma for J-G:  0.278367044353\n"
     ]
    }
   ],
   "source": [
    "#masked rows with J-G greater than 5 sigma from mean\n",
    "imask = 0\n",
    "for i in range(0,len(J_G)):\n",
    "    if(abs(J_G[i] - JGmean) > 5*JGstd):\n",
    "        imask = imask + 1\n",
    "        row = t[i]\n",
    "        idx = row._index\n",
    "        cols = row._table.columns.values()\n",
    "        for col in cols:\n",
    "            col.mask[i] = True\n",
    "print(\" Masked \",imask,\" rows based on J-G color > 5 sigma from mean\")\n",
    "J_G = Jmag - Gmag\n",
    "plt.xlabel(\"Distance of 2MASS to GAIA\")\n",
    "plt.ylabel(\" J - G magnitude\")\n",
    "plt.scatter(s1,J_G,s=2.0)\n",
    "plt.show()\n",
    "print(\"New sigma for J-G: \",np.std(J_G))"
   ]
  },
  {
   "cell_type": "code",
   "execution_count": 30,
   "metadata": {},
   "outputs": [
    {
     "name": "stdout",
     "output_type": "stream",
     "text": [
      "SpType\n",
      "------\n",
      "    K0\n",
      "    F0\n",
      "    --\n",
      "    --\n",
      "    --\n",
      "    --\n",
      "  A0 V\n",
      "    K0\n",
      "    --\n",
      "    --\n",
      "   ...\n",
      "    --\n",
      "  G5 V\n",
      "    --\n",
      "  K0 V\n",
      "  F2 V\n",
      "    AM\n",
      "    --\n",
      "  G5 V\n",
      "  F6 V\n",
      "  F8 V\n",
      "    --\n",
      "Length = 75753 rows\n"
     ]
    }
   ],
   "source": [
    "print(SpType)"
   ]
  },
  {
   "cell_type": "code",
   "execution_count": 11,
   "metadata": {},
   "outputs": [
    {
     "name": "stdout",
     "output_type": "stream",
     "text": [
      "Finished Luminosity Class Translation\n",
      "  Number of single Stars:  49718   Binaries or Unknown luminosity class:  428\n"
     ]
    }
   ],
   "source": [
    "#Translate Spectra Type luminosity class into a number from 1 to 5\n",
    "#or a negative number if it is a binary or unknown spectral type.\n",
    "#Note that many stars do not have a luminosity class. There are given 5.1.\n",
    "\n",
    "SpTypeN = [0.0]*len(SpType)\n",
    "for i in range(0,len(SpType)):\n",
    "    if(SpType.mask[i] == False):\n",
    "        SpT = SpType[i].decode()\n",
    "        if(len(SpT) > 2):\n",
    "            for j in range(0,len(SpT)):\n",
    "                if(SpT[j] == 'I'):\n",
    "                    SpTypeN[i] = SpTypeN[i] + 1\n",
    "                if(SpT[j] == 'V'):\n",
    "                    SpTypeN[i] = SpTypeN[i] + 5\n",
    "                if(SpT[j] == '+'):\n",
    "                    SpTypeN[i] = -20.\n",
    "                \n",
    "        else:\n",
    "            SpTypeN[i] = 5.1\n",
    "        \n",
    "        if(SpTypeN[i] == 6):\n",
    "            SpTypeN[i] = 4.\n",
    "        if(SpTypeN[i] == 11):\n",
    "            SpTypeN[i] = 4.5\n",
    "        if(SpTypeN[i] == 9):\n",
    "            SpTypeN[i] = 3.5\n",
    "        if(SpTypeN[i] > 5.2):\n",
    "            SpTypeN[i] = -30.\n",
    "print(\"Finished Luminosity Class Translation\")\n",
    "count = 0\n",
    "for i in range(0,len(SpType)):\n",
    "    if(SpTypeN[i] < 0.):\n",
    "        count = count + 1\n",
    "test = SpType.compressed()\n",
    "good = len(test) - count\n",
    "print(\"  Number of single Stars: \",good,\"  Binaries or Unknown luminosity class: \",count)"
   ]
  },
  {
   "cell_type": "code",
   "execution_count": 12,
   "metadata": {},
   "outputs": [
    {
     "name": "stdout",
     "output_type": "stream",
     "text": [
      "[ 3816.25        4270.34482759  4780.87837838  5191.28318584  5788.28180212\n",
      "  6316.05685738  6889.92812806  7201.1148272   7847.77070064  8194.32989691\n",
      "  8817.13235294  9230.93984962  9520.        ]\n",
      "[ 3850.  4420.  4900.  5450.  5860.  6470.  6890.  7450.  7850.  8200.\n",
      "  8970.  9480.  9520.]\n",
      "[ 3580.  4060.  4590.  5080.  5570.  6030.  6870.  7150.  7650.  8100.\n",
      "  8600.  9230.  9520.]\n",
      "[  89.29410675  141.55497917  114.12078152   81.80020653   96.32472367\n",
      "  174.87706937    1.19677616   19.00199992   20.9973831    23.12704564\n",
      "  127.74001681   15.29964342    0.        ]\n"
     ]
    }
   ],
   "source": [
    "#Split class V stars into different temperature ranges and find avg, min, max, and standard deviation of each range\n",
    "temps = [3500,4000,4500,5000,5500,6000,6500,7000,7500,8000,8500,9000,9500]\n",
    "temp_cat = np.zeros(len(Teff))\n",
    "tavg = []\n",
    "tmin = []\n",
    "tmax = []\n",
    "t_stdev = []\n",
    "for t1 in temps: \n",
    "    t2 = t1 + 499\n",
    "    temp_array = []\n",
    "    for i in range(len(Teff)):\n",
    "        if (SpTypeN[i] > 4.9 and SpTypeN[i] < 5.05):\n",
    "            if (Teff[i] > t1 and Teff[i] < t2):\n",
    "                temp_cat[i] = t1\n",
    "                temp_array = np.append(temp_array, Teff[i])\n",
    "    tavg = np.append(tavg,np.mean(temp_array))\n",
    "    tmax = np.append(tmax,np.max(temp_array,axis =0))\n",
    "    tmin = np.append(tmin,np.min(temp_array,axis =0))\n",
    "    t_stdev = np.append(t_stdev,np.std(temp_array))\n",
    "print(tavg)\n",
    "print(tmax)\n",
    "print(tmin)\n",
    "print(t_stdev)"
   ]
  },
  {
   "cell_type": "code",
   "execution_count": 21,
   "metadata": {},
   "outputs": [
    {
     "name": "stdout",
     "output_type": "stream",
     "text": [
      "19973\n"
     ]
    }
   ],
   "source": [
    "Vstars = 0\n",
    "for i in range(len(temp_cat)):\n",
    "    if (SpTypeN[i] > 4.9 and SpTypeN[i] < 5.05):\n",
    "        Vstars = Vstars +1\n",
    "print(Vstars)"
   ]
  },
  {
   "cell_type": "code",
   "execution_count": 34,
   "metadata": {},
   "outputs": [
    {
     "name": "stderr",
     "output_type": "stream",
     "text": [
      "/astromake/opt/python/anaconda3/lib/python3.6/site-packages/ipykernel_launcher.py:18: UserWarning: Warning: converting a masked element to nan.\n"
     ]
    },
    {
     "data": {
      "image/png": "[encoded data removed]",
      "text/plain": [
       "<matplotlib.figure.Figure at 0x7f9f832feba8>"
      ]
     },
     "metadata": {},
     "output_type": "display_data"
    }
   ],
   "source": [
    "#Absolute Magnitude SED\n",
    "wvl = [532, 420, 673, 1235, 1662, 2159]\n",
    "for t in temps: \n",
    "    V_array = []\n",
    "    B_array = []\n",
    "    G_array = []\n",
    "    J_array = []\n",
    "    H_array = []\n",
    "    K_array = []\n",
    "    for i in range(len(temp_cat)):\n",
    "        if (temp_cat[i] == t):\n",
    "            V_array = np.append(V_array,Vmags[i])\n",
    "            B_array = np.append(B_array,Bmags[i])\n",
    "            G_array = np.append(G_array,Gmags[i])\n",
    "            J_array = np.append(J_array,Jmags[i])\n",
    "            H_array = np.append(H_array,Hmags[i])\n",
    "            K_array = np.append(K_array,Kmags[i])\n",
    "    mag_array = [math.log10(np.mean(V_array)), math.log10(np.mean(B_array)), math.log10(np.mean(G_array)), \\\n",
    "                 math.log10(np.mean(J_array)), math.log10(np.mean(H_array)), math.log10(np.mean(K_array))]\n",
    "    plt.plot(wvl, values, '-o')\n",
    "    plt.gca().invert_yaxis()\n",
    "    plt.xlabel('Effective Wavelength (nm)')\n",
    "    plt.ylabel('Average Absolute Magnitude')\n",
    "    plt.title('SED')\n",
    "            \n",
    "            "
   ]
  },
  {
   "cell_type": "code",
   "execution_count": 35,
   "metadata": {
    "scrolled": false
   },
   "outputs": [
    {
     "name": "stderr",
     "output_type": "stream",
     "text": [
      "/astromake/opt/python/anaconda3/lib/python3.6/site-packages/numpy/ma/core.py:2766: UserWarning: Warning: converting a masked element to nan.\n",
      "  order=order, subok=True, ndmin=ndmin)\n"
     ]
    },
    {
     "data": {
      "image/png": "[encoded data removed]",
      "text/plain": [
       "<matplotlib.figure.Figure at 0x7f9f834492b0>"
      ]
     },
     "metadata": {},
     "output_type": "display_data"
    }
   ],
   "source": [
    "wvl2 = [532, 420, 1235, 1662, 2159]\n",
    "for t in temps: \n",
    "    G_V_array = []\n",
    "    G_B_array = []\n",
    "    G_J_array = []\n",
    "    G_H_array = []\n",
    "    G_K_array = []\n",
    "    for i in range(len(temp_cat)):\n",
    "        if (temp_cat[i] == t):\n",
    "            G_V_array = np.append(G_V_array,Gmags[i]-Vmags[i])\n",
    "            G_B_array = np.append(G_B_array,Gmags[i]-Bmags[i])\n",
    "            G_J_array = np.append(G_J_array,Gmags[i]-Jmags[i])\n",
    "            G_H_array = np.append(G_H_array,Gmags[i]-Hmags[i])\n",
    "            G_K_array = np.append(G_K_array,Gmags[i]-Kmags[i])\n",
    "    mag_array = [np.mean(G_V_array), np.mean(G_B_array),np.mean(G_J_array), np.mean(G_H_array), np.mean(G_K_array)]\n",
    "    plt.scatter(wvl2,mag_array)\n",
    "    plt.gca().invert_yaxis()\n",
    "    plt.xlabel('Effective Wavelength (nm)')\n",
    "    plt.ylabel('Average Magnitude Relative to G ')\n",
    "    plt.title('Relative SED')"
   ]
  },
  {
   "cell_type": "code",
   "execution_count": null,
   "metadata": {
    "collapsed": true
   },
   "outputs": [],
   "source": [
    "#test templates\n"
   ]
  }
 ],
 "metadata": {
  "kernelspec": {
   "display_name": "Python 3",
   "language": "python",
   "name": "python3"
  },
  "language_info": {
   "codemirror_mode": {
    "name": "ipython",
    "version": 3
   },
   "file_extension": ".py",
   "mimetype": "text/x-python",
   "name": "python",
   "nbconvert_exporter": "python",
   "pygments_lexer": "ipython3",
   "version": "3.6.1"
  }
 },
 "nbformat": 4,
 "nbformat_minor": 2
}
