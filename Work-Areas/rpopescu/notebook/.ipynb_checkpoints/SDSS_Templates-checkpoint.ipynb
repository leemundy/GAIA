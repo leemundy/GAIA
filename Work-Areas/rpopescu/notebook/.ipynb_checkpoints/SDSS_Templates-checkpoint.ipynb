{
 "cells": [
  {
   "cell_type": "code",
   "execution_count": 1,
   "metadata": {
    "collapsed": true
   },
   "outputs": [],
   "source": [
    "%matplotlib inline\n",
    "import numpy as np\n",
    "import numpy.ma as ma\n",
    "import matplotlib.pyplot as plt\n",
    "import math"
   ]
  },
  {
   "cell_type": "code",
   "execution_count": 2,
   "metadata": {},
   "outputs": [
    {
     "name": "stderr",
     "output_type": "stream",
     "text": [
      "WARNING: W03: ../TgasWright2Mass_sdssdr12_topcat2.vot:9:0: W03: Implicitly generating an ID from a name '1510863252115A.vot' -> '_1510863252115A.vot' [astropy.io.votable.xmlutil]\n",
      "WARNING: W32: ../TgasWright2Mass_sdssdr12_topcat2.vot:15:0: W32: Duplicate ID 'd_arcsec' renamed to 'd_arcsec_2' to ensure uniqueness [astropy.io.votable.tree]\n",
      "WARNING: W32: ../TgasWright2Mass_sdssdr12_topcat2.vot:83:0: W32: Duplicate ID 'errHalfMaj' renamed to 'errHalfMaj_2' to ensure uniqueness [astropy.io.votable.tree]\n",
      "WARNING: W32: ../TgasWright2Mass_sdssdr12_topcat2.vot:84:0: W32: Duplicate ID 'errHalfMin' renamed to 'errHalfMin_2' to ensure uniqueness [astropy.io.votable.tree]\n",
      "WARNING: W32: ../TgasWright2Mass_sdssdr12_topcat2.vot:85:0: W32: Duplicate ID 'errPosAng' renamed to 'errPosAng_2' to ensure uniqueness [astropy.io.votable.tree]\n",
      "WARNING: W32: ../TgasWright2Mass_sdssdr12_topcat2.vot:123:0: W32: Duplicate ID 'pmRA' renamed to 'pmRA_2' to ensure uniqueness [astropy.io.votable.tree]\n",
      "WARNING: W32: ../TgasWright2Mass_sdssdr12_topcat2.vot:124:0: W32: Duplicate ID 'e_pmRA' renamed to 'e_pmRA_2' to ensure uniqueness [astropy.io.votable.tree]\n",
      "WARNING: W32: ../TgasWright2Mass_sdssdr12_topcat2.vot:125:0: W32: Duplicate ID 'pmDE' renamed to 'pmDE_2' to ensure uniqueness [astropy.io.votable.tree]\n",
      "WARNING: W32: ../TgasWright2Mass_sdssdr12_topcat2.vot:126:0: W32: Duplicate ID 'e_pmDE' renamed to 'e_pmDE_2' to ensure uniqueness [astropy.io.votable.tree]\n",
      "WARNING: W33: ../TgasWright2Mass_sdssdr12_topcat2.vot:15:0: W33: Column name 'd_arcsec' renamed to 'd_arcsec 2' to ensure uniqueness [astropy.io.votable.tree]\n",
      "WARNING: W33: ../TgasWright2Mass_sdssdr12_topcat2.vot:83:0: W33: Column name 'errHalfMaj' renamed to 'errHalfMaj 2' to ensure uniqueness [astropy.io.votable.tree]\n",
      "WARNING: W33: ../TgasWright2Mass_sdssdr12_topcat2.vot:84:0: W33: Column name 'errHalfMin' renamed to 'errHalfMin 2' to ensure uniqueness [astropy.io.votable.tree]\n",
      "WARNING: W33: ../TgasWright2Mass_sdssdr12_topcat2.vot:85:0: W33: Column name 'errPosAng' renamed to 'errPosAng 2' to ensure uniqueness [astropy.io.votable.tree]\n",
      "WARNING: W33: ../TgasWright2Mass_sdssdr12_topcat2.vot:123:0: W33: Column name 'pmRA' renamed to 'pmRA 2' to ensure uniqueness [astropy.io.votable.tree]\n",
      "WARNING: W33: ../TgasWright2Mass_sdssdr12_topcat2.vot:124:0: W33: Column name 'e_pmRA' renamed to 'e_pmRA 2' to ensure uniqueness [astropy.io.votable.tree]\n",
      "WARNING: W33: ../TgasWright2Mass_sdssdr12_topcat2.vot:125:0: W33: Column name 'pmDE' renamed to 'pmDE 2' to ensure uniqueness [astropy.io.votable.tree]\n",
      "WARNING: W33: ../TgasWright2Mass_sdssdr12_topcat2.vot:126:0: W33: Column name 'e_pmDE' renamed to 'e_pmDE 2' to ensure uniqueness [astropy.io.votable.tree]\n",
      "WARNING: W30: ../TgasWright2Mass_sdssdr12_topcat2.vot:12899:8: W30: Invalid literal for float 'NA'.  Treating as empty. [astropy.io.votable.converters]\n",
      "WARNING: W30: ../TgasWright2Mass_sdssdr12_topcat2.vot:12920:8: W30: Invalid literal for float 'NA'.  Treating as empty. [astropy.io.votable.converters]\n",
      "WARNING: W30: ../TgasWright2Mass_sdssdr12_topcat2.vot:12921:8: W30: Invalid literal for float 'NA'.  Treating as empty. [astropy.io.votable.converters]\n",
      "WARNING: W30: ../TgasWright2Mass_sdssdr12_topcat2.vot:12922:8: W30: Invalid literal for float 'NA'.  Treating as empty. [astropy.io.votable.converters]\n",
      "WARNING: W30: ../TgasWright2Mass_sdssdr12_topcat2.vot:13015:8: W30: Invalid literal for float 'NA'.  Treating as empty. [astropy.io.votable.converters]\n",
      "WARNING: W30: ../TgasWright2Mass_sdssdr12_topcat2.vot:13108:8: W30: Invalid literal for float 'NA'.  Treating as empty. [astropy.io.votable.converters]\n",
      "WARNING: W30: ../TgasWright2Mass_sdssdr12_topcat2.vot:16526:8: W30: Invalid literal for float 'NA'.  Treating as empty. [astropy.io.votable.converters]\n",
      "WARNING: W30: ../TgasWright2Mass_sdssdr12_topcat2.vot:16547:8: W30: Invalid literal for float 'NA'.  Treating as empty. [astropy.io.votable.converters]\n",
      "WARNING: W30: ../TgasWright2Mass_sdssdr12_topcat2.vot:16548:8: W30: Invalid literal for float 'NA'.  Treating as empty. [astropy.io.votable.converters]\n",
      "WARNING: W30: ../TgasWright2Mass_sdssdr12_topcat2.vot:16619:8: W30: Invalid literal for float 'NA'.  Treating as empty. (suppressing further warnings of this type...) [astropy.io.votable.converters]\n"
     ]
    }
   ],
   "source": [
    "#read in data\n",
    "from astropy.table import Table\n",
    "t = Table.read('../TgasWright2Mass_sdssdr12_topcat2.vot', format='votable')"
   ]
  },
  {
   "cell_type": "code",
   "execution_count": 3,
   "metadata": {},
   "outputs": [
    {
     "name": "stdout",
     "output_type": "stream",
     "text": [
      "The astropy reader loads the data into the following variable names:\n",
      "['d_arcsec', 'col1', 'angDist', 'd_arcsec_2', 'X_RAJ2000', 'X_DEJ2000', 'HIP', 'TYC2', 'Source', 'RA_ICRS', 'e_RA_ICRS', 'DE_ICRS', 'e_DE_ICRS', 'Plx', 'e_Plx', 'pmRA', 'e_pmRA', 'pmDE', 'e_pmDE', 'Dup', 'X.FG.', 'e_.FG.', 'X.Gmag.', 'Var', 'X_RAJ2000.1', 'X_DEJ2000.1', 'TYC1', 'TYC2.1', 'TYC3', 'RAJ2000', 'DEJ2000', 'VTmag', 'BTmag', 'r_SpType', 'Dist', 'Teff', 'SpType', 'X2MASS', 'RAJ2000.1', 'DEJ2000.1', 'errHalfMaj', 'errHalfMin', 'errPosAng', 'Jmag', 'Hmag', 'Kmag', 'e_Jmag', 'e_Hmag', 'e_Kmag', 'Qfl', 'Rfl', 'X', 'MeasureJD', 'RAdeg', 'DEdeg', 'errHalfMaj_2', 'errHalfMin_2', 'errPosAng_2', 'objID', 'mode', 'q_mode', 'class', 'SDSS12', 'm_SDSS12', 'flags', 'ObsDate', 'Q', 'umag', 'e_umag', 'gmag', 'e_gmag', 'rmag', 'e_rmag', 'imag', 'e_imag', 'zmag', 'e_zmag', 'zsp', 'e_zsp', 'f_zsp', 'zph', 'e_zph', 'avg_zph', 'pmRA_2', 'e_pmRA_2', 'pmDE_2', 'e_pmDE_2', 'SpObjID', 'spType', 'spCl', 'subClass']\n",
      "\n",
      "The number of stars is 31876\n"
     ]
    }
   ],
   "source": [
    "print(\"The astropy reader loads the data into the following variable names:\")\n",
    "print(t.colnames)\n",
    "print(\"\\nThe number of stars is \" + str(len(t)))"
   ]
  },
  {
   "cell_type": "code",
   "execution_count": 4,
   "metadata": {},
   "outputs": [],
   "source": [
    "#Rename columns\n",
    "Source = t[\"Source\"]\n",
    "Gmag = t[\"X.Gmag.\"]\n",
    "Vmag = t[\"VTmag\"]\n",
    "Bmag = t[\"BTmag\"]\n",
    "Jmag = t[\"Jmag\"]\n",
    "Hmag = t[\"Hmag\"]\n",
    "Kmag = t[\"Kmag\"]\n",
    "QFlags = t[\"Qfl\"]\n",
    "DistW = t[\"Dist\"]\n",
    "s1= t[\"d_arcsec\"]\n",
    "s2 = t[\"d_arcsec_2\"]\n",
    "plx = t['Plx']\n",
    "Teff = t['Teff']\n",
    "e_Jmag = t['e_Jmag']\n",
    "e_Kmag = t['e_Kmag']\n",
    "e_Hmag = t['e_Hmag']\n",
    "SpType = t[\"SpType\"]\n",
    "dup = t['Dup']\n",
    "RA = t[\"X_RAJ2000\"]\n",
    "DEC = t[\"X_DEJ2000\"]\n",
    "col1 = t[\"col1\"]"
   ]
  },
  {
   "cell_type": "code",
   "execution_count": 5,
   "metadata": {},
   "outputs": [],
   "source": [
    "Dist = 1000./t[\"Plx\"]\n",
    "Abs_Vmags = Vmag - 5 * np.log10(Dist) + 5\n",
    "Abs_Bmags = Bmag - 5 * np.log10(Dist) + 5\n",
    "Abs_Gmags = Gmag - 5 * np.log10(Dist) + 5\n",
    "Abs_Jmags = Jmag -5 * np.log10(Dist) + 5\n",
    "Abs_Hmags = Hmag - 5 * np.log10(Dist) + 5\n",
    "Abs_Kmags = Kmag - 5 * np.log10(Dist) + 5"
   ]
  },
  {
   "cell_type": "code",
   "execution_count": 7,
   "metadata": {},
   "outputs": [
    {
     "name": "stdout",
     "output_type": "stream",
     "text": [
      " Masked  0  rows in which dup is equal to 1\n"
     ]
    }
   ],
   "source": [
    "#mask all values with dup = 1\n",
    "imask = 0\n",
    "for i in range(0,len(dup)):\n",
    "    if (dup[i] > 0.5):\n",
    "        imask = imask + 1\n",
    "        row = t[i]\n",
    "        idx = row._index\n",
    "        cols = row._table.columns.values()\n",
    "        for col in cols:\n",
    "            col.mask[i] = True\n",
    "for i in range(0,len(dup)):\n",
    "    if(dup[i] > 0.5):\n",
    "        print(i,dup[i])\n",
    "print(\" Masked \",imask,\" rows in which dup is equal to 1\")"
   ]
  },
  {
   "cell_type": "code",
   "execution_count": 8,
   "metadata": {},
   "outputs": [
    {
     "name": "stdout",
     "output_type": "stream",
     "text": [
      "The number of stars after filtering for duplicates is: 14414\n"
     ]
    }
   ],
   "source": [
    "#get rid of duplicates\n",
    "for i in range(len(col1)):\n",
    "    first_match = col1[i]\n",
    "    for j in range(i+1,len(col1)):\n",
    "        if (first_match == col1[j]):\n",
    "            col1.mask[j] = True\n",
    "        else: break\n",
    "stars = 0\n",
    "for i in range(len(col1)): \n",
    "    if (col1.mask[i] == False):\n",
    "        stars = stars+1\n",
    "print(\"The number of stars after filtering for duplicates is: \" + str(stars))"
   ]
  },
  {
   "cell_type": "code",
   "execution_count": 12,
   "metadata": {},
   "outputs": [
    {
     "ename": "AttributeError",
     "evalue": "'MaskedConstant' object has no attribute '_hardmask'",
     "output_type": "error",
     "traceback": [
      "\u001b[0;31m---------------------------------------------------------------------------\u001b[0m",
      "\u001b[0;31mAttributeError\u001b[0m                            Traceback (most recent call last)",
      "\u001b[0;32m<ipython-input-12-355068e77612>\u001b[0m in \u001b[0;36m<module>\u001b[0;34m()\u001b[0m\n\u001b[1;32m      3\u001b[0m \u001b[0mG_J\u001b[0m \u001b[0;34m=\u001b[0m \u001b[0mAbs_Gmags\u001b[0m\u001b[0;34m-\u001b[0m\u001b[0mAbs_Jmags\u001b[0m\u001b[0;34m\u001b[0m\u001b[0m\n\u001b[1;32m      4\u001b[0m \u001b[0;32mfor\u001b[0m \u001b[0mi\u001b[0m \u001b[0;32min\u001b[0m \u001b[0mrange\u001b[0m\u001b[0;34m(\u001b[0m\u001b[0mlen\u001b[0m\u001b[0;34m(\u001b[0m\u001b[0mG_J\u001b[0m\u001b[0;34m)\u001b[0m\u001b[0;34m)\u001b[0m\u001b[0;34m:\u001b[0m\u001b[0;34m\u001b[0m\u001b[0m\n\u001b[0;32m----> 5\u001b[0;31m     \u001b[0mplt\u001b[0m\u001b[0;34m.\u001b[0m\u001b[0mscatter\u001b[0m\u001b[0;34m(\u001b[0m\u001b[0mTeff\u001b[0m\u001b[0;34m[\u001b[0m\u001b[0mi\u001b[0m\u001b[0;34m]\u001b[0m\u001b[0;34m,\u001b[0m\u001b[0mG_J\u001b[0m\u001b[0;34m[\u001b[0m\u001b[0mi\u001b[0m\u001b[0;34m]\u001b[0m\u001b[0;34m)\u001b[0m\u001b[0;34m\u001b[0m\u001b[0m\n\u001b[0m",
      "\u001b[0;32m/astromake/opt/python/anaconda3/lib/python3.6/site-packages/matplotlib/pyplot.py\u001b[0m in \u001b[0;36mscatter\u001b[0;34m(x, y, s, c, marker, cmap, norm, vmin, vmax, alpha, linewidths, verts, edgecolors, hold, data, **kwargs)\u001b[0m\n\u001b[1;32m   3432\u001b[0m                          \u001b[0mvmin\u001b[0m\u001b[0;34m=\u001b[0m\u001b[0mvmin\u001b[0m\u001b[0;34m,\u001b[0m \u001b[0mvmax\u001b[0m\u001b[0;34m=\u001b[0m\u001b[0mvmax\u001b[0m\u001b[0;34m,\u001b[0m \u001b[0malpha\u001b[0m\u001b[0;34m=\u001b[0m\u001b[0malpha\u001b[0m\u001b[0;34m,\u001b[0m\u001b[0;34m\u001b[0m\u001b[0m\n\u001b[1;32m   3433\u001b[0m                          \u001b[0mlinewidths\u001b[0m\u001b[0;34m=\u001b[0m\u001b[0mlinewidths\u001b[0m\u001b[0;34m,\u001b[0m \u001b[0mverts\u001b[0m\u001b[0;34m=\u001b[0m\u001b[0mverts\u001b[0m\u001b[0;34m,\u001b[0m\u001b[0;34m\u001b[0m\u001b[0m\n\u001b[0;32m-> 3434\u001b[0;31m                          edgecolors=edgecolors, data=data, **kwargs)\n\u001b[0m\u001b[1;32m   3435\u001b[0m     \u001b[0;32mfinally\u001b[0m\u001b[0;34m:\u001b[0m\u001b[0;34m\u001b[0m\u001b[0m\n\u001b[1;32m   3436\u001b[0m         \u001b[0max\u001b[0m\u001b[0;34m.\u001b[0m\u001b[0m_hold\u001b[0m \u001b[0;34m=\u001b[0m \u001b[0mwashold\u001b[0m\u001b[0;34m\u001b[0m\u001b[0m\n",
      "\u001b[0;32m/astromake/opt/python/anaconda3/lib/python3.6/site-packages/matplotlib/__init__.py\u001b[0m in \u001b[0;36minner\u001b[0;34m(ax, *args, **kwargs)\u001b[0m\n\u001b[1;32m   1896\u001b[0m                     warnings.warn(msg % (label_namer, func.__name__),\n\u001b[1;32m   1897\u001b[0m                                   RuntimeWarning, stacklevel=2)\n\u001b[0;32m-> 1898\u001b[0;31m             \u001b[0;32mreturn\u001b[0m \u001b[0mfunc\u001b[0m\u001b[0;34m(\u001b[0m\u001b[0max\u001b[0m\u001b[0;34m,\u001b[0m \u001b[0;34m*\u001b[0m\u001b[0margs\u001b[0m\u001b[0;34m,\u001b[0m \u001b[0;34m**\u001b[0m\u001b[0mkwargs\u001b[0m\u001b[0;34m)\u001b[0m\u001b[0;34m\u001b[0m\u001b[0m\n\u001b[0m\u001b[1;32m   1899\u001b[0m         \u001b[0mpre_doc\u001b[0m \u001b[0;34m=\u001b[0m \u001b[0minner\u001b[0m\u001b[0;34m.\u001b[0m\u001b[0m__doc__\u001b[0m\u001b[0;34m\u001b[0m\u001b[0m\n\u001b[1;32m   1900\u001b[0m         \u001b[0;32mif\u001b[0m \u001b[0mpre_doc\u001b[0m \u001b[0;32mis\u001b[0m \u001b[0;32mNone\u001b[0m\u001b[0;34m:\u001b[0m\u001b[0;34m\u001b[0m\u001b[0m\n",
      "\u001b[0;32m/astromake/opt/python/anaconda3/lib/python3.6/site-packages/matplotlib/axes/_axes.py\u001b[0m in \u001b[0;36mscatter\u001b[0;34m(self, x, y, s, c, marker, cmap, norm, vmin, vmax, alpha, linewidths, verts, edgecolors, **kwargs)\u001b[0m\n\u001b[1;32m   3999\u001b[0m         \u001b[0mmaskargs\u001b[0m \u001b[0;34m=\u001b[0m \u001b[0mx\u001b[0m\u001b[0;34m,\u001b[0m \u001b[0my\u001b[0m\u001b[0;34m,\u001b[0m \u001b[0ms\u001b[0m\u001b[0;34m,\u001b[0m \u001b[0mc\u001b[0m\u001b[0;34m,\u001b[0m \u001b[0mcolors\u001b[0m\u001b[0;34m,\u001b[0m \u001b[0medgecolors\u001b[0m\u001b[0;34m,\u001b[0m \u001b[0mlinewidths\u001b[0m\u001b[0;34m\u001b[0m\u001b[0m\n\u001b[1;32m   4000\u001b[0m         \u001b[0mx\u001b[0m\u001b[0;34m,\u001b[0m \u001b[0my\u001b[0m\u001b[0;34m,\u001b[0m \u001b[0ms\u001b[0m\u001b[0;34m,\u001b[0m \u001b[0mc\u001b[0m\u001b[0;34m,\u001b[0m \u001b[0mcolors\u001b[0m\u001b[0;34m,\u001b[0m \u001b[0medgecolors\u001b[0m\u001b[0;34m,\u001b[0m \u001b[0mlinewidths\u001b[0m \u001b[0;34m=\u001b[0m\u001b[0;31m\\\u001b[0m\u001b[0;34m\u001b[0m\u001b[0m\n\u001b[0;32m-> 4001\u001b[0;31m             \u001b[0mcbook\u001b[0m\u001b[0;34m.\u001b[0m\u001b[0mdelete_masked_points\u001b[0m\u001b[0;34m(\u001b[0m\u001b[0;34m*\u001b[0m\u001b[0mmaskargs\u001b[0m\u001b[0;34m)\u001b[0m\u001b[0;34m\u001b[0m\u001b[0m\n\u001b[0m\u001b[1;32m   4002\u001b[0m \u001b[0;34m\u001b[0m\u001b[0m\n\u001b[1;32m   4003\u001b[0m         \u001b[0mscales\u001b[0m \u001b[0;34m=\u001b[0m \u001b[0ms\u001b[0m   \u001b[0;31m# Renamed for readability below.\u001b[0m\u001b[0;34m\u001b[0m\u001b[0m\n",
      "\u001b[0;32m/astromake/opt/python/anaconda3/lib/python3.6/site-packages/matplotlib/cbook.py\u001b[0m in \u001b[0;36mdelete_masked_points\u001b[0;34m(*args)\u001b[0m\n\u001b[1;32m   1874\u001b[0m             \u001b[0;32mfor\u001b[0m \u001b[0mi\u001b[0m\u001b[0;34m,\u001b[0m \u001b[0mx\u001b[0m \u001b[0;32min\u001b[0m \u001b[0menumerate\u001b[0m\u001b[0;34m(\u001b[0m\u001b[0mmargs\u001b[0m\u001b[0;34m)\u001b[0m\u001b[0;34m:\u001b[0m\u001b[0;34m\u001b[0m\u001b[0m\n\u001b[1;32m   1875\u001b[0m                 \u001b[0;32mif\u001b[0m \u001b[0mseqlist\u001b[0m\u001b[0;34m[\u001b[0m\u001b[0mi\u001b[0m\u001b[0;34m]\u001b[0m\u001b[0;34m:\u001b[0m\u001b[0;34m\u001b[0m\u001b[0m\n\u001b[0;32m-> 1876\u001b[0;31m                     \u001b[0mmargs\u001b[0m\u001b[0;34m[\u001b[0m\u001b[0mi\u001b[0m\u001b[0;34m]\u001b[0m \u001b[0;34m=\u001b[0m \u001b[0mx\u001b[0m\u001b[0;34m.\u001b[0m\u001b[0mtake\u001b[0m\u001b[0;34m(\u001b[0m\u001b[0migood\u001b[0m\u001b[0;34m,\u001b[0m \u001b[0maxis\u001b[0m\u001b[0;34m=\u001b[0m\u001b[0;36m0\u001b[0m\u001b[0;34m)\u001b[0m\u001b[0;34m\u001b[0m\u001b[0m\n\u001b[0m\u001b[1;32m   1877\u001b[0m     \u001b[0;32mfor\u001b[0m \u001b[0mi\u001b[0m\u001b[0;34m,\u001b[0m \u001b[0mx\u001b[0m \u001b[0;32min\u001b[0m \u001b[0menumerate\u001b[0m\u001b[0;34m(\u001b[0m\u001b[0mmargs\u001b[0m\u001b[0;34m)\u001b[0m\u001b[0;34m:\u001b[0m\u001b[0;34m\u001b[0m\u001b[0m\n\u001b[1;32m   1878\u001b[0m         \u001b[0;32mif\u001b[0m \u001b[0mseqlist\u001b[0m\u001b[0;34m[\u001b[0m\u001b[0mi\u001b[0m\u001b[0;34m]\u001b[0m \u001b[0;32mand\u001b[0m \u001b[0mma\u001b[0m\u001b[0;34m.\u001b[0m\u001b[0misMA\u001b[0m\u001b[0;34m(\u001b[0m\u001b[0mx\u001b[0m\u001b[0;34m)\u001b[0m\u001b[0;34m:\u001b[0m\u001b[0;34m\u001b[0m\u001b[0m\n",
      "\u001b[0;32m/astromake/opt/python/anaconda3/lib/python3.6/site-packages/numpy/ma/core.py\u001b[0m in \u001b[0;36mtake\u001b[0;34m(self, indices, axis, out, mode)\u001b[0m\n\u001b[1;32m   5678\u001b[0m                 \u001b[0moutmask\u001b[0m \u001b[0;34m=\u001b[0m \u001b[0m_mask\u001b[0m\u001b[0;34m.\u001b[0m\u001b[0mtake\u001b[0m\u001b[0;34m(\u001b[0m\u001b[0mindices\u001b[0m\u001b[0;34m,\u001b[0m \u001b[0maxis\u001b[0m\u001b[0;34m=\u001b[0m\u001b[0maxis\u001b[0m\u001b[0;34m,\u001b[0m \u001b[0mmode\u001b[0m\u001b[0;34m=\u001b[0m\u001b[0mmode\u001b[0m\u001b[0;34m)\u001b[0m\u001b[0;34m\u001b[0m\u001b[0m\n\u001b[1;32m   5679\u001b[0m                 \u001b[0moutmask\u001b[0m \u001b[0;34m|=\u001b[0m \u001b[0mmaskindices\u001b[0m\u001b[0;34m\u001b[0m\u001b[0m\n\u001b[0;32m-> 5680\u001b[0;31m             \u001b[0mout\u001b[0m\u001b[0;34m.\u001b[0m\u001b[0m__setmask__\u001b[0m\u001b[0;34m(\u001b[0m\u001b[0moutmask\u001b[0m\u001b[0;34m)\u001b[0m\u001b[0;34m\u001b[0m\u001b[0m\n\u001b[0m\u001b[1;32m   5681\u001b[0m         \u001b[0;31m# demote 0d arrays back to scalars, for consistency with ndarray.take\u001b[0m\u001b[0;34m\u001b[0m\u001b[0;34m\u001b[0m\u001b[0m\n\u001b[1;32m   5682\u001b[0m         \u001b[0;32mreturn\u001b[0m \u001b[0mout\u001b[0m\u001b[0;34m[\u001b[0m\u001b[0;34m(\u001b[0m\u001b[0;34m)\u001b[0m\u001b[0;34m]\u001b[0m\u001b[0;34m\u001b[0m\u001b[0m\n",
      "\u001b[0;32m/astromake/opt/python/anaconda3/lib/python3.6/site-packages/numpy/ma/core.py\u001b[0m in \u001b[0;36m__setmask__\u001b[0;34m(self, mask, copy)\u001b[0m\n\u001b[1;32m   3369\u001b[0m             \u001b[0;31m# No named fields.\u001b[0m\u001b[0;34m\u001b[0m\u001b[0;34m\u001b[0m\u001b[0m\n\u001b[1;32m   3370\u001b[0m             \u001b[0;31m# Hardmask: don't unmask the data\u001b[0m\u001b[0;34m\u001b[0m\u001b[0;34m\u001b[0m\u001b[0m\n\u001b[0;32m-> 3371\u001b[0;31m             \u001b[0;32mif\u001b[0m \u001b[0mself\u001b[0m\u001b[0;34m.\u001b[0m\u001b[0m_hardmask\u001b[0m\u001b[0;34m:\u001b[0m\u001b[0;34m\u001b[0m\u001b[0m\n\u001b[0m\u001b[1;32m   3372\u001b[0m                 \u001b[0mcurrent_mask\u001b[0m \u001b[0;34m|=\u001b[0m \u001b[0mmask\u001b[0m\u001b[0;34m\u001b[0m\u001b[0m\n\u001b[1;32m   3373\u001b[0m             \u001b[0;31m# Softmask: set everything to False\u001b[0m\u001b[0;34m\u001b[0m\u001b[0;34m\u001b[0m\u001b[0m\n",
      "\u001b[0;31mAttributeError\u001b[0m: 'MaskedConstant' object has no attribute '_hardmask'"
     ]
    },
    {
     "data": {
      "image/png": "[encoded data removed]",
      "text/plain": [
       "<matplotlib.figure.Figure at 0x7f716f478160>"
      ]
     },
     "metadata": {},
     "output_type": "display_data"
    }
   ],
   "source": [
    "#Plot H-R diagram \n",
    "G_J = ma.array([])\n",
    "G_J = Abs_Gmags-Abs_Jmags \n",
    "for i in range(len(G_J)):\n",
    "    plt.scatter(Teff[i],G_J[i])"
   ]
  },
  {
   "cell_type": "code",
   "execution_count": null,
   "metadata": {
    "collapsed": true
   },
   "outputs": [],
   "source": []
  }
 ],
 "metadata": {
  "kernelspec": {
   "display_name": "Python 3",
   "language": "python",
   "name": "python3"
  },
  "language_info": {
   "codemirror_mode": {
    "name": "ipython",
    "version": 3
   },
   "file_extension": ".py",
   "mimetype": "text/x-python",
   "name": "python",
   "nbconvert_exporter": "python",
   "pygments_lexer": "ipython3",
   "version": "3.6.1"
  }
 },
 "nbformat": 4,
 "nbformat_minor": 2
}
