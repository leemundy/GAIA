{
 "cells": [
  {
   "cell_type": "code",
   "execution_count": 1,
   "metadata": {
    "collapsed": true
   },
   "outputs": [],
   "source": [
    "%matplotlib inline\n",
    "import numpy as np\n",
    "import numpy.ma as ma\n",
    "import matplotlib.pyplot as plt\n",
    "import math"
   ]
  },
  {
   "cell_type": "code",
   "execution_count": 2,
   "metadata": {},
   "outputs": [
    {
     "name": "stderr",
     "output_type": "stream",
     "text": [
      "WARNING: W03: ../../ijoncour/StandCat/Tgas200_Wright2003_2MASS_FinCat.vot:26:0: W03: Implicitly generating an ID from a name '<FG>' -> '__FG_' [astropy.io.votable.xmlutil]\n",
      "WARNING: W50: ../../ijoncour/StandCat/Tgas200_Wright2003_2MASS_FinCat.vot:26:0: W50: Invalid unit string 'e-/s' [astropy.io.votable.tree]\n",
      "WARNING: W03: ../../ijoncour/StandCat/Tgas200_Wright2003_2MASS_FinCat.vot:27:0: W03: Implicitly generating an ID from a name 'e_<FG>' -> 'e__FG_' [astropy.io.votable.xmlutil]\n",
      "WARNING: W50: ../../ijoncour/StandCat/Tgas200_Wright2003_2MASS_FinCat.vot:27:0: W50: Invalid unit string 'e-/s' [astropy.io.votable.tree]\n",
      "WARNING: W03: ../../ijoncour/StandCat/Tgas200_Wright2003_2MASS_FinCat.vot:28:0: W03: Implicitly generating an ID from a name '<Gmag>' -> '__Gmag_' [astropy.io.votable.xmlutil]\n",
      "WARNING: W03: ../../ijoncour/StandCat/Tgas200_Wright2003_2MASS_FinCat.vot:44:0: W03: Implicitly generating an ID from a name '2MASS' -> '_2MASS' [astropy.io.votable.xmlutil]\n",
      "WARNING: W32: ../../ijoncour/StandCat/Tgas200_Wright2003_2MASS_FinCat.vot:9:0: W32: Duplicate ID 'd_arcsec' renamed to 'd_arcsec_2' to ensure uniqueness [astropy.io.votable.tree]\n",
      "WARNING: W32: ../../ijoncour/StandCat/Tgas200_Wright2003_2MASS_FinCat.vot:30:0: W32: Duplicate ID '_RAJ2000' renamed to '_RAJ2000_2' to ensure uniqueness [astropy.io.votable.tree]\n",
      "WARNING: W32: ../../ijoncour/StandCat/Tgas200_Wright2003_2MASS_FinCat.vot:31:0: W32: Duplicate ID '_DEJ2000' renamed to '_DEJ2000_2' to ensure uniqueness [astropy.io.votable.tree]\n",
      "WARNING: W32: ../../ijoncour/StandCat/Tgas200_Wright2003_2MASS_FinCat.vot:33:0: W32: Duplicate ID 'TYC2' renamed to 'TYC2_2' to ensure uniqueness [astropy.io.votable.tree]\n",
      "WARNING: W32: ../../ijoncour/StandCat/Tgas200_Wright2003_2MASS_FinCat.vot:45:0: W32: Duplicate ID 'RAJ2000' renamed to 'RAJ2000_2' to ensure uniqueness [astropy.io.votable.tree]\n",
      "WARNING: W32: ../../ijoncour/StandCat/Tgas200_Wright2003_2MASS_FinCat.vot:46:0: W32: Duplicate ID 'DEJ2000' renamed to 'DEJ2000_2' to ensure uniqueness [astropy.io.votable.tree]\n",
      "WARNING: W33: ../../ijoncour/StandCat/Tgas200_Wright2003_2MASS_FinCat.vot:9:0: W33: Column name 'd_arcsec' renamed to 'd_arcsec 2' to ensure uniqueness [astropy.io.votable.tree]\n",
      "WARNING: W33: ../../ijoncour/StandCat/Tgas200_Wright2003_2MASS_FinCat.vot:30:0: W33: Column name '_RAJ2000' renamed to '_RAJ2000 2' to ensure uniqueness [astropy.io.votable.tree]\n",
      "WARNING: W33: ../../ijoncour/StandCat/Tgas200_Wright2003_2MASS_FinCat.vot:31:0: W33: Column name '_DEJ2000' renamed to '_DEJ2000 2' to ensure uniqueness [astropy.io.votable.tree]\n",
      "WARNING: W33: ../../ijoncour/StandCat/Tgas200_Wright2003_2MASS_FinCat.vot:33:0: W33: Column name 'TYC2' renamed to 'TYC2 2' to ensure uniqueness [astropy.io.votable.tree]\n",
      "WARNING: W33: ../../ijoncour/StandCat/Tgas200_Wright2003_2MASS_FinCat.vot:45:0: W33: Column name 'RAJ2000' renamed to 'RAJ2000 2' to ensure uniqueness [astropy.io.votable.tree]\n",
      "WARNING: W33: ../../ijoncour/StandCat/Tgas200_Wright2003_2MASS_FinCat.vot:46:0: W33: Column name 'DEJ2000' renamed to 'DEJ2000 2' to ensure uniqueness [astropy.io.votable.tree]\n",
      "WARNING: W49: ../../ijoncour/StandCat/Tgas200_Wright2003_2MASS_FinCat.vot:62:77: W49: Empty cell illegal for integer fields. [astropy.io.votable.converters]\n",
      "WARNING: W49: ../../ijoncour/StandCat/Tgas200_Wright2003_2MASS_FinCat.vot:63:76: W49: Empty cell illegal for integer fields. [astropy.io.votable.converters]\n",
      "WARNING: W49: ../../ijoncour/StandCat/Tgas200_Wright2003_2MASS_FinCat.vot:64:78: W49: Empty cell illegal for integer fields. [astropy.io.votable.converters]\n",
      "WARNING: W49: ../../ijoncour/StandCat/Tgas200_Wright2003_2MASS_FinCat.vot:67:76: W49: Empty cell illegal for integer fields. [astropy.io.votable.converters]\n",
      "WARNING: W49: ../../ijoncour/StandCat/Tgas200_Wright2003_2MASS_FinCat.vot:68:78: W49: Empty cell illegal for integer fields. [astropy.io.votable.converters]\n",
      "WARNING: W49: ../../ijoncour/StandCat/Tgas200_Wright2003_2MASS_FinCat.vot:69:77: W49: Empty cell illegal for integer fields. [astropy.io.votable.converters]\n",
      "WARNING: W49: ../../ijoncour/StandCat/Tgas200_Wright2003_2MASS_FinCat.vot:71:76: W49: Empty cell illegal for integer fields. [astropy.io.votable.converters]\n",
      "WARNING: W49: ../../ijoncour/StandCat/Tgas200_Wright2003_2MASS_FinCat.vot:72:76: W49: Empty cell illegal for integer fields. [astropy.io.votable.converters]\n",
      "WARNING: W49: ../../ijoncour/StandCat/Tgas200_Wright2003_2MASS_FinCat.vot:74:77: W49: Empty cell illegal for integer fields. [astropy.io.votable.converters]\n",
      "WARNING: W49: ../../ijoncour/StandCat/Tgas200_Wright2003_2MASS_FinCat.vot:78:76: W49: Empty cell illegal for integer fields. (suppressing further warnings of this type...) [astropy.io.votable.converters]\n"
     ]
    }
   ],
   "source": [
    "from astropy.table import Table\n",
    "t = Table.read('../../ijoncour/StandCat/Tgas200_Wright2003_2MASS_FinCat.vot', format='votable')"
   ]
  },
  {
   "cell_type": "code",
   "execution_count": 3,
   "metadata": {},
   "outputs": [
    {
     "name": "stdout",
     "output_type": "stream",
     "text": [
      "The astropy reader loads the data into the following variable names:\n",
      "['d_arcsec', 'd_arcsec_2', '_RAJ2000', '_DEJ2000', 'HIP', 'TYC2', 'Source', 'RA_ICRS', 'e_RA_ICRS', 'DE_ICRS', 'e_DE_ICRS', 'Plx', 'e_Plx', 'pmRA', 'e_pmRA', 'pmDE', 'e_pmDE', 'Dup', '__FG_', 'e__FG_', '__Gmag_', 'Var', '_RAJ2000_2', '_DEJ2000_2', 'TYC1', 'TYC2_2', 'TYC3', 'RAJ2000', 'DEJ2000', 'VTmag', 'BTmag', 'r_SpType', 'Dist', 'Teff', 'SpType', '_2MASS', 'RAJ2000_2', 'DEJ2000_2', 'errHalfMaj', 'errHalfMin', 'errPosAng', 'Jmag', 'Hmag', 'Kmag', 'e_Jmag', 'e_Hmag', 'e_Kmag', 'Qfl', 'Rfl', 'X', 'MeasureJD']\n"
     ]
    }
   ],
   "source": [
    "print(\"The astropy reader loads the data into the following variable names:\")\n",
    "print(t.colnames)"
   ]
  },
  {
   "cell_type": "code",
   "execution_count": 4,
   "metadata": {
    "collapsed": true
   },
   "outputs": [],
   "source": [
    "#Rename columns\n",
    "Source = t[\"Source\"]\n",
    "Gmag = t[\"__Gmag_\"]\n",
    "Vmag = t[\"VTmag\"]\n",
    "Bmag = t[\"BTmag\"]\n",
    "Jmag = t[\"Jmag\"]\n",
    "Hmag = t[\"Hmag\"]\n",
    "Kmag = t[\"Kmag\"]\n",
    "QFlags = t[\"Qfl\"]\n",
    "DistW = t[\"Dist\"]\n",
    "s1= t[\"d_arcsec\"]\n",
    "s2 = t[\"d_arcsec_2\"]\n",
    "plx = t['Plx']\n",
    "Teff = t['Teff']\n",
    "e_Jmag = t['e_Jmag']\n",
    "e_Kmag = t['e_Kmag']\n",
    "e_Hmag = t['e_Hmag']\n",
    "SpType = t[\"SpType\"]\n",
    "dup = t['Dup']"
   ]
  },
  {
   "cell_type": "code",
   "execution_count": 5,
   "metadata": {
    "collapsed": true
   },
   "outputs": [],
   "source": [
    "#calculate distance and absolute magnitudes and plot color index vs. absolute g magnitude for different luminosity classes\n",
    "Dist = 1000./t[\"Plx\"]\n",
    "Vmags = t['VTmag'] - 5 * np.log10(Dist) + 5\n",
    "Bmags = t['BTmag'] - 5 * np.log10(Dist) + 5\n",
    "Gmags = t['__Gmag_'] - 5 * np.log10(Dist) + 5\n",
    "Jmags = t['Jmag'] -5 * np.log10(Dist) + 5\n",
    "Hmags = t['Hmag'] - 5 * np.log10(Dist) + 5\n",
    "Kmags = t['Kmag'] - 5 * np.log10(Dist) + 5"
   ]
  },
  {
   "cell_type": "code",
   "execution_count": 6,
   "metadata": {},
   "outputs": [],
   "source": [
    "# mask all data that does not have a Qfl value of A\n",
    "\n",
    "for i in range(0,len(QFlags)):\n",
    "    if(QFlags[i][0] == ord(\"A\")):\n",
    "        Jmag.mask[i] = False\n",
    "    else:\n",
    "         Jmag.mask[i] = True\n",
    "            \n",
    "for i in range(0,len(QFlags)):\n",
    "    if(QFlags[i][2] == ord(\"A\")):\n",
    "        Kmag.mask[i] = False\n",
    "    else:\n",
    "        Kmag.mask[i] = True  \n",
    "        \n",
    "for i in range(0,len(QFlags)):\n",
    "    if(QFlags[i][1] == ord(\"A\")):\n",
    "        Hmag.mask[i] = False\n",
    "    else:\n",
    "        Hmag.mask[i] = True  "
   ]
  },
  {
   "cell_type": "code",
   "execution_count": 7,
   "metadata": {},
   "outputs": [
    {
     "name": "stdout",
     "output_type": "stream",
     "text": [
      " Masked  25429  rows in which dup is equal to 1\n"
     ]
    }
   ],
   "source": [
    "#mask all values with dup = 1\n",
    "imask = 0\n",
    "for i in range(0,len(dup)):\n",
    "    if (dup[i] > 0.5):\n",
    "        imask = imask + 1\n",
    "        row = t[i]\n",
    "        idx = row._index\n",
    "        cols = row._table.columns.values()\n",
    "        for col in cols:\n",
    "            col.mask[i] = True\n",
    "for i in range(0,len(dup)):\n",
    "    if(dup[i] > 0.5):\n",
    "        print(i,dup[i])\n",
    "print(\" Masked \",imask,\" rows in which dup is equal to 1\")"
   ]
  },
  {
   "cell_type": "code",
   "execution_count": 8,
   "metadata": {},
   "outputs": [
    {
     "name": "stdout",
     "output_type": "stream",
     "text": [
      "GAIA Duplicate Source:  6726788842835559552\n",
      "GAIA Duplicate Source:  5140648418166947328\n",
      "GAIA Duplicate Source:  2520020864918288896\n",
      "GAIA Duplicate Source:  5959478126358758016\n",
      "GAIA Duplicate Source:  6668487925962916480\n",
      "GAIA Duplicate Source:  1214512606941823360\n",
      "GAIA Duplicate Source:  4097002323363211776\n",
      "GAIA Duplicate Source:  5769091159655753856\n",
      "GAIA Duplicate Source:  6790250970359184768\n",
      "GAIA Duplicate Source:  5123327399177495808\n",
      "GAIA Duplicate Source:  6785793275342096256\n",
      "GAIA Duplicate Source:  2498832038900176000\n",
      "GAIA Duplicate Source:  5324415053561705216\n",
      "GAIA Duplicate Source:  2067478096721765376\n",
      "GAIA Duplicate Source:  4785096491234658304\n",
      "GAIA Duplicate Source:  5447076227156166528\n",
      "GAIA Duplicate Source:  6054493694983536384\n",
      "GAIA Duplicate Source:  5133580860502607104\n",
      "GAIA Duplicate Source:  452193638896601088\n",
      "GAIA Duplicate Source:  1837550183626334848\n",
      "GAIA Duplicate Source:  3248442439236776960\n",
      "GAIA Duplicate Source:  4392970203357519360\n",
      "GAIA Duplicate Source:  5675318107888596608\n",
      "GAIA Duplicate Source:  6657758169946168576\n",
      "GAIA Duplicate Source:  3153870076878137600\n",
      "GAIA Duplicate Source:  4340260028239519232\n",
      "GAIA Duplicate Source:  2389294498652881536\n",
      "GAIA Duplicate Source:  5045205139519618816\n",
      "GAIA Duplicate Source:  2125511797904547840\n",
      "GAIA Duplicate Source:  6652593488951220864\n",
      "GAIA Duplicate Source:  6655327390255709824\n",
      "GAIA Duplicate Source:  6284251389929712128\n",
      "GAIA Duplicate Source:  5715484195366203904\n",
      "GAIA Duplicate Source:  4102312174253539584\n",
      "GAIA Duplicate Source:  3255252986058161408\n",
      "GAIA Duplicate Source:  2398194667322958976\n",
      "GAIA Duplicate Source:  6344759267153056128\n",
      "GAIA Duplicate Source:  6692161201584173184\n",
      "GAIA Duplicate Source:  350516782152418688\n",
      "GAIA Duplicate Source:  4304643067049623808\n",
      "GAIA Duplicate Source:  3912364874763753216\n",
      "GAIA Duplicate Source:  1414509064750524928\n",
      "GAIA Duplicate Source:  1770484097500579840\n",
      "GAIA Duplicate Source:  11528207618987776\n",
      "GAIA Duplicate Source:  1512962359559680\n",
      "GAIA Duplicate Source:  6608821072056229504\n",
      "GAIA Duplicate Source:  3874697290023399424\n",
      "GAIA Duplicate Source:  6619616420815047296\n",
      "GAIA Duplicate Source:  3863784911995419776\n",
      "GAIA Duplicate Source:  2755680429049643136\n",
      "GAIA Duplicate Source:  342510928752813184\n",
      "GAIA Duplicate Source:  3817842918140419968\n",
      "GAIA Duplicate Source:  5582652161253437312\n",
      "GAIA Duplicate Source:  2707233850786086144\n",
      "GAIA Duplicate Source:  3785073073586186112\n",
      "GAIA Duplicate Source:  628824718698962432\n",
      "GAIA Duplicate Source:  3416890094513036800\n",
      "GAIA Duplicate Source:  3416923423459867392\n",
      "GAIA Duplicate Source:  2028211581558734848\n",
      "GAIA Duplicate Source:  3428894253228690816\n",
      "GAIA Duplicate Source:  596820855791669376\n",
      "GAIA Duplicate Source:  6179370212707616256\n",
      "GAIA Duplicate Source:  6506475196847763712\n",
      "GAIA Duplicate Source:  4903815331530764672\n",
      "GAIA Duplicate Source:  6164768629571883520\n",
      "GAIA Duplicate Source:  4562514965086014976\n",
      "GAIA Duplicate Source:  3389026786238193152\n",
      "GAIA Duplicate Source:  4547093008831923968\n",
      "GAIA Duplicate Source:  5830541352703013760\n",
      "GAIA Duplicate Source:  5819883202381670272\n",
      "GAIA Duplicate Source:  6132630523167092736\n",
      "GAIA Duplicate Source:  6908358653989846912\n",
      "GAIA Duplicate Source:  6113353026316542464\n",
      "GAIA Duplicate Source:  4509228611513985152\n",
      "GAIA Duplicate Source:  2573940227949356416\n",
      "GAIA Duplicate Source:  6104771612937062784\n",
      "GAIA Duplicate Source:  5163910270279750272\n",
      "GAIA Duplicate Source:  4493709554640448512\n",
      "Finished GAIA Duplicate Check. Found:  78\n",
      "Finished masking all GAIA duplicates. All sources involved\n",
      "2MASS Duplicate Source:  b'20224375+1320260'\n",
      "2MASS Duplicate Source:  b'21453071+2156249'\n",
      "2MASS Duplicate Source:  b'06185319-3212053'\n",
      "2MASS Duplicate Source:  b'08135422-5222547'\n",
      "2MASS Duplicate Source:  b'05351451+3357454'\n",
      "2MASS Duplicate Source:  b'15290917-3248329'\n",
      "2MASS Duplicate Source:  b'03301382+7717357'\n",
      "2MASS Duplicate Source:  b'21045848-1105139'\n",
      "2MASS Duplicate Source:  b'21280133+4304426'\n",
      "Finished 2MASS Duplicate Check. Found:  9\n"
     ]
    }
   ],
   "source": [
    "#look at number of duplicate matches\n",
    "Test = Source.compressed()\n",
    "unique = set()\n",
    "Gdups = set()\n",
    "\n",
    "for i in range(0,len(Test)):\n",
    "    if(Test[i] in unique):\n",
    "        print(\"GAIA Duplicate Source: \",Test[i])\n",
    "        Gdups.add(Test[i])\n",
    "    else:\n",
    "        unique.add(Test[i])\n",
    "        last = Test[i]\n",
    "print(\"Finished GAIA Duplicate Check. Found: \", len(Gdups))\n",
    "\n",
    "for i in range(0,len(Source)):\n",
    "    if(Source.mask[i] == False):\n",
    "        Name = Source[i]\n",
    "        if(Name in Gdups):\n",
    "            row = t[i]\n",
    "            idx = row._index\n",
    "            cols = row._table.columns.values()\n",
    "            for col in cols:\n",
    "                col.mask[i] = True\n",
    "print(\"Finished masking all GAIA duplicates. All sources involved\")\n",
    "TwoM = t[\"_2MASS\"]\n",
    "unique = set()\n",
    "Tdups = set()\n",
    "Test = TwoM.compressed()\n",
    "for i in range(0,len(Test)):\n",
    "    if(Test[i] in unique):\n",
    "        print(\"2MASS Duplicate Source: \",Test[i])\n",
    "        Tdups.add(Test[i])\n",
    "    else:\n",
    "        unique.add(Test[i])\n",
    "        last = Test[i]\n",
    "print(\"Finished 2MASS Duplicate Check. Found: \", len(Tdups))\n",
    "\n",
    "for i in range(0,len(Source)):\n",
    "    if(Source.mask[i] == False):\n",
    "        Name = Source[i]\n",
    "        if(Name in Tdups):\n",
    "            print(Source[i],s1[i],s2[i],Gmag[i],Vmag[i]-Gmag[i],Jmag[i],Kmag[i],TwoM[i])"
   ]
  },
  {
   "cell_type": "code",
   "execution_count": 9,
   "metadata": {},
   "outputs": [
    {
     "data": {
      "image/png": "[encoded data removed]",
      "text/plain": [
       "<matplotlib.figure.Figure at 0x7f7abdd02128>"
      ]
     },
     "metadata": {},
     "output_type": "display_data"
    },
    {
     "name": "stdout",
     "output_type": "stream",
     "text": [
      "-0.863012770597\n",
      "0.281449081789\n"
     ]
    }
   ],
   "source": [
    "J_G = Jmag-Gmag\n",
    "plt.scatter(s1,J_G,s=2.0)\n",
    "plt.show()\n",
    "JGmean = np.mean(J_G)\n",
    "JGstd = np.std(J_G)\n",
    "print(JGmean)\n",
    "print(JGstd)"
   ]
  },
  {
   "cell_type": "code",
   "execution_count": 10,
   "metadata": {},
   "outputs": [
    {
     "name": "stdout",
     "output_type": "stream",
     "text": [
      " Masked  22  rows based on J-G color > 5 sigma from mean\n"
     ]
    },
    {
     "data": {
      "image/png": "[encoded data removed]",
      "text/plain": [
       "<matplotlib.figure.Figure at 0x7f7abde03ac8>"
      ]
     },
     "metadata": {},
     "output_type": "display_data"
    },
    {
     "name": "stdout",
     "output_type": "stream",
     "text": [
      "New sigma for J-G:  0.278367044353\n"
     ]
    }
   ],
   "source": [
    "#masked rows with J-G greater than 5 sigma from mean\n",
    "imask = 0\n",
    "for i in range(0,len(J_G)):\n",
    "    if(abs(J_G[i] - JGmean) > 5*JGstd):\n",
    "        imask = imask + 1\n",
    "        row = t[i]\n",
    "        idx = row._index\n",
    "        cols = row._table.columns.values()\n",
    "        for col in cols:\n",
    "            col.mask[i] = True\n",
    "print(\" Masked \",imask,\" rows based on J-G color > 5 sigma from mean\")\n",
    "J_G = Jmag - Gmag\n",
    "plt.xlabel(\"Distance of 2MASS to GAIA\")\n",
    "plt.ylabel(\" J - G magnitude\")\n",
    "plt.scatter(s1,J_G,s=2.0)\n",
    "plt.show()\n",
    "print(\"New sigma for J-G: \",np.std(J_G))"
   ]
  },
  {
   "cell_type": "code",
   "execution_count": 11,
   "metadata": {},
   "outputs": [
    {
     "name": "stdout",
     "output_type": "stream",
     "text": [
      "SpType\n",
      "------\n",
      "    K0\n",
      "    F0\n",
      "    --\n",
      "    --\n",
      "    --\n",
      "    --\n",
      "  A0 V\n",
      "    K0\n",
      "    --\n",
      "    --\n",
      "   ...\n",
      "    --\n",
      "  G5 V\n",
      "    --\n",
      "  K0 V\n",
      "  F2 V\n",
      "    AM\n",
      "    --\n",
      "  G5 V\n",
      "  F6 V\n",
      "  F8 V\n",
      "    --\n",
      "Length = 75753 rows\n"
     ]
    }
   ],
   "source": [
    "print(SpType)"
   ]
  },
  {
   "cell_type": "code",
   "execution_count": 12,
   "metadata": {},
   "outputs": [
    {
     "name": "stdout",
     "output_type": "stream",
     "text": [
      "Finished Luminosity Class Translation\n",
      "  Number of single Stars:  49718   Binaries or Unknown luminosity class:  428\n"
     ]
    }
   ],
   "source": [
    "#Translate Spectra Type luminosity class into a number from 1 to 5\n",
    "#or a negative number if it is a binary or unknown spectral type.\n",
    "#Note that many stars do not have a luminosity class. There are given 5.1.\n",
    "\n",
    "SpTypeN = [0.0]*len(SpType)\n",
    "for i in range(0,len(SpType)):\n",
    "    if(SpType.mask[i] == False):\n",
    "        SpT = SpType[i].decode()\n",
    "        if(len(SpT) > 2):\n",
    "            for j in range(0,len(SpT)):\n",
    "                if(SpT[j] == 'I'):\n",
    "                    SpTypeN[i] = SpTypeN[i] + 1\n",
    "                if(SpT[j] == 'V'):\n",
    "                    SpTypeN[i] = SpTypeN[i] + 5\n",
    "                if(SpT[j] == '+'):\n",
    "                    SpTypeN[i] = -20.\n",
    "                \n",
    "        else:\n",
    "            SpTypeN[i] = 5.1\n",
    "        \n",
    "        if(SpTypeN[i] == 6):\n",
    "            SpTypeN[i] = 4.\n",
    "        if(SpTypeN[i] == 11):\n",
    "            SpTypeN[i] = 4.5\n",
    "        if(SpTypeN[i] == 9):\n",
    "            SpTypeN[i] = 3.5\n",
    "        if(SpTypeN[i] > 5.2):\n",
    "            SpTypeN[i] = -30.\n",
    "print(\"Finished Luminosity Class Translation\")\n",
    "count = 0\n",
    "for i in range(0,len(SpType)):\n",
    "    if(SpTypeN[i] < 0.):\n",
    "        count = count + 1\n",
    "test = SpType.compressed()\n",
    "good = len(test) - count\n",
    "print(\"  Number of single Stars: \",good,\"  Binaries or Unknown luminosity class: \",count)"
   ]
  },
  {
   "cell_type": "code",
   "execution_count": 13,
   "metadata": {},
   "outputs": [
    {
     "name": "stdout",
     "output_type": "stream",
     "text": [
      "3500K : 8\n",
      "4000K : 88\n",
      "4500K : 296\n",
      "5000K : 452\n",
      "5500K : 4528\n",
      "6000K : 8407\n",
      "6500K : 3061\n",
      "7000K : 897\n",
      "7500K : 628\n",
      "8000K : 194\n",
      "8500K : 544\n",
      "9000K : 274\n",
      "9500K : 346\n",
      "10500K : 179\n",
      "[  3816.25         4267.27272727   4780.87837838   5191.28318584\n",
      "   5788.28180212   6316.05685738   6889.92812806   7201.1148272\n",
      "   7847.77070064   8194.32989691   8817.13235294   9224.19708029   9520.\n",
      "  10500.        ]\n",
      "[  3850.   4420.   4900.   5450.   5860.   6470.   6890.   7450.   7850.\n",
      "   8200.   8970.   9480.   9520.  10500.]\n",
      "[  3580.   4000.   4590.   5080.   5570.   6030.   6870.   7150.   7650.\n",
      "   8100.   8600.   9000.   9520.  10500.]\n",
      "[  89.29410675  143.63564442  114.12078152   81.80020653   96.32472367\n",
      "  174.87706937    1.19677616   19.00199992   20.9973831    23.12704564\n",
      "  127.74001681   41.7007657     0.            0.        ]\n"
     ]
    }
   ],
   "source": [
    "#Split class V stars into different temperature ranges and find avg, min, max, and standard deviation of each range\n",
    "temps = [3500,4000,4500,5000,5500,6000,6500,7000,7500,8000,8500,9000,9500,10500]\n",
    "temp_cat = np.zeros(len(Teff))\n",
    "tavg = []\n",
    "tmin = []\n",
    "tmax = []\n",
    "t_stdev = []\n",
    "for t1 in temps: \n",
    "    stars = 0\n",
    "    t2 = t1 + 500\n",
    "    temp_array = []\n",
    "    for i in range(len(Teff)):\n",
    "        if (SpTypeN[i] > 4.9 and SpTypeN[i] < 5.05):\n",
    "            if (Teff[i] >= t1 and Teff[i] < t2):\n",
    "                temp_cat[i] = t1\n",
    "                temp_array = np.append(temp_array, Teff[i])\n",
    "                stars = stars+1\n",
    "    tavg = np.append(tavg,np.mean(temp_array))\n",
    "    tmax = np.append(tmax,np.max(temp_array,axis =0))\n",
    "    tmin = np.append(tmin,np.min(temp_array,axis =0))\n",
    "    t_stdev = np.append(t_stdev,np.std(temp_array))\n",
    "    print(str(t1) + 'K : ' + str(stars))\n",
    "print(tavg)\n",
    "print(tmax)\n",
    "print(tmin)\n",
    "print(t_stdev)"
   ]
  },
  {
   "cell_type": "code",
   "execution_count": 14,
   "metadata": {},
   "outputs": [
    {
     "name": "stdout",
     "output_type": "stream",
     "text": [
      "19973\n",
      "19902\n",
      "71\n"
     ]
    }
   ],
   "source": [
    "#number of main sequence stars\n",
    "Vstars = 0\n",
    "for i in range(len(temp_cat)):\n",
    "    if (SpTypeN[i] > 4.9 and SpTypeN[i] < 5.05):\n",
    "        Vstars = Vstars +1\n",
    "print(Vstars)\n",
    "\n",
    "#number of stars assigned a temperature category (less than number of main sequence stars)\n",
    "Tstars = 0\n",
    "for i in range(len(temp_cat)):\n",
    "    if (temp_cat[i] != 0):\n",
    "        Tstars = Tstars +1\n",
    "print(Tstars)\n",
    "print(Vstars-Tstars)"
   ]
  },
  {
   "cell_type": "code",
   "execution_count": 15,
   "metadata": {},
   "outputs": [
    {
     "name": "stdout",
     "output_type": "stream",
     "text": [
      "Missing Stars: 71\n"
     ]
    }
   ],
   "source": [
    "missing_stars = 0\n",
    "for i in range(len(temp_cat)):\n",
    "    if (SpTypeN[i] > 4.9 and SpTypeN[i] < 5.05 and temp_cat[i] == 0):\n",
    "        missing_stars = missing_stars +1\n",
    "print('Missing Stars: '+ str(missing_stars))"
   ]
  },
  {
   "cell_type": "code",
   "execution_count": 16,
   "metadata": {},
   "outputs": [
    {
     "data": {
      "image/png": "[encoded data removed]",
      "text/plain": [
       "<matplotlib.figure.Figure at 0x7f7abdc6fc88>"
      ]
     },
     "metadata": {},
     "output_type": "display_data"
    }
   ],
   "source": [
    "#Absolute Magnitude SED\n",
    "wvl = [420, 532, 673, 1235, 1662, 2159]\n",
    "for t in temps: \n",
    "    G_array = ma.array([])\n",
    "    V_array = ma.array([])\n",
    "    B_array = ma.array([])\n",
    "    J_array = ma.array([])\n",
    "    H_array = ma.array([])\n",
    "    K_array = ma.array([])\n",
    "    for i in range(len(temp_cat)):\n",
    "        if (temp_cat[i] == t):\n",
    "            V_array = np.append(V_array,Vmags[i])\n",
    "            B_array = np.append(B_array,Bmags[i])\n",
    "            G_array = np.append(G_array,Gmags[i])\n",
    "            J_array = np.append(J_array,Jmags[i])\n",
    "            H_array = np.append(H_array,Hmags[i])\n",
    "            K_array = np.append(K_array,Kmags[i])\n",
    "    mag_array = [np.mean(B_array), np.mean(V_array), np.mean(G_array), \\\n",
    "                 np.mean(J_array), np.mean(H_array), np.mean(K_array)]\n",
    "    std_array = [np.std(B_array), np.std(V_array), np.std(G_array), \\\n",
    "                 np.std(J_array), np.std(H_array), np.std(K_array)]\n",
    "    #val = np.sqrt(len(B_array))\n",
    "    #std_array = std_array/val\n",
    "    #mag_array2 = [math.log10(np.mean(B_array)), math.log10(np.mean(V_array)), math.log10(np.mean(G_array)), \\\n",
    "    #             math.log10(np.mean(J_array)), math.log10(np.mean(H_array)), math.log10(np.mean(K_array))]\n",
    "    #std_array2 = [math.log10(np.std(B_array)), math.log10(np.std(V_array)), math.log10(np.std(G_array)), \\\n",
    "    #             math.log10(np.std(J_array)), math.log10(np.std(H_array)), math.log10(np.std(K_array))]\n",
    "    plt.errorbar(wvl, mag_array, yerr = std_array, linestyle = '-', marker = 'o')\n",
    "    plt.xlabel('Effective Wavelength (nm)')\n",
    "    plt.ylabel('Average Absolute Magnitude')\n",
    "    plt.title('SED')\n",
    "            \n",
    "            "
   ]
  },
  {
   "cell_type": "code",
   "execution_count": 17,
   "metadata": {},
   "outputs": [
    {
     "name": "stdout",
     "output_type": "stream",
     "text": [
      "[[  4.20000000e+02   5.32000000e+02   1.23500000e+03   1.66200000e+03\n",
      "    2.15900000e+03]\n",
      " [ -2.45775008e+00  -8.96874845e-01   1.90400010e+00   2.50075001e+00\n",
      "    2.72425002e+00]\n",
      " [ -2.07667052e+00  -6.80329594e-01   1.63598859e+00   2.21123858e+00\n",
      "    2.36824998e+00]\n",
      " [ -1.68739192e+00  -5.17175670e-01   1.40445269e+00   1.89586147e+00\n",
      "    2.02623308e+00]\n",
      " [ -1.37821239e+00  -3.99013311e-01   1.22947785e+00   1.63527433e+00\n",
      "    1.74561725e+00]\n",
      " [ -1.04408968e+00  -2.91732341e-01   1.01704217e+00   1.32352495e+00\n",
      "    1.40641651e+00]\n",
      " [ -7.96757107e-01  -2.24812775e-01   8.54931603e-01   1.08636731e+00\n",
      "    1.15540014e+00]\n",
      " [ -6.41742566e-01  -1.79386476e-01   7.36330279e-01   9.15006211e-01\n",
      "    9.78625938e-01]\n",
      " [ -5.37794860e-01  -1.45647710e-01   6.48527313e-01   7.87311043e-01\n",
      "    8.47177258e-01]\n",
      " [ -4.53511131e-01  -1.14331211e-01   5.74195870e-01   6.84867838e-01\n",
      "    7.46566892e-01]\n",
      " [ -3.24448394e-01  -6.86391408e-02   4.45484579e-01   5.09520651e-01\n",
      "    5.64984577e-01]\n",
      " [ -2.01134199e-01  -2.61176570e-02   3.27187510e-01   3.57036767e-01\n",
      "    4.03132347e-01]\n",
      " [ -1.32496340e-01  -9.91969561e-03   2.47700749e-01   2.60262761e-01\n",
      "    3.04383208e-01]\n",
      " [ -8.24797498e-02   1.89017285e-03   2.10043348e-01   2.07589596e-01\n",
      "    2.50684975e-01]\n",
      " [ -1.82402067e-02   1.77151025e-02   1.63363150e-01   1.49508396e-01\n",
      "    1.93530727e-01]]\n"
     ]
    },
    {
     "data": {
      "image/png": "[encoded data removed]",
      "text/plain": [
       "<matplotlib.figure.Figure at 0x7f7abc67b3c8>"
      ]
     },
     "metadata": {},
     "output_type": "display_data"
    }
   ],
   "source": [
    "#Relative Magnitude SED\n",
    "wvl2 = [420, 532, 1235, 1662, 2159]\n",
    "temp_mags = np.array(wvl2)\n",
    "temp_std = np.array(wvl2)\n",
    "for t in temps: \n",
    "    G_V_array = ma.array([])\n",
    "    G_B_array = ma.array([])\n",
    "    G_J_array = ma.array([])\n",
    "    G_H_array = ma.array([])\n",
    "    G_K_array = ma.array([])\n",
    "    for i in range(len(temp_cat)):\n",
    "        if (temp_cat[i] == t):\n",
    "            G_V_array = np.append(G_V_array,Gmags[i]-Vmags[i])\n",
    "            G_B_array = np.append(G_B_array,Gmags[i]-Bmags[i])\n",
    "            G_J_array = np.append(G_J_array,Gmags[i]-Jmags[i])\n",
    "            G_H_array = np.append(G_H_array,Gmags[i]-Hmags[i])\n",
    "            G_K_array = np.append(G_K_array,Gmags[i]-Kmags[i])\n",
    "    mag_array = [np.mean(G_B_array), np.mean(G_V_array), np.mean(G_J_array), np.mean(G_H_array), np.mean(G_K_array)]\n",
    "    std_array = [np.std(G_B_array), np.std(G_V_array), np.std(G_J_array), np.std(G_H_array), np.std(G_K_array)]\n",
    "    #val = np.sqrt(len(G_B_array))\n",
    "    #std_array = std_array/val\n",
    "    temp_mags = np.vstack((temp_mags,mag_array))\n",
    "    temp_std = np.vstack((temp_std,std_array))\n",
    "    plt.errorbar(wvl2, mag_array, yerr = std_array, linestyle = '-', marker = 'o')\n",
    "    plt.xlabel('Effective Wavelength (nm)')\n",
    "    plt.ylabel('Average Magnitude Relative to G ')\n",
    "    plt.title('Relative SED')\n",
    "print(temp_mags)"
   ]
  },
  {
   "cell_type": "code",
   "execution_count": 18,
   "metadata": {},
   "outputs": [
    {
     "name": "stdout",
     "output_type": "stream",
     "text": [
      "[ 0.          0.          0.         ...,  0.55478512  1.85036735  0.        ]\n",
      "[    0.     0.     0. ...,  6000.  6000.     0.]\n",
      "19892\n"
     ]
    }
   ],
   "source": [
    "#test templates\n",
    "stars_tested = 0\n",
    "#array of minimum chi^2 for each star \n",
    "chi_mins = np.zeros(len(Teff))\n",
    "#array of temperature template with best fit\n",
    "best_fit_temp = np.zeros(len(Teff))\n",
    "[row,col] = temp_mags.shape\n",
    "for i in range(len(Teff)):\n",
    "        #only class V stars that have a temperature category assigned\n",
    "        if (temp_cat[i] != 0 and Gmags.mask[i] != True and Bmags.mask[i] != True and Vmags.mask[i] != True \\\n",
    "            and Jmags.mask[i] != True and Hmags.mask[i] != True and Kmags.mask[i] != True):\n",
    "            #calculate each color index for each star\n",
    "            stars_tested = stars_tested+1\n",
    "            G_B_val = Gmags[i]-Bmags[i]\n",
    "            G_V_val = Gmags[i]-Vmags[i]\n",
    "            G_J_val = Gmags[i]-Jmags[i]\n",
    "            G_H_val = Gmags[i]-Hmags[i]\n",
    "            G_K_val = Gmags[i]-Kmags[i]\n",
    "            #array of color indices\n",
    "            vals = [G_B_val, G_V_val, G_J_val, G_H_val, G_K_val]\n",
    "            #large value for chi min\n",
    "            chi_min = 1e100\n",
    "            #for each temperature template calculate chi^2\n",
    "            for j in range(1,row): \n",
    "                chi_val = 0\n",
    "                #calculates chi^2 for each color index and adds to chi^2 val\n",
    "                for k in range(len(vals)):\n",
    "                    #chi_val = chi_val+ math.pow(((vals[k]-temp_mags[j,k])/0.1),2)\n",
    "                    chi_val = chi_val+ math.pow(((vals[k]-temp_mags[j,k])/temp_std[j,k]),2)\n",
    "                #if chi^2 val is smallest add chi^2 value and temperature template category to array\n",
    "                if (chi_val < chi_min):\n",
    "                    chi_min = chi_val\n",
    "                    chi_mins[i] = chi_val\n",
    "                    best_fit_temp[i] = temps[j-1]\n",
    "print(chi_mins)\n",
    "print(best_fit_temp)\n",
    "print(stars_tested)"
   ]
  },
  {
   "cell_type": "code",
   "execution_count": 19,
   "metadata": {},
   "outputs": [
    {
     "name": "stdout",
     "output_type": "stream",
     "text": [
      "11906\n",
      "7996\n",
      "19902\n"
     ]
    }
   ],
   "source": [
    "#determine how many template fits are good\n",
    "good_fit_num = 0\n",
    "bad_fit_num = 0\n",
    "for i in range(len(Teff)):\n",
    "    if (SpTypeN[i] > 4.9 and SpTypeN[i] < 5.05 and temp_cat[i] != 0):\n",
    "        if (best_fit_temp[i] == temp_cat[i]):\n",
    "            good_fit_num = good_fit_num +1\n",
    "        else:\n",
    "            bad_fit_num = bad_fit_num+1\n",
    "print(good_fit_num)\n",
    "print(bad_fit_num)\n",
    "print(good_fit_num+bad_fit_num)"
   ]
  },
  {
   "cell_type": "code",
   "execution_count": 20,
   "metadata": {
    "scrolled": true
   },
   "outputs": [
    {
     "name": "stdout",
     "output_type": "stream",
     "text": [
      "(19892,)\n",
      "264.408807561\n",
      "452.140525806\n"
     ]
    }
   ],
   "source": [
    "#find difference between actual temperature and template\n",
    "temp_diff = np.array([])\n",
    "for i in range(len(Teff)):\n",
    "    if (best_fit_temp[i] !=0):\n",
    "        temp_diff = np.append(temp_diff,Teff[i] - best_fit_temp[i])\n",
    "print(temp_diff.shape)\n",
    "print(np.mean(temp_diff))\n",
    "print(np.std(temp_diff))"
   ]
  },
  {
   "cell_type": "code",
   "execution_count": 21,
   "metadata": {},
   "outputs": [
    {
     "data": {
      "text/plain": [
       "(array([  1.30000000e+01,   4.00000000e+00,   1.69000000e+02,\n",
       "          1.10100000e+03,   1.68070000e+04,   1.63300000e+03,\n",
       "          1.20000000e+02,   3.00000000e+01,   1.00000000e+01,\n",
       "          5.00000000e+00]),\n",
       " array([-4060., -3104., -2148., -1192.,  -236.,   720.,  1676.,  2632.,\n",
       "         3588.,  4544.,  5500.]),\n",
       " <a list of 10 Patch objects>)"
      ]
     },
     "execution_count": 21,
     "metadata": {},
     "output_type": "execute_result"
    },
    {
     "data": {
      "image/png": "[encoded data removed]",
      "text/plain": [
       "<matplotlib.figure.Figure at 0x7f7ab9f04d68>"
      ]
     },
     "metadata": {},
     "output_type": "display_data"
    }
   ],
   "source": [
    "#plot histogram of difference between actual temperature and template \n",
    "plt.hist(temp_diff, range = [min(temp_diff),max(temp_diff)])"
   ]
  },
  {
   "cell_type": "code",
   "execution_count": null,
   "metadata": {
    "collapsed": true
   },
   "outputs": [],
   "source": []
  }
 ],
 "metadata": {
  "kernelspec": {
   "display_name": "Python 3",
   "language": "python",
   "name": "python3"
  },
  "language_info": {
   "codemirror_mode": {
    "name": "ipython",
    "version": 3
   },
   "file_extension": ".py",
   "mimetype": "text/x-python",
   "name": "python",
   "nbconvert_exporter": "python",
   "pygments_lexer": "ipython3",
   "version": "3.6.1"
  }
 },
 "nbformat": 4,
 "nbformat_minor": 2
}
