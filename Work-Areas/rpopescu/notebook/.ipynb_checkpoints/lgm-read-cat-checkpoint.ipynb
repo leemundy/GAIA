{
 "cells": [
  {
   "cell_type": "markdown",
   "metadata": {},
   "source": [
    "# Reading an ASCII Catalog file"
   ]
  },
  {
   "cell_type": "markdown",
   "metadata": {},
   "source": [
    "In order to do inline plotting within a notebook, ipython needs a magic command, commands that start with the %"
   ]
  },
  {
   "cell_type": "code",
   "execution_count": 1,
   "metadata": {},
   "outputs": [
    {
     "name": "stderr",
     "output_type": "stream",
     "text": [
      "/astromake/opt/python/anaconda3/lib/python3.6/site-packages/matplotlib/font_manager.py:280: UserWarning: Matplotlib is building the font cache using fc-list. This may take a moment.\n",
      "  'Matplotlib is building the font cache using fc-list. '\n"
     ]
    }
   ],
   "source": [
    "%matplotlib inline"
   ]
  },
  {
   "cell_type": "markdown",
   "metadata": {},
   "source": [
    "Importing some modules (libraries) and giving them short names such as **np** and **plt**. You will find that most users will use these common ones."
   ]
  },
  {
   "cell_type": "code",
   "execution_count": 2,
   "metadata": {
    "collapsed": true
   },
   "outputs": [],
   "source": [
    "import numpy as np\n",
    "import matplotlib.pyplot as plt"
   ]
  },
  {
   "cell_type": "markdown",
   "metadata": {},
   "source": [
    "## Simple example of opening a file, read lines using columns to separate each cell, then any cell can be put into a variable\n",
    "\n",
    "This assumes that each line is a separate source and the entries on the line are space separated. In this case, we are reading one line at a time and printing out information on that line. The data for a line are not saved anywhere for later access. At the end \"line\" and \"name\" contain only the last values read."
   ]
  },
  {
   "cell_type": "code",
   "execution_count": null,
   "metadata": {
    "collapsed": true
   },
   "outputs": [],
   "source": [
    "fdata = open('junk.txt', 'r')\n",
    "for line in fdata:\n",
    "    print(repr(line))\n",
    "    line = line.strip()\n",
    "    columns = line.split()\n",
    "    name = columns[0]\n",
    "    print(\"NAME = \",name)"
   ]
  },
  {
   "cell_type": "markdown",
   "metadata": {},
   "source": [
    "## Now lets use astropy table reader... because it is easier..\n",
    "\n",
    "A file with the extension .tbl is an ipac table type. astropy knows this format, as well as many other formats. It reads the file into a structure \"t\". Nice work astropy people!"
   ]
  },
  {
   "cell_type": "code",
   "execution_count": null,
   "metadata": {
    "collapsed": true
   },
   "outputs": [],
   "source": [
    "from astropy.table import Table\n",
    "t = Table.read('junk.tbl', format='ascii.ipac')\n",
    "\n",
    "print(t)\n",
    "\n"
   ]
  },
  {
   "cell_type": "markdown",
   "metadata": {},
   "source": [
    "## Access to values within the table...\n",
    "\n",
    "Astropy reads both the header information and the ascii column information. The data in the columns of the table go into the structure with labels corresponding to the column header title... for example"
   ]
  },
  {
   "cell_type": "code",
   "execution_count": null,
   "metadata": {
    "collapsed": true
   },
   "outputs": [],
   "source": [
    "print(\"The astropy reader loads the data into the following variable names:\")\n",
    "print(t.colnames)"
   ]
  },
  {
   "cell_type": "markdown",
   "metadata": {},
   "source": [
    "## so you can access, for example, the parallax, or phot_g_mean_mag"
   ]
  },
  {
   "cell_type": "code",
   "execution_count": null,
   "metadata": {
    "collapsed": true
   },
   "outputs": [],
   "source": [
    "print(t[\"source_id\",\"parallax\",\"phot_g_mean_mag\"])"
   ]
  },
  {
   "cell_type": "markdown",
   "metadata": {},
   "source": [
    "## So now lets load in a larger table so we can make some interesting plots\n",
    "\n",
    "This is a GAIA table for a 5 arcmin radius region around RA=18:30 Dec=1:15. It has 84 entries."
   ]
  },
  {
   "cell_type": "code",
   "execution_count": null,
   "metadata": {
    "collapsed": true
   },
   "outputs": [],
   "source": [
    "tfull = Table.read('junk-full.tbl', format='ascii.ipac')\n",
    "mags = tfull[\"phot_g_mean_mag\"]\n",
    "\n",
    "print(mags)\n",
    "bins = 15\n",
    "plt.xlabel('g-band magnitude')\n",
    "plt.ylabel('Number of Stars in Bin')\n",
    "plt.title('Histogram of Source Magnitudes')\n",
    "plmags=plt.hist(mags,bins)\n",
    "plt.show()\n",
    "\n",
    "xpos = tfull[\"ra\"]\n",
    "ypos = tfull[\"dec\"]\n",
    "plt.xlabel('RA J2000 (degrees)')\n",
    "plt.ylabel('Decl J2000 (degrees)')\n",
    "plt.title('Locations of Sources on Sky')\n",
    "plt.scatter(xpos,ypos,s=20.0,c='r')\n",
    "plt.show()"
   ]
  }
 ],
 "metadata": {
  "anaconda-cloud": {},
  "kernelspec": {
   "display_name": "Python 3",
   "language": "python",
   "name": "python3"
  },
  "language_info": {
   "codemirror_mode": {
    "name": "ipython",
    "version": 3
   },
   "file_extension": ".py",
   "mimetype": "text/x-python",
   "name": "python",
   "nbconvert_exporter": "python",
   "pygments_lexer": "ipython3",
   "version": "3.6.1"
  }
 },
 "nbformat": 4,
 "nbformat_minor": 1
}
