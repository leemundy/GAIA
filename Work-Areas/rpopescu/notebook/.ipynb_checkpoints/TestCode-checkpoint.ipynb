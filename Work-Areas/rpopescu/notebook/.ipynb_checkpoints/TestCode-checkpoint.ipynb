{
 "cells": [
  {
   "cell_type": "code",
   "execution_count": 2,
   "metadata": {
    "collapsed": true
   },
   "outputs": [],
   "source": [
    "%matplotlib inline\n",
    "import numpy as np\n",
    "import numpy.ma as ma\n",
    "import matplotlib.pyplot as plt\n",
    "import math\n",
    "from astropy.table import Table"
   ]
  },
  {
   "cell_type": "code",
   "execution_count": 42,
   "metadata": {
    "collapsed": true
   },
   "outputs": [],
   "source": [
    "a = [1,2,3,4,5,6,7,8,9,10]\n",
    "b = [2.0,5.0,8.2,5.5,7.9,9.2,4.2,3.1,2.3,1.5]\n",
    "t = Table([a, b], names=('a', 'b'), masked = True,meta={'name': 'first table'})"
   ]
  },
  {
   "cell_type": "code",
   "execution_count": 43,
   "metadata": {},
   "outputs": [
    {
     "data": {
      "text/html": [
       "&lt;Table masked=True length=10&gt;\n",
       "<table id=\"table139695492322248\" class=\"table-striped table-bordered table-condensed\">\n",
       "<thead><tr><th>a</th><th>b</th></tr></thead>\n",
       "<thead><tr><th>int64</th><th>float64</th></tr></thead>\n",
       "<tr><td>1</td><td>2.0</td></tr>\n",
       "<tr><td>2</td><td>5.0</td></tr>\n",
       "<tr><td>3</td><td>8.2</td></tr>\n",
       "<tr><td>4</td><td>5.5</td></tr>\n",
       "<tr><td>5</td><td>7.9</td></tr>\n",
       "<tr><td>6</td><td>9.2</td></tr>\n",
       "<tr><td>7</td><td>4.2</td></tr>\n",
       "<tr><td>8</td><td>3.1</td></tr>\n",
       "<tr><td>9</td><td>2.3</td></tr>\n",
       "<tr><td>10</td><td>1.5</td></tr>\n",
       "</table>"
      ],
      "text/plain": [
       "<Table masked=True length=10>\n",
       "  a      b   \n",
       "int64 float64\n",
       "----- -------\n",
       "    1     2.0\n",
       "    2     5.0\n",
       "    3     8.2\n",
       "    4     5.5\n",
       "    5     7.9\n",
       "    6     9.2\n",
       "    7     4.2\n",
       "    8     3.1\n",
       "    9     2.3\n",
       "   10     1.5"
      ]
     },
     "execution_count": 43,
     "metadata": {},
     "output_type": "execute_result"
    }
   ],
   "source": [
    "t"
   ]
  },
  {
   "cell_type": "code",
   "execution_count": 38,
   "metadata": {},
   "outputs": [],
   "source": [
    "a2 = t['a']\n",
    "for i in range(len(a2)):\n",
    "    if a2[i] < 5:\n",
    "        row = t[i]\n",
    "        idx = row._index\n",
    "        cols = row._table.columns.values()\n",
    "        for col in cols:\n",
    "            col.mask[i] = True"
   ]
  },
  {
   "cell_type": "code",
   "execution_count": 50,
   "metadata": {
    "collapsed": true
   },
   "outputs": [],
   "source": [
    "a2 = t['a']\n",
    "b2 = t['b']\n",
    "for i in range(len(a2)):\n",
    "    if a2[i] < 5:\n",
    "        a2.mask[i] = True"
   ]
  },
  {
   "cell_type": "code",
   "execution_count": 51,
   "metadata": {},
   "outputs": [
    {
     "data": {
      "text/html": [
       "&lt;Table masked=True length=10&gt;\n",
       "<table id=\"table139695492322248\" class=\"table-striped table-bordered table-condensed\">\n",
       "<thead><tr><th>a</th><th>b</th></tr></thead>\n",
       "<thead><tr><th>int64</th><th>float64</th></tr></thead>\n",
       "<tr><td>--</td><td>2.0</td></tr>\n",
       "<tr><td>--</td><td>5.0</td></tr>\n",
       "<tr><td>--</td><td>8.2</td></tr>\n",
       "<tr><td>--</td><td>5.5</td></tr>\n",
       "<tr><td>5</td><td>7.9</td></tr>\n",
       "<tr><td>6</td><td>9.2</td></tr>\n",
       "<tr><td>7</td><td>4.2</td></tr>\n",
       "<tr><td>8</td><td>3.1</td></tr>\n",
       "<tr><td>9</td><td>2.3</td></tr>\n",
       "<tr><td>10</td><td>1.5</td></tr>\n",
       "</table>"
      ],
      "text/plain": [
       "<Table masked=True length=10>\n",
       "  a      b   \n",
       "int64 float64\n",
       "----- -------\n",
       "   --     2.0\n",
       "   --     5.0\n",
       "   --     8.2\n",
       "   --     5.5\n",
       "    5     7.9\n",
       "    6     9.2\n",
       "    7     4.2\n",
       "    8     3.1\n",
       "    9     2.3\n",
       "   10     1.5"
      ]
     },
     "execution_count": 51,
     "metadata": {},
     "output_type": "execute_result"
    }
   ],
   "source": [
    "t"
   ]
  },
  {
   "cell_type": "code",
   "execution_count": 52,
   "metadata": {},
   "outputs": [
    {
     "name": "stdout",
     "output_type": "stream",
     "text": [
      " a \n",
      "---\n",
      " --\n",
      " --\n",
      " --\n",
      " --\n",
      "2.5\n",
      "3.0\n",
      "3.5\n",
      "4.0\n",
      "4.5\n",
      "5.0\n"
     ]
    }
   ],
   "source": [
    "y = a2/2\n",
    "print(y)"
   ]
  },
  {
   "cell_type": "code",
   "execution_count": 55,
   "metadata": {},
   "outputs": [
    {
     "data": {
      "text/plain": [
       "<matplotlib.collections.PathCollection at 0x7f0d63fe22b0>"
      ]
     },
     "execution_count": 55,
     "metadata": {},
     "output_type": "execute_result"
    },
    {
     "data": {
      "image/png": "[encoded data removed]",
      "text/plain": [
       "<matplotlib.figure.Figure at 0x7f0d6405dfd0>"
      ]
     },
     "metadata": {},
     "output_type": "display_data"
    }
   ],
   "source": [
    "plt.scatter(b2,y)"
   ]
  },
  {
   "cell_type": "code",
   "execution_count": null,
   "metadata": {
    "collapsed": true
   },
   "outputs": [],
   "source": []
  }
 ],
 "metadata": {
  "kernelspec": {
   "display_name": "Python 3",
   "language": "python",
   "name": "python3"
  },
  "language_info": {
   "codemirror_mode": {
    "name": "ipython",
    "version": 3
   },
   "file_extension": ".py",
   "mimetype": "text/x-python",
   "name": "python",
   "nbconvert_exporter": "python",
   "pygments_lexer": "ipython3",
   "version": "3.6.1"
  }
 },
 "nbformat": 4,
 "nbformat_minor": 2
}
