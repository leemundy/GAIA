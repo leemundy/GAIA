{
 "cells": [
  {
   "cell_type": "code",
   "execution_count": 31,
   "metadata": {
    "collapsed": true
   },
   "outputs": [],
   "source": [
    "%matplotlib inline\n",
    "import numpy as np\n",
    "import numpy.ma as ma\n",
    "import matplotlib.pyplot as plt\n",
    "import math\n",
    "import pandas as pd\n",
    "from numpy import genfromtxt"
   ]
  },
  {
   "cell_type": "code",
   "execution_count": 40,
   "metadata": {},
   "outputs": [
    {
     "name": "stderr",
     "output_type": "stream",
     "text": [
      "/astromake/opt/python/anaconda3/lib/python3.6/site-packages/IPython/core/interactiveshell.py:2717: DtypeWarning: Columns (129) have mixed types. Specify dtype option on import or set low_memory=False.\n",
      "  interactivity=interactivity, compiler=compiler, result=result)\n"
     ]
    }
   ],
   "source": [
    "t = pd.read_csv('../Cat_GAIA200pc_2MASS_SDSS_v1_XmatchSimbad.csv')"
   ]
  },
  {
   "cell_type": "code",
   "execution_count": 39,
   "metadata": {},
   "outputs": [
    {
     "name": "stdout",
     "output_type": "stream",
     "text": [
      "The reader loads the data into the following variable names:\n",
      "['angDist', 'col1', 'solution_id', 'source_id', 'random_index', 'ref_epoch', 'ra', 'ra_error', 'dec', 'dec_error', 'parallax', 'parallax_error', 'pmra', 'pmra_error', 'pmdec', 'pmdec_error', 'ra_dec_corr', 'ra_parallax_corr', 'ra_pmra_corr', 'ra_pmdec_corr', 'dec_parallax_corr', 'dec_pmra_corr', 'dec_pmdec_corr', 'parallax_pmra_corr', 'parallax_pmdec_corr', 'pmra_pmdec_corr', 'astrometric_n_obs_al', 'astrometric_n_obs_ac', 'astrometric_n_good_obs_al', 'astrometric_n_good_obs_ac', 'astrometric_n_bad_obs_al', 'astrometric_n_bad_obs_ac', 'astrometric_delta_q', 'astrometric_excess_noise', 'astrometric_excess_noise_sig', 'astrometric_primary_flag', 'astrometric_relegation_factor', 'astrometric_weight_al', 'astrometric_weight_ac', 'astrometric_priors_used', 'matched_observations', 'duplicated_source', 'scan_direction_strength_k1', 'scan_direction_strength_k2', 'scan_direction_strength_k3', 'scan_direction_strength_k4', 'scan_direction_mean_k1', 'scan_direction_mean_k2', 'scan_direction_mean_k3', 'scan_direction_mean_k4', 'phot_g_n_obs', 'phot_g_mean_flux', 'phot_g_mean_flux_error', 'phot_g_mean_mag', 'phot_variable_flag', 'l', 'b', 'ecl_lon', 'ecl_lat', 'tmass_oid', 'source_id_2', 'original_ext_source_id', 'angular_distance', 'number_of_neighbours', 'number_of_mates', 'best_neighbour_multiplicity', 'proper_motion_flag', 'ph_qual', 'tmass_oid_2', 'designation', 'ra_2', 'dec_2', 'err_maj', 'err_min', 'err_ang', 'j_m', 'j_msigcom', 'h_m', 'h_msigcom', 'ks_m', 'ks_msigcom', 'ext_key', 'j_date', 'sdssdr9_oid', 'source_id_3', 'original_ext_source_id_2', 'angular_distance_2', 'number_of_neighbours_2', 'number_of_mates_2', 'best_neighbour_multiplicity_2', 'proper_motion_flag_2', 'sdssdr9_oid_2', 'obj_id', 'thing_id', 'ra_3', 'dec_3', 'ra_error_2', 'dec_error_2', 'mjd', 'u_mag', 'u_mag_error', 'g_mag', 'g_mag_error', 'r_mag', 'r_mag_error', 'i_mag', 'i_mag_error', 'z_mag', 'z_mag_error', 'objc_type', 'clean_flag', 'knd_k1', 'knd_k4', 'knd_k10', 'knd_k30', 'main_id', 'ra.1', 'dec.1', 'coo_err_maj', 'coo_err_min', 'coo_err_angle', 'nbref', 'ra_sexa', 'dec_sexa', 'main_type', 'other_types', 'radvel', 'redshift', 'sp_type', 'morph_type', 'plx', 'pmra.1', 'pmdec.1', 'size_maj', 'size_min', 'size_angle', 'B', 'V', 'R', 'J', 'H', 'K', 'u', 'g', 'r', 'i', 'z']\n",
      "\n",
      "The number of stars is 197670\n"
     ]
    }
   ],
   "source": [
    "print(\"The reader loads the data into the following variable names:\")\n",
    "print(list(t))\n",
    "print(\"\\nThe number of stars is \" + str(len(t)))"
   ]
  },
  {
   "cell_type": "code",
   "execution_count": 41,
   "metadata": {},
   "outputs": [],
   "source": [
    "Source = t[\"source_id\"]\n",
    "gmag = t[\"g_mag\"]\n",
    "#Using Gmag in place of Vmag and Bmag to calculate Vmags and Bmags\n",
    "Vmag = t[\"g_mag\"]\n",
    "Bmag = t[\"g_mag\"]\n",
    "Jmag = t[\"J\"]\n",
    "Hmag = t[\"H\"]\n",
    "Kmag = t[\"K\"]\n",
    "plx = t['plx']\n",
    "dup = t['duplicated_source'] \n",
    "col1 = t[\"col1\"]\n",
    "#Masks data values "
   ]
  },
  {
   "cell_type": "code",
   "execution_count": 49,
   "metadata": {
    "collapsed": true
   },
   "outputs": [],
   "source": [
    "def cleanData(t,dup,col1):\n",
    "    \n",
    "    #get rid of duplicates\n",
    "    t.mask(dup == True)\n",
    "    \n",
    "    cols = np.array([])\n",
    "    #get rid of duplicates\n",
    "    imask = 0\n",
    "    for i in range(len(col1)):\n",
    "        first_match = col1[i]\n",
    "        for j in range(i+1,len(col1)):\n",
    "            if (first_match == col1[j]):\n",
    "                cols = np.append(cols,j)\n",
    "            else: break\n",
    "    t.mask(col1 = )\n",
    "        \n",
    "    return t"
   ]
  },
  {
   "cell_type": "code",
   "execution_count": 50,
   "metadata": {},
   "outputs": [
    {
     "name": "stdout",
     "output_type": "stream",
     "text": [
      "[  5.00000000e+00   6.00000000e+00   6.00000000e+00 ...,   1.97652000e+05\n",
      "   1.97664000e+05   1.97668000e+05]\n"
     ]
    }
   ],
   "source": [
    "t = cleanData(t,dup,col1)"
   ]
  },
  {
   "cell_type": "code",
   "execution_count": null,
   "metadata": {
    "collapsed": true
   },
   "outputs": [],
   "source": []
  }
 ],
 "metadata": {
  "kernelspec": {
   "display_name": "Python 3",
   "language": "python",
   "name": "python3"
  },
  "language_info": {
   "codemirror_mode": {
    "name": "ipython",
    "version": 3
   },
   "file_extension": ".py",
   "mimetype": "text/x-python",
   "name": "python",
   "nbconvert_exporter": "python",
   "pygments_lexer": "ipython3",
   "version": "3.6.1"
  }
 },
 "nbformat": 4,
 "nbformat_minor": 2
}
