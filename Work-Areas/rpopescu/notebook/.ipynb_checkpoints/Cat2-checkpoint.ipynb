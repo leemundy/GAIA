{
 "cells": [
  {
   "cell_type": "markdown",
   "metadata": {},
   "source": [
    "# Cat 2"
   ]
  },
  {
   "cell_type": "code",
   "execution_count": 1,
   "metadata": {
    "collapsed": true
   },
   "outputs": [],
   "source": [
    "%matplotlib inline\n",
    "import numpy as np\n",
    "import numpy.ma as ma\n",
    "import matplotlib.pyplot as plt\n",
    "import math"
   ]
  },
  {
   "cell_type": "code",
   "execution_count": 2,
   "metadata": {},
   "outputs": [
    {
     "name": "stderr",
     "output_type": "stream",
     "text": [
      "WARNING: W03: Data/TGAS_d125_Wright03_2Mass.vot:44:0: W03: Implicitly generating an ID from a name '2MASS' -> '_2MASS' [astropy.io.votable.xmlutil]\n",
      "WARNING: W32: Data/TGAS_d125_Wright03_2Mass.vot:30:0: W32: Duplicate ID '_RAJ2000' renamed to '_RAJ2000_2' to ensure uniqueness [astropy.io.votable.tree]\n",
      "WARNING: W32: Data/TGAS_d125_Wright03_2Mass.vot:31:0: W32: Duplicate ID '_DEJ2000' renamed to '_DEJ2000_2' to ensure uniqueness [astropy.io.votable.tree]\n",
      "WARNING: W32: Data/TGAS_d125_Wright03_2Mass.vot:33:0: W32: Duplicate ID 'TYC2' renamed to 'TYC2_2' to ensure uniqueness [astropy.io.votable.tree]\n",
      "WARNING: W32: Data/TGAS_d125_Wright03_2Mass.vot:45:0: W32: Duplicate ID 'RAJ2000' renamed to 'RAJ2000_2' to ensure uniqueness [astropy.io.votable.tree]\n",
      "WARNING: W32: Data/TGAS_d125_Wright03_2Mass.vot:46:0: W32: Duplicate ID 'DEJ2000' renamed to 'DEJ2000_2' to ensure uniqueness [astropy.io.votable.tree]\n",
      "WARNING: W33: Data/TGAS_d125_Wright03_2Mass.vot:30:0: W33: Column name '_RAJ2000' renamed to '_RAJ2000 2' to ensure uniqueness [astropy.io.votable.tree]\n",
      "WARNING: W33: Data/TGAS_d125_Wright03_2Mass.vot:31:0: W33: Column name '_DEJ2000' renamed to '_DEJ2000 2' to ensure uniqueness [astropy.io.votable.tree]\n",
      "WARNING: W33: Data/TGAS_d125_Wright03_2Mass.vot:33:0: W33: Column name 'TYC2' renamed to 'TYC2 2' to ensure uniqueness [astropy.io.votable.tree]\n",
      "WARNING: W33: Data/TGAS_d125_Wright03_2Mass.vot:45:0: W33: Column name 'RAJ2000' renamed to 'RAJ2000 2' to ensure uniqueness [astropy.io.votable.tree]\n",
      "WARNING: W33: Data/TGAS_d125_Wright03_2Mass.vot:46:0: W33: Column name 'DEJ2000' renamed to 'DEJ2000 2' to ensure uniqueness [astropy.io.votable.tree]\n"
     ]
    }
   ],
   "source": [
    "from astropy.table import Table\n",
    "t = Table.read('Data/TGAS_d125_Wright03_2Mass.vot', format='votable')"
   ]
  },
  {
   "cell_type": "code",
   "execution_count": 4,
   "metadata": {},
   "outputs": [
    {
     "name": "stdout",
     "output_type": "stream",
     "text": [
      "The astropy reader loads the data into the following variable names:\n",
      "['d_arcsec', 'angDist', '_RAJ2000', '_DEJ2000', 'HIP', 'TYC2', 'Source', 'RA_ICRS', 'e_RA_ICRS', 'DE_ICRS', 'e_DE_ICRS', 'Plx', 'e_Plx', 'pmRA', 'e_pmRA', 'pmDE', 'e_pmDE', 'Dup', '__FG_', 'e__FG_', '__Gmag_', 'Var', '_RAJ2000_2', '_DEJ2000_2', 'TYC1', 'TYC2_2', 'TYC3', 'RAJ2000', 'DEJ2000', 'VTmag', 'BTmag', 'r_SpType', 'Dist', 'Teff', 'SpType', '_2MASS', 'RAJ2000_2', 'DEJ2000_2', 'errHalfMaj', 'errHalfMin', 'errPosAng', 'Jmag', 'Hmag', 'Kmag', 'e_Jmag', 'e_Hmag', 'e_Kmag', 'Qfl', 'Rfl', 'X', 'MeasureJD']\n"
     ]
    }
   ],
   "source": [
    "print(\"The astropy reader loads the data into the following variable names:\")\n",
    "print(t.colnames)"
   ]
  },
  {
   "cell_type": "code",
   "execution_count": 3,
   "metadata": {},
   "outputs": [],
   "source": [
    "# mask all data that does not have a Qfl value \n",
    "\n",
    "QFlags = t[\"Qfl\"]\n",
    "\n",
    "Jmag = t[\"Jmag\"]\n",
    "for i in range(0,len(QFlags)):\n",
    "    if(QFlags[i][0] == ord(\"A\")):\n",
    "        Jmag.mask[i] = False\n",
    "    else:\n",
    "         Jmag.mask[i] = True\n",
    "            \n",
    "Kmag = t[\"Kmag\"]\n",
    "for i in range(0,len(QFlags)):\n",
    "    if(QFlags[i][2] == ord(\"A\")):\n",
    "        Kmag.mask[i] = False\n",
    "    else:\n",
    "        Kmag.mask[i] = True  \n",
    "        \n",
    "Hmag = t['Hmag'] \n",
    "for i in range(0,len(QFlags)):\n",
    "    if(QFlags[i][1] == ord(\"A\")):\n",
    "        Hmag.mask[i] = False\n",
    "    else:\n",
    "        Hmag.mask[i] = True  "
   ]
  },
  {
   "cell_type": "code",
   "execution_count": 6,
   "metadata": {},
   "outputs": [
    {
     "data": {
      "image/png": "[encoded data removed]",
      "text/plain": [
       "<matplotlib.figure.Figure at 0x7f73b8cfff28>"
      ]
     },
     "metadata": {},
     "output_type": "display_data"
    }
   ],
   "source": [
    "#Histogram of G band magnitudes\n",
    "Gmag = t['__Gmag_']\n",
    "plt.hist(Gmag)\n",
    "plt.xlabel('Gmag')\n",
    "plt.ylabel('Number of Stars')\n",
    "plt.show()"
   ]
  },
  {
   "cell_type": "code",
   "execution_count": null,
   "metadata": {},
   "outputs": [],
   "source": [
    "#Histogram of J band magnitudes\n",
    "plt.hist(Jmag)\n",
    "plt.xlabel('Jmag')\n",
    "plt.ylabel('Number of Stars')\n",
    "plt.show()"
   ]
  },
  {
   "cell_type": "code",
   "execution_count": null,
   "metadata": {},
   "outputs": [],
   "source": [
    "#Histogram of K band magnitudes\n",
    "plt.hist(Kmag, range = [min(Kmag),max(Kmag)])\n",
    "plt.xlabel('Kmag')\n",
    "plt.ylabel('Number of Stars')\n",
    "plt.show()"
   ]
  },
  {
   "cell_type": "code",
   "execution_count": null,
   "metadata": {},
   "outputs": [],
   "source": [
    "#calculate distances and store them in table column\n",
    "plx = t['Plx']\n",
    "d_data = np.zeros(len(plx))\n",
    "for i in range(len(d_data)):\n",
    "    d_data[i] = 1/(plx[i]/1000)\n",
    "d = Table.Column(data=d_data, name='d')"
   ]
  },
  {
   "cell_type": "code",
   "execution_count": null,
   "metadata": {},
   "outputs": [],
   "source": [
    "#Calculate absolute magnitudes and store them in table column\n",
    "Abs_mag_data = np.zeros(len(d))\n",
    "for i in range(len(Abs_mag_data)):\n",
    "    #Gmag is taken as apparent magnitude\n",
    "    Abs_mag_data[i] = Gmag[i] - 5*math.log10(d[i]/10)\n",
    "Abs_mag = Table.Column(data=Abs_mag_data, name='Abs_mag')"
   ]
  },
  {
   "cell_type": "code",
   "execution_count": null,
   "metadata": {},
   "outputs": [],
   "source": [
    "#H-R diagram (with apparent magnitude)\n",
    "Teff = t['Teff']\n",
    "plt.xlim(3500,9000)\n",
    "plt.scatter(Teff, Gmag,c=d,s=1.0)\n",
    "plt.gca().invert_xaxis()\n",
    "plt.gca().invert_yaxis()\n",
    "plt.xlabel('Teff')\n",
    "plt.ylabel('Gmag')\n",
    "plt.show()"
   ]
  },
  {
   "cell_type": "code",
   "execution_count": null,
   "metadata": {},
   "outputs": [],
   "source": [
    "#H-R diagram (with absolute magnitude)\n",
    "plt.xlim(3500,9000)\n",
    "plt.scatter(Teff,Abs_mag,c=d,s=1.0)\n",
    "plt.xlabel('Absolute Magnitude')\n",
    "plt.ylabel('Teff')\n",
    "plt.gca().invert_xaxis()\n",
    "plt.gca().invert_yaxis()\n",
    "plt.show()"
   ]
  },
  {
   "cell_type": "code",
   "execution_count": 25,
   "metadata": {},
   "outputs": [],
   "source": [
    "#Calculate different Color indices\n",
    "G_J = Gmag-Jmag\n",
    "G_K = Gmag-Kmag\n",
    "G_H = Gmag-Hmag\n",
    "J_K = Jmag-Kmag\n",
    "H_K = Hmag-Kmag"
   ]
  },
  {
   "cell_type": "code",
   "execution_count": 26,
   "metadata": {},
   "outputs": [
    {
     "data": {
      "image/png": "[encoded data removed]",
      "text/plain": [
       "<matplotlib.figure.Figure at 0x7f73b8967d30>"
      ]
     },
     "metadata": {},
     "output_type": "display_data"
    }
   ],
   "source": [
    "#Color-Color diagram with G plotted against G-J\n",
    "plt.scatter(G_J,Gmag, s=1)\n",
    "plt.xlabel('G-J')\n",
    "plt.ylabel('G')\n",
    "plt.show()\n"
   ]
  },
  {
   "cell_type": "code",
   "execution_count": 27,
   "metadata": {},
   "outputs": [
    {
     "name": "stdout",
     "output_type": "stream",
     "text": [
      "4.659011\n",
      "4.75893\n",
      "3.802655\n",
      "4.772719\n",
      "4.93397\n",
      "4.631532\n",
      "4.630131\n",
      "4.194241\n",
      "3.960427\n",
      "3.561777\n",
      "4.657981\n",
      "4.795822\n",
      "4.818894\n",
      "4.731002\n",
      "4.861305\n",
      "4.778928\n",
      "4.368063\n",
      "4.217839\n",
      "4.489085\n",
      "4.958702\n",
      "4.829205\n",
      "4.926218\n",
      "4.02926\n",
      "4.51991\n",
      "4.86406\n",
      "4.95825\n",
      "4.265381\n",
      "4.779962\n",
      "4.822875\n",
      "4.365603\n",
      "4.628746\n",
      "3.32608\n",
      "4.599436\n",
      "4.30642\n",
      "4.746915\n",
      "4.799705\n",
      "4.682173\n",
      "4.601946\n",
      "4.211621\n",
      "4.805426\n",
      "4.88396\n",
      "4.278279\n",
      "4.883358\n",
      "3.444799\n",
      "4.947417\n",
      "3.932654\n",
      "4.856928\n",
      "4.668728\n",
      "3.523077\n",
      "3.73816\n",
      "4.901819\n",
      "4.248114\n",
      "3.626214\n",
      "4.951866\n",
      "4.942588\n",
      "4.981734\n",
      "4.837632\n",
      "4.933638\n",
      "4.602074\n",
      "4.921006\n",
      "4.69553\n",
      "4.669104\n",
      "4.726009\n",
      "4.06691\n",
      "3.963434\n",
      "4.135097\n",
      "4.987258\n",
      "4.696064\n",
      "3.942028\n",
      "4.791017\n",
      "4.794549\n",
      "4.960816\n",
      "4.697284\n",
      "4.845858\n",
      "4.728908\n",
      "3.429485\n",
      "4.905634\n",
      "4.547355\n",
      "4.88548\n",
      "4.675217\n",
      "0.755031\n",
      "4.168729\n",
      "4.8008\n",
      "4.85768\n",
      "4.955741\n",
      "4.625243\n",
      "3.826203\n",
      "4.796983\n",
      "3.752297\n",
      "4.585218\n",
      "4.300598\n",
      "4.870803\n",
      "4.981383\n",
      "4.927803\n",
      "4.914091\n",
      "4.889589\n",
      "4.852319\n",
      "4.435156\n",
      "3.852149\n",
      "3.078747\n",
      "4.534141\n",
      "4.219136\n",
      "2.740718\n",
      "4.44201\n",
      "4.856616\n",
      "4.745853\n",
      "4.415858\n",
      "4.99326\n",
      "4.176714\n",
      "4.525221\n",
      "3.969963\n",
      "4.650743\n",
      "4.577657\n",
      "4.637639\n",
      "4.669196\n",
      "4.4337\n",
      "4.329961\n",
      "4.681925\n",
      "3.996488\n",
      "4.939653\n",
      "4.410552\n",
      "4.519802\n",
      "4.446863\n",
      "4.193758\n",
      "4.82647\n",
      "4.307109\n",
      "4.940343\n",
      "4.814602\n",
      "4.881819\n",
      "4.332674\n",
      "4.151374\n",
      "3.991536\n",
      "4.934029\n",
      "4.546164\n",
      "3.95881\n",
      "4.82873\n",
      "4.304348\n",
      "4.87198\n",
      "4.372066\n",
      "4.451403\n",
      "4.948945\n",
      "3.456939\n",
      "4.510586\n",
      "3.523454\n",
      "4.426049\n",
      "4.303452\n",
      "3.6031\n",
      "4.772611\n",
      "4.890832\n",
      "4.937466\n",
      "4.124489\n",
      "4.863297\n",
      "4.638748\n",
      "3.701484\n",
      "4.472881\n",
      "4.710666\n",
      "2.605057\n",
      "4.856334\n",
      "4.465056\n",
      "4.980096\n",
      "4.863951\n",
      "4.109895\n",
      "4.859276\n",
      "4.987173\n",
      "4.333769\n",
      "3.315358\n",
      "4.394417\n",
      "1.723049\n",
      "3.803766\n"
     ]
    }
   ],
   "source": [
    "#check distant matches for G-J\n",
    "for i in range(len(G_J)):\n",
    "    if G_J[i] < -2:\n",
    "        print(t['d_arcsec'][i])"
   ]
  },
  {
   "cell_type": "code",
   "execution_count": 28,
   "metadata": {},
   "outputs": [
    {
     "name": "stdout",
     "output_type": "stream",
     "text": [
      "4.659011\n",
      "4.792281\n",
      "3.957714\n",
      "4.046022\n",
      "4.249814\n",
      "4.860395\n",
      "3.203891\n",
      "2.438963\n",
      "4.08926\n",
      "4.502903\n",
      "4.395642\n",
      "4.590954\n",
      "4.529754\n",
      "4.937707\n",
      "4.83452\n",
      "3.469104\n",
      "4.601946\n",
      "4.991074\n",
      "4.862518\n",
      "4.357892\n",
      "4.891409\n",
      "4.796451\n",
      "4.516544\n",
      "4.631769\n",
      "4.955741\n",
      "4.954115\n",
      "4.590155\n",
      "4.844891\n",
      "4.93119\n",
      "4.433625\n",
      "4.956322\n",
      "4.733708\n",
      "4.720522\n",
      "4.71954\n",
      "4.850355\n",
      "3.025455\n",
      "4.151374\n",
      "4.832731\n",
      "4.978518\n",
      "4.54298\n",
      "4.510586\n",
      "3.994905\n",
      "4.965363\n",
      "4.448627\n",
      "4.706568\n",
      "4.830955\n",
      "4.588215\n",
      "4.828582\n"
     ]
    }
   ],
   "source": [
    "#check distant matches for G-K\n",
    "for i in range(len(G_K)):\n",
    "    if G_K[i] < -2:\n",
    "        print(t['d_arcsec'][i])"
   ]
  },
  {
   "cell_type": "code",
   "execution_count": 29,
   "metadata": {},
   "outputs": [
    {
     "name": "stdout",
     "output_type": "stream",
     "text": [
      "4.659011\n",
      "4.669387\n",
      "4.583274\n",
      "4.84189\n",
      "4.56616\n",
      "2.438963\n",
      "4.502903\n",
      "4.395642\n",
      "4.937707\n",
      "4.83452\n",
      "4.714358\n",
      "4.354138\n",
      "4.955741\n",
      "4.516147\n",
      "3.826203\n",
      "3.080388\n",
      "4.844891\n",
      "4.314506\n",
      "4.319804\n",
      "4.151374\n",
      "4.832731\n",
      "4.978518\n",
      "3.994905\n",
      "4.890832\n",
      "4.037467\n",
      "4.292151\n",
      "4.396497\n",
      "3.701484\n",
      "4.710666\n",
      "4.448627\n",
      "4.69637\n",
      "4.588215\n",
      "4.468765\n"
     ]
    }
   ],
   "source": [
    "#check distant matches for G-H\n",
    "for i in range(len(G_H)):\n",
    "    if G_H[i] < -2:\n",
    "        print(t['d_arcsec'][i])"
   ]
  },
  {
   "cell_type": "code",
   "execution_count": 30,
   "metadata": {},
   "outputs": [
    {
     "name": "stdout",
     "output_type": "stream",
     "text": [
      "4.655758\n",
      "4.659011\n",
      "0.556554\n",
      "0.143869\n",
      "4.669387\n",
      "4.583274\n",
      "0.562263\n",
      "4.84189\n",
      "0.533782\n",
      "0.55256\n",
      "0.524065\n",
      "4.56616\n",
      "2.438963\n",
      "0.049146\n",
      "4.739164\n",
      "4.502903\n",
      "0.773436\n",
      "4.395642\n",
      "4.367016\n",
      "4.937707\n",
      "4.83452\n",
      "0.436442\n",
      "0.523378\n",
      "4.052646\n",
      "0.437564\n",
      "0.459906\n",
      "3.810134\n",
      "4.571114\n",
      "4.714358\n",
      "3.432936\n",
      "3.350928\n",
      "0.105614\n",
      "4.417416\n",
      "0.575889\n",
      "0.465364\n",
      "0.434195\n",
      "4.465219\n",
      "4.354138\n",
      "1.115257\n",
      "4.674818\n",
      "3.12752\n",
      "0.34527\n",
      "2.797581\n",
      "4.955741\n",
      "4.516147\n",
      "4.409875\n",
      "3.826203\n",
      "0.339442\n",
      "4.052906\n",
      "3.080388\n",
      "0.246753\n",
      "3.872447\n",
      "4.852319\n",
      "0.407063\n",
      "4.844891\n",
      "4.973763\n",
      "4.281485\n",
      "4.370082\n",
      "4.314506\n",
      "0.434983\n",
      "0.662183\n",
      "2.700144\n",
      "4.319804\n",
      "0.190809\n",
      "4.948028\n",
      "0.680074\n",
      "0.278533\n",
      "4.151374\n",
      "4.832731\n",
      "4.978518\n",
      "4.801072\n",
      "4.9618\n",
      "0.521624\n",
      "3.994905\n",
      "4.890832\n",
      "4.037467\n",
      "0.035223\n",
      "4.639347\n",
      "0.221499\n",
      "4.292151\n",
      "4.396497\n",
      "0.354558\n",
      "1.037444\n",
      "3.701484\n",
      "4.710666\n",
      "2.432566\n",
      "4.448627\n",
      "4.69637\n",
      "0.511856\n",
      "4.588215\n",
      "3.802581\n",
      "4.468765\n",
      "4.394417\n",
      "4.688359\n"
     ]
    }
   ],
   "source": [
    "#check distant matches for G-H\n",
    "for i in range(len(H_K)):\n",
    "    if G_H[i] < 0:\n",
    "        print(t['d_arcsec'][i])"
   ]
  },
  {
   "cell_type": "code",
   "execution_count": 9,
   "metadata": {},
   "outputs": [
    {
     "data": {
      "image/png": "[encoded data removed]",
      "text/plain": [
       "<matplotlib.figure.Figure at 0x7f73b5c3add8>"
      ]
     },
     "metadata": {},
     "output_type": "display_data"
    }
   ],
   "source": [
    "#Color-Color diagram with G-K plotted against G-J\n",
    "plt.scatter(G_J,G_K, s=1)\n",
    "plt.xlabel('G-J')\n",
    "plt.ylabel('G-K')\n",
    "plt.show()\n"
   ]
  },
  {
   "cell_type": "code",
   "execution_count": 10,
   "metadata": {},
   "outputs": [
    {
     "data": {
      "image/png": "[encoded data removed]",
      "text/plain": [
       "<matplotlib.figure.Figure at 0x7f73b5ae0198>"
      ]
     },
     "metadata": {},
     "output_type": "display_data"
    }
   ],
   "source": [
    "#Color-Color diagram with J-K plotted against H-K\n",
    "plt.scatter(H_K,J_K, s=1)\n",
    "plt.xlabel('H-K')\n",
    "plt.ylabel('J-K')\n",
    "plt.show()"
   ]
  },
  {
   "cell_type": "code",
   "execution_count": null,
   "metadata": {
    "collapsed": true
   },
   "outputs": [],
   "source": []
  },
  {
   "cell_type": "code",
   "execution_count": 14,
   "metadata": {},
   "outputs": [
    {
     "data": {
      "image/png": "[encoded data removed]",
      "text/plain": [
       "<matplotlib.figure.Figure at 0x7f73b8c6ada0>"
      ]
     },
     "metadata": {},
     "output_type": "display_data"
    }
   ],
   "source": [
    "#Plot of error in Jmag against Jmag\n",
    "e_Jmag = t['e_Jmag']\n",
    "plt.scatter(Jmag,e_Jmag)\n",
    "plt.xlabel('Jmag')\n",
    "plt.ylabel('Jmag error')\n",
    "plt.show()"
   ]
  },
  {
   "cell_type": "code",
   "execution_count": 15,
   "metadata": {},
   "outputs": [
    {
     "data": {
      "image/png": "[encoded data removed]",
      "text/plain": [
       "<matplotlib.figure.Figure at 0x7f73b5b799b0>"
      ]
     },
     "metadata": {},
     "output_type": "display_data"
    }
   ],
   "source": [
    "#Plot of error in Kmag against Kmag\n",
    "e_Kmag = t['e_Kmag']\n",
    "plt.scatter(Kmag,e_Kmag)\n",
    "plt.xlabel('Kmag')\n",
    "plt.ylabel('Kmag error')\n",
    "plt.show()"
   ]
  },
  {
   "cell_type": "code",
   "execution_count": 16,
   "metadata": {},
   "outputs": [
    {
     "data": {
      "image/png": "[encoded data removed]",
      "text/plain": [
       "<matplotlib.figure.Figure at 0x7f73b5a1cb38>"
      ]
     },
     "metadata": {},
     "output_type": "display_data"
    }
   ],
   "source": [
    "#Plot of error in Hmag against Hmag\n",
    "e_Hmag = t['e_Hmag']\n",
    "plt.scatter(Kmag,e_Kmag)\n",
    "plt.xlabel('Hmag')\n",
    "plt.ylabel('Hmag error')\n",
    "plt.show()"
   ]
  },
  {
   "cell_type": "code",
   "execution_count": null,
   "metadata": {},
   "outputs": [],
   "source": [
    "#Look at spectrial type\n",
    "print(t['SpType'])"
   ]
  },
  {
   "cell_type": "code",
   "execution_count": null,
   "metadata": {
    "collapsed": true
   },
   "outputs": [],
   "source": []
  }
 ],
 "metadata": {
  "kernelspec": {
   "display_name": "Python 3",
   "language": "python",
   "name": "python3"
  },
  "language_info": {
   "codemirror_mode": {
    "name": "ipython",
    "version": 3
   },
   "file_extension": ".py",
   "mimetype": "text/x-python",
   "name": "python",
   "nbconvert_exporter": "python",
   "pygments_lexer": "ipython3",
   "version": "3.6.1"
  }
 },
 "nbformat": 4,
 "nbformat_minor": 2
}
