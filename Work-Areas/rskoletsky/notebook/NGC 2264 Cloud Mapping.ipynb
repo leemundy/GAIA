{
 "cells": [
  {
   "cell_type": "code",
   "execution_count": 29,
   "metadata": {},
   "outputs": [
    {
     "name": "stdout",
     "output_type": "stream",
     "text": [
      "The columns within this catalog are: \n",
      "['_Glon', '_Glat', '_RAJ2000', '_DEJ2000', 'RA_ICRS', 'e_RA_ICRS', 'DE_ICRS', 'e_DE_ICRS', 'SolID', 'Source', 'RandomI', 'Epoch', 'Plx', 'e_Plx', 'pmRA', 'e_pmRA', 'pmDE', 'e_pmDE', 'RADEcor', 'RAPlxcor', 'RApmRAcor', 'RApmDEcor', 'DEPlxcor', 'DEpmRAcor', 'DEpmDEcor', 'PlxpmRAcor', 'PlxpmDEcor', 'pmRApmDEcor', 'NAL', 'NAC', 'NgAL', 'NgAC', 'NbAL', 'NbAC', 'DQ', 'epsi', 'sepsi', 'APF', 'ARF', 'WAL', 'WAC', 'Apr', 'MatchObs', 'Dup', 'sK1', 'sK2', 'sK3', 'sK4', 'mK1', 'mK2', 'mK3', 'mK4', 'o__Gmag_', '__FG_', 'e__FG_', '__Gmag_', 'Var', 'GLON', 'GLAT', 'ELON', 'ELAT']\n"
     ]
    },
    {
     "name": "stderr",
     "output_type": "stream",
     "text": [
      "WARNING: W27: None:105:2: W27: COOSYS deprecated in VOTable 1.2 [astropy.io.votable.tree]\n",
      "WARNING: W27: None:106:2: W27: COOSYS deprecated in VOTable 1.2 [astropy.io.votable.tree]\n",
      "WARNING: W27: None:107:2: W27: COOSYS deprecated in VOTable 1.2 [astropy.io.votable.tree]\n",
      "WARNING: W06: None:139:4: W06: Invalid UCD 'meta.id;meta.version': Primary word 'meta.version' is not valid as a secondary word [astropy.io.votable.tree]\n",
      "WARNING: W03: None:289:4: W03: Implicitly generating an ID from a name 'o_<Gmag>' -> 'o__Gmag_' [astropy.io.votable.xmlutil]\n",
      "WARNING: W03: None:292:4: W03: Implicitly generating an ID from a name '<FG>' -> '__FG_' [astropy.io.votable.xmlutil]\n",
      "WARNING: W50: None:292:4: W50: Invalid unit string 'e-/s' [astropy.io.votable.tree]\n",
      "WARNING: W03: None:296:4: W03: Implicitly generating an ID from a name 'e_<FG>' -> 'e__FG_' [astropy.io.votable.xmlutil]\n",
      "WARNING: W50: None:296:4: W50: Invalid unit string 'e-/s' [astropy.io.votable.tree]\n",
      "WARNING: W03: None:300:4: W03: Implicitly generating an ID from a name '<Gmag>' -> '__Gmag_' [astropy.io.votable.xmlutil]\n",
      "WARNING: W51: None:322:186: W51: Value '3326597718605457280' is out of range for a 16-bit integer field [astropy.io.votable.converters]\n",
      "WARNING: W51: None:323:184: W51: Value '3326608919880182144' is out of range for a 16-bit integer field [astropy.io.votable.converters]\n",
      "WARNING: W51: None:324:184: W51: Value '3326975229050150016' is out of range for a 16-bit integer field [astropy.io.votable.converters]\n",
      "WARNING: W51: None:325:184: W51: Value '3326899225310031232' is out of range for a 16-bit integer field [astropy.io.votable.converters]\n",
      "WARNING: W51: None:326:184: W51: Value '3327019312593509248' is out of range for a 16-bit integer field [astropy.io.votable.converters]\n",
      "WARNING: W51: None:327:184: W51: Value '3326894964702474624' is out of range for a 16-bit integer field [astropy.io.votable.converters]\n",
      "WARNING: W51: None:328:184: W51: Value '3326974988531982336' is out of range for a 16-bit integer field [astropy.io.votable.converters]\n",
      "WARNING: W51: None:329:184: W51: Value '3326611393781342464' is out of range for a 16-bit integer field [astropy.io.votable.converters]\n",
      "WARNING: W51: None:330:184: W51: Value '3326925235630828160' is out of range for a 16-bit integer field [astropy.io.votable.converters]\n",
      "WARNING: W51: None:331:184: W51: Value '3326582291082933760' is out of range for a 16-bit integer field (suppressing further warnings of this type...) [astropy.io.votable.converters]\n"
     ]
    }
   ],
   "source": [
    "from astropy.table import Table\n",
    "import matplotlib.pyplot as plt\n",
    "import math\n",
    "import numpy\n",
    "from numpy import loadtxt\n",
    "#Imports possibly useful software for Python\n",
    "t=Table.read('TGASNGC2264.vot')\n",
    "#t=Table.read('TGAS_d125_Wright03_2Mass.vot')\n",
    "#Defines t as this table\n",
    "print(\"The columns within this catalog are: \")\n",
    "print(t.colnames)\n",
    "#Prints out all of the column names for easy reference"
   ]
  },
  {
   "cell_type": "code",
   "execution_count": 32,
   "metadata": {},
   "outputs": [
    {
     "name": "stderr",
     "output_type": "stream",
     "text": [
      "/astromake/opt/python/anaconda3/lib/python3.6/site-packages/ipykernel_launcher.py:5: FutureWarning: np.average currently does not preserve subclasses, but will do so in the future to match the behavior of most other numpy functions such as np.mean. In particular, this means calls which returned a scalar may return a 0-d subclass object instead.\n",
      "  \"\"\"\n",
      "/astromake/opt/python/anaconda3/lib/python3.6/site-packages/ipykernel_launcher.py:6: FutureWarning: np.average currently does not preserve subclasses, but will do so in the future to match the behavior of most other numpy functions such as np.mean. In particular, this means calls which returned a scalar may return a 0-d subclass object instead.\n",
      "  \n"
     ]
    },
    {
     "ename": "ValueError",
     "evalue": "invalid number of arguments",
     "output_type": "error",
     "traceback": [
      "\u001b[0;31m---------------------------------------------------------------------------\u001b[0m",
      "\u001b[0;31mValueError\u001b[0m                                Traceback (most recent call last)",
      "\u001b[0;32m<ipython-input-32-9f8fa84d058b>\u001b[0m in \u001b[0;36m<module>\u001b[0;34m()\u001b[0m\n\u001b[1;32m     20\u001b[0m             \u001b[0mEuclideanDistance\u001b[0m\u001b[0;34m=\u001b[0m\u001b[0mnumpy\u001b[0m\u001b[0;34m.\u001b[0m\u001b[0mappend\u001b[0m\u001b[0;34m(\u001b[0m\u001b[0mEuclideanDistance\u001b[0m\u001b[0;34m,\u001b[0m\u001b[0mnumpy\u001b[0m\u001b[0;34m.\u001b[0m\u001b[0msqrt\u001b[0m\u001b[0;34m(\u001b[0m\u001b[0mnumpy\u001b[0m\u001b[0;34m.\u001b[0m\u001b[0msquare\u001b[0m\u001b[0;34m(\u001b[0m\u001b[0mNGC2264RA\u001b[0m\u001b[0;34m[\u001b[0m\u001b[0mi\u001b[0m\u001b[0;34m]\u001b[0m\u001b[0;34m-\u001b[0m\u001b[0mNGC2264RAPixels\u001b[0m\u001b[0;34m[\u001b[0m\u001b[0mx\u001b[0m\u001b[0;34m]\u001b[0m\u001b[0;34m)\u001b[0m\u001b[0;34m+\u001b[0m\u001b[0mnumpy\u001b[0m\u001b[0;34m.\u001b[0m\u001b[0msquare\u001b[0m\u001b[0;34m(\u001b[0m\u001b[0mNGC2264Dec\u001b[0m\u001b[0;34m[\u001b[0m\u001b[0mi\u001b[0m\u001b[0;34m]\u001b[0m\u001b[0;34m-\u001b[0m\u001b[0mNGC2264DecPixels\u001b[0m\u001b[0;34m[\u001b[0m\u001b[0my\u001b[0m\u001b[0;34m]\u001b[0m\u001b[0;34m)\u001b[0m\u001b[0;34m)\u001b[0m\u001b[0;34m)\u001b[0m\u001b[0;34m\u001b[0m\u001b[0m\n\u001b[1;32m     21\u001b[0m         \u001b[0;31m#NearestNeighborIndex=numpy.where(EuclideanDistance==numpy.minimum(EuclideanDistance))\u001b[0m\u001b[0;34m\u001b[0m\u001b[0;34m\u001b[0m\u001b[0m\n\u001b[0;32m---> 22\u001b[0;31m         \u001b[0mNearestNeighborDistance\u001b[0m\u001b[0;34m=\u001b[0m\u001b[0mnumpy\u001b[0m\u001b[0;34m.\u001b[0m\u001b[0mminimum\u001b[0m\u001b[0;34m(\u001b[0m\u001b[0mEuclideanDistance\u001b[0m\u001b[0;34m)\u001b[0m\u001b[0;34m\u001b[0m\u001b[0m\n\u001b[0m\u001b[1;32m     23\u001b[0m         \u001b[0mPixels\u001b[0m\u001b[0;34m[\u001b[0m\u001b[0my\u001b[0m\u001b[0;34m,\u001b[0m\u001b[0mx\u001b[0m\u001b[0;34m]\u001b[0m\u001b[0;34m=\u001b[0m\u001b[0mNearestNeighborDistance\u001b[0m\u001b[0;34m\u001b[0m\u001b[0m\n\u001b[1;32m     24\u001b[0m \u001b[0mplt\u001b[0m\u001b[0;34m.\u001b[0m\u001b[0mpcolormesh\u001b[0m\u001b[0;34m(\u001b[0m\u001b[0mPixels\u001b[0m\u001b[0;34m)\u001b[0m\u001b[0;34m\u001b[0m\u001b[0m\n",
      "\u001b[0;31mValueError\u001b[0m: invalid number of arguments"
     ]
    }
   ],
   "source": [
    "NGC2264RA=t[\"RA_ICRS\"]\n",
    "NGC2264Dec=t[\"DE_ICRS\"]\n",
    "NGC2264RAStDev=numpy.std(NGC2264RA)\n",
    "NGC2264DecStDev=numpy.std(NGC2264Dec)\n",
    "NGC2264RAAverage=numpy.average(NGC2264RA)\n",
    "NGC2264DecAverage=numpy.average(NGC2264Dec)\n",
    "NGC2264RA=NGC2264RA-NGC2264RAAverage\n",
    "NGC2264RA=NGC2264RA/NGC2264RAStDev\n",
    "NGC2264Dec=NGC2264Dec-NGC2264DecAverage\n",
    "NGC2264Dec=NGC2264Dec/NGC2264DecStDev\n",
    "NGC2264RAPixels=numpy.linspace(99.70,100.70,101)\n",
    "NGC2264DecPixels=numpy.linspace(8.90,10.50,161)\n",
    "NGC2264RAPixels=(NGC2264RAPixels-NGC2264RAAverage)/NGC2264RAStDev\n",
    "NGC2264DecPixels=(NGC2264DecPixels-NGC2264DecAverage)/NGC2264DecStDev\n",
    "Pixels=numpy.empty([161,101])\n",
    "for x in range(0,100):\n",
    "    for y in range(0,160):\n",
    "        EuclideanDistance=numpy.array([])\n",
    "        for i in range(0,len(NGC2264RA)):\n",
    "            EuclideanDistance=numpy.append(EuclideanDistance,numpy.sqrt(numpy.square(NGC2264RA[i]-NGC2264RAPixels[x])+numpy.square(NGC2264Dec[i]-NGC2264DecPixels[y])))\n",
    "        #NearestNeighborIndex=numpy.where(EuclideanDistance==numpy.minimum(EuclideanDistance))\n",
    "        NearestNeighborDistance=numpy.minimum(EuclideanDistance)\n",
    "        Pixels[y,x]=NearestNeighborDistance\n",
    "plt.pcolormesh(Pixels)\n",
    "plt.gca().invert_yaxis()\n",
    "plt.show()"
   ]
  },
  {
   "cell_type": "code",
   "execution_count": 11,
   "metadata": {},
   "outputs": [
    {
     "name": "stdout",
     "output_type": "stream",
     "text": [
      "[ 99.78999647]\n",
      "[ 9.52955833]\n"
     ]
    }
   ],
   "source": [
    "QFlags=t[\"Qfl\"]\n",
    "#Defines QFlags from the Qfl array\n",
    "Jmag=t[\"Jmag\"]\n",
    "#Defines Jmag from the Jmag array\n",
    "Hmag=t[\"Hmag\"]\n",
    "#Defines Hmag from the Hmag array\n",
    "Kmag=t[\"Kmag\"]\n",
    "#Defines Kmag from the Kmag array\n",
    "Vmag=t[\"VTmag\"]\n",
    "#Defines Vmag from the array VTmag in the table\n",
    "Gmag=t[\"X.Gmag.\"]\n",
    "#Defines Gmag from the __Gmag_ array\n",
    "Bmag=t[\"BTmag\"]\n",
    "#Defines Bmag from the BTmag array\n",
    "Jmagerror=t[\"e_Jmag\"]\n",
    "#Defines the J magnitude error from the table\n",
    "Hmagerror=t[\"e_Hmag\"]\n",
    "#Defines the H magnitude error from the table\n",
    "Kmagerror=t[\"e_Kmag\"]\n",
    "#Defines the K magnitude error from the table\n",
    "for i in range(0,len(QFlags)):\n",
    "    if(QFlags[i][0]==ord(\"A\")):\n",
    "         Jmag.mask[i]=False\n",
    "         Jmagerror.mask[i]=False\n",
    "    else:\n",
    "         Jmag.mask[i]=True\n",
    "         Jmagerror.mask[i]=True\n",
    "         #SpType.mask[i]=True\n",
    "#The first character of QFlags represents J. Checks whether the first character is A. If it is, the mask on that element\n",
    "#should be false (off), and if it isn't, the mask on that element should be true (on).\n",
    "for i in range(0,len(QFlags)):\n",
    "    if(QFlags[i][1]==ord(\"A\")):\n",
    "         Hmag.mask[i]=False\n",
    "         Hmagerror.mask[i]=False\n",
    "    else:\n",
    "         Hmag.mask[i]=True\n",
    "         Hmagerror.mask[i]=True\n",
    "         #SpType.mask[i]=True\n",
    "#The second character of QFlags represents H. Checks whether the first character is A. If it is, the mask on that element\n",
    "#should be false (off), and if it isn't, the mask on that element should be true (on).\n",
    "for i in range(0,len(QFlags)):\n",
    "    if(QFlags[i][2]==ord(\"A\")):\n",
    "         Kmag.mask[i]=False\n",
    "         Kmagerror.mask[i]=False\n",
    "    else:\n",
    "         Kmag.mask[i]=True\n",
    "         Kmagerror.mask[i]=True\n",
    "         #SpType.mask[i]=True\n",
    "#The third character of QFlags represents K. Checks whether the first character is A. If it is, the mask on that element\n",
    "#should be false (off), and if it isn't, the mask on that element should be true (on).\n",
    "Duplicates=t[\"Dup\"]\n",
    "#Defines Duplicates from the array of duplicates Dup in the table\n",
    "DuplicateMask=0\n",
    "for i in range(0,len(Duplicates)):\n",
    "    if Duplicates[i]>0.5:\n",
    "        DuplicateMask=DuplicateMask+1\n",
    "        Row=t[i]\n",
    "        Index=Row._index\n",
    "        Columns=row._table.columns.values()\n",
    "        for j in Columns:\n",
    "            Columns.mask[i]=True\n",
    "for k in range(0,len(Duplicates)):\n",
    "    if Duplicates[k]>0.5:\n",
    "        print(k,Duplicates[k])\n",
    "Distance=1000./t[\"Plx\"]\n",
    "#Defines the distance to the stars in parsecs (pc)\n",
    "RA=t[\"RAJ2000\"]\n",
    "Dec=t[\"DEJ2000\"]\n",
    "#Defines the celestial coordinates from the table\n",
    "NGC2264RA=numpy.array([])\n",
    "NGC2264Dec=numpy.array([])\n",
    "#Creates empty arrays into which the NGC 2264 coordinates will be added\n",
    "for i in range(0,len(RA)):\n",
    "    if RA[i]>=99.70 and RA[i]<=100.70 and Dec[i]>=8.90 and Dec[i]<=10.50:\n",
    "        NGC2264RA=numpy.append(NGC2264RA,RA[i])\n",
    "        NGC2264Dec=numpy.append(NGC2264Dec,Dec[i])\n",
    "#Checks if a star is within the coordinate bounds for NGC 2264 and, if it is, adds it to the coordinate arrays"
   ]
  },
  {
   "cell_type": "code",
   "execution_count": null,
   "metadata": {},
   "outputs": [],
   "source": []
  }
 ],
 "metadata": {
  "kernelspec": {
   "display_name": "Python 3",
   "language": "python",
   "name": "python3"
  },
  "language_info": {
   "codemirror_mode": {
    "name": "ipython",
    "version": 3
   },
   "file_extension": ".py",
   "mimetype": "text/x-python",
   "name": "python",
   "nbconvert_exporter": "python",
   "pygments_lexer": "ipython3",
   "version": "3.6.1"
  }
 },
 "nbformat": 4,
 "nbformat_minor": 2
}
