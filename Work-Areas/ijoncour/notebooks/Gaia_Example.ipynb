{
 "cells": [
  {
   "cell_type": "code",
   "execution_count": null,
   "metadata": {
    "collapsed": false
   },
   "outputs": [],
   "source": []
  },
  {
   "cell_type": "code",
   "execution_count": 5,
   "metadata": {
    "collapsed": false
   },
   "outputs": [
    {
     "name": "stdout",
     "output_type": "stream",
     "text": [
      "  col1     col2     col3   col4 ...   col31      col32   col33      col34    \n",
      "-------- -------- -------- ---- ... ---------- --------- ------ -------------\n",
      "0.485331 0.050598 1.771443    1 ...  1897297.0 3836.9639  9.829 NOT_AVAILABLE\n",
      "0.006761 1.264666 1.037707    1 ...  5878078.5 5125.9106  8.602 NOT_AVAILABLE\n",
      "0.039539 1.292421 2.397203    1 ...  6418763.5 4426.8794  8.506 NOT_AVAILABLE\n",
      "0.014082 0.526988 0.415348    1 ...  4035830.0 3492.1553   9.01 NOT_AVAILABLE\n",
      "0.025356 0.000896 1.089008    1 ...  4221590.0  3425.831  8.961 NOT_AVAILABLE\n",
      "0.042057 0.038561 1.289504    1 ...  1541391.9 4034.3777 10.055 NOT_AVAILABLE\n",
      "0.005967 1.188888   0.0565    1 ...  5526172.0 4869.0215  8.669 NOT_AVAILABLE\n",
      "0.014327 1.783053 1.046483    1 ...  1697860.1 1914.0035   9.95 NOT_AVAILABLE\n",
      "0.013845 1.718151 1.861024    1 ...  4756903.5 2080.2866  8.831 NOT_AVAILABLE\n",
      "0.009292 0.546582 0.473283    1 ...  1498572.6 3419.1274 10.086 NOT_AVAILABLE\n",
      "     ...      ...      ...  ... ...        ...       ...    ...           ...\n",
      "0.045535  1.91813 3.803714    4 ...  1920363.5  939.7369  9.816 NOT_AVAILABLE\n",
      "0.071918 0.941994 4.331202    4 ...  1203277.5  990.0373 10.324 NOT_AVAILABLE\n",
      "0.056181 2.589728  4.72685    5 ...  2481432.0 1355.8021  9.538 NOT_AVAILABLE\n",
      "0.042886 3.163027 4.016837    5 ...  2071384.8   7204.89  9.734 NOT_AVAILABLE\n",
      "0.013893 4.019962 4.085601    5 ...  3192987.0 5341.3174  9.264 NOT_AVAILABLE\n",
      "0.007255 2.934235 4.207389    5 ...  2130549.0 5210.5225  9.704 NOT_AVAILABLE\n",
      "0.012644 2.609505  3.95275    5 ...  2643867.0 3549.6982  9.469 NOT_AVAILABLE\n",
      "0.013092 3.988757 4.251117    5 ... 22500000.0  12215.42  7.144 NOT_AVAILABLE\n",
      "0.025501 2.892557  4.76712    5 ...  6232508.5 3127.0515  8.538 NOT_AVAILABLE\n",
      "0.014136 4.532862 3.796767    5 ... 23200000.0  9257.007   7.11 NOT_AVAILABLE\n",
      "0.029677  2.65098 4.772897    5 ...  2316855.8  8577.332  9.613 NOT_AVAILABLE\n",
      "Length = 57 rows\n"
     ]
    }
   ],
   "source": [
    "# Read the table\n",
    "from astropy.io import ascii\n",
    "data = ascii.read(\"/Users/joncouri/Desktop/Student_UMD/2session/Data/Xmatch_TGAS_WrightPart_NoLabCol.csv\")  \n",
    "print(data)\n"
   ]
  },
  {
   "cell_type": "code",
   "execution_count": null,
   "metadata": {
    "collapsed": true
   },
   "outputs": [],
   "source": []
  },
  {
   "cell_type": "code",
   "execution_count": 6,
   "metadata": {
    "collapsed": false
   },
   "outputs": [
    {
     "name": "stdout",
     "output_type": "stream",
     "text": [
      "1.264666\n"
     ]
    }
   ],
   "source": [
    "\n",
    "#data.info\n",
    "RA = data[\"col2\"]\n",
    "DEC = data[\"col3\"]\n",
    "VT = data[\"col9\"]\n",
    "BT = data[\"col10\"]\n",
    "#\n",
    "print(RA[1])"
   ]
  },
  {
   "cell_type": "code",
   "execution_count": 8,
   "metadata": {
    "collapsed": true
   },
   "outputs": [],
   "source": [
    "%matplotlib inline\n",
    "import numpy as np\n",
    "import matplotlib.pyplot as plt"
   ]
  },
  {
   "cell_type": "code",
   "execution_count": 10,
   "metadata": {
    "collapsed": false
   },
   "outputs": [
    {
     "data": {
      "text/plain": [
       "[<matplotlib.lines.Line2D at 0x111e42fd0>]"
      ]
     },
     "execution_count": 10,
     "metadata": {},
     "output_type": "execute_result"
    },
    {
     "data": {
      "image/png": "[encoded data removed]",
      "text/plain": [
       "<matplotlib.figure.Figure at 0x1118f1a20>"
      ]
     },
     "metadata": {},
     "output_type": "display_data"
    }
   ],
   "source": [
    "plt.plot(RA,DEC,'o',label='y')\n",
    "plt.title(\"\")\n",
    "plt.legend(loc='best')\n",
    "plt.xlabel('RA [deg]')\n",
    "plt.ylabel('DEC [deg]')"
   ]
  },
  {
   "cell_type": "code",
   "execution_count": null,
   "metadata": {
    "collapsed": true
   },
   "outputs": [],
   "source": [
    "\n",
    "    \n"
   ]
  }
 ],
 "metadata": {
  "anaconda-cloud": {},
  "kernelspec": {
   "display_name": "Python [conda root]",
   "language": "python",
   "name": "conda-root-py"
  },
  "language_info": {
   "codemirror_mode": {
    "name": "ipython",
    "version": 3
   },
   "file_extension": ".py",
   "mimetype": "text/x-python",
   "name": "python",
   "nbconvert_exporter": "python",
   "pygments_lexer": "ipython3",
   "version": "3.5.2"
  }
 },
 "nbformat": 4,
 "nbformat_minor": 1
}
