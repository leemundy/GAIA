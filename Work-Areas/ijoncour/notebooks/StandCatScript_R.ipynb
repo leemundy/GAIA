{
 "cells": [
  {
   "cell_type": "markdown",
   "metadata": {},
   "source": [
    "# Script in R to produce the standardized catalog"
   ]
  },
  {
   "cell_type": "markdown",
   "metadata": {},
   "source": [
    "### Adding a R kernel for Jupyter \n",
    "\n",
    "In a linux window, type the command:\n",
    "> conda install -c r ipython-notebook r-irkernel\n"
   ]
  },
  {
   "cell_type": "code",
   "execution_count": 93,
   "metadata": {
    "collapsed": false
   },
   "outputs": [
    {
     "data": {
      "text/html": [
       "75753"
      ],
      "text/latex": [
       "75753"
      ],
      "text/markdown": [
       "75753"
      ],
      "text/plain": [
       "[1] 75753"
      ]
     },
     "metadata": {},
     "output_type": "display_data"
    }
   ],
   "source": [
    "# Reading of resulting Xmatch catalog (radius Xmatch 3 arcsec, Xmatch on Metadata _RAJ2000 & _DEJ2000) \n",
    "#Don <-read.csv(\"/Users/joncouri/Desktop/Student_UMD/Catalogs/Tgas200_Wright2003_2MASS_FinCat.csv\")\n",
    "\n",
    "Don <-read.csv(\"/Users/joncouri/Git_GAIA/GAIA/Work-Areas/ijoncour/StandCat/Tgas200_Wright2003_2MASS_FinCat.csv\")\n",
    "length(Don$Teff) # Number of stars 75753\n"
   ]
  },
  {
   "cell_type": "code",
   "execution_count": 86,
   "metadata": {
    "collapsed": false
   },
   "outputs": [
    {
     "name": "stdout",
     "output_type": "stream",
     "text": [
      "'data.frame':\t75753 obs. of  51 variables:\n",
      " $ angDist    : num  0.1526 0.0318 0.0925 0.2092 0.1613 ...\n",
      " $ d_arcsec   : num  0.02561 0.00417 0.0382 0.05663 0.0232 ...\n",
      " $ X_RAJ2000  : num  115.7 33.7 164.8 45.5 170.7 ...\n",
      " $ X_DEJ2000  : num  76.6 21.4 -21.7 -25.5 -34.1 ...\n",
      " $ HIP        : int  NA NA NA 14122 55548 NA NA NA 74271 NA ...\n",
      " $ TYC2       : Factor w/ 41885 levels \"\",\"1-1122-1\",..: 16622 1228 25106 1 1 11053 34280 13550 1 41786 ...\n",
      " $ Source     : num  1.14e+18 9.96e+16 3.55e+18 5.07e+18 5.40e+18 ...\n",
      " $ RA_ICRS    : num  115.7 33.7 164.8 45.5 170.7 ...\n",
      " $ e_RA_ICRS  : num  0.188 0.676 0.254 0.181 0.206 0.286 0.274 0.301 0.228 0.461 ...\n",
      " $ DE_ICRS    : num  76.6 21.4 -21.7 -25.5 -34.1 ...\n",
      " $ e_DE_ICRS  : num  0.301 0.237 0.138 0.173 0.145 0.173 0.265 0.268 0.16 0.528 ...\n",
      " $ Plx        : num  10.23 5.65 10.05 10.2 8.26 ...\n",
      " $ e_Plx      : num  0.25 0.25 0.37 0.24 0.29 0.29 0.28 0.38 0.25 0.25 ...\n",
      " $ pmRA       : num  -20 -5 -92.1 112.5 102.5 ...\n",
      " $ e_pmRA     : num  0.437 1.316 1.202 0.084 0.06 ...\n",
      " $ pmDE       : num  -18.2 -10.4 18.4 120 -23.7 ...\n",
      " $ e_pmDE     : num  1.147 0.415 0.502 0.067 0.058 ...\n",
      " $ Dup        : int  0 0 1 1 1 1 0 0 1 1 ...\n",
      " $ X.FG.      : num  1803863 2738681 2807781 5521797 4294386 ...\n",
      " $ e_.FG.     : num  5166 2101 2244 4693 5557 ...\n",
      " $ X.Gmag.    : num  9.88 9.43 9.4 8.67 8.94 ...\n",
      " $ Var        : Factor w/ 1 level \"NOT_AVAILABLE\": 1 1 1 1 1 1 1 1 1 1 ...\n",
      " $ X_RAJ2000.1: num  115.7 33.7 164.8 45.5 170.7 ...\n",
      " $ X_DEJ2000.1: num  76.6 21.4 -21.7 -25.5 -34.1 ...\n",
      " $ TYC1       : int  4527 1220 6082 6441 7210 3309 7907 3907 7834 978 ...\n",
      " $ TYC2.1     : int  171 1158 432 536 1200 760 4911 1872 3134 1368 ...\n",
      " $ TYC3       : int  1 1 1 1 1 1 1 1 1 1 ...\n",
      " $ RAJ2000    : num  115.7 33.7 164.8 45.5 170.7 ...\n",
      " $ DEJ2000    : num  76.6 21.4 -21.7 -25.5 -34.1 ...\n",
      " $ VTmag      : num  10.2 9.66 9.78 8.9 9.17 ...\n",
      " $ BTmag      : num  11.13 10.05 10.63 9.46 9.68 ...\n",
      " $ r_SpType   : Factor w/ 11 levels \"fI\",\"fII\",\"j64\",..: 10 10 8 8 7 10 6 10 6 10 ...\n",
      " $ Dist       : num  0.226 0.093 0.716 1.397 0.88 ...\n",
      " $ Teff       : int  4750 7200 5250 6200 6890 4750 9520 4750 5770 5150 ...\n",
      " $ SpType     : Factor w/ 2467 levels \"(F)\",\"(F) + (F)\",..: 2115 1034 2157 1408 1132 2115 138 2115 1893 1773 ...\n",
      " $ X2MASS     : Factor w/ 75734 levels \"00000021+0105203\",..: 24293 6669 34213 9082 35383 8883 55915 56208 46886 53771 ...\n",
      " $ RAJ2000.1  : num  115.7 33.7 164.8 45.5 170.7 ...\n",
      " $ DEJ2000.1  : num  76.6 21.4 -21.7 -25.5 -34.1 ...\n",
      " $ errHalfMaj : num  0.08 0.06 0.06 0.07 0.06 0.06 0.07 0.07 0.06 0.07 ...\n",
      " $ errHalfMin : num  0.06 0.06 0.06 0.06 0.06 0.06 0.06 0.06 0.06 0.06 ...\n",
      " $ errPosAng  : int  0 90 90 0 90 90 0 90 90 0 ...\n",
      " $ Jmag       : num  8.77 8.67 8.24 7.83 8.1 ...\n",
      " $ Hmag       : num  8.46 8.5 7.88 7.57 7.85 ...\n",
      " $ Kmag       : num  8.36 8.48 7.81 7.48 7.79 ...\n",
      " $ e_Jmag     : num  0.021 0.021 0.024 0.021 0.024 0.021 0.021 0.024 0.023 0.019 ...\n",
      " $ e_Hmag     : num  0.02 0.023 0.029 0.04 0.029 0.024 0.018 0.029 0.036 0.027 ...\n",
      " $ e_Kmag     : num  0.02 0.017 0.018 0.021 0.033 0.017 0.017 0.021 0.031 0.025 ...\n",
      " $ Qfl        : Factor w/ 108 levels \"AAA\",\"AAD\",\"AAE\",..: 1 1 1 1 1 1 1 1 1 1 ...\n",
      " $ Rfl        : int  112 112 111 111 111 112 111 111 111 122 ...\n",
      " $ X          : int  0 0 0 0 0 0 0 0 0 0 ...\n",
      " $ MeasureJD  : num  2451224 2450741 2450951 2451138 2451262 ...\n"
     ]
    },
    {
     "data": {
      "text/html": [
       "'data.frame'"
      ],
      "text/latex": [
       "'data.frame'"
      ],
      "text/markdown": [
       "'data.frame'"
      ],
      "text/plain": [
       "[1] \"data.frame\""
      ]
     },
     "metadata": {},
     "output_type": "display_data"
    }
   ],
   "source": [
    "# Check on Don\n",
    "str(Don)\n",
    "# Check on type \n",
    "class(Don)"
   ]
  },
  {
   "cell_type": "code",
   "execution_count": 94,
   "metadata": {
    "collapsed": false
   },
   "outputs": [
    {
     "data": {
      "text/html": [
       "50324"
      ],
      "text/latex": [
       "50324"
      ],
      "text/markdown": [
       "50324"
      ],
      "text/plain": [
       "[1] 50324"
      ]
     },
     "metadata": {},
     "output_type": "display_data"
    }
   ],
   "source": [
    "# Copying Don in another variable\n",
    "Data <- Don\n",
    "\n",
    "# Filtering Dup=1 stars (multiples or visual stars as flagged by GAIA )\n",
    " testind_d <- which(Data$Dup ==0)\n",
    "Data_Dup <- Data[testind_d ,]\n",
    " \n",
    "# Copying the filtered dataframe free of sources having Dup=1  in dataframe Dat1\n",
    "Dat1 <- Data_Dup # Number of stars at the stage  50324\n",
    "length(Dat1$Teff)"
   ]
  },
  {
   "cell_type": "code",
   "execution_count": 95,
   "metadata": {
    "collapsed": false
   },
   "outputs": [
    {
     "data": {
      "text/html": [
       "50134"
      ],
      "text/latex": [
       "50134"
      ],
      "text/markdown": [
       "50134"
      ],
      "text/plain": [
       "[1] 50134"
      ]
     },
     "metadata": {},
     "output_type": "display_data"
    }
   ],
   "source": [
    "# FILTER Get rid of duplicated sources  from GAIA ID (column name: Source) - NUMBER FILTERED SOURCES: 190 Sources\n",
    "Name <- Dat1$Source\n",
    "\n",
    "# Procedure to filter the second occurence of individual Source and keep the first one\n",
    "    #testdep<- duplicated(Name)\n",
    "    # testdep_False <-which(testdep==FALSE)\n",
    "    #Data_Dup_depfree <- Data_DistLim[testdep_False,]\n",
    "\n",
    "# Procedure the filter all the sources that appear multiple times as GAIA sources\n",
    "    testdep_one <- !(duplicated(Name) | duplicated(Name, fromLast = TRUE)) \n",
    "    testdep_one_TRUE <- which(testdep_one==TRUE)\n",
    "     Data_Dup_depfree <- Data_Dup[testdep_one_TRUE,]\n",
    " \n",
    "# Copying the filtered dataframe free of all duplicated sources in dataframe Dat2\n",
    "Dat2 <-  Data_Dup_depfree  # Number of stars 50134 stars\n",
    "length(Dat2$Teff)\n"
   ]
  },
  {
   "cell_type": "code",
   "execution_count": 96,
   "metadata": {
    "collapsed": false
   },
   "outputs": [
    {
     "data": {
      "text/html": [
       "50116"
      ],
      "text/latex": [
       "50116"
      ],
      "text/markdown": [
       "50116"
      ],
      "text/plain": [
       "[1] 50116"
      ]
     },
     "metadata": {},
     "output_type": "display_data"
    }
   ],
   "source": [
    "# FILTER Get rid of duplicated sources  from 2MASS ID (column name: X2MASS) - NUMBER FILTERED SOURCES: 18 Sources\n",
    "Name2 <- as.character(Dat2$X2MASS)\n",
    "\n",
    "# Procedure the filter all the sources that appear multiple times as 2MASS sources\n",
    "    testdep_two <- !(duplicated(Name2) | duplicated(Name2, fromLast = TRUE)) \n",
    "    testdep_two_TRUE <- which(testdep_two==TRUE)\n",
    "     Data_Dup_depfree2 <- Dat2[testdep_two_TRUE,]\n",
    "\n",
    "# Copying the filtered dataframe free of all duplicated sources in dataframe Dat3\n",
    "Dat3 <-  Data_Dup_depfree2  # Number of remaining stars 50116  stars\n",
    "length(Dat3$Teff)"
   ]
  },
  {
   "cell_type": "code",
   "execution_count": 97,
   "metadata": {
    "collapsed": false
   },
   "outputs": [
    {
     "data": {
      "text/html": [
       "1847"
      ],
      "text/latex": [
       "1847"
      ],
      "text/markdown": [
       "1847"
      ],
      "text/plain": [
       "[1] 1847"
      ]
     },
     "metadata": {},
     "output_type": "display_data"
    },
    {
     "data": {
      "text/html": [
       "2057"
      ],
      "text/latex": [
       "2057"
      ],
      "text/markdown": [
       "2057"
      ],
      "text/plain": [
       "[1] 2057"
      ]
     },
     "metadata": {},
     "output_type": "display_data"
    },
    {
     "data": {
      "text/html": [
       "1518"
      ],
      "text/latex": [
       "1518"
      ],
      "text/markdown": [
       "1518"
      ],
      "text/plain": [
       "[1] 1518"
      ]
     },
     "metadata": {},
     "output_type": "display_data"
    },
    {
     "data": {
      "text/html": [
       "1071"
      ],
      "text/latex": [
       "1071"
      ],
      "text/markdown": [
       "1071"
      ],
      "text/plain": [
       "[1] 1071"
      ]
     },
     "metadata": {},
     "output_type": "display_data"
    },
    {
     "data": {
      "text/html": [
       "50116"
      ],
      "text/latex": [
       "50116"
      ],
      "text/markdown": [
       "50116"
      ],
      "text/plain": [
       "[1] 50116"
      ]
     },
     "metadata": {},
     "output_type": "display_data"
    }
   ],
   "source": [
    "#-------------- MASK Operations on the \"goodness\" of flags (Qfl) in 2MASS\n",
    "\n",
    "    Nb_stars <- length(Dat3$Teff)\n",
    "\n",
    "# Mask 2MASS photometric magnitudes of sources for which the flags  are not \"AAA\" \n",
    "#\"AAA\" means (detection at 10 sigmas in each JHK bands)\n",
    "    \n",
    "    # Ind_JHK_ok <- which(substr(as.character(Dat3$Qfl), 1, 1) == \"A\" &substr(as.character(Dat3$Qfl), 2, 2) == \"A\" \n",
    "    #                        & substr(as.character(Dat3$Qfl), 3, 3) == \"A\"  )\n",
    "    # Ind_JHK_nok <- seq(1,Nb_stars)[-Ind_JHK_ok]\n",
    "    # Dat3$Jmag[Ind_JHK_nok] <- NA\n",
    "    # Dat3$Hmag[Ind_JHK_nok] <- NA\n",
    "    # Dat3$Kmag[Ind_JHK_nok] <- NA\n",
    "\n",
    "\n",
    "\n",
    "# Mask each 2MASS photometric magnitude that does not have a flag \"A\" in the band band \n",
    "    Ind_J_ok <- which(substr(as.character(Dat3$Qfl), 1, 1) == \"A\" )\n",
    "    Ind_H_ok <- which(substr(as.character(Dat3$Qfl), 2, 2) == \"A\" )\n",
    "    Ind_K_ok <- which(substr(as.character(Dat3$Qfl), 3, 3) == \"A\" )\n",
    "\n",
    "    Ind_J_nok <- seq(1,Nb_stars)[-Ind_J_ok] # 1847  sources masked in J\n",
    "    Ind_H_nok <- seq(1,Nb_stars)[-Ind_H_ok] # 2057 sources masked in H\n",
    "    Ind_K_nok <- seq(1,Nb_stars)[-Ind_K_ok] # 1518  sources masked in K\n",
    "    length(Ind_J_nok)\n",
    "    length(Ind_H_nok)\n",
    "    length(Ind_K_nok)\n",
    "\n",
    "    Dat3$Jmag[Ind_J_nok] <- NA\n",
    "    Dat3$Hmag[Ind_H_nok] <- NA\n",
    "    Dat3$Kmag[Ind_K_nok] <- NA\n",
    "\n",
    "# Check on the number of sources that are masked simultaneously in the 3 bands : 1071 sources \n",
    "    Ind_JHK_na <-which(is.na(Dat3$Jmag) & is.na(Dat3$Hmag)&is.na(Dat3$Kmag) ==TRUE)\n",
    "    Ind_JHK_non_na <- seq(1,Nb_stars)[-Ind_JHK_na] #\n",
    "    length(Ind_JHK_na) \n",
    "\n",
    "length(Dat3$Teff)"
   ]
  },
  {
   "cell_type": "code",
   "execution_count": 98,
   "metadata": {
    "collapsed": false
   },
   "outputs": [
    {
     "data": {
      "text/html": [
       "50093"
      ],
      "text/latex": [
       "50093"
      ],
      "text/markdown": [
       "50093"
      ],
      "text/plain": [
       "[1] 50093"
      ]
     },
     "metadata": {},
     "output_type": "display_data"
    },
    {
     "data": {
      "text/html": [
       "50093"
      ],
      "text/latex": [
       "50093"
      ],
      "text/markdown": [
       "50093"
      ],
      "text/plain": [
       "[1] 50093"
      ]
     },
     "metadata": {},
     "output_type": "display_data"
    }
   ],
   "source": [
    "# LAST FILTER \n",
    "## Check and keep only sources that have Xmatch distances smaller than 1.5 arcsec => 50093 final sources\n",
    "# require both less than 1.5 arcsec (23 sources are removed)\n",
    "DistLim <- 1.5\n",
    " testind_d <- which(Dat3$angDist <=DistLim  & Dat3$d_arcsec <= DistLim)\n",
    "length(testind_d)\n",
    "Data_Dup_depfree2_distlim <- Dat3[testind_d ,]\n",
    "\n",
    "# Copying the filtered dataframe free of Xmatch [distance > 1.5 arcsec] sources in dataframe Dat\n",
    "Dat4 <-  Data_Dup_depfree2_distlim  # Number of remaining stars 50116  stars\n",
    "length(Dat4$Teff)"
   ]
  },
  {
   "cell_type": "code",
   "execution_count": 99,
   "metadata": {
    "collapsed": false
   },
   "outputs": [
    {
     "data": {
      "text/html": [
       "1860"
      ],
      "text/latex": [
       "1860"
      ],
      "text/markdown": [
       "1860"
      ],
      "text/plain": [
       "[1] 1860"
      ]
     },
     "metadata": {},
     "output_type": "display_data"
    }
   ],
   "source": [
    "\n",
    "## MASKED GMAG SUCH THAT ABS( G-J - MEAN(G-J))/SDT  <=5 ==> 1860 sources have the Gmag value masked \n",
    "\n",
    "    Nb_stars <- length(Dat4$Teff)\n",
    " moy_Delta_G_J <- mean(Dat4$Jmag-Dat4$X.Gmag.,na.rm = TRUE)\n",
    " sd_Delta_G_J <- sd(Dat4$Jmag-Dat4$X.Gmag.,na.rm = TRUE)\n",
    " test_Diff_G_J <- ((Dat4$Jmag-Dat4$X.Gmag.)-moy_Delta_G_J)/sd_Delta_G_J \n",
    " Ind_Diff_G_J_ok <- which(abs(test_Diff_G_J )<=5)\n",
    " Ind_Diff_G_J_nok <- seq(1, Nb_stars)[-Ind_Diff_G_J_ok]\n",
    "\n",
    "Dat4$X.Gmag.[ Ind_Diff_G_J_nok ] <- NA\n",
    " \n",
    "length(Ind_Diff_G_J_nok)"
   ]
  },
  {
   "cell_type": "code",
   "execution_count": 100,
   "metadata": {
    "collapsed": true
   },
   "outputs": [],
   "source": [
    "# Final dataframe\n",
    "FinalDat <- Dat4"
   ]
  },
  {
   "cell_type": "code",
   "execution_count": 102,
   "metadata": {
    "collapsed": false
   },
   "outputs": [],
   "source": [
    "# Writing The output catalog\n",
    "#filout = \"/Users/joncouri/Git_GAIA/GAIA/Work-Areas/ijoncour/StandCat/Tgas200_Wright2003_2MASS_FinCat_out.csv\"\n",
    "Filout <- \"output.csv\"\n",
    "write.csv(FinalDat, file =Filout )"
   ]
  }
 ],
 "metadata": {
  "anaconda-cloud": {},
  "kernelspec": {
   "display_name": "R",
   "language": "R",
   "name": "ir"
  },
  "language_info": {
   "codemirror_mode": "r",
   "file_extension": ".r",
   "mimetype": "text/x-r-source",
   "name": "R",
   "pygments_lexer": "r",
   "version": "3.4.1"
  }
 },
 "nbformat": 4,
 "nbformat_minor": 1
}
